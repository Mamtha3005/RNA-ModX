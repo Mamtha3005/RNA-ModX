{
 "cells": [
  {
   "cell_type": "code",
   "execution_count": 1,
   "id": "12da245c",
   "metadata": {},
   "outputs": [],
   "source": [
    "# import packages\n",
    "from sklearn.feature_selection import RFE\n",
    "from sklearn.ensemble import RandomForestClassifier\n",
    "\n",
    "import pandas as pd\n",
    "import numpy as np\n",
    "\n",
    "import swifter\n",
    "import great_expectations as ge"
   ]
  },
  {
   "cell_type": "code",
   "execution_count": 36,
   "id": "a2518cd4",
   "metadata": {},
   "outputs": [],
   "source": [
    "# import datasets\n",
    "train_X = pd.read_csv('/Users/eesoonhang/Desktop/capstone_data/train_in_encodedToNacSeq.csv', usecols=lambda x: x!= '*Unnamed*')\n",
    "train_y = pd.read_csv('/Users/eesoonhang/Desktop/capstone_data/train_out.csv', usecols=lambda x: x!= '*Unnamed*')\n",
    "test_X = pd.read_csv('/Users/eesoonhang/Desktop/capstone_data/test_in_encodedToNacSeq.csv', usecols=lambda x: x!= '*Unnamed*')\n",
    "test_y = pd.read_csv('/Users/eesoonhang/Desktop/capstone_data/test_out.csv', usecols=lambda x: x!= '*Unnamed*')\n",
    "\n",
    "# split to respective input datasets\n",
    "train_X_nac = train_X.iloc[:, 0:4]\n",
    "train_X_dac = train_X.iloc[:, 4:20]\n",
    "train_X_tac = train_X.iloc[:, 20:]\n",
    "test_X_nac = test_X.iloc[:, 0:4]\n",
    "test_X_dac = test_X.iloc[:, 4:20]\n",
    "test_X_tac = test_X.iloc[:, 20:]\n",
    "\n",
    "# compressed output y\n",
    "# transform target >=1 to 1\n",
    "def normalize_output(x):\n",
    "    return np.where(x.target>1, x.target/x.target, x.target)\n",
    "    \n",
    "# compressed y-variable\n",
    "compressed_train_y = train_y.sum(axis=1).to_frame(name='target')\n",
    "compressed_test_y = test_y.sum(axis=1).to_frame(name='target')\n",
    "compressed_train_y.target = compressed_train_y.swifter.apply(normalize_output, axis=1)\n",
    "compressed_test_y.target = compressed_test_y.swifter.apply(normalize_output, axis=1)"
   ]
  },
  {
   "cell_type": "markdown",
   "id": "4cd1b06e",
   "metadata": {},
   "source": [
    "# Code below perform Feature Selection with Recursive Feature Elimination (RFE)"
   ]
  },
  {
   "cell_type": "markdown",
   "id": "620a342d",
   "metadata": {},
   "source": [
    "### start with 30 features selected via RFE"
   ]
  },
  {
   "cell_type": "code",
   "execution_count": 7,
   "id": "8c4604bf",
   "metadata": {},
   "outputs": [
    {
     "data": {
      "text/plain": [
       "RFE(estimator=RandomForestClassifier(n_estimators=20), n_features_to_select=30)"
      ]
     },
     "execution_count": 7,
     "metadata": {},
     "output_type": "execute_result"
    }
   ],
   "source": [
    "# Get an estimator object\n",
    "rfc1 = RandomForestClassifier(n_estimators = 20)\n",
    "rfe = RFE(estimator = rfc1, n_features_to_select = 30, step = 1)\n",
    "\n",
    "# train RFE model\n",
    "rfe.fit(train_X,compressed_train_y)"
   ]
  },
  {
   "cell_type": "code",
   "execution_count": 8,
   "id": "315f0ec3",
   "metadata": {},
   "outputs": [],
   "source": [
    "# Create new Train and Test datasets\n",
    "X_train_rfe = rfe.transform(train_X)\n",
    "X_test_rfe = rfe.transform(test_X)"
   ]
  },
  {
   "cell_type": "code",
   "execution_count": 9,
   "id": "08db84e5",
   "metadata": {},
   "outputs": [
    {
     "data": {
      "text/plain": [
       "RandomForestClassifier(n_estimators=20)"
      ]
     },
     "execution_count": 9,
     "metadata": {},
     "output_type": "execute_result"
    }
   ],
   "source": [
    "# Fit the Random Forest classifier to the new train and test with 80 features\n",
    "# .values will give the values in a numpy array (shape: (n,1))\n",
    "#.ravel will convert that array shape to (n, ) (i.e. flatten it)\n",
    "\n",
    "rfc1.fit(X_train_rfe, compressed_train_y.values.ravel())"
   ]
  },
  {
   "cell_type": "code",
   "execution_count": 10,
   "id": "de2ebca7",
   "metadata": {},
   "outputs": [],
   "source": [
    "import pickle\n",
    "pickle.dump(rfc1, open('/Users/eesoonhang/Desktop/Jupyter Project/Capstone - RNAModX/predictive_model/RandomForrest_1.pkl','wb'))"
   ]
  },
  {
   "cell_type": "code",
   "execution_count": 11,
   "id": "4e3577e9",
   "metadata": {},
   "outputs": [],
   "source": [
    "# perform prediction\n",
    "pred_y = rfc1.predict(X_test_rfe)"
   ]
  },
  {
   "cell_type": "code",
   "execution_count": 12,
   "id": "c5fc8cdb",
   "metadata": {},
   "outputs": [
    {
     "name": "stdout",
     "output_type": "stream",
     "text": [
      "Accuracy: 0.7508333333333334\n",
      "Precision: 0.7617391304347826\n",
      "Recall: 0.73\n",
      "AUC: 0.7508333333333334\n",
      "Confusion matrix:\n",
      "[[463 137]\n",
      " [162 438]]\n"
     ]
    }
   ],
   "source": [
    "# evaluate performance\n",
    "from sklearn import metrics \n",
    "print(\"Accuracy:\",metrics.accuracy_score(compressed_test_y, pred_y)) \n",
    "print(\"Precision:\",metrics.precision_score(compressed_test_y, pred_y)) \n",
    "print(\"Recall:\",metrics.recall_score(compressed_test_y, pred_y))\n",
    "print (\"AUC:\", metrics.roc_auc_score(y_true=compressed_test_y, y_score=pred_y))\n",
    "\n",
    "# visualize confusion matrix\n",
    "cnf_matrix = metrics.confusion_matrix(compressed_test_y, pred_y)\n",
    "print(\"Confusion matrix:\")\n",
    "print(cnf_matrix)"
   ]
  },
  {
   "cell_type": "code",
   "execution_count": 13,
   "id": "880e84a3",
   "metadata": {},
   "outputs": [
    {
     "data": {
      "text/plain": [
       "array([ 1,  1,  1,  1,  1,  1,  5,  1,  1,  1,  1,  9,  1,  2,  1,  1,  1,\n",
       "        1,  1,  1,  1, 12,  1, 20, 33, 42,  3, 26, 23, 35,  1, 34,  1, 47,\n",
       "       32,  1, 17, 25, 14, 24, 40, 11, 13, 38,  1, 49, 54, 55, 44,  1, 29,\n",
       "        6,  1,  1,  1, 36, 46, 41, 53, 51,  7, 10,  4, 28, 48, 52, 19, 39,\n",
       "       15, 50,  1, 31, 22, 43, 45, 21, 27, 37, 30, 18,  8,  1, 16,  1])"
      ]
     },
     "execution_count": 13,
     "metadata": {},
     "output_type": "execute_result"
    }
   ],
   "source": [
    "# Get the ranking of the features. Ranking 1 for selected features\n",
    "ranking = rfe.ranking_\n",
    "ranking"
   ]
  },
  {
   "cell_type": "code",
   "execution_count": 14,
   "id": "4663549b",
   "metadata": {},
   "outputs": [
    {
     "data": {
      "text/plain": [
       "array([0.03125324, 0.03492722, 0.02906496, 0.03450938, 0.03001988,\n",
       "       0.02972007, 0.04157529, 0.0289764 , 0.04003057, 0.0528212 ,\n",
       "       0.03230712, 0.03249678, 0.02976695, 0.03764347, 0.02852939,\n",
       "       0.03063384, 0.03189013, 0.02959706, 0.03309485, 0.02892572,\n",
       "       0.02942857, 0.04005861, 0.03810063, 0.02767237, 0.03797165,\n",
       "       0.03116039, 0.02853849, 0.04092211, 0.02784661, 0.03051705])"
      ]
     },
     "execution_count": 14,
     "metadata": {},
     "output_type": "execute_result"
    }
   ],
   "source": [
    "# Get the feature importance\n",
    "importance = rfc1.feature_importances_\n",
    "importance"
   ]
  },
  {
   "cell_type": "code",
   "execution_count": 18,
   "id": "a4cfd1f0",
   "metadata": {},
   "outputs": [
    {
     "data": {
      "text/html": [
       "<div>\n",
       "<style scoped>\n",
       "    .dataframe tbody tr th:only-of-type {\n",
       "        vertical-align: middle;\n",
       "    }\n",
       "\n",
       "    .dataframe tbody tr th {\n",
       "        vertical-align: top;\n",
       "    }\n",
       "\n",
       "    .dataframe thead th {\n",
       "        text-align: right;\n",
       "    }\n",
       "</style>\n",
       "<table border=\"1\" class=\"dataframe\">\n",
       "  <thead>\n",
       "    <tr style=\"text-align: right;\">\n",
       "      <th></th>\n",
       "      <th>Feature Name</th>\n",
       "      <th>Ranking</th>\n",
       "      <th>Importance</th>\n",
       "    </tr>\n",
       "  </thead>\n",
       "  <tbody>\n",
       "    <tr>\n",
       "      <th>0</th>\n",
       "      <td>A</td>\n",
       "      <td>1</td>\n",
       "      <td>0.031253</td>\n",
       "    </tr>\n",
       "    <tr>\n",
       "      <th>1</th>\n",
       "      <td>C</td>\n",
       "      <td>1</td>\n",
       "      <td>0.034927</td>\n",
       "    </tr>\n",
       "    <tr>\n",
       "      <th>2</th>\n",
       "      <td>G</td>\n",
       "      <td>1</td>\n",
       "      <td>0.029065</td>\n",
       "    </tr>\n",
       "    <tr>\n",
       "      <th>3</th>\n",
       "      <td>T</td>\n",
       "      <td>1</td>\n",
       "      <td>0.034509</td>\n",
       "    </tr>\n",
       "    <tr>\n",
       "      <th>4</th>\n",
       "      <td>AA</td>\n",
       "      <td>1</td>\n",
       "      <td>0.030020</td>\n",
       "    </tr>\n",
       "    <tr>\n",
       "      <th>...</th>\n",
       "      <td>...</td>\n",
       "      <td>...</td>\n",
       "      <td>...</td>\n",
       "    </tr>\n",
       "    <tr>\n",
       "      <th>79</th>\n",
       "      <td>TGT</td>\n",
       "      <td>18</td>\n",
       "      <td>NaN</td>\n",
       "    </tr>\n",
       "    <tr>\n",
       "      <th>80</th>\n",
       "      <td>TTA</td>\n",
       "      <td>8</td>\n",
       "      <td>NaN</td>\n",
       "    </tr>\n",
       "    <tr>\n",
       "      <th>81</th>\n",
       "      <td>TTC</td>\n",
       "      <td>1</td>\n",
       "      <td>NaN</td>\n",
       "    </tr>\n",
       "    <tr>\n",
       "      <th>82</th>\n",
       "      <td>TTG</td>\n",
       "      <td>16</td>\n",
       "      <td>NaN</td>\n",
       "    </tr>\n",
       "    <tr>\n",
       "      <th>83</th>\n",
       "      <td>TTT</td>\n",
       "      <td>1</td>\n",
       "      <td>NaN</td>\n",
       "    </tr>\n",
       "  </tbody>\n",
       "</table>\n",
       "<p>84 rows × 3 columns</p>\n",
       "</div>"
      ],
      "text/plain": [
       "   Feature Name  Ranking  Importance\n",
       "0             A        1    0.031253\n",
       "1             C        1    0.034927\n",
       "2             G        1    0.029065\n",
       "3             T        1    0.034509\n",
       "4            AA        1    0.030020\n",
       "..          ...      ...         ...\n",
       "79          TGT       18         NaN\n",
       "80          TTA        8         NaN\n",
       "81          TTC        1         NaN\n",
       "82          TTG       16         NaN\n",
       "83          TTT        1         NaN\n",
       "\n",
       "[84 rows x 3 columns]"
      ]
     },
     "execution_count": 18,
     "metadata": {},
     "output_type": "execute_result"
    }
   ],
   "source": [
    "# convert the ranking and importance into dataframe\n",
    "rfe_selected = pd.DataFrame()\n",
    "rfe_selected = pd.concat([pd.DataFrame(train_X.columns), \n",
    "                          pd.DataFrame(ranking),\n",
    "                          pd.DataFrame(importance)], axis=1)\n",
    "rfe_selected.columns = ['Feature Name', 'Ranking', 'Importance']\n",
    "rfe_selected"
   ]
  },
  {
   "cell_type": "code",
   "execution_count": 19,
   "id": "8751fe77",
   "metadata": {},
   "outputs": [
    {
     "data": {
      "text/plain": [
       "0       A\n",
       "1       C\n",
       "2       G\n",
       "3       T\n",
       "4      AA\n",
       "5      AC\n",
       "7      AT\n",
       "8      CA\n",
       "9      CC\n",
       "10     CG\n",
       "12     GA\n",
       "14     GG\n",
       "15     GT\n",
       "16     TA\n",
       "17     TC\n",
       "18     TG\n",
       "19     TT\n",
       "20    AAA\n",
       "22    AAG\n",
       "30    AGG\n",
       "32    ATA\n",
       "35    ATT\n",
       "44    CGA\n",
       "49    CTC\n",
       "52    GAA\n",
       "53    GAC\n",
       "54    GAG\n",
       "70    TAG\n",
       "81    TTC\n",
       "83    TTT\n",
       "Name: Feature Name, dtype: object"
      ]
     },
     "execution_count": 19,
     "metadata": {},
     "output_type": "execute_result"
    }
   ],
   "source": [
    "# display RFE selected features (where ranking=1)   \n",
    "rfe_selected[(rfe_selected.Ranking == 1)]['Feature Name']"
   ]
  },
  {
   "cell_type": "markdown",
   "id": "dc44f0b1",
   "metadata": {},
   "source": [
    "# Code below find the optimum number of feature selection\n",
    "### use wrapper method: RFE\n",
    "### selected n_features: based on 10, 20, 30, 40 and 50th percentile of total features"
   ]
  },
  {
   "cell_type": "code",
   "execution_count": 2,
   "id": "b8ee5c8f",
   "metadata": {},
   "outputs": [],
   "source": [
    "# import datasets\n",
    "train_X = pd.read_csv('/Users/eesoonhang/Desktop/capstone_data/train_in_encodedToNacSeq.csv', usecols=lambda x: x!= '*Unnamed*')\n",
    "train_y = pd.read_csv('/Users/eesoonhang/Desktop/capstone_data/train_out.csv', usecols=lambda x: x!= '*Unnamed*')\n",
    "test_X = pd.read_csv('/Users/eesoonhang/Desktop/capstone_data/test_in_encodedToNacSeq.csv', usecols=lambda x: x!= '*Unnamed*')\n",
    "test_y = pd.read_csv('/Users/eesoonhang/Desktop/capstone_data/test_out.csv', usecols=lambda x: x!= '*Unnamed*')\n",
    "\n",
    "# compressed output y\n",
    "# transform target >=1 to 1\n",
    "def normalize_output(x):\n",
    "    return np.where(x.target>1, x.target/x.target, x.target)\n",
    "    \n",
    "# compressed y-variable\n",
    "compressed_train_y = train_y.sum(axis=1).to_frame(name='target')\n",
    "compressed_test_y = test_y.sum(axis=1).to_frame(name='target')\n",
    "compressed_train_y.target = compressed_train_y.swifter.apply(normalize_output, axis=1)\n",
    "compressed_test_y.target = compressed_test_y.swifter.apply(normalize_output, axis=1)"
   ]
  },
  {
   "cell_type": "code",
   "execution_count": 28,
   "id": "c94ee7d2",
   "metadata": {},
   "outputs": [
    {
     "data": {
      "text/plain": [
       "(152330, 84)"
      ]
     },
     "execution_count": 28,
     "metadata": {},
     "output_type": "execute_result"
    }
   ],
   "source": [
    "# use stratified method to split the dataset for initial model training\n",
    "from sklearn.model_selection import train_test_split\n",
    "X_train, X_valid, Y_train, Y_valid = train_test_split(train_X, compressed_train_y, test_size = 0.5, random_state = 1234, stratify=compressed_train_y)\n",
    "X_train.shape"
   ]
  },
  {
   "cell_type": "code",
   "execution_count": 51,
   "id": "3144174f",
   "metadata": {},
   "outputs": [],
   "source": [
    "from sklearn.ensemble import RandomForestClassifier\n",
    "from sklearn.feature_selection import RFE\n",
    "from sklearn.metrics import mean_squared_error\n",
    "from sklearn.feature_selection import SequentialFeatureSelector\n",
    "import math\n",
    "\n",
    "def optimum_RFEModel(n_features):\n",
    "    \n",
    "    print('Number of features to be selected: ' , n_features)\n",
    "    \n",
    "    print('instantiating model...')\n",
    "    # instantiate model\n",
    "    rfc = RandomForestClassifier(n_estimators=20)\n",
    "    rfe = RFE(estimator = rfc, n_features_to_select = n_features, step = 1)\n",
    "#     sfs = SequentialFeatureSelector(rfc, n_features_to_select=n_features, direction=\"backward\")\n",
    "    \n",
    "    print('modeling RFE...')\n",
    "    # apply RFE\n",
    "    rfe.fit(X_train, Y_train.values.ravel())\n",
    "    # refactor train_X and test_X with rfe\n",
    "    print('refactoring dataset...')\n",
    "    rfe_train_X = rfe.transform(X_train)\n",
    "    rfe_valid_X = rfe.transform(X_valid)\n",
    "    \n",
    "    print('fit model...')\n",
    "    # Perform RandomForestClassification\n",
    "    rfc.fit(rfe_train_X, Y_train.values.ravel())\n",
    "    y_predict = rfc.predict(rfe_valid_X)\n",
    "    \n",
    "    print('evaluate model...')\n",
    "    # print ranking based on rfe\n",
    "    columns = X_train.columns\n",
    "    ranking = rfe.ranking_\n",
    "    rfe_selected = pd.concat([pd.DataFrame(columns), \n",
    "                              pd.DataFrame(ranking)], axis=1)\n",
    "    rfe_selected.columns = ['Feature Name', 'Ranking']\n",
    "    print('rankings: ' + str(ranking) + '\\n' + 'RFE selected features: \\n' + '-'*20 + '\\n' + str(rfe_selected[(rfe_selected.Ranking == 1)]['Feature Name']))\n",
    "\n",
    "    rmse = math.sqrt(mean_squared_error(Y_valid, y_predict))\n",
    "    print('rmse: %4.2f' %rmse)\n",
    "    \n",
    "    score = rfc.score(rfe_valid_X, Y_valid)\n",
    "    print('score: %4.2f' %score)\n",
    "    \n",
    "    return rmse, score, n_features, rfc"
   ]
  },
  {
   "cell_type": "code",
   "execution_count": 41,
   "id": "5c81bed5",
   "metadata": {},
   "outputs": [
    {
     "data": {
      "text/plain": [
       "[8, 16, 25, 33, 42]"
      ]
     },
     "execution_count": 41,
     "metadata": {},
     "output_type": "execute_result"
    }
   ],
   "source": [
    "# define a list of feature number to be selected\n",
    "n_features_list = list(map(lambda x : int(x * len(train_X.columns)), [0.1, 0.2, 0.3, 0.4, 0.5]))\n",
    "n_features_list"
   ]
  },
  {
   "cell_type": "code",
   "execution_count": 44,
   "id": "1c0f0075",
   "metadata": {},
   "outputs": [
    {
     "name": "stdout",
     "output_type": "stream",
     "text": [
      "8\n",
      "instantiating model...\n",
      "modeling SFS...\n",
      "refactoring dataset...\n",
      "fit model...\n",
      "evaluate model...\n",
      "rankings: [ 1  1  1  1 18 10 31  4 15  1  1 29  6 21  3 16  1 12  7  1  9 30 11 45\n",
      " 55 61 42 51 47 58 23 56 25 70 53 13 37 50 39 52 57 33 60 54 17 75 38 76\n",
      " 67 27 48 32  2 22 14 62 66 64 77 69 28 26 24 44 73 74 41 63 40 72  5 36\n",
      " 46 68 71 35 49 65 59 34 19 20 43  8]\n",
      "RFE selected features: \n",
      "--------------------\n",
      "0      A\n",
      "1      C\n",
      "2      G\n",
      "3      T\n",
      "9     CC\n",
      "10    CG\n",
      "16    TA\n",
      "19    TT\n",
      "Name: Feature Name, dtype: object\n",
      "rmse: 0.53\n",
      "score: 0.72\n",
      "16\n",
      "instantiating model...\n",
      "modeling SFS...\n",
      "refactoring dataset...\n",
      "fit model...\n",
      "evaluate model...\n",
      "rankings: [ 1  1  1  1 11  2 19  5 10  1  1 20  1 13  1  9  1  6  1  1  1 24  1 27\n",
      " 44 52 36 42 38 57 14 43 16 62 50  1 29 39 28 47 45 26 51 53  3 67 25 68\n",
      " 54 15 46 21  1 12  8 49 55 56 69 61 23 22 17 32 66 65 40 60 34 64  1 33\n",
      " 37 58 63 31 41 59 48 30  4 18 35  7]\n",
      "RFE selected features: \n",
      "--------------------\n",
      "0       A\n",
      "1       C\n",
      "2       G\n",
      "3       T\n",
      "9      CC\n",
      "10     CG\n",
      "12     GA\n",
      "14     GG\n",
      "16     TA\n",
      "18     TG\n",
      "19     TT\n",
      "20    AAA\n",
      "22    AAG\n",
      "35    ATT\n",
      "52    GAA\n",
      "70    TAG\n",
      "Name: Feature Name, dtype: object\n",
      "rmse: 0.49\n",
      "score: 0.76\n",
      "25\n",
      "instantiating model...\n",
      "modeling SFS...\n",
      "refactoring dataset...\n",
      "fit model...\n",
      "evaluate model...\n",
      "rankings: [ 1  1  1  1  1  1 10  1  1  1  1 11  1  6  1  2  1  1  1  1  1 17  1  8\n",
      " 35 44 23 29 31 45  5 34  4 51 38  1 16 33 22 32 46 12 55 40  1 57 41 60\n",
      " 52 14 39 15  1  1  1 49 42 43 58 53  9 13  7 25 56 59 19 50 28 54  1 26\n",
      " 27 48 37 24 30 47 36 20 21  3 18  1]\n",
      "RFE selected features: \n",
      "--------------------\n",
      "0       A\n",
      "1       C\n",
      "2       G\n",
      "3       T\n",
      "4      AA\n",
      "5      AC\n",
      "7      AT\n",
      "8      CA\n",
      "9      CC\n",
      "10     CG\n",
      "12     GA\n",
      "14     GG\n",
      "16     TA\n",
      "17     TC\n",
      "18     TG\n",
      "19     TT\n",
      "20    AAA\n",
      "22    AAG\n",
      "35    ATT\n",
      "44    CGA\n",
      "52    GAA\n",
      "53    GAC\n",
      "54    GAG\n",
      "70    TAG\n",
      "83    TTT\n",
      "Name: Feature Name, dtype: object\n",
      "rmse: 0.47\n",
      "score: 0.77\n",
      "33\n",
      "instantiating model...\n",
      "modeling SFS...\n",
      "refactoring dataset...\n",
      "fit model...\n",
      "evaluate model...\n",
      "rankings: [ 1  1  1  1  1  1  3  1  1  1  1  9  1  1  1  1  1  1  1  1  1  6  1 18\n",
      " 31 43 12 28 27 36  1 26  1 42 34  1 10 23 20 25 30  1 37 33  1 47  7 51\n",
      " 41  2 21  4  1  1  1 32 40 44 52 48  1  5  1 13 46 50 11 35 17 49  1 16\n",
      " 19 38 45 15 24 39 29 14  8  1 22  1]\n",
      "RFE selected features: \n",
      "--------------------\n",
      "0       A\n",
      "1       C\n",
      "2       G\n",
      "3       T\n",
      "4      AA\n",
      "5      AC\n",
      "7      AT\n",
      "8      CA\n",
      "9      CC\n",
      "10     CG\n",
      "12     GA\n",
      "13     GC\n",
      "14     GG\n",
      "15     GT\n",
      "16     TA\n",
      "17     TC\n",
      "18     TG\n",
      "19     TT\n",
      "20    AAA\n",
      "22    AAG\n",
      "30    AGG\n",
      "32    ATA\n",
      "35    ATT\n",
      "41    CCC\n",
      "44    CGA\n",
      "52    GAA\n",
      "53    GAC\n",
      "54    GAG\n",
      "60    GGA\n",
      "62    GGG\n",
      "70    TAG\n",
      "81    TTC\n",
      "83    TTT\n",
      "Name: Feature Name, dtype: object\n",
      "rmse: 0.47\n",
      "score: 0.78\n",
      "42\n",
      "instantiating model...\n",
      "modeling SFS...\n",
      "refactoring dataset...\n",
      "fit model...\n",
      "evaluate model...\n",
      "rankings: [ 1  1  1  1  1  1  1  1  1  1  1  1  1  1  1  1  1  1  1  1  1  1  1  1\n",
      " 20 26 17 23 10 27  1 22  1 35 18  1  6 16  7 12 31  1 38 21  1 42  1 41\n",
      " 32  1 15  1  1  1  1 25 34 24 43 37  1  1  1  5 36 40  9 28 13 39  1  2\n",
      " 11 33 29  4  8 30 19  1  3  1 14  1]\n",
      "RFE selected features: \n",
      "--------------------\n",
      "0       A\n",
      "1       C\n",
      "2       G\n",
      "3       T\n",
      "4      AA\n",
      "5      AC\n",
      "6      AG\n",
      "7      AT\n",
      "8      CA\n",
      "9      CC\n",
      "10     CG\n",
      "11     CT\n",
      "12     GA\n",
      "13     GC\n",
      "14     GG\n",
      "15     GT\n",
      "16     TA\n",
      "17     TC\n",
      "18     TG\n",
      "19     TT\n",
      "20    AAA\n",
      "21    AAC\n",
      "22    AAG\n",
      "23    AAT\n",
      "30    AGG\n",
      "32    ATA\n",
      "35    ATT\n",
      "41    CCC\n",
      "44    CGA\n",
      "46    CGG\n",
      "49    CTC\n",
      "51    CTT\n",
      "52    GAA\n",
      "53    GAC\n",
      "54    GAG\n",
      "60    GGA\n",
      "61    GGC\n",
      "62    GGG\n",
      "70    TAG\n",
      "79    TGT\n",
      "81    TTC\n",
      "83    TTT\n",
      "Name: Feature Name, dtype: object\n",
      "rmse: 0.47\n",
      "score: 0.78\n",
      "CPU times: user 49min 9s, sys: 22.7 s, total: 49min 32s\n",
      "Wall time: 49min 36s\n"
     ]
    }
   ],
   "source": [
    "%time results = list(map(optimum_RFEModel, n_features_list))"
   ]
  },
  {
   "cell_type": "code",
   "execution_count": 45,
   "id": "6480d454",
   "metadata": {},
   "outputs": [
    {
     "data": {
      "image/png": "[encoded data removed]",
      "text/plain": [
       "<Figure size 640x480 with 1 Axes>"
      ]
     },
     "metadata": {},
     "output_type": "display_data"
    }
   ],
   "source": [
    "scores = [r[1] for r in results]\n",
    "\n",
    "import matplotlib.pyplot as plt\n",
    "plt.plot(n_features_list, scores)\n",
    "plt.xlabel('n_feature')\n",
    "plt.ylabel('score')\n",
    "plt.title('# of features vs. score')\n",
    "plt.show()"
   ]
  },
  {
   "cell_type": "code",
   "execution_count": null,
   "id": "1ccae086",
   "metadata": {},
   "outputs": [],
   "source": [
    "# Conclusion\n",
    "# The best performance obtained with rfc via rfe-treated is 0.78 accuracy (around 40th-percentile of total features)"
   ]
  },
  {
   "cell_type": "code",
   "execution_count": 52,
   "id": "6edac78d",
   "metadata": {},
   "outputs": [
    {
     "name": "stdout",
     "output_type": "stream",
     "text": [
      "Number of features to be selected:  37\n",
      "instantiating model...\n",
      "modeling RFE...\n",
      "refactoring dataset...\n",
      "fit model...\n",
      "evaluate model...\n",
      "rankings: [ 1  1  1  1  1  1  1  1  1  1  1  1  1  1  1  1  1  1  1  1  1  1  1 11\n",
      " 17 33  8 27 18 38  1 32  1 43 21  1  5 24  7 25 28  6  3 29  1 48 16 47\n",
      " 37  1 23  4  1  1  1 30 40 34 46 41  2  1  1 14 44 45 10 31  9 42  1 19\n",
      " 15 36 35 13 20 39 26 12  1  1 22  1]\n",
      "RFE selected features: \n",
      "--------------------\n",
      "0       A\n",
      "1       C\n",
      "2       G\n",
      "3       T\n",
      "4      AA\n",
      "5      AC\n",
      "6      AG\n",
      "7      AT\n",
      "8      CA\n",
      "9      CC\n",
      "10     CG\n",
      "11     CT\n",
      "12     GA\n",
      "13     GC\n",
      "14     GG\n",
      "15     GT\n",
      "16     TA\n",
      "17     TC\n",
      "18     TG\n",
      "19     TT\n",
      "20    AAA\n",
      "21    AAC\n",
      "22    AAG\n",
      "30    AGG\n",
      "32    ATA\n",
      "35    ATT\n",
      "44    CGA\n",
      "49    CTC\n",
      "52    GAA\n",
      "53    GAC\n",
      "54    GAG\n",
      "61    GGC\n",
      "62    GGG\n",
      "70    TAG\n",
      "80    TTA\n",
      "81    TTC\n",
      "83    TTT\n",
      "Name: Feature Name, dtype: object\n",
      "rmse: 0.47\n",
      "score: 0.78\n"
     ]
    }
   ],
   "source": [
    "# export the yet-the-best model\n",
    "model = optimum_RFEModel(37)"
   ]
  },
  {
   "cell_type": "code",
   "execution_count": 49,
   "id": "ae651fd9",
   "metadata": {},
   "outputs": [
    {
     "ename": "IndexError",
     "evalue": "tuple index out of range",
     "output_type": "error",
     "traceback": [
      "\u001b[0;31m---------------------------------------------------------------------------\u001b[0m",
      "\u001b[0;31mIndexError\u001b[0m                                Traceback (most recent call last)",
      "\u001b[0;32m/var/folders/sc/sfl3h7fj3252fxyys_m5td0w0000gn/T/ipykernel_7671/2748289263.py\u001b[0m in \u001b[0;36m<module>\u001b[0;34m\u001b[0m\n\u001b[1;32m      1\u001b[0m \u001b[0;31m# export the model\u001b[0m\u001b[0;34m\u001b[0m\u001b[0;34m\u001b[0m\u001b[0m\n\u001b[1;32m      2\u001b[0m \u001b[0;32mimport\u001b[0m \u001b[0mpickle\u001b[0m\u001b[0;34m\u001b[0m\u001b[0;34m\u001b[0m\u001b[0m\n\u001b[0;32m----> 3\u001b[0;31m \u001b[0mpickle\u001b[0m\u001b[0;34m.\u001b[0m\u001b[0mdump\u001b[0m\u001b[0;34m(\u001b[0m\u001b[0mmodel\u001b[0m\u001b[0;34m[\u001b[0m\u001b[0;36m3\u001b[0m\u001b[0;34m]\u001b[0m\u001b[0;34m,\u001b[0m \u001b[0mopen\u001b[0m\u001b[0;34m(\u001b[0m\u001b[0;34m'/Users/eesoonhang/Desktop/capstone_data/RFC_withRFE.pkl'\u001b[0m\u001b[0;34m,\u001b[0m \u001b[0;34m'wb'\u001b[0m\u001b[0;34m)\u001b[0m\u001b[0;34m)\u001b[0m\u001b[0;34m\u001b[0m\u001b[0;34m\u001b[0m\u001b[0m\n\u001b[0m",
      "\u001b[0;31mIndexError\u001b[0m: tuple index out of range"
     ]
    }
   ],
   "source": [
    "# export the model\n",
    "import pickle \n",
    "pickle.dump(model[3], open('/Users/eesoonhang/Desktop/capstone_data/RFC_withRFE.pkl', 'wb'))"
   ]
  },
  {
   "cell_type": "code",
   "execution_count": null,
   "id": "307c3638",
   "metadata": {},
   "outputs": [],
   "source": [
    "clf = model[3]\n",
    "cls.score(test_X, compressed_test_y)"
   ]
  },
  {
   "cell_type": "code",
   "execution_count": null,
   "id": "61241d80",
   "metadata": {},
   "outputs": [],
   "source": [
    "import sklearn.metrics\n",
    "# visualize confusion matrix\n",
    "cnf_matrix = metrics.confusion_matrix(compressed_test_y, clf.predict(test_X)) \n",
    "class_names=[0,1] # name  of classes\n",
    "fig, ax = plt.subplots() \n",
    "tick_marks = np.arange(len(class_names)) \n",
    "plt.xticks(tick_marks, class_names) \n",
    "plt.yticks(tick_marks, class_names) \n",
    "\n",
    "# create heatmap \n",
    "sns.heatmap(pd.DataFrame(cnf_matrix), annot=True, cmap=\"YlGnBu\" ,fmt='g') \n",
    "ax.xaxis.set_label_position(\"top\") \n",
    "plt.tight_layout() \n",
    "plt.title('Confusion matrix', y=1.1) \n",
    "plt.ylabel('Actual label') \n",
    "plt.xlabel('Predicted label')"
   ]
  }
 ],
 "metadata": {
  "kernelspec": {
   "display_name": "Python 3 (ipykernel)",
   "language": "python",
   "name": "python3"
  },
  "language_info": {
   "codemirror_mode": {
    "name": "ipython",
    "version": 3
   },
   "file_extension": ".py",
   "mimetype": "text/x-python",
   "name": "python",
   "nbconvert_exporter": "python",
   "pygments_lexer": "ipython3",
   "version": "3.9.13"
  }
 },
 "nbformat": 4,
 "nbformat_minor": 5
}
