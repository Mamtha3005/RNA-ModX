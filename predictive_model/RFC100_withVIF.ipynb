{
 "cells": [
  {
   "cell_type": "code",
   "execution_count": 2,
   "id": "748de91f",
   "metadata": {},
   "outputs": [],
   "source": [
    "# import packages\n",
    "import pandas as pd\n",
    "import numpy as np\n",
    "\n",
    "import swifter\n",
    "import great_expectations as ge"
   ]
  },
  {
   "cell_type": "code",
   "execution_count": 3,
   "id": "5478cce8",
   "metadata": {},
   "outputs": [
    {
     "data": {
      "text/plain": [
       "(304661, 63)"
      ]
     },
     "execution_count": 3,
     "metadata": {},
     "output_type": "execute_result"
    }
   ],
   "source": [
    "# import datasets that have been cleaned via VIF check\n",
    "df_nac = pd.read_csv('/Users/eesoonhang/Desktop/capstone_data/train_cleaned_nac.csv', usecols=lambda x: x!= '*Unnamed*')\n",
    "df_dac = pd.read_csv('/Users/eesoonhang/Desktop/capstone_data/train_cleaned_dac.csv', usecols=lambda x: x!= '*Unnamed*')\n",
    "df_tac = pd.read_csv('/Users/eesoonhang/Desktop/capstone_data/train_cleaned_tac.csv', usecols=lambda x: x!= '*Unnamed*')\n",
    "train_X = pd.concat([df_nac, df_dac, df_tac], axis=1)\n",
    "train_X.shape"
   ]
  },
  {
   "cell_type": "code",
   "execution_count": 4,
   "id": "a7419249",
   "metadata": {},
   "outputs": [
    {
     "name": "stdout",
     "output_type": "stream",
     "text": [
      "Index(['A', 'C', 'G', 'T', 'AA', 'AC', 'CA', 'CC', 'CG', 'GA', 'GG', 'GT',\n",
      "       'TA', 'TC', 'TG', 'TT', 'AAA', 'AAC', 'AAG', 'ACC', 'ACG', 'ACT', 'AGA',\n",
      "       'AGC', 'AGT', 'ATA', 'ATC', 'ATG', 'CAA', 'CAC', 'CAT', 'CCA', 'CCC',\n",
      "       'CGA', 'CGC', 'CGG', 'CGT', 'CTA', 'CTT', 'GAC', 'GAT', 'GCA', 'GCT',\n",
      "       'GGA', 'GGG', 'GGT', 'GTA', 'GTC', 'GTG', 'GTT', 'TAA', 'TAC', 'TAG',\n",
      "       'TCA', 'TCC', 'TCG', 'TCT', 'TGA', 'TGC', 'TGG', 'TTA', 'TTC', 'TTT'],\n",
      "      dtype='object')\n"
     ]
    }
   ],
   "source": [
    "# import train_output, test_input, test_output\n",
    "# Note: do ensure test_input has similar column as train_input\n",
    "test_X = pd.read_csv('/Users/eesoonhang/Desktop/capstone_data/test_in_encodedToNacSeq.csv', usecols=train_X.columns)\n",
    "print(test_X.columns)\n",
    "train_y = pd.read_csv('/Users/eesoonhang/Desktop/capstone_data/train_out.csv', usecols=lambda x: x!= '*Unnamed*')\n",
    "test_y = pd.read_csv('/Users/eesoonhang/Desktop/capstone_data/test_out.csv', usecols=lambda x: x!= '*Unnamed*')\n",
    "\n",
    "# compressed output y\n",
    "# transform target >=1 to 1\n",
    "def normalize_output(x):\n",
    "    return np.where(x.target>1, x.target/x.target, x.target)\n",
    "    \n",
    "# compressed y-variable\n",
    "compressed_train_y = train_y.sum(axis=1).to_frame(name='target')\n",
    "compressed_test_y = test_y.sum(axis=1).to_frame(name='target')\n",
    "compressed_train_y.target = compressed_train_y.swifter.apply(normalize_output, axis=1)\n",
    "compressed_test_y.target = compressed_test_y.swifter.apply(normalize_output, axis=1)"
   ]
  },
  {
   "cell_type": "code",
   "execution_count": 11,
   "id": "26c70d2f",
   "metadata": {},
   "outputs": [],
   "source": [
    "from sklearn.ensemble import RandomForestClassifier\n",
    "from sklearn.feature_selection import RFE\n",
    "from sklearn.metrics import mean_squared_error\n",
    "from sklearn.feature_selection import SequentialFeatureSelector\n",
    "from sklearn.preprocessing import StandardScaler\n",
    "from sklearn.model_selection import train_test_split\n",
    "import math\n",
    "\n",
    "def train_Model():\n",
    "    \n",
    "    print('scaling data')\n",
    "    # apply scaler\n",
    "    scaler = StandardScaler()\n",
    "    train_X_scaled = scaler.fit_transform(train_X, compressed_train_y)\n",
    "    train_X_scaled = pd.DataFrame(train_X_scaled, columns=train_X.columns)\n",
    "    X_train, X_valid, Y_train, Y_valid = train_test_split(train_X_scaled, compressed_train_y, test_size = 0.5, random_state = 1234, stratify=compressed_train_y)\n",
    "    \n",
    "    print('fit model...')\n",
    "        # instantiate model\n",
    "    rfc = RandomForestClassifier(n_estimators=100)\n",
    "    # Perform RandomForestClassification\n",
    "    rfc.fit(X_train, Y_train.values.ravel())\n",
    "    y_predict = rfc.predict(X_valid)\n",
    "    \n",
    "    print('evaluate model...')\n",
    "    # evaluate model\n",
    "    rmse = math.sqrt(mean_squared_error(Y_valid, y_predict))\n",
    "    print('rmse: %4.2f' %rmse)\n",
    "    \n",
    "    score = rfc.score(X_valid, Y_valid)\n",
    "    print('score: %4.2f' %score)\n",
    "    \n",
    "    return rmse, score, rfc, scaler"
   ]
  },
  {
   "cell_type": "code",
   "execution_count": 12,
   "id": "9ab53925",
   "metadata": {},
   "outputs": [
    {
     "name": "stdout",
     "output_type": "stream",
     "text": [
      "scaling data\n",
      "fit model...\n",
      "evaluate model...\n",
      "rmse: 0.44\n",
      "score: 0.81\n",
      "CPU times: user 1min 8s, sys: 1.21 s, total: 1min 9s\n",
      "Wall time: 1min 11s\n"
     ]
    }
   ],
   "source": [
    "# train model\n",
    "%time model = train_Model()"
   ]
  },
  {
   "cell_type": "code",
   "execution_count": 15,
   "id": "29f79bc1",
   "metadata": {},
   "outputs": [],
   "source": [
    "# export the model\n",
    "import pickle\n",
    "pickle.dump(model[2], open('/Users/eesoonhang/Desktop/capstone_data/RFC_100trees_withVIF.pkl', 'wb'))\n",
    "pickle.dump(model[3], open('/Users/eesoonhang/Desktop/capstone_data/scaler_VIFdata.pkl', 'wb'))"
   ]
  },
  {
   "cell_type": "code",
   "execution_count": 13,
   "id": "fe7cf260",
   "metadata": {},
   "outputs": [
    {
     "data": {
      "text/plain": [
       "0.7608333333333334"
      ]
     },
     "execution_count": 13,
     "metadata": {},
     "output_type": "execute_result"
    }
   ],
   "source": [
    "# evaluate accuracy\n",
    "clf = model[2]\n",
    "scaler = model[3]\n",
    "test_X_scaled = scaler.transform(test_X)\n",
    "clf.score(test_X_scaled, compressed_test_y)"
   ]
  }
 ],
 "metadata": {
  "kernelspec": {
   "display_name": "Python 3 (ipykernel)",
   "language": "python",
   "name": "python3"
  },
  "language_info": {
   "codemirror_mode": {
    "name": "ipython",
    "version": 3
   },
   "file_extension": ".py",
   "mimetype": "text/x-python",
   "name": "python",
   "nbconvert_exporter": "python",
   "pygments_lexer": "ipython3",
   "version": "3.9.13"
  }
 },
 "nbformat": 4,
 "nbformat_minor": 5
}
