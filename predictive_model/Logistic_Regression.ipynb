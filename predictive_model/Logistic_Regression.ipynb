{
 "cells": [
  {
   "cell_type": "code",
   "execution_count": 5,
   "id": "be505ba3",
   "metadata": {},
   "outputs": [
    {
     "name": "stdout",
     "output_type": "stream",
     "text": [
      "Collecting swifter\n",
      "  Downloading swifter-1.3.4.tar.gz (830 kB)\n",
      "\u001b[2K     \u001b[90m━━━━━━━━━━━━━━━━━━━━━━━━━━━━━━━━━━━━━━\u001b[0m \u001b[32m830.9/830.9 kB\u001b[0m \u001b[31m12.6 MB/s\u001b[0m eta \u001b[36m0:00:00\u001b[0ma \u001b[36m0:00:01\u001b[0m\n",
      "\u001b[?25h  Preparing metadata (setup.py) ... \u001b[?25ldone\n",
      "\u001b[?25hRequirement already satisfied: pandas>=1.0.0 in /usr/local/anaconda3/lib/python3.9/site-packages (from swifter) (1.4.4)\n",
      "Requirement already satisfied: psutil>=5.6.6 in /usr/local/anaconda3/lib/python3.9/site-packages (from swifter) (5.9.0)\n",
      "Requirement already satisfied: dask[dataframe]>=2.10.0 in /usr/local/anaconda3/lib/python3.9/site-packages (from swifter) (2022.7.0)\n",
      "Requirement already satisfied: tqdm>=4.33.0 in /usr/local/anaconda3/lib/python3.9/site-packages (from swifter) (4.64.1)\n",
      "Requirement already satisfied: ipywidgets>=7.0.0 in /usr/local/anaconda3/lib/python3.9/site-packages (from swifter) (7.6.5)\n",
      "Requirement already satisfied: cloudpickle>=0.2.2 in /usr/local/anaconda3/lib/python3.9/site-packages (from swifter) (2.0.0)\n",
      "Requirement already satisfied: parso>0.4.0 in /usr/local/anaconda3/lib/python3.9/site-packages (from swifter) (0.8.3)\n",
      "Requirement already satisfied: bleach>=3.1.1 in /usr/local/anaconda3/lib/python3.9/site-packages (from swifter) (4.1.0)\n",
      "Requirement already satisfied: packaging in /usr/local/anaconda3/lib/python3.9/site-packages (from bleach>=3.1.1->swifter) (21.3)\n",
      "Requirement already satisfied: webencodings in /usr/local/anaconda3/lib/python3.9/site-packages (from bleach>=3.1.1->swifter) (0.5.1)\n",
      "Requirement already satisfied: six>=1.9.0 in /usr/local/anaconda3/lib/python3.9/site-packages (from bleach>=3.1.1->swifter) (1.16.0)\n",
      "Requirement already satisfied: partd>=0.3.10 in /usr/local/anaconda3/lib/python3.9/site-packages (from dask[dataframe]>=2.10.0->swifter) (1.2.0)\n",
      "Requirement already satisfied: toolz>=0.8.2 in /usr/local/anaconda3/lib/python3.9/site-packages (from dask[dataframe]>=2.10.0->swifter) (0.11.2)\n",
      "Requirement already satisfied: fsspec>=0.6.0 in /usr/local/anaconda3/lib/python3.9/site-packages (from dask[dataframe]>=2.10.0->swifter) (2022.7.1)\n",
      "Requirement already satisfied: pyyaml>=5.3.1 in /usr/local/anaconda3/lib/python3.9/site-packages (from dask[dataframe]>=2.10.0->swifter) (6.0)\n",
      "Requirement already satisfied: numpy>=1.18 in /usr/local/anaconda3/lib/python3.9/site-packages (from dask[dataframe]>=2.10.0->swifter) (1.23.5)\n",
      "Requirement already satisfied: nbformat>=4.2.0 in /usr/local/anaconda3/lib/python3.9/site-packages (from ipywidgets>=7.0.0->swifter) (5.5.0)\n",
      "Requirement already satisfied: ipython>=4.0.0 in /usr/local/anaconda3/lib/python3.9/site-packages (from ipywidgets>=7.0.0->swifter) (7.31.1)\n",
      "Requirement already satisfied: widgetsnbextension~=3.5.0 in /usr/local/anaconda3/lib/python3.9/site-packages (from ipywidgets>=7.0.0->swifter) (3.5.2)\n",
      "Requirement already satisfied: jupyterlab-widgets>=1.0.0 in /usr/local/anaconda3/lib/python3.9/site-packages (from ipywidgets>=7.0.0->swifter) (1.0.0)\n",
      "Requirement already satisfied: ipykernel>=4.5.1 in /usr/local/anaconda3/lib/python3.9/site-packages (from ipywidgets>=7.0.0->swifter) (6.15.2)\n",
      "Requirement already satisfied: traitlets>=4.3.1 in /usr/local/anaconda3/lib/python3.9/site-packages (from ipywidgets>=7.0.0->swifter) (5.1.1)\n",
      "Requirement already satisfied: ipython-genutils~=0.2.0 in /usr/local/anaconda3/lib/python3.9/site-packages (from ipywidgets>=7.0.0->swifter) (0.2.0)\n",
      "Requirement already satisfied: python-dateutil>=2.8.1 in /usr/local/anaconda3/lib/python3.9/site-packages (from pandas>=1.0.0->swifter) (2.8.2)\n",
      "Requirement already satisfied: pytz>=2020.1 in /usr/local/anaconda3/lib/python3.9/site-packages (from pandas>=1.0.0->swifter) (2022.1)\n",
      "Requirement already satisfied: tornado>=6.1 in /usr/local/anaconda3/lib/python3.9/site-packages (from ipykernel>=4.5.1->ipywidgets>=7.0.0->swifter) (6.1)\n",
      "Requirement already satisfied: debugpy>=1.0 in /usr/local/anaconda3/lib/python3.9/site-packages (from ipykernel>=4.5.1->ipywidgets>=7.0.0->swifter) (1.5.1)\n",
      "Requirement already satisfied: jupyter-client>=6.1.12 in /usr/local/anaconda3/lib/python3.9/site-packages (from ipykernel>=4.5.1->ipywidgets>=7.0.0->swifter) (7.3.4)\n",
      "Requirement already satisfied: matplotlib-inline>=0.1 in /usr/local/anaconda3/lib/python3.9/site-packages (from ipykernel>=4.5.1->ipywidgets>=7.0.0->swifter) (0.1.6)\n",
      "Requirement already satisfied: pyzmq>=17 in /usr/local/anaconda3/lib/python3.9/site-packages (from ipykernel>=4.5.1->ipywidgets>=7.0.0->swifter) (23.2.0)\n",
      "Requirement already satisfied: nest-asyncio in /usr/local/anaconda3/lib/python3.9/site-packages (from ipykernel>=4.5.1->ipywidgets>=7.0.0->swifter) (1.5.5)\n",
      "Requirement already satisfied: appnope in /usr/local/anaconda3/lib/python3.9/site-packages (from ipykernel>=4.5.1->ipywidgets>=7.0.0->swifter) (0.1.2)\n",
      "Requirement already satisfied: decorator in /usr/local/anaconda3/lib/python3.9/site-packages (from ipython>=4.0.0->ipywidgets>=7.0.0->swifter) (5.1.1)\n",
      "Requirement already satisfied: setuptools>=18.5 in /usr/local/anaconda3/lib/python3.9/site-packages (from ipython>=4.0.0->ipywidgets>=7.0.0->swifter) (63.4.1)\n",
      "Requirement already satisfied: pickleshare in /usr/local/anaconda3/lib/python3.9/site-packages (from ipython>=4.0.0->ipywidgets>=7.0.0->swifter) (0.7.5)\n",
      "Requirement already satisfied: prompt-toolkit!=3.0.0,!=3.0.1,<3.1.0,>=2.0.0 in /usr/local/anaconda3/lib/python3.9/site-packages (from ipython>=4.0.0->ipywidgets>=7.0.0->swifter) (3.0.20)\n",
      "Requirement already satisfied: pexpect>4.3 in /usr/local/anaconda3/lib/python3.9/site-packages (from ipython>=4.0.0->ipywidgets>=7.0.0->swifter) (4.8.0)\n",
      "Requirement already satisfied: backcall in /usr/local/anaconda3/lib/python3.9/site-packages (from ipython>=4.0.0->ipywidgets>=7.0.0->swifter) (0.2.0)\n",
      "Requirement already satisfied: jedi>=0.16 in /usr/local/anaconda3/lib/python3.9/site-packages (from ipython>=4.0.0->ipywidgets>=7.0.0->swifter) (0.18.1)\n",
      "Requirement already satisfied: pygments in /usr/local/anaconda3/lib/python3.9/site-packages (from ipython>=4.0.0->ipywidgets>=7.0.0->swifter) (2.11.2)\n",
      "Requirement already satisfied: jupyter_core in /usr/local/anaconda3/lib/python3.9/site-packages (from nbformat>=4.2.0->ipywidgets>=7.0.0->swifter) (4.11.1)\n",
      "Requirement already satisfied: jsonschema>=2.6 in /usr/local/anaconda3/lib/python3.9/site-packages (from nbformat>=4.2.0->ipywidgets>=7.0.0->swifter) (4.16.0)\n",
      "Requirement already satisfied: fastjsonschema in /usr/local/anaconda3/lib/python3.9/site-packages (from nbformat>=4.2.0->ipywidgets>=7.0.0->swifter) (2.16.2)\n",
      "Requirement already satisfied: pyparsing!=3.0.5,>=2.0.2 in /usr/local/anaconda3/lib/python3.9/site-packages (from packaging->bleach>=3.1.1->swifter) (3.0.9)\n",
      "Requirement already satisfied: locket in /usr/local/anaconda3/lib/python3.9/site-packages (from partd>=0.3.10->dask[dataframe]>=2.10.0->swifter) (1.0.0)\n",
      "Requirement already satisfied: notebook>=4.4.1 in /usr/local/anaconda3/lib/python3.9/site-packages (from widgetsnbextension~=3.5.0->ipywidgets>=7.0.0->swifter) (6.4.12)\n",
      "Requirement already satisfied: pyrsistent!=0.17.0,!=0.17.1,!=0.17.2,>=0.14.0 in /usr/local/anaconda3/lib/python3.9/site-packages (from jsonschema>=2.6->nbformat>=4.2.0->ipywidgets>=7.0.0->swifter) (0.18.0)\n",
      "Requirement already satisfied: attrs>=17.4.0 in /usr/local/anaconda3/lib/python3.9/site-packages (from jsonschema>=2.6->nbformat>=4.2.0->ipywidgets>=7.0.0->swifter) (21.4.0)\n",
      "Requirement already satisfied: entrypoints in /usr/local/anaconda3/lib/python3.9/site-packages (from jupyter-client>=6.1.12->ipykernel>=4.5.1->ipywidgets>=7.0.0->swifter) (0.4)\n",
      "Requirement already satisfied: Send2Trash>=1.8.0 in /usr/local/anaconda3/lib/python3.9/site-packages (from notebook>=4.4.1->widgetsnbextension~=3.5.0->ipywidgets>=7.0.0->swifter) (1.8.0)\n",
      "Requirement already satisfied: terminado>=0.8.3 in /usr/local/anaconda3/lib/python3.9/site-packages (from notebook>=4.4.1->widgetsnbextension~=3.5.0->ipywidgets>=7.0.0->swifter) (0.13.1)\n",
      "Requirement already satisfied: jinja2 in /usr/local/anaconda3/lib/python3.9/site-packages (from notebook>=4.4.1->widgetsnbextension~=3.5.0->ipywidgets>=7.0.0->swifter) (2.11.3)\n",
      "Requirement already satisfied: argon2-cffi in /usr/local/anaconda3/lib/python3.9/site-packages (from notebook>=4.4.1->widgetsnbextension~=3.5.0->ipywidgets>=7.0.0->swifter) (21.3.0)\n",
      "Requirement already satisfied: prometheus-client in /usr/local/anaconda3/lib/python3.9/site-packages (from notebook>=4.4.1->widgetsnbextension~=3.5.0->ipywidgets>=7.0.0->swifter) (0.14.1)\n",
      "Requirement already satisfied: nbconvert>=5 in /usr/local/anaconda3/lib/python3.9/site-packages (from notebook>=4.4.1->widgetsnbextension~=3.5.0->ipywidgets>=7.0.0->swifter) (6.4.4)\n",
      "Requirement already satisfied: ptyprocess>=0.5 in /usr/local/anaconda3/lib/python3.9/site-packages (from pexpect>4.3->ipython>=4.0.0->ipywidgets>=7.0.0->swifter) (0.7.0)\n"
     ]
    },
    {
     "name": "stdout",
     "output_type": "stream",
     "text": [
      "Requirement already satisfied: wcwidth in /usr/local/anaconda3/lib/python3.9/site-packages (from prompt-toolkit!=3.0.0,!=3.0.1,<3.1.0,>=2.0.0->ipython>=4.0.0->ipywidgets>=7.0.0->swifter) (0.2.5)\n",
      "Requirement already satisfied: beautifulsoup4 in /usr/local/anaconda3/lib/python3.9/site-packages (from nbconvert>=5->notebook>=4.4.1->widgetsnbextension~=3.5.0->ipywidgets>=7.0.0->swifter) (4.11.1)\n",
      "Requirement already satisfied: nbclient<0.6.0,>=0.5.0 in /usr/local/anaconda3/lib/python3.9/site-packages (from nbconvert>=5->notebook>=4.4.1->widgetsnbextension~=3.5.0->ipywidgets>=7.0.0->swifter) (0.5.13)\n",
      "Requirement already satisfied: testpath in /usr/local/anaconda3/lib/python3.9/site-packages (from nbconvert>=5->notebook>=4.4.1->widgetsnbextension~=3.5.0->ipywidgets>=7.0.0->swifter) (0.6.0)\n",
      "Requirement already satisfied: defusedxml in /usr/local/anaconda3/lib/python3.9/site-packages (from nbconvert>=5->notebook>=4.4.1->widgetsnbextension~=3.5.0->ipywidgets>=7.0.0->swifter) (0.7.1)\n",
      "Requirement already satisfied: pandocfilters>=1.4.1 in /usr/local/anaconda3/lib/python3.9/site-packages (from nbconvert>=5->notebook>=4.4.1->widgetsnbextension~=3.5.0->ipywidgets>=7.0.0->swifter) (1.5.0)\n",
      "Requirement already satisfied: jupyterlab-pygments in /usr/local/anaconda3/lib/python3.9/site-packages (from nbconvert>=5->notebook>=4.4.1->widgetsnbextension~=3.5.0->ipywidgets>=7.0.0->swifter) (0.1.2)\n",
      "Requirement already satisfied: mistune<2,>=0.8.1 in /usr/local/anaconda3/lib/python3.9/site-packages (from nbconvert>=5->notebook>=4.4.1->widgetsnbextension~=3.5.0->ipywidgets>=7.0.0->swifter) (0.8.4)\n",
      "Requirement already satisfied: MarkupSafe>=0.23 in /usr/local/anaconda3/lib/python3.9/site-packages (from jinja2->notebook>=4.4.1->widgetsnbextension~=3.5.0->ipywidgets>=7.0.0->swifter) (2.0.1)\n",
      "Requirement already satisfied: argon2-cffi-bindings in /usr/local/anaconda3/lib/python3.9/site-packages (from argon2-cffi->notebook>=4.4.1->widgetsnbextension~=3.5.0->ipywidgets>=7.0.0->swifter) (21.2.0)\n",
      "Requirement already satisfied: cffi>=1.0.1 in /usr/local/anaconda3/lib/python3.9/site-packages (from argon2-cffi-bindings->argon2-cffi->notebook>=4.4.1->widgetsnbextension~=3.5.0->ipywidgets>=7.0.0->swifter) (1.15.1)\n",
      "Requirement already satisfied: soupsieve>1.2 in /usr/local/anaconda3/lib/python3.9/site-packages (from beautifulsoup4->nbconvert>=5->notebook>=4.4.1->widgetsnbextension~=3.5.0->ipywidgets>=7.0.0->swifter) (2.3.1)\n",
      "Requirement already satisfied: pycparser in /usr/local/anaconda3/lib/python3.9/site-packages (from cffi>=1.0.1->argon2-cffi-bindings->argon2-cffi->notebook>=4.4.1->widgetsnbextension~=3.5.0->ipywidgets>=7.0.0->swifter) (2.21)\n",
      "Building wheels for collected packages: swifter\n",
      "  Building wheel for swifter (setup.py) ... \u001b[?25ldone\n",
      "\u001b[?25h  Created wheel for swifter: filename=swifter-1.3.4-py3-none-any.whl size=16300 sha256=8d28fcb01a1eb946670b78502f7048588fde06d8818fca161c129cf708c9e639\n",
      "  Stored in directory: /Users/eesoonhang/Library/Caches/pip/wheels/2b/5e/f2/3931524f702ffd03309e96d35ee2fbf9c61c27377511ee8d4c\n",
      "Successfully built swifter\n",
      "Installing collected packages: swifter\n",
      "Successfully installed swifter-1.3.4\n",
      "Note: you may need to restart the kernel to use updated packages.\n"
     ]
    }
   ],
   "source": [
    "pip install swifter"
   ]
  },
  {
   "cell_type": "code",
   "execution_count": 43,
   "id": "e1b1004d",
   "metadata": {},
   "outputs": [],
   "source": [
    "# import packages\n",
    "from sklearn.model_selection import train_test_split\n",
    "from sklearn.linear_model import LogisticRegression\n",
    "from sklearn.feature_selection import RFE\n",
    "\n",
    "import pandas as pd\n",
    "import numpy as np\n",
    "import swifter\n",
    "\n",
    "import seaborn as sns\n",
    "import matplotlib.pyplot as plt\n",
    "\n",
    "import great_expectations as ge"
   ]
  },
  {
   "cell_type": "code",
   "execution_count": 2,
   "id": "7eb98792",
   "metadata": {},
   "outputs": [],
   "source": [
    "# import data\n",
    "train_X = pd.read_csv('/Users/eesoonhang/Desktop/capstone_data/train_in_encodedToNacSeq.csv', usecols=lambda x: x != '*Unnamed*')\n",
    "train_y = pd.read_csv('/Users/eesoonhang/Desktop/capstone_data/train_out.csv', usecols=lambda x: x != '*Unnamed*')"
   ]
  },
  {
   "cell_type": "code",
   "execution_count": 4,
   "id": "09121e13",
   "metadata": {},
   "outputs": [
    {
     "data": {
      "text/html": [
       "<div>\n",
       "<style scoped>\n",
       "    .dataframe tbody tr th:only-of-type {\n",
       "        vertical-align: middle;\n",
       "    }\n",
       "\n",
       "    .dataframe tbody tr th {\n",
       "        vertical-align: top;\n",
       "    }\n",
       "\n",
       "    .dataframe thead th {\n",
       "        text-align: right;\n",
       "    }\n",
       "</style>\n",
       "<table border=\"1\" class=\"dataframe\">\n",
       "  <thead>\n",
       "    <tr style=\"text-align: right;\">\n",
       "      <th></th>\n",
       "      <th>A</th>\n",
       "      <th>C</th>\n",
       "      <th>G</th>\n",
       "      <th>T</th>\n",
       "      <th>AA</th>\n",
       "      <th>AC</th>\n",
       "      <th>AG</th>\n",
       "      <th>AT</th>\n",
       "      <th>CA</th>\n",
       "      <th>CC</th>\n",
       "      <th>...</th>\n",
       "      <th>TCG</th>\n",
       "      <th>TCT</th>\n",
       "      <th>TGA</th>\n",
       "      <th>TGC</th>\n",
       "      <th>TGG</th>\n",
       "      <th>TGT</th>\n",
       "      <th>TTA</th>\n",
       "      <th>TTC</th>\n",
       "      <th>TTG</th>\n",
       "      <th>TTT</th>\n",
       "    </tr>\n",
       "  </thead>\n",
       "  <tbody>\n",
       "    <tr>\n",
       "      <th>0</th>\n",
       "      <td>187</td>\n",
       "      <td>363</td>\n",
       "      <td>289</td>\n",
       "      <td>162</td>\n",
       "      <td>36</td>\n",
       "      <td>60</td>\n",
       "      <td>59</td>\n",
       "      <td>32</td>\n",
       "      <td>67</td>\n",
       "      <td>144</td>\n",
       "      <td>...</td>\n",
       "      <td>13</td>\n",
       "      <td>12</td>\n",
       "      <td>11</td>\n",
       "      <td>16</td>\n",
       "      <td>17</td>\n",
       "      <td>5</td>\n",
       "      <td>2</td>\n",
       "      <td>11</td>\n",
       "      <td>9</td>\n",
       "      <td>3</td>\n",
       "    </tr>\n",
       "    <tr>\n",
       "      <th>1</th>\n",
       "      <td>257</td>\n",
       "      <td>220</td>\n",
       "      <td>225</td>\n",
       "      <td>299</td>\n",
       "      <td>73</td>\n",
       "      <td>49</td>\n",
       "      <td>64</td>\n",
       "      <td>70</td>\n",
       "      <td>71</td>\n",
       "      <td>62</td>\n",
       "      <td>...</td>\n",
       "      <td>3</td>\n",
       "      <td>22</td>\n",
       "      <td>25</td>\n",
       "      <td>15</td>\n",
       "      <td>32</td>\n",
       "      <td>12</td>\n",
       "      <td>24</td>\n",
       "      <td>18</td>\n",
       "      <td>18</td>\n",
       "      <td>42</td>\n",
       "    </tr>\n",
       "    <tr>\n",
       "      <th>2</th>\n",
       "      <td>271</td>\n",
       "      <td>239</td>\n",
       "      <td>214</td>\n",
       "      <td>277</td>\n",
       "      <td>83</td>\n",
       "      <td>56</td>\n",
       "      <td>75</td>\n",
       "      <td>57</td>\n",
       "      <td>92</td>\n",
       "      <td>53</td>\n",
       "      <td>...</td>\n",
       "      <td>1</td>\n",
       "      <td>28</td>\n",
       "      <td>24</td>\n",
       "      <td>27</td>\n",
       "      <td>14</td>\n",
       "      <td>16</td>\n",
       "      <td>16</td>\n",
       "      <td>23</td>\n",
       "      <td>17</td>\n",
       "      <td>26</td>\n",
       "    </tr>\n",
       "    <tr>\n",
       "      <th>3</th>\n",
       "      <td>301</td>\n",
       "      <td>193</td>\n",
       "      <td>231</td>\n",
       "      <td>276</td>\n",
       "      <td>116</td>\n",
       "      <td>47</td>\n",
       "      <td>82</td>\n",
       "      <td>56</td>\n",
       "      <td>72</td>\n",
       "      <td>48</td>\n",
       "      <td>...</td>\n",
       "      <td>4</td>\n",
       "      <td>19</td>\n",
       "      <td>22</td>\n",
       "      <td>15</td>\n",
       "      <td>20</td>\n",
       "      <td>22</td>\n",
       "      <td>22</td>\n",
       "      <td>15</td>\n",
       "      <td>16</td>\n",
       "      <td>36</td>\n",
       "    </tr>\n",
       "    <tr>\n",
       "      <th>4</th>\n",
       "      <td>324</td>\n",
       "      <td>135</td>\n",
       "      <td>210</td>\n",
       "      <td>332</td>\n",
       "      <td>123</td>\n",
       "      <td>36</td>\n",
       "      <td>71</td>\n",
       "      <td>94</td>\n",
       "      <td>47</td>\n",
       "      <td>29</td>\n",
       "      <td>...</td>\n",
       "      <td>2</td>\n",
       "      <td>17</td>\n",
       "      <td>20</td>\n",
       "      <td>16</td>\n",
       "      <td>23</td>\n",
       "      <td>21</td>\n",
       "      <td>28</td>\n",
       "      <td>19</td>\n",
       "      <td>25</td>\n",
       "      <td>53</td>\n",
       "    </tr>\n",
       "  </tbody>\n",
       "</table>\n",
       "<p>5 rows × 84 columns</p>\n",
       "</div>"
      ],
      "text/plain": [
       "     A    C    G    T   AA  AC  AG  AT  CA   CC  ...  TCG  TCT  TGA  TGC  TGG  \\\n",
       "0  187  363  289  162   36  60  59  32  67  144  ...   13   12   11   16   17   \n",
       "1  257  220  225  299   73  49  64  70  71   62  ...    3   22   25   15   32   \n",
       "2  271  239  214  277   83  56  75  57  92   53  ...    1   28   24   27   14   \n",
       "3  301  193  231  276  116  47  82  56  72   48  ...    4   19   22   15   20   \n",
       "4  324  135  210  332  123  36  71  94  47   29  ...    2   17   20   16   23   \n",
       "\n",
       "   TGT  TTA  TTC  TTG  TTT  \n",
       "0    5    2   11    9    3  \n",
       "1   12   24   18   18   42  \n",
       "2   16   16   23   17   26  \n",
       "3   22   22   15   16   36  \n",
       "4   21   28   19   25   53  \n",
       "\n",
       "[5 rows x 84 columns]"
      ]
     },
     "execution_count": 4,
     "metadata": {},
     "output_type": "execute_result"
    }
   ],
   "source": [
    "train_X.head()"
   ]
  },
  {
   "cell_type": "code",
   "execution_count": 5,
   "id": "84280996",
   "metadata": {},
   "outputs": [
    {
     "data": {
      "text/html": [
       "<div>\n",
       "<style scoped>\n",
       "    .dataframe tbody tr th:only-of-type {\n",
       "        vertical-align: middle;\n",
       "    }\n",
       "\n",
       "    .dataframe tbody tr th {\n",
       "        vertical-align: top;\n",
       "    }\n",
       "\n",
       "    .dataframe thead th {\n",
       "        text-align: right;\n",
       "    }\n",
       "</style>\n",
       "<table border=\"1\" class=\"dataframe\">\n",
       "  <thead>\n",
       "    <tr style=\"text-align: right;\">\n",
       "      <th></th>\n",
       "      <th>hAm</th>\n",
       "      <th>hCm</th>\n",
       "      <th>hGm</th>\n",
       "      <th>hTm</th>\n",
       "      <th>hm1A</th>\n",
       "      <th>hm5C</th>\n",
       "      <th>hm5U</th>\n",
       "      <th>hm6A</th>\n",
       "      <th>hm6Am</th>\n",
       "      <th>hm7G</th>\n",
       "      <th>hPsi</th>\n",
       "      <th>Atol</th>\n",
       "    </tr>\n",
       "  </thead>\n",
       "  <tbody>\n",
       "    <tr>\n",
       "      <th>0</th>\n",
       "      <td>1.0</td>\n",
       "      <td>0.0</td>\n",
       "      <td>0.0</td>\n",
       "      <td>0.0</td>\n",
       "      <td>0.0</td>\n",
       "      <td>0.0</td>\n",
       "      <td>0.0</td>\n",
       "      <td>0.0</td>\n",
       "      <td>0.0</td>\n",
       "      <td>0.0</td>\n",
       "      <td>0.0</td>\n",
       "      <td>0.0</td>\n",
       "    </tr>\n",
       "    <tr>\n",
       "      <th>1</th>\n",
       "      <td>1.0</td>\n",
       "      <td>0.0</td>\n",
       "      <td>0.0</td>\n",
       "      <td>0.0</td>\n",
       "      <td>0.0</td>\n",
       "      <td>0.0</td>\n",
       "      <td>0.0</td>\n",
       "      <td>0.0</td>\n",
       "      <td>0.0</td>\n",
       "      <td>0.0</td>\n",
       "      <td>0.0</td>\n",
       "      <td>0.0</td>\n",
       "    </tr>\n",
       "    <tr>\n",
       "      <th>2</th>\n",
       "      <td>1.0</td>\n",
       "      <td>0.0</td>\n",
       "      <td>0.0</td>\n",
       "      <td>0.0</td>\n",
       "      <td>0.0</td>\n",
       "      <td>0.0</td>\n",
       "      <td>0.0</td>\n",
       "      <td>0.0</td>\n",
       "      <td>0.0</td>\n",
       "      <td>0.0</td>\n",
       "      <td>0.0</td>\n",
       "      <td>0.0</td>\n",
       "    </tr>\n",
       "    <tr>\n",
       "      <th>3</th>\n",
       "      <td>1.0</td>\n",
       "      <td>0.0</td>\n",
       "      <td>0.0</td>\n",
       "      <td>0.0</td>\n",
       "      <td>0.0</td>\n",
       "      <td>0.0</td>\n",
       "      <td>0.0</td>\n",
       "      <td>0.0</td>\n",
       "      <td>0.0</td>\n",
       "      <td>0.0</td>\n",
       "      <td>0.0</td>\n",
       "      <td>0.0</td>\n",
       "    </tr>\n",
       "    <tr>\n",
       "      <th>4</th>\n",
       "      <td>1.0</td>\n",
       "      <td>0.0</td>\n",
       "      <td>0.0</td>\n",
       "      <td>0.0</td>\n",
       "      <td>0.0</td>\n",
       "      <td>0.0</td>\n",
       "      <td>0.0</td>\n",
       "      <td>0.0</td>\n",
       "      <td>0.0</td>\n",
       "      <td>0.0</td>\n",
       "      <td>0.0</td>\n",
       "      <td>0.0</td>\n",
       "    </tr>\n",
       "  </tbody>\n",
       "</table>\n",
       "</div>"
      ],
      "text/plain": [
       "   hAm  hCm  hGm  hTm  hm1A  hm5C  hm5U  hm6A  hm6Am  hm7G  hPsi  Atol\n",
       "0  1.0  0.0  0.0  0.0   0.0   0.0   0.0   0.0    0.0   0.0   0.0   0.0\n",
       "1  1.0  0.0  0.0  0.0   0.0   0.0   0.0   0.0    0.0   0.0   0.0   0.0\n",
       "2  1.0  0.0  0.0  0.0   0.0   0.0   0.0   0.0    0.0   0.0   0.0   0.0\n",
       "3  1.0  0.0  0.0  0.0   0.0   0.0   0.0   0.0    0.0   0.0   0.0   0.0\n",
       "4  1.0  0.0  0.0  0.0   0.0   0.0   0.0   0.0    0.0   0.0   0.0   0.0"
      ]
     },
     "execution_count": 5,
     "metadata": {},
     "output_type": "execute_result"
    }
   ],
   "source": [
    "train_y.head()"
   ]
  },
  {
   "cell_type": "code",
   "execution_count": 21,
   "id": "ce75b1a6",
   "metadata": {},
   "outputs": [],
   "source": [
    "# compress train_y from 12 classes to 1\n",
    "# build a model that could only identify modified or non-modified\n",
    "compressed_y = train_y.sum(axis=1).to_frame(name='target')"
   ]
  },
  {
   "cell_type": "code",
   "execution_count": 22,
   "id": "3053d0a2",
   "metadata": {},
   "outputs": [
    {
     "data": {
      "text/plain": [
       "target\n",
       "1.0       152448\n",
       "0.0       152208\n",
       "2.0            5\n",
       "dtype: int64"
      ]
     },
     "execution_count": 22,
     "metadata": {},
     "output_type": "execute_result"
    }
   ],
   "source": [
    "compressed_y.value_counts()"
   ]
  },
  {
   "cell_type": "code",
   "execution_count": 32,
   "id": "aa58bcdb",
   "metadata": {},
   "outputs": [
    {
     "name": "stdout",
     "output_type": "stream",
     "text": [
      "CPU times: user 48.4 ms, sys: 3.57 ms, total: 51.9 ms\n",
      "Wall time: 50.8 ms\n"
     ]
    }
   ],
   "source": [
    "# transform target >=1 to 1\n",
    "def normalize_output(x):\n",
    "    return np.where(x.target>1, x.target/x.target, x.target)\n",
    "\n",
    "%time compressed_y.target = compressed_y.swifter.apply(normalize_output, axis=1)"
   ]
  },
  {
   "cell_type": "code",
   "execution_count": 42,
   "id": "abb4529b",
   "metadata": {},
   "outputs": [
    {
     "data": {
      "text/plain": [
       "target\n",
       "1.0       152453\n",
       "0.0       152208\n",
       "dtype: int64"
      ]
     },
     "execution_count": 42,
     "metadata": {},
     "output_type": "execute_result"
    }
   ],
   "source": [
    "compressed_y.value_counts()"
   ]
  },
  {
   "cell_type": "code",
   "execution_count": 47,
   "id": "0464c4a8",
   "metadata": {},
   "outputs": [
    {
     "data": {
      "text/html": [
       "<div>\n",
       "<style scoped>\n",
       "    .dataframe tbody tr th:only-of-type {\n",
       "        vertical-align: middle;\n",
       "    }\n",
       "\n",
       "    .dataframe tbody tr th {\n",
       "        vertical-align: top;\n",
       "    }\n",
       "\n",
       "    .dataframe thead th {\n",
       "        text-align: right;\n",
       "    }\n",
       "</style>\n",
       "<table border=\"1\" class=\"dataframe\">\n",
       "  <thead>\n",
       "    <tr style=\"text-align: right;\">\n",
       "      <th></th>\n",
       "      <th>A</th>\n",
       "      <th>C</th>\n",
       "      <th>G</th>\n",
       "      <th>T</th>\n",
       "      <th>AA</th>\n",
       "      <th>AC</th>\n",
       "      <th>AG</th>\n",
       "      <th>AT</th>\n",
       "      <th>CA</th>\n",
       "      <th>CC</th>\n",
       "      <th>...</th>\n",
       "      <th>TCT</th>\n",
       "      <th>TGA</th>\n",
       "      <th>TGC</th>\n",
       "      <th>TGG</th>\n",
       "      <th>TGT</th>\n",
       "      <th>TTA</th>\n",
       "      <th>TTC</th>\n",
       "      <th>TTG</th>\n",
       "      <th>TTT</th>\n",
       "      <th>target</th>\n",
       "    </tr>\n",
       "  </thead>\n",
       "  <tbody>\n",
       "    <tr>\n",
       "      <th>0</th>\n",
       "      <td>187</td>\n",
       "      <td>363</td>\n",
       "      <td>289</td>\n",
       "      <td>162</td>\n",
       "      <td>36</td>\n",
       "      <td>60</td>\n",
       "      <td>59</td>\n",
       "      <td>32</td>\n",
       "      <td>67</td>\n",
       "      <td>144</td>\n",
       "      <td>...</td>\n",
       "      <td>12</td>\n",
       "      <td>11</td>\n",
       "      <td>16</td>\n",
       "      <td>17</td>\n",
       "      <td>5</td>\n",
       "      <td>2</td>\n",
       "      <td>11</td>\n",
       "      <td>9</td>\n",
       "      <td>3</td>\n",
       "      <td>1.0</td>\n",
       "    </tr>\n",
       "    <tr>\n",
       "      <th>1</th>\n",
       "      <td>257</td>\n",
       "      <td>220</td>\n",
       "      <td>225</td>\n",
       "      <td>299</td>\n",
       "      <td>73</td>\n",
       "      <td>49</td>\n",
       "      <td>64</td>\n",
       "      <td>70</td>\n",
       "      <td>71</td>\n",
       "      <td>62</td>\n",
       "      <td>...</td>\n",
       "      <td>22</td>\n",
       "      <td>25</td>\n",
       "      <td>15</td>\n",
       "      <td>32</td>\n",
       "      <td>12</td>\n",
       "      <td>24</td>\n",
       "      <td>18</td>\n",
       "      <td>18</td>\n",
       "      <td>42</td>\n",
       "      <td>1.0</td>\n",
       "    </tr>\n",
       "    <tr>\n",
       "      <th>2</th>\n",
       "      <td>271</td>\n",
       "      <td>239</td>\n",
       "      <td>214</td>\n",
       "      <td>277</td>\n",
       "      <td>83</td>\n",
       "      <td>56</td>\n",
       "      <td>75</td>\n",
       "      <td>57</td>\n",
       "      <td>92</td>\n",
       "      <td>53</td>\n",
       "      <td>...</td>\n",
       "      <td>28</td>\n",
       "      <td>24</td>\n",
       "      <td>27</td>\n",
       "      <td>14</td>\n",
       "      <td>16</td>\n",
       "      <td>16</td>\n",
       "      <td>23</td>\n",
       "      <td>17</td>\n",
       "      <td>26</td>\n",
       "      <td>1.0</td>\n",
       "    </tr>\n",
       "    <tr>\n",
       "      <th>3</th>\n",
       "      <td>301</td>\n",
       "      <td>193</td>\n",
       "      <td>231</td>\n",
       "      <td>276</td>\n",
       "      <td>116</td>\n",
       "      <td>47</td>\n",
       "      <td>82</td>\n",
       "      <td>56</td>\n",
       "      <td>72</td>\n",
       "      <td>48</td>\n",
       "      <td>...</td>\n",
       "      <td>19</td>\n",
       "      <td>22</td>\n",
       "      <td>15</td>\n",
       "      <td>20</td>\n",
       "      <td>22</td>\n",
       "      <td>22</td>\n",
       "      <td>15</td>\n",
       "      <td>16</td>\n",
       "      <td>36</td>\n",
       "      <td>1.0</td>\n",
       "    </tr>\n",
       "    <tr>\n",
       "      <th>4</th>\n",
       "      <td>324</td>\n",
       "      <td>135</td>\n",
       "      <td>210</td>\n",
       "      <td>332</td>\n",
       "      <td>123</td>\n",
       "      <td>36</td>\n",
       "      <td>71</td>\n",
       "      <td>94</td>\n",
       "      <td>47</td>\n",
       "      <td>29</td>\n",
       "      <td>...</td>\n",
       "      <td>17</td>\n",
       "      <td>20</td>\n",
       "      <td>16</td>\n",
       "      <td>23</td>\n",
       "      <td>21</td>\n",
       "      <td>28</td>\n",
       "      <td>19</td>\n",
       "      <td>25</td>\n",
       "      <td>53</td>\n",
       "      <td>1.0</td>\n",
       "    </tr>\n",
       "  </tbody>\n",
       "</table>\n",
       "<p>5 rows × 85 columns</p>\n",
       "</div>"
      ],
      "text/plain": [
       "     A    C    G    T   AA  AC  AG  AT  CA   CC  ...  TCT  TGA  TGC  TGG  TGT  \\\n",
       "0  187  363  289  162   36  60  59  32  67  144  ...   12   11   16   17    5   \n",
       "1  257  220  225  299   73  49  64  70  71   62  ...   22   25   15   32   12   \n",
       "2  271  239  214  277   83  56  75  57  92   53  ...   28   24   27   14   16   \n",
       "3  301  193  231  276  116  47  82  56  72   48  ...   19   22   15   20   22   \n",
       "4  324  135  210  332  123  36  71  94  47   29  ...   17   20   16   23   21   \n",
       "\n",
       "   TTA  TTC  TTG  TTT  target  \n",
       "0    2   11    9    3     1.0  \n",
       "1   24   18   18   42     1.0  \n",
       "2   16   23   17   26     1.0  \n",
       "3   22   15   16   36     1.0  \n",
       "4   28   19   25   53     1.0  \n",
       "\n",
       "[5 rows x 85 columns]"
      ]
     },
     "execution_count": 47,
     "metadata": {},
     "output_type": "execute_result"
    }
   ],
   "source": [
    "df = pd.concat([train_X, compressed_y], axis=1)\n",
    "df.head()"
   ]
  },
  {
   "cell_type": "code",
   "execution_count": 60,
   "id": "dcd88b95",
   "metadata": {},
   "outputs": [
    {
     "name": "stdout",
     "output_type": "stream",
     "text": [
      "AGA       0.000762\n",
      "TC        0.002415\n",
      "AAC       0.019931\n",
      "CT        0.028428\n",
      "TG        0.031779\n",
      "            ...   \n",
      "TAG       0.283634\n",
      "CGA       0.284160\n",
      "TA        0.296298\n",
      "ATT       0.296375\n",
      "target    1.000000\n",
      "Name: target, Length: 85, dtype: float64\n"
     ]
    }
   ],
   "source": [
    "# compute Pearson Correlation\n",
    "# display coeff against y-value that is >0.7 (strongly correlated)\n",
    "cor = df.corr()\n",
    "cor_target = abs(cor[\"target\"])\n",
    "#Selecting highly correlated features\n",
    "sorted_cor = cor_target.sort_values(ascending=True)\n",
    "print(sorted_cor)"
   ]
  },
  {
   "cell_type": "code",
   "execution_count": 64,
   "id": "27babb26",
   "metadata": {},
   "outputs": [
    {
     "data": {
      "image/png": "[encoded data removed]",
      "text/plain": [
       "<Figure size 3000x2000 with 1 Axes>"
      ]
     },
     "metadata": {},
     "output_type": "display_data"
    }
   ],
   "source": [
    "plt.figure(figsize=(30,20))\n",
    "plt.barh(sorted_cor.index, sorted_cor)\n",
    "plt.show()"
   ]
  },
  {
   "cell_type": "code",
   "execution_count": 66,
   "id": "d4a7e8d1",
   "metadata": {},
   "outputs": [],
   "source": [
    "# check multicollinearity between the variables\n",
    "from statsmodels.stats.outliers_influence import variance_inflation_factor\n",
    "import statsmodels.api as sm\n",
    "import statsmodels.tools.tools as smt"
   ]
  },
  {
   "cell_type": "code",
   "execution_count": 68,
   "id": "c548e49f",
   "metadata": {},
   "outputs": [],
   "source": [
    "train_X_nac = train_X.iloc[:, 0:4]\n",
    "train_X_dac = train_X.iloc[:, 4:20]\n",
    "train_X_tac = train_X.iloc[:, 20:]"
   ]
  },
  {
   "cell_type": "code",
   "execution_count": 70,
   "id": "af2bb41a",
   "metadata": {},
   "outputs": [
    {
     "data": {
      "text/html": [
       "<div>\n",
       "<style scoped>\n",
       "    .dataframe tbody tr th:only-of-type {\n",
       "        vertical-align: middle;\n",
       "    }\n",
       "\n",
       "    .dataframe tbody tr th {\n",
       "        vertical-align: top;\n",
       "    }\n",
       "\n",
       "    .dataframe thead th {\n",
       "        text-align: right;\n",
       "    }\n",
       "</style>\n",
       "<table border=\"1\" class=\"dataframe\">\n",
       "  <thead>\n",
       "    <tr style=\"text-align: right;\">\n",
       "      <th></th>\n",
       "      <th>A</th>\n",
       "      <th>C</th>\n",
       "      <th>G</th>\n",
       "      <th>T</th>\n",
       "    </tr>\n",
       "  </thead>\n",
       "  <tbody>\n",
       "    <tr>\n",
       "      <th>0</th>\n",
       "      <td>187</td>\n",
       "      <td>363</td>\n",
       "      <td>289</td>\n",
       "      <td>162</td>\n",
       "    </tr>\n",
       "    <tr>\n",
       "      <th>1</th>\n",
       "      <td>257</td>\n",
       "      <td>220</td>\n",
       "      <td>225</td>\n",
       "      <td>299</td>\n",
       "    </tr>\n",
       "    <tr>\n",
       "      <th>2</th>\n",
       "      <td>271</td>\n",
       "      <td>239</td>\n",
       "      <td>214</td>\n",
       "      <td>277</td>\n",
       "    </tr>\n",
       "    <tr>\n",
       "      <th>3</th>\n",
       "      <td>301</td>\n",
       "      <td>193</td>\n",
       "      <td>231</td>\n",
       "      <td>276</td>\n",
       "    </tr>\n",
       "    <tr>\n",
       "      <th>4</th>\n",
       "      <td>324</td>\n",
       "      <td>135</td>\n",
       "      <td>210</td>\n",
       "      <td>332</td>\n",
       "    </tr>\n",
       "  </tbody>\n",
       "</table>\n",
       "</div>"
      ],
      "text/plain": [
       "     A    C    G    T\n",
       "0  187  363  289  162\n",
       "1  257  220  225  299\n",
       "2  271  239  214  277\n",
       "3  301  193  231  276\n",
       "4  324  135  210  332"
      ]
     },
     "execution_count": 70,
     "metadata": {},
     "output_type": "execute_result"
    }
   ],
   "source": [
    "train_X_nac.head()"
   ]
  },
  {
   "cell_type": "code",
   "execution_count": 84,
   "id": "0a954eaa",
   "metadata": {},
   "outputs": [
    {
     "name": "stdout",
     "output_type": "stream",
     "text": [
      "{'A': 0, 'B': 0, 'C': 0, 'D': 0}\n"
     ]
    }
   ],
   "source": [
    "sample = ['A', 'B', 'C', 'D']\n",
    "dict(zip(sample, [0]*len(sample)))"
   ]
  },
  {
   "cell_type": "code",
   "execution_count": 113,
   "id": "60ce663f",
   "metadata": {},
   "outputs": [],
   "source": [
    "def compute_vif(data):\n",
    "    data_c = smt.add_constant(data=data, prepend=False)\n",
    "    label = [label for idx, label in enumerate(data.columns.tolist())]\n",
    "    index = [idx for idx, label in enumerate(data.columns.tolist())]\n",
    "    vif = [variance_inflation_factor(exog=data_c.values, exog_idx=idx) for idx in index]\n",
    "    return dict(zip(label, vif))"
   ]
  },
  {
   "cell_type": "code",
   "execution_count": 72,
   "id": "d6bdac83",
   "metadata": {},
   "outputs": [
    {
     "name": "stdout",
     "output_type": "stream",
     "text": [
      "          A         C         G         T\n",
      "A  1.803035  0.417461 -0.502088 -1.163129\n",
      "C  0.417461  2.890279 -2.346516 -0.350487\n",
      "G -0.502088 -2.346516  2.927254  0.305210\n",
      "T -1.163129 -0.350487  0.305210  1.759613\n"
     ]
    },
    {
     "data": {
      "text/plain": [
       "<AxesSubplot:>"
      ]
     },
     "execution_count": 72,
     "metadata": {},
     "output_type": "execute_result"
    },
    {
     "data": {
      "image/png": "[encoded data removed]",
      "text/plain": [
       "<Figure size 640x480 with 2 Axes>"
      ]
     },
     "metadata": {},
     "output_type": "display_data"
    }
   ],
   "source": [
    "# display VIF along diagonal edge for variables extracted via NAC\n",
    "train_X_nac_cor = np.linalg.inv(a = train_X_nac.corr())\n",
    "train_X_nac_cor = pd.DataFrame(data=train_X_nac_cor, index=train_X_nac.columns, columns=train_X_nac.columns)\n",
    "print(train_X_nac_cor)\n",
    "sns.heatmap(data=train_X_nac_cor, cmap=\"Blues\", annot=True)"
   ]
  },
  {
   "cell_type": "markdown",
   "id": "68eedb0b",
   "metadata": {},
   "source": [
    "# Code below compute VIF for nacSeq-1 extracted dataset"
   ]
  },
  {
   "cell_type": "code",
   "execution_count": 90,
   "id": "f2cb87ea",
   "metadata": {},
   "outputs": [
    {
     "data": {
      "text/plain": [
       "[('G', 2.9272544758652645),\n",
       " ('C', 2.890279184083295),\n",
       " ('A', 1.803034827965035),\n",
       " ('T', 1.7596125636058704)]"
      ]
     },
     "execution_count": 90,
     "metadata": {},
     "output_type": "execute_result"
    }
   ],
   "source": [
    "# compute vif for NAC extracted dataset\n",
    "sorted(compute_vif(train_X_nac).items(), key=lambda x: x[1], reverse=True)"
   ]
  },
  {
   "cell_type": "markdown",
   "id": "c9c5fcf4",
   "metadata": {},
   "source": [
    "# Code below compute VIF for nacSeq-2 extracted dataset"
   ]
  },
  {
   "cell_type": "code",
   "execution_count": 89,
   "id": "95023504",
   "metadata": {},
   "outputs": [
    {
     "data": {
      "text/plain": [
       "[('GC', 2768.4757931310437),\n",
       " ('AT', 2080.320392049609),\n",
       " ('TA', 1952.741412274582),\n",
       " ('CG', 1836.1779066391641),\n",
       " ('CT', 1570.3979018328996),\n",
       " ('AG', 1506.1074159444697),\n",
       " ('TG', 1497.9287811621425),\n",
       " ('CA', 1322.1276221551218),\n",
       " ('GA', 1252.6740705859359),\n",
       " ('TC', 1086.4968395117796),\n",
       " ('GT', 807.2132204869149),\n",
       " ('AC', 755.5130946829966),\n",
       " ('CC', 6.044561697134879),\n",
       " ('GG', 5.500282075996531),\n",
       " ('TT', 4.006318570176775),\n",
       " ('AA', 3.790851985060124)]"
      ]
     },
     "execution_count": 89,
     "metadata": {},
     "output_type": "execute_result"
    }
   ],
   "source": [
    "# initial compute\n",
    "sorted(compute_vif(train_X_dac).items(), key=lambda x: x[1], reverse=True)"
   ]
  },
  {
   "cell_type": "code",
   "execution_count": 92,
   "id": "001ce4d6",
   "metadata": {},
   "outputs": [
    {
     "data": {
      "text/plain": [
       "[('AT', 2080.3007134368854),\n",
       " ('TA', 1952.7260112915205),\n",
       " ('CT', 1114.1148363616226),\n",
       " ('TG', 1092.404956452158),\n",
       " ('AG', 1091.716345290928),\n",
       " ('CA', 927.459353161711),\n",
       " ('GA', 908.9430171736708),\n",
       " ('TC', 771.1512359905089),\n",
       " ('GT', 589.236063534662),\n",
       " ('AC', 530.2560584272724),\n",
       " ('CC', 6.044289467392851),\n",
       " ('GG', 5.499484188989928),\n",
       " ('CG', 4.058551670615654),\n",
       " ('TT', 4.006315046259891),\n",
       " ('AA', 3.7908507342724387)]"
      ]
     },
     "execution_count": 92,
     "metadata": {},
     "output_type": "execute_result"
    }
   ],
   "source": [
    "# remove the variable with the highest VIF where (VIF>10)\n",
    "# then recompute VIF\n",
    "train_X_dac_m = train_X_dac.drop('GC', axis=1)\n",
    "sorted(compute_vif(train_X_dac_m).items(), key=lambda x: x[1], reverse=True)"
   ]
  },
  {
   "cell_type": "code",
   "execution_count": 94,
   "id": "41af9298",
   "metadata": {},
   "outputs": [
    {
     "data": {
      "text/plain": [
       "[('AG', 788.3935639215595),\n",
       " ('CT', 780.2514586153536),\n",
       " ('TG', 764.0549167920215),\n",
       " ('CA', 669.7390267378186),\n",
       " ('GA', 656.5099700363207),\n",
       " ('TC', 539.512729323011),\n",
       " ('GT', 413.1994223549517),\n",
       " ('AC', 383.6943154353542),\n",
       " ('CC', 6.04398129159519),\n",
       " ('GG', 5.4990565508773),\n",
       " ('TA', 5.113076102619986),\n",
       " ('CG', 4.058203552687065),\n",
       " ('TT', 4.0026758615061855),\n",
       " ('AA', 3.788454259187408)]"
      ]
     },
     "execution_count": 94,
     "metadata": {},
     "output_type": "execute_result"
    }
   ],
   "source": [
    "# remove the variable with the second highest VIF where (VIF>10)\n",
    "train_X_dac_m = train_X_dac.drop(['GC', 'AT'], axis=1)\n",
    "sorted(compute_vif(train_X_dac_m).items(), key=lambda x: x[1], reverse=True)"
   ]
  },
  {
   "cell_type": "code",
   "execution_count": 95,
   "id": "9c4aaefd",
   "metadata": {},
   "outputs": [
    {
     "data": {
      "text/plain": [
       "[('CT', 13.022228634227798),\n",
       " ('TC', 9.802309035608618),\n",
       " ('TG', 9.799325434744468),\n",
       " ('CA', 7.6287782693381),\n",
       " ('AC', 6.436745217133358),\n",
       " ('GT', 6.314946685285326),\n",
       " ('CC', 6.04310084746327),\n",
       " ('GG', 5.492738103214015),\n",
       " ('TA', 5.110947664776456),\n",
       " ('CG', 4.057191566256296),\n",
       " ('TT', 4.002674798691787),\n",
       " ('AA', 3.788280647516174),\n",
       " ('GA', 3.344959366182643)]"
      ]
     },
     "execution_count": 95,
     "metadata": {},
     "output_type": "execute_result"
    }
   ],
   "source": [
    "# remove the variable with the third highest VIF where (VIF>10)\n",
    "train_X_dac_m = train_X_dac.drop(['GC', 'AT', 'AG'], axis=1)\n",
    "sorted(compute_vif(train_X_dac_m).items(), key=lambda x: x[1], reverse=True)"
   ]
  },
  {
   "cell_type": "code",
   "execution_count": 96,
   "id": "3ce2b14b",
   "metadata": {},
   "outputs": [
    {
     "data": {
      "text/plain": [
       "[('TG', 6.061810260245846),\n",
       " ('CA', 5.462421189892294),\n",
       " ('CC', 5.4002226388085965),\n",
       " ('TA', 5.037926577912257),\n",
       " ('GG', 4.99497563014766),\n",
       " ('GT', 4.943237383822588),\n",
       " ('AC', 4.671806757452589),\n",
       " ('TT', 4.000600605949454),\n",
       " ('AA', 3.7796003238599876),\n",
       " ('CG', 3.559911386325036),\n",
       " ('GA', 3.1818651238742737),\n",
       " ('TC', 3.1135209324522903)]"
      ]
     },
     "execution_count": 96,
     "metadata": {},
     "output_type": "execute_result"
    }
   ],
   "source": [
    "# remove the variable with the forth highest VIF where (VIF>10)\n",
    "train_X_dac_m = train_X_dac.drop(['GC', 'AT', 'AG', 'CT'], axis=1)\n",
    "sorted(compute_vif(train_X_dac_m).items(), key=lambda x: x[1], reverse=True)"
   ]
  },
  {
   "cell_type": "markdown",
   "id": "63d0a0cf",
   "metadata": {},
   "source": [
    "# Code below compute VIF for nacSeq-3 extracted dataset"
   ]
  },
  {
   "cell_type": "code",
   "execution_count": 97,
   "id": "0a6bd028",
   "metadata": {},
   "outputs": [
    {
     "data": {
      "text/plain": [
       "[('GCG', 2682.7525937985242),\n",
       " ('CGC', 2602.841582858927),\n",
       " ('CGG', 2543.0502927897055),\n",
       " ('CCG', 2490.8756077202747),\n",
       " ('GCC', 2022.7382338428795),\n",
       " ('GGC', 1895.1933282647174),\n",
       " ('TAT', 1599.1261002777887),\n",
       " ('ATA', 1495.7205764120292),\n",
       " ('ATT', 1381.8545764460264),\n",
       " ('AAT', 1259.3948419440421),\n",
       " ('CCT', 1225.363259319403),\n",
       " ('TTA', 1157.8873577770491),\n",
       " ('CTG', 1130.724839977206),\n",
       " ('AGG', 1083.4626839767557),\n",
       " ('CTC', 1072.2569969707029),\n",
       " ('GAG', 1067.9585052062855),\n",
       " ('TGT', 1043.471376491604),\n",
       " ('TAA', 1024.9203068335687),\n",
       " ('AGA', 1011.8180919661438),\n",
       " ('CAG', 1006.0739595232916),\n",
       " ('TGG', 946.6237865625604),\n",
       " ('TCT', 944.1107792082817),\n",
       " ('TCC', 942.4006638792498),\n",
       " ('GGA', 918.3290085555423),\n",
       " ('CCA', 914.7931665880183),\n",
       " ('ACA', 876.8452600365888),\n",
       " ('GTG', 845.7940995925177),\n",
       " ('GAA', 787.3785491309642),\n",
       " ('CAC', 786.4586938591563),\n",
       " ('AGC', 742.0942045622015),\n",
       " ('TTC', 709.6418856830048),\n",
       " ('AAG', 708.6330207830097),\n",
       " ('GCT', 689.290807214309),\n",
       " ('CTT', 645.4823327193541),\n",
       " ('TTG', 625.0059454227863),\n",
       " ('TGC', 613.0871755994061),\n",
       " ('ACC', 598.4916653277727),\n",
       " ('ATG', 581.3359430291544),\n",
       " ('TGA', 566.857816330011),\n",
       " ('GCA', 551.7511291333952),\n",
       " ('GTT', 521.3680281523638),\n",
       " ('TCA', 518.0826210677625),\n",
       " ('AAC', 511.3629879787437),\n",
       " ('CAT', 499.16318201605344),\n",
       " ('ACT', 494.24717275072095),\n",
       " ('AGT', 489.33265219933344),\n",
       " ('GGT', 483.1188559585331),\n",
       " ('CAA', 470.75369907967706),\n",
       " ('CGA', 421.8408914474661),\n",
       " ('TCG', 408.93576911235795),\n",
       " ('ACG', 403.61020672971796),\n",
       " ('GAC', 399.3105167407584),\n",
       " ('GTA', 391.05000985303514),\n",
       " ('CGT', 390.47345685814486),\n",
       " ('TAC', 372.23254589648684),\n",
       " ('GAT', 372.14832754758),\n",
       " ('TAG', 361.82259250647024),\n",
       " ('ATC', 344.2074772735782),\n",
       " ('GTC', 330.8234401324333),\n",
       " ('CTA', 309.45844542326455),\n",
       " ('CCC', 5.0720262216702015),\n",
       " ('GGG', 4.7092937261045575),\n",
       " ('TTT', 3.8713933574834796),\n",
       " ('AAA', 3.4815278839621038)]"
      ]
     },
     "execution_count": 97,
     "metadata": {},
     "output_type": "execute_result"
    }
   ],
   "source": [
    "# initial compute\n",
    "sorted(compute_vif(train_X_tac).items(), key=lambda x: x[1], reverse=True)"
   ]
  },
  {
   "cell_type": "code",
   "execution_count": 99,
   "id": "d32d7fa5",
   "metadata": {},
   "outputs": [
    {
     "data": {
      "text/plain": [
       "[('GCC', 1756.692696254613),\n",
       " ('GGC', 1643.416216267971),\n",
       " ('TAT', 1599.125765650934),\n",
       " ('ATA', 1495.7201411421067),\n",
       " ('ATT', 1381.853671835479),\n",
       " ('AAT', 1259.3947640658946),\n",
       " ('CCT', 1225.3597594047608),\n",
       " ('TTA', 1157.8855638823602),\n",
       " ('CTG', 1130.7196485824593),\n",
       " ('AGG', 1083.4516774896688),\n",
       " ('CTC', 1072.2569111866962),\n",
       " ('GAG', 1067.958060435881),\n",
       " ('TGT', 1043.4694585557613),\n",
       " ('TAA', 1024.9202631556493),\n",
       " ('CGG', 1018.1633327418142),\n",
       " ('AGA', 1011.8176210563704),\n",
       " ('CCG', 1009.4215512556314),\n",
       " ('CAG', 1006.0733994181817),\n",
       " ('TGG', 946.6075100217652),\n",
       " ('TCT', 944.1107761955681),\n",
       " ('TCC', 942.3973290584137),\n",
       " ('GGA', 918.3241841647448),\n",
       " ('CCA', 914.7816620287246),\n",
       " ('ACA', 876.8391353449883),\n",
       " ('GTG', 845.7922144610937),\n",
       " ('GAA', 787.3701415037025),\n",
       " ('CAC', 786.4533012891625),\n",
       " ('TTC', 709.6382201926199),\n",
       " ('AAG', 708.6284363477122),\n",
       " ('CTT', 645.4782633000943),\n",
       " ('AGC', 638.0693225026591),\n",
       " ('TTG', 625.0059048725527),\n",
       " ('ACC', 598.4913546965234),\n",
       " ('GCT', 592.3745431440976),\n",
       " ('ATG', 581.3354951940014),\n",
       " ('TGA', 566.8559515109538),\n",
       " ('TGC', 525.8768000937818),\n",
       " ('GTT', 521.3666896084407),\n",
       " ('TCA', 518.0814202470331),\n",
       " ('AAC', 511.35360939731106),\n",
       " ('CAT', 499.16193058231283),\n",
       " ('ACT', 494.24672489709775),\n",
       " ('AGT', 489.3325770462468),\n",
       " ('GGT', 483.11642723179426),\n",
       " ('CAA', 470.75202096167885),\n",
       " ('GCA', 470.4348350865102),\n",
       " ('GAC', 399.3096519916247),\n",
       " ('GTA', 391.046776641404),\n",
       " ('TAC', 372.22522670214033),\n",
       " ('GAT', 372.14596356703856),\n",
       " ('TAG', 361.82001459005),\n",
       " ('ATC', 344.2039727861493),\n",
       " ('GTC', 330.82334869684183),\n",
       " ('CTA', 309.45390320273464),\n",
       " ('ACG', 177.3643224073815),\n",
       " ('TCG', 168.36793855651538),\n",
       " ('CGT', 162.90492565501455),\n",
       " ('CGA', 162.7818708073048),\n",
       " ('CGC', 10.418872069625033),\n",
       " ('CCC', 5.071938568364414),\n",
       " ('GGG', 4.709194103150818),\n",
       " ('TTT', 3.871391965939193),\n",
       " ('AAA', 3.481527215501259)]"
      ]
     },
     "execution_count": 99,
     "metadata": {},
     "output_type": "execute_result"
    }
   ],
   "source": [
    "# remove the variable with the highest VIF where (VIF>10)\n",
    "# then recompute VIF\n",
    "train_X_tac_m = train_X_tac.drop('GCG', axis=1)\n",
    "sorted(compute_vif(train_X_tac_m).items(), key=lambda x: x[1], reverse=True)"
   ]
  },
  {
   "cell_type": "code",
   "execution_count": 100,
   "id": "2abbfb7a",
   "metadata": {},
   "outputs": [
    {
     "data": {
      "text/plain": [
       "[('TAT', 1599.1250156961328),\n",
       " ('ATA', 1495.7196384694917),\n",
       " ('ATT', 1381.8520075767299),\n",
       " ('GGC', 1265.4261648601523),\n",
       " ('AAT', 1259.394185018545),\n",
       " ('TTA', 1157.8850466661506),\n",
       " ('CTG', 1130.7175313131859),\n",
       " ('AGG', 1083.449681563621),\n",
       " ('CTC', 1072.2565850154883),\n",
       " ('GAG', 1067.956105861985),\n",
       " ('TGT', 1043.4694413608233),\n",
       " ('TAA', 1024.920262588037),\n",
       " ('AGA', 1011.8157345683034),\n",
       " ('CAG', 1006.067574199471),\n",
       " ('TGG', 946.606553304905),\n",
       " ('TCT', 944.1105122161593),\n",
       " ('GGA', 918.3241219014099),\n",
       " ('CCT', 879.4488691571971),\n",
       " ('ACA', 876.8381534729346),\n",
       " ('GTG', 845.7921583772713),\n",
       " ('GAA', 787.3681426730996),\n",
       " ('CGG', 786.6728029536168),\n",
       " ('CAC', 786.4522271329249),\n",
       " ('TTC', 709.638220183283),\n",
       " ('AAG', 708.6221150212424),\n",
       " ('TCC', 703.9983116247514),\n",
       " ('CTT', 645.4781082276467),\n",
       " ('CCA', 640.3391580207798),\n",
       " ('TTG', 625.0057623870358),\n",
       " ('ATG', 581.3351740078085),\n",
       " ('TGA', 566.8551450765002),\n",
       " ('GTT', 521.3662822748082),\n",
       " ('TCA', 518.0810034921032),\n",
       " ('AAC', 511.3531168659408),\n",
       " ('CAT', 499.1619008552449),\n",
       " ('ACT', 494.24672487846595),\n",
       " ('AGT', 489.33022853102005),\n",
       " ('GGT', 483.11621892633013),\n",
       " ('AGC', 480.1796554431265),\n",
       " ('CAA', 470.7519160230843),\n",
       " ('ACC', 463.4791414726965),\n",
       " ('GCT', 444.0700709802649),\n",
       " ('GAC', 399.3080854841672),\n",
       " ('TGC', 391.13874243521),\n",
       " ('GTA', 391.0467640036834),\n",
       " ('TAC', 372.22478429951923),\n",
       " ('GAT', 372.1458652344376),\n",
       " ('TAG', 361.8179820463949),\n",
       " ('GCA', 345.76797856024046),\n",
       " ('ATC', 344.2035042106864),\n",
       " ('GTC', 330.8232047651342),\n",
       " ('CTA', 309.453786331297),\n",
       " ('ACG', 142.89603257575675),\n",
       " ('TCG', 131.75112021407162),\n",
       " ('CGT', 128.39422757080135),\n",
       " ('CGA', 123.6853036607788),\n",
       " ('CCG', 19.142894308516436),\n",
       " ('CGC', 10.415203346206424),\n",
       " ('CCC', 5.0716197338699365),\n",
       " ('GGG', 4.709180064231199),\n",
       " ('TTT', 3.8713769339104647),\n",
       " ('AAA', 3.481527044648831)]"
      ]
     },
     "execution_count": 100,
     "metadata": {},
     "output_type": "execute_result"
    }
   ],
   "source": [
    "# remove the variable with the second highest VIF where (VIF>10)\n",
    "# then recompute VIF\n",
    "train_X_tac_m = train_X_tac.drop(['GCG', 'GCC'], axis=1)\n",
    "sorted(compute_vif(train_X_tac_m).items(), key=lambda x: x[1], reverse=True)"
   ]
  },
  {
   "cell_type": "code",
   "execution_count": 101,
   "id": "6a1a8287",
   "metadata": {},
   "outputs": [
    {
     "data": {
      "text/plain": [
       "[('GGC', 1265.4261521966775),\n",
       " ('CTG', 1130.7171639326248),\n",
       " ('AGG', 1083.4481510404912),\n",
       " ('CTC', 1072.253627405354),\n",
       " ('GAG', 1067.9392739390175),\n",
       " ('TGT', 1043.469421548017),\n",
       " ('AGA', 1011.7979979858131),\n",
       " ('CAG', 1006.0472269969574),\n",
       " ('ATT', 978.474897684486),\n",
       " ('TGG', 946.6061079280987),\n",
       " ('TCT', 944.1074428396997),\n",
       " ('GGA', 918.2974889439454),\n",
       " ('AAT', 882.0051603881018),\n",
       " ('CCT', 879.4450588269449),\n",
       " ('ACA', 876.8284091078561),\n",
       " ('GTG', 845.7919054337689),\n",
       " ('TTA', 825.4429108199442),\n",
       " ('GAA', 787.3678294128415),\n",
       " ('CGG', 786.6726727261049),\n",
       " ('CAC', 786.4445556614432),\n",
       " ('TAA', 729.1899584780747),\n",
       " ('TTC', 709.6370371460702),\n",
       " ('AAG', 708.6115339255336),\n",
       " ('TCC', 703.9982966030994),\n",
       " ('CTT', 645.4780285537508),\n",
       " ('CCA', 640.3041043404371),\n",
       " ('TTG', 625.0057388765897),\n",
       " ('TGA', 566.8423006551099),\n",
       " ('GTT', 521.365905424237),\n",
       " ('TCA', 518.0624129007668),\n",
       " ('AAC', 511.3501812472883),\n",
       " ('ACT', 494.24639836432846),\n",
       " ('AGT', 489.329740458119),\n",
       " ('GGT', 483.1162041927051),\n",
       " ('AGC', 480.17824444143855),\n",
       " ('CAA', 470.7514527912554),\n",
       " ('ACC', 463.4759300741633),\n",
       " ('GCT', 444.0681291198554),\n",
       " ('ATG', 428.3073547524072),\n",
       " ('GAC', 399.3051411654456),\n",
       " ('TGC', 391.13818380297903),\n",
       " ('CAT', 359.9014946985481),\n",
       " ('GCA', 345.7510150143002),\n",
       " ('GTC', 330.8230375910733),\n",
       " ('GTA', 305.5194130586609),\n",
       " ('TAC', 298.14383609996503),\n",
       " ('GAT', 275.5714088591645),\n",
       " ('TAG', 271.1161672513254),\n",
       " ('ATC', 265.80083531472985),\n",
       " ('CTA', 231.779205068238),\n",
       " ('ACG', 142.89502757468475),\n",
       " ('TCG', 131.75112021398294),\n",
       " ('CGT', 128.39416679021082),\n",
       " ('CGA', 123.68065115255716),\n",
       " ('CCG', 19.142894294794885),\n",
       " ('CGC', 10.41509792680727),\n",
       " ('CCC', 5.07160655395518),\n",
       " ('GGG', 4.709180062682584),\n",
       " ('TTT', 3.871226977324688),\n",
       " ('ATA', 3.81549354567067),\n",
       " ('AAA', 3.481501883096571)]"
      ]
     },
     "execution_count": 101,
     "metadata": {},
     "output_type": "execute_result"
    }
   ],
   "source": [
    "# remove the variable with the third highest VIF where (VIF>10)\n",
    "# then recompute VIF\n",
    "train_X_tac_m = train_X_tac.drop(['GCG', 'GCC', 'TAT'], axis=1)\n",
    "sorted(compute_vif(train_X_tac_m).items(), key=lambda x: x[1], reverse=True)"
   ]
  },
  {
   "cell_type": "code",
   "execution_count": 102,
   "id": "30767f57",
   "metadata": {},
   "outputs": [
    {
     "data": {
      "text/plain": [
       "[('CTG', 1130.7095657895059),\n",
       " ('CTC', 1072.2535053671445),\n",
       " ('GAG', 1067.936441338435),\n",
       " ('TGT', 1043.4625965182888),\n",
       " ('AGA', 1011.7960039479665),\n",
       " ('CAG', 1006.0438974943097),\n",
       " ('ATT', 978.4714998246835),\n",
       " ('TCT', 944.1074087755158),\n",
       " ('AAT', 882.0036644440382),\n",
       " ('ACA', 876.8255725072714),\n",
       " ('GTG', 845.7859284543845),\n",
       " ('TTA', 825.439850679634),\n",
       " ('GAA', 787.3672811731112),\n",
       " ('CAC', 786.44197387817),\n",
       " ('CCT', 775.9686092198725),\n",
       " ('TAA', 729.1882631050805),\n",
       " ('TTC', 709.6361275966757),\n",
       " ('AAG', 708.6095129671961),\n",
       " ('AGG', 694.3082931599882),\n",
       " ('CTT', 645.4774800569157),\n",
       " ('TCC', 632.749785103651),\n",
       " ('TTG', 625.0045194471493),\n",
       " ('TGG', 596.7943289224432),\n",
       " ('GGA', 590.4693607595585),\n",
       " ('TGA', 566.8422560372196),\n",
       " ('CCA', 557.7058267701664),\n",
       " ('GTT', 521.3649853218138),\n",
       " ('TCA', 518.0609561907057),\n",
       " ('AAC', 511.348404786584),\n",
       " ('ACT', 494.2411974996289),\n",
       " ('AGT', 489.3242421420857),\n",
       " ('CAA', 470.75143980634135),\n",
       " ('ATG', 428.30730118758964),\n",
       " ('AGC', 422.56813787186053),\n",
       " ('ACC', 422.1709161249859),\n",
       " ('GAC', 399.30439038718833),\n",
       " ('GCT', 391.3697419704195),\n",
       " ('CAT', 359.9012762739572),\n",
       " ('TGC', 342.7501414638313),\n",
       " ('GGT', 331.2395597854352),\n",
       " ('GTC', 330.82297295034414),\n",
       " ('GTA', 305.5170382822888),\n",
       " ('GCA', 300.7153693407691),\n",
       " ('TAC', 298.14355814278537),\n",
       " ('GAT', 275.57135267285366),\n",
       " ('TAG', 271.1160449798172),\n",
       " ('ATC', 265.79927560739765),\n",
       " ('CTA', 231.77744265871357),\n",
       " ('ACG', 130.26886637127544),\n",
       " ('TCG', 118.65319341064968),\n",
       " ('CGT', 116.07078835817377),\n",
       " ('CGA', 109.45715587526293),\n",
       " ('CCG', 19.142449284013544),\n",
       " ('CGC', 10.414763246306169),\n",
       " ('CGG', 9.822494232141684),\n",
       " ('CCC', 5.071600223242436),\n",
       " ('GGG', 4.708462228060631),\n",
       " ('TTT', 3.87122646305627),\n",
       " ('ATA', 3.8154891331197534),\n",
       " ('AAA', 3.4814258737075123)]"
      ]
     },
     "execution_count": 102,
     "metadata": {},
     "output_type": "execute_result"
    }
   ],
   "source": [
    "# remove the variable with the forth highest VIF where (VIF>10)\n",
    "# then recompute VIF\n",
    "train_X_tac_m = train_X_tac.drop(['GCG', 'GCC', 'TAT', 'GGC'], axis=1)\n",
    "sorted(compute_vif(train_X_tac_m).items(), key=lambda x: x[1], reverse=True)"
   ]
  },
  {
   "cell_type": "code",
   "execution_count": 103,
   "id": "734ffeee",
   "metadata": {},
   "outputs": [
    {
     "data": {
      "text/plain": [
       "[('GAG', 1067.9364346743173),\n",
       " ('AGA', 1011.7960018800911),\n",
       " ('CAG', 1006.0414230403915),\n",
       " ('ATT', 978.4662723007873),\n",
       " ('AAT', 882.0036644240009),\n",
       " ('ACA', 876.825340449616),\n",
       " ('TGT', 834.1277205918238),\n",
       " ('CTC', 830.3446121879794),\n",
       " ('TTA', 825.4357789241251),\n",
       " ('GAA', 787.3616183693167),\n",
       " ('CAC', 786.4416831757517),\n",
       " ('TCT', 730.7850372744819),\n",
       " ('TAA', 729.1882628538982),\n",
       " ('TTC', 709.6358633634966),\n",
       " ('AAG', 708.6047959475028),\n",
       " ('AGG', 694.306896203791),\n",
       " ('GTG', 676.4438664268723),\n",
       " ('TCC', 632.7478513747122),\n",
       " ('GGA', 590.4676545474925),\n",
       " ('CCA', 557.7056291345187),\n",
       " ('GTT', 521.3625300513526),\n",
       " ('TCA', 518.0601241256157),\n",
       " ('AAC', 511.3482204821123),\n",
       " ('CCT', 493.0639593308501),\n",
       " ('AGT', 489.3208324080258),\n",
       " ('CAA', 470.7504502679071),\n",
       " ('CTT', 459.6489746519575),\n",
       " ('TTG', 458.09659157794636),\n",
       " ('TGA', 433.97183927921657),\n",
       " ('AGC', 422.56645869151976),\n",
       " ('ACC', 422.1707763683791),\n",
       " ('GAC', 399.3032555026083),\n",
       " ('ACT', 394.80218384701226),\n",
       " ('TGG', 393.99947534503525),\n",
       " ('CAT', 359.90047418485744),\n",
       " ('GGT', 331.2385423848955),\n",
       " ('GTC', 330.82098258601894),\n",
       " ('GTA', 305.51699397906384),\n",
       " ('GCA', 300.7153192102908),\n",
       " ('TAC', 298.14343489439),\n",
       " ('ATG', 297.58140244657005),\n",
       " ('GAT', 275.568946552894),\n",
       " ('TAG', 271.11412898188166),\n",
       " ('ATC', 265.79792359535105),\n",
       " ('GCT', 248.93989960397357),\n",
       " ('TGC', 226.42441651761516),\n",
       " ('CTA', 155.34107420244177),\n",
       " ('ACG', 130.26874946352947),\n",
       " ('TCG', 118.65314223114709),\n",
       " ('CGT', 116.07027941763444),\n",
       " ('CGA', 109.45710264708431),\n",
       " ('CCG', 19.14224550550951),\n",
       " ('CGC', 10.414677122485916),\n",
       " ('CGG', 9.822455253646266),\n",
       " ('CCC', 5.071518131752198),\n",
       " ('GGG', 4.708454462143439),\n",
       " ('TTT', 3.871184172576848),\n",
       " ('ATA', 3.8154289256443934),\n",
       " ('AAA', 3.481405559351983)]"
      ]
     },
     "execution_count": 103,
     "metadata": {},
     "output_type": "execute_result"
    }
   ],
   "source": [
    "# remove the variable with the forth highest VIF where (VIF>10)\n",
    "# then recompute VIF\n",
    "train_X_tac_m = train_X_tac.drop(['GCG', 'GCC', 'TAT', 'GGC', 'CTG'], axis=1)\n",
    "sorted(compute_vif(train_X_tac_m).items(), key=lambda x: x[1], reverse=True)"
   ]
  },
  {
   "cell_type": "code",
   "execution_count": 104,
   "id": "c4b1125a",
   "metadata": {},
   "outputs": [
    {
     "data": {
      "text/plain": [
       "[('ATT', 978.4635133479266),\n",
       " ('AAT', 882.0013537785167),\n",
       " ('ACA', 876.8181996157087),\n",
       " ('TGT', 834.1253771136005),\n",
       " ('CTC', 830.3446005322766),\n",
       " ('TTA', 825.4309267508598),\n",
       " ('CAC', 786.4354611094325),\n",
       " ('CAG', 735.5515252503957),\n",
       " ('TCT', 730.7850050508958),\n",
       " ('TAA', 729.1869647388755),\n",
       " ('TTC', 709.6326432426652),\n",
       " ('GTG', 676.4430319845169),\n",
       " ('TCC', 632.7455380164464),\n",
       " ('GAA', 562.8974569249564),\n",
       " ('CCA', 557.681514044804),\n",
       " ('GTT', 521.3622416732919),\n",
       " ('TCA', 518.0545552014875),\n",
       " ('AAC', 511.33857940375594),\n",
       " ('AAG', 503.62710651364296),\n",
       " ('CCT', 493.0614801283364),\n",
       " ('CAA', 470.74942442181697),\n",
       " ('CTT', 459.64636069322586),\n",
       " ('TTG', 458.0933043501651),\n",
       " ('AGG', 449.82310573614706),\n",
       " ('ACC', 422.1695423296073),\n",
       " ('ACT', 394.802182788696),\n",
       " ('TGG', 393.99780972283435),\n",
       " ('AGT', 384.37491782685134),\n",
       " ('GGA', 378.68704250754934),\n",
       " ('CAT', 359.9004502605081),\n",
       " ('GGT', 331.2347946187134),\n",
       " ('GTC', 330.82069586325014),\n",
       " ('GAC', 320.4128802013478),\n",
       " ('GTA', 305.51535801007606),\n",
       " ('GCA', 300.70320650194924),\n",
       " ('TAC', 298.1397530377118),\n",
       " ('ATG', 297.5722087992912),\n",
       " ('TGA', 287.508515919896),\n",
       " ('AGC', 274.167484662611),\n",
       " ('ATC', 265.7947555594877),\n",
       " ('GCT', 248.9378633701533),\n",
       " ('TGC', 226.42364108144662),\n",
       " ('GAT', 186.7174453363035),\n",
       " ('TAG', 183.18609500114732),\n",
       " ('CTA', 155.3373704352846),\n",
       " ('ACG', 130.26803019210243),\n",
       " ('TCG', 118.65270260617046),\n",
       " ('CGT', 116.06884529557968),\n",
       " ('CGA', 71.17599576709536),\n",
       " ('CCG', 19.14221463479713),\n",
       " ('CGC', 10.414627990221648),\n",
       " ('CGG', 9.822212938432724),\n",
       " ('CCC', 5.071515521229919),\n",
       " ('GGG', 4.7082763582749605),\n",
       " ('AGA', 4.144069366165614),\n",
       " ('TTT', 3.871183109818633),\n",
       " ('ATA', 3.8153861844887267),\n",
       " ('AAA', 3.4812260162136406)]"
      ]
     },
     "execution_count": 104,
     "metadata": {},
     "output_type": "execute_result"
    }
   ],
   "source": [
    "# remove the variable with the fifth highest VIF where (VIF>10)\n",
    "# then recompute VIF\n",
    "train_X_tac_m = train_X_tac.drop(['GCG', 'GCC', 'TAT', 'GGC', 'CTG', 'GAG'], axis=1)\n",
    "sorted(compute_vif(train_X_tac_m).items(), key=lambda x: x[1], reverse=True)"
   ]
  },
  {
   "cell_type": "code",
   "execution_count": 105,
   "id": "c9fb7fa5",
   "metadata": {},
   "outputs": [
    {
     "data": {
      "text/plain": [
       "[('ACA', 876.8155502393595),\n",
       " ('TGT', 834.1248544197018),\n",
       " ('CTC', 830.3434403966234),\n",
       " ('CAC', 786.433099185565),\n",
       " ('CAG', 735.5503232156121),\n",
       " ('AAT', 732.7463864904033),\n",
       " ('TCT', 730.7832612979685),\n",
       " ('GTG', 676.4423911487312),\n",
       " ('TCC', 632.7425516653228),\n",
       " ('TAA', 607.3273040829617),\n",
       " ('GAA', 562.8893444506393),\n",
       " ('CCA', 557.6630561729032),\n",
       " ('TTC', 553.7010306557671),\n",
       " ('TCA', 518.05125166895),\n",
       " ('AAC', 511.33227524247457),\n",
       " ('AAG', 503.62095259063557),\n",
       " ('CCT', 493.06120454941015),\n",
       " ('CAA', 470.7479257628744),\n",
       " ('AGG', 449.81037290239937),\n",
       " ('ACC', 422.1659396743838),\n",
       " ('GTT', 411.3680090031887),\n",
       " ('ACT', 394.800814504233),\n",
       " ('TGG', 393.997319406853),\n",
       " ('AGT', 384.3686855092493),\n",
       " ('GGA', 378.67599882523365),\n",
       " ('GGT', 331.234786820452),\n",
       " ('GTC', 330.8190790525658),\n",
       " ('GAC', 320.41269163430906),\n",
       " ('CAT', 304.5033299380167),\n",
       " ('GCA', 300.6936982431535),\n",
       " ('CTT', 298.46106199132873),\n",
       " ('TTG', 297.11768546214296),\n",
       " ('TGA', 287.50307013776643),\n",
       " ('AGC', 274.16021584753344),\n",
       " ('GTA', 269.5375192138846),\n",
       " ('TAC', 267.2728590611306),\n",
       " ('GCT', 248.9376940260786),\n",
       " ('ATG', 234.3934238407347),\n",
       " ('ATC', 233.5814172759391),\n",
       " ('TGC', 226.42356103995115),\n",
       " ('GAT', 148.11922522184938),\n",
       " ('TAG', 145.59215999314952),\n",
       " ('ACG', 130.26678174112692),\n",
       " ('CTA', 122.64018165721984),\n",
       " ('TCG', 118.65190074496084),\n",
       " ('CGT', 116.06884009736953),\n",
       " ('CGA', 71.17376880510905),\n",
       " ('CCG', 19.142212564437067),\n",
       " ('CGC', 10.41453159891973),\n",
       " ('CGG', 9.822201156946857),\n",
       " ('TTA', 7.693969689540737),\n",
       " ('CCC', 5.0713116483796625),\n",
       " ('GGG', 4.708149742603677),\n",
       " ('AGA', 4.1440679802545635),\n",
       " ('TTT', 3.868451090478633),\n",
       " ('ATA', 3.815368234268952),\n",
       " ('AAA', 3.4812063343480553)]"
      ]
     },
     "execution_count": 105,
     "metadata": {},
     "output_type": "execute_result"
    }
   ],
   "source": [
    "# remove the variable with the fifth highest VIF where (VIF>10)\n",
    "# then recompute VIF\n",
    "train_X_tac_m = train_X_tac.drop(['GCG', 'GCC', 'TAT', 'GGC', 'CTG', 'GAG', 'ATT'], axis=1)\n",
    "sorted(compute_vif(train_X_tac_m).items(), key=lambda x: x[1], reverse=True)"
   ]
  },
  {
   "cell_type": "code",
   "execution_count": 106,
   "id": "4de44fb3",
   "metadata": {},
   "outputs": [
    {
     "data": {
      "text/plain": [
       "[('TGT', 834.1229500459655),\n",
       " ('CTC', 830.3270026238823),\n",
       " ('AAT', 732.7335428832848),\n",
       " ('TCT', 730.7683135574442),\n",
       " ('GTG', 676.4402906806689),\n",
       " ('TCC', 632.7375271972234),\n",
       " ('TAA', 607.3157738288953),\n",
       " ('CAG', 569.4031999924421),\n",
       " ('GAA', 562.8851051620325),\n",
       " ('TTC', 553.691280989505),\n",
       " ('AAG', 503.6170972734495),\n",
       " ('CCT', 493.0571535371358),\n",
       " ('AGG', 449.8067761995564),\n",
       " ('TCA', 440.83786867670113),\n",
       " ('CCA', 420.8817826795413),\n",
       " ('GTT', 411.3671978130259),\n",
       " ('TGG', 393.9966897535345),\n",
       " ('AGT', 384.3666339188254),\n",
       " ('CAA', 380.5853685259671),\n",
       " ('GGA', 378.672104301459),\n",
       " ('GGT', 331.2347489040359),\n",
       " ('GTC', 330.81749709652985),\n",
       " ('CTT', 298.46105009570283),\n",
       " ('TTG', 297.1176016936179),\n",
       " ('AAC', 289.49200616882945),\n",
       " ('TGA', 287.50232888544565),\n",
       " ('AGC', 274.1582023816374),\n",
       " ('GTA', 269.53673253527353),\n",
       " ('GCT', 248.9360413820161),\n",
       " ('ATG', 234.3934188624397),\n",
       " ('ATC', 233.57771651520446),\n",
       " ('GCA', 227.2088841331114),\n",
       " ('TGC', 226.42253713739044),\n",
       " ('CAT', 224.70184801725404),\n",
       " ('ACC', 210.32889186816794),\n",
       " ('ACT', 203.88092656376804),\n",
       " ('GAC', 166.4122657768168),\n",
       " ('GAT', 148.1189320982878),\n",
       " ('TAG', 145.59183011492286),\n",
       " ('TAC', 126.55841970627228),\n",
       " ('CTA', 122.64018096583612),\n",
       " ('TCG', 118.65047448454321),\n",
       " ('CGT', 116.0688355147528),\n",
       " ('CGA', 71.17268960543126),\n",
       " ('ACG', 66.23993946669503),\n",
       " ('CCG', 19.142166180823615),\n",
       " ('CGC', 10.414443282533885),\n",
       " ('CGG', 9.821884201865087),\n",
       " ('TTA', 7.693794090532709),\n",
       " ('CCC', 5.071207487768011),\n",
       " ('GGG', 4.708141407630928),\n",
       " ('AGA', 4.1440356354207495),\n",
       " ('TTT', 3.8683652157762323),\n",
       " ('ATA', 3.8153682333455485),\n",
       " ('AAA', 3.481203373342473),\n",
       " ('CAC', 2.604932107980847)]"
      ]
     },
     "execution_count": 106,
     "metadata": {},
     "output_type": "execute_result"
    }
   ],
   "source": [
    "# remove the variable with the sixth highest VIF where (VIF>10)\n",
    "# then recompute VIF\n",
    "train_X_tac_m = train_X_tac.drop(['GCG', 'GCC', 'TAT', 'GGC', 'CTG', 'GAG', 'ATT', 'ACA'], axis=1)\n",
    "sorted(compute_vif(train_X_tac_m).items(), key=lambda x: x[1], reverse=True)"
   ]
  },
  {
   "cell_type": "code",
   "execution_count": 107,
   "id": "ffa8b471",
   "metadata": {},
   "outputs": [
    {
     "data": {
      "text/plain": [
       "[('CTC', 768.6212461828826),\n",
       " ('AAT', 732.7313913773925),\n",
       " ('TCT', 676.1996629969747),\n",
       " ('TCC', 632.7371540417553),\n",
       " ('TAA', 607.3150004747929),\n",
       " ('CAG', 569.4030691260341),\n",
       " ('GAA', 562.8849813793456),\n",
       " ('TTC', 553.689217052043),\n",
       " ('AAG', 503.61698448797733),\n",
       " ('AGG', 449.8059099719873),\n",
       " ('TCA', 440.83770659576516),\n",
       " ('CCT', 421.82619657834806),\n",
       " ('CCA', 420.8800023158832),\n",
       " ('CAA', 380.5853504073041),\n",
       " ('GGA', 378.67090332223495),\n",
       " ('TGG', 336.6858636231966),\n",
       " ('AAC', 289.4920027297022),\n",
       " ('AGC', 274.15724094865624),\n",
       " ('CTT', 250.5691368054345),\n",
       " ('TGA', 249.79382623847505),\n",
       " ('TTG', 248.72534495993375),\n",
       " ('ATC', 233.57685463992857),\n",
       " ('GCA', 227.20782508462284),\n",
       " ('CAT', 224.70122016123764),\n",
       " ('GCT', 213.10437736935654),\n",
       " ('ACC', 210.3280916156863),\n",
       " ('GTC', 207.35410133521933),\n",
       " ('ATG', 196.19528884226793),\n",
       " ('TGC', 193.6819366737917),\n",
       " ('AGT', 182.757382558994),\n",
       " ('ACT', 178.59045294228346),\n",
       " ('GTT', 171.69452325482283),\n",
       " ('GAC', 166.41222818795396),\n",
       " ('GAT', 148.11759422413772),\n",
       " ('GGT', 146.8901690025373),\n",
       " ('TAG', 145.59141428830912),\n",
       " ('TAC', 126.55823888791306),\n",
       " ('TCG', 118.65045586324946),\n",
       " ('GTA', 112.67715407954248),\n",
       " ('CTA', 103.11439767039404),\n",
       " ('CGA', 71.17238903311915),\n",
       " ('ACG', 66.23957325594644),\n",
       " ('CGT', 52.90153478721358),\n",
       " ('CCG', 19.142102813473098),\n",
       " ('CGC', 10.41442789891371),\n",
       " ('CGG', 9.821783910540695),\n",
       " ('TTA', 7.693772873473593),\n",
       " ('CCC', 5.071197151999699),\n",
       " ('GGG', 4.708053525730871),\n",
       " ('AGA', 4.144034005790494),\n",
       " ('TTT', 3.8682360455870004),\n",
       " ('ATA', 3.815320359151068),\n",
       " ('AAA', 3.4812033464573777),\n",
       " ('GTG', 2.6126592600444942),\n",
       " ('CAC', 2.604925316574833)]"
      ]
     },
     "execution_count": 107,
     "metadata": {},
     "output_type": "execute_result"
    }
   ],
   "source": [
    "# remove the variable with the seventh highest VIF where (VIF>10)\n",
    "# then recompute VIF\n",
    "train_X_tac_m = train_X_tac.drop(['GCG', 'GCC', 'TAT', 'GGC', 'CTG', 'GAG', 'ATT', 'ACA', 'TGT'], axis=1)\n",
    "sorted(compute_vif(train_X_tac_m).items(), key=lambda x: x[1], reverse=True)"
   ]
  },
  {
   "cell_type": "code",
   "execution_count": 108,
   "id": "beacb31a",
   "metadata": {},
   "outputs": [
    {
     "data": {
      "text/plain": [
       "[('AAT', 732.7291045661334),\n",
       " ('TAA', 607.3132431269448),\n",
       " ('CAG', 569.4023191912303),\n",
       " ('GAA', 562.884173408436),\n",
       " ('AAG', 503.6158566004978),\n",
       " ('AGG', 449.80590625049166),\n",
       " ('CCA', 420.87947893537563),\n",
       " ('CAA', 380.58346056431515),\n",
       " ('GGA', 378.6708846291029),\n",
       " ('CCT', 378.3566041556759),\n",
       " ('TGG', 302.7230412936641),\n",
       " ('AAC', 289.4911450416959),\n",
       " ('AGC', 274.15723662856556),\n",
       " ('TCC', 262.62989815183624),\n",
       " ('TGA', 227.6123555728518),\n",
       " ('GCA', 227.2073928631292),\n",
       " ('CAT', 224.70121364789338),\n",
       " ('CTT', 221.7302771279889),\n",
       " ('TTG', 220.73496909192306),\n",
       " ('TTC', 214.23125851960216),\n",
       " ('ACC', 210.3278305832376),\n",
       " ('TCA', 204.72660903929005),\n",
       " ('GCT', 191.31510032804235),\n",
       " ('TGC', 174.15017995305362),\n",
       " ('ATG', 174.1196891448493),\n",
       " ('AGT', 166.76986551554657),\n",
       " ('GAC', 166.41207096168208),\n",
       " ('ACT', 163.24694566474344),\n",
       " ('GTT', 152.53168146128286),\n",
       " ('GAT', 148.11751856862372),\n",
       " ('TAG', 145.59122644436002),\n",
       " ('GGT', 132.35910490702653),\n",
       " ('TAC', 126.55822684346272),\n",
       " ('GTA', 100.13887612252435),\n",
       " ('CTA', 91.36628988233436),\n",
       " ('ATC', 90.79766702697033),\n",
       " ('CGA', 71.17236956095088),\n",
       " ('ACG', 66.23955473459023),\n",
       " ('TCG', 51.12097411821403),\n",
       " ('CGT', 47.92474422298836),\n",
       " ('CCG', 19.142100696919893),\n",
       " ('CGC', 10.414273269634835),\n",
       " ('CGG', 9.821780241622312),\n",
       " ('TTA', 7.693768950499361),\n",
       " ('CCC', 5.071141400466585),\n",
       " ('GGG', 4.708028792727414),\n",
       " ('AGA', 4.144024459095551),\n",
       " ('TTT', 3.8681067530780684),\n",
       " ('ATA', 3.815319422908737),\n",
       " ('TCT', 3.7896940726619475),\n",
       " ('GTC', 3.5838809972122645),\n",
       " ('AAA', 3.48119671002015),\n",
       " ('GTG', 2.61260733221886),\n",
       " ('CAC', 2.6048912082656286)]"
      ]
     },
     "execution_count": 108,
     "metadata": {},
     "output_type": "execute_result"
    }
   ],
   "source": [
    "# remove the variable with the eighth highest VIF where (VIF>10)\n",
    "# then recompute VIF\n",
    "train_X_tac_m = train_X_tac.drop(['GCG', 'GCC', 'TAT', 'GGC', 'CTG', 'GAG', 'ATT', 'ACA', 'TGT', 'CTC'], axis=1)\n",
    "sorted(compute_vif(train_X_tac_m).items(), key=lambda x: x[1], reverse=True)"
   ]
  },
  {
   "cell_type": "code",
   "execution_count": 109,
   "id": "d0923c05",
   "metadata": {},
   "outputs": [
    {
     "name": "stdout",
     "output_type": "stream",
     "text": [
      "CPU times: user 24.4 ms, sys: 11.9 ms, total: 36.3 ms\n",
      "Wall time: 35.2 ms\n",
      "CPU times: user 2min 52s, sys: 26 s, total: 3min 18s\n",
      "Wall time: 54.8 s\n"
     ]
    },
    {
     "data": {
      "text/plain": [
       "[('CAG', 569.4022603884182),\n",
       " ('AGG', 449.79851153437414),\n",
       " ('CCA', 420.87330224343293),\n",
       " ('GGA', 378.6648542606362),\n",
       " ('CCT', 378.35554692111816),\n",
       " ('GAA', 333.134715468458),\n",
       " ('TGG', 302.7223903115764),\n",
       " ('AAG', 298.3749049235719),\n",
       " ('AGC', 274.1535494397126),\n",
       " ('TCC', 262.62894674490997),\n",
       " ('CAA', 230.8533232584945),\n",
       " ('TGA', 227.6055893028871),\n",
       " ('GCA', 227.20330069625763),\n",
       " ('ACC', 210.32415131823677),\n",
       " ('TCA', 204.71847007266166),\n",
       " ('CAT', 200.6704271224706),\n",
       " ('GCT', 191.31463975286786),\n",
       " ('CTT', 188.98512150838275),\n",
       " ('TTG', 188.02224166626618),\n",
       " ('TTC', 182.70071472976383),\n",
       " ('AAC', 176.20181544411892),\n",
       " ('TGC', 174.14952401108434),\n",
       " ('AGT', 166.76594536321034),\n",
       " ('GAC', 166.4119758594995),\n",
       " ('ACT', 163.24181714537167),\n",
       " ('ATG', 147.93842970581724),\n",
       " ('GGT', 132.35886447725926),\n",
       " ('GAT', 131.52722690819536),\n",
       " ('GTT', 130.1038923869243),\n",
       " ('TAG', 129.47483309350142),\n",
       " ('TAC', 113.33380009250921),\n",
       " ('GTA', 85.50886350458862),\n",
       " ('CTA', 78.03519922905735),\n",
       " ('ATC', 77.35117623547492),\n",
       " ('CGA', 71.17164641696817),\n",
       " ('ACG', 66.23861111925257),\n",
       " ('TCG', 51.120860720497554),\n",
       " ('CGT', 47.92470271652121),\n",
       " ('CCG', 19.142098943213245),\n",
       " ('CGC', 10.414256981699104),\n",
       " ('CGG', 9.821659672388343),\n",
       " ('TAA', 9.189347719699269),\n",
       " ('TTA', 7.693011109740105),\n",
       " ('CCC', 5.071109969632495),\n",
       " ('GGG', 4.707950892608422),\n",
       " ('AGA', 4.143994466465124),\n",
       " ('TTT', 3.867482678903326),\n",
       " ('ATA', 3.810942779672162),\n",
       " ('TCT', 3.7896809960429025),\n",
       " ('GTC', 3.5838643563177444),\n",
       " ('AAA', 3.4785849392349255),\n",
       " ('GTG', 2.612602572156309),\n",
       " ('CAC', 2.604885582644439)]"
      ]
     },
     "execution_count": 109,
     "metadata": {},
     "output_type": "execute_result"
    }
   ],
   "source": [
    "# remove the variable with the nineth highest VIF where (VIF>10)\n",
    "# then recompute VIF\n",
    "%time train_X_tac_m = train_X_tac.drop(['GCG', 'GCC', 'TAT', 'GGC', 'CTG', 'GAG', 'ATT', 'ACA', 'TGT', 'CTC', 'AAT'], axis=1)\n",
    "%time sorted(compute_vif(train_X_tac_m).items(), key=lambda x: x[1], reverse=True)"
   ]
  },
  {
   "cell_type": "code",
   "execution_count": 110,
   "id": "138e3033",
   "metadata": {},
   "outputs": [
    {
     "name": "stdout",
     "output_type": "stream",
     "text": [
      "CPU times: user 23.2 ms, sys: 10.2 ms, total: 33.4 ms\n",
      "Wall time: 33 ms\n",
      "CPU times: user 2min 44s, sys: 25 s, total: 3min 9s\n",
      "Wall time: 52 s\n"
     ]
    },
    {
     "data": {
      "text/plain": [
       "[('CCT', 378.3530526919877),\n",
       " ('AGG', 332.3379426021748),\n",
       " ('TGG', 302.7217659835974),\n",
       " ('CCA', 294.7376972420699),\n",
       " ('GGA', 280.9549310065158),\n",
       " ('TCC', 262.62780100688656),\n",
       " ('GAA', 226.156923380561),\n",
       " ('AGC', 202.41850276314779),\n",
       " ('AAG', 201.46081711981043),\n",
       " ('GCT', 191.3138323783538),\n",
       " ('CTT', 188.98510545713413),\n",
       " ('TTG', 188.02207732386327),\n",
       " ('TTC', 182.70068597508669),\n",
       " ('TGC', 174.14912134042146),\n",
       " ('TGA', 159.3790065831274),\n",
       " ('GCA', 159.22716068273286),\n",
       " ('ACC', 148.28519046060364),\n",
       " ('ATG', 147.93842903466253),\n",
       " ('CAA', 147.04171876075438),\n",
       " ('TCA', 134.89088484786342),\n",
       " ('GGT', 132.35856748517034),\n",
       " ('GTT', 130.10378577163323),\n",
       " ('CAT', 127.51150885303574),\n",
       " ('AGT', 116.47082927129038),\n",
       " ('AAC', 112.66409461144578),\n",
       " ('ACT', 108.16346073240102),\n",
       " ('GAT', 89.39303209568334),\n",
       " ('TAG', 87.72946314290498),\n",
       " ('GTA', 85.50883225418033),\n",
       " ('CTA', 78.03519416861086),\n",
       " ('ATC', 77.35116242292072),\n",
       " ('TAC', 72.72887908255181),\n",
       " ('CGA', 53.46893733292746),\n",
       " ('TCG', 51.120826582879694),\n",
       " ('CGT', 47.92464236987952),\n",
       " ('ACG', 47.63150300235045),\n",
       " ('CCG', 19.14160911567056),\n",
       " ('CGC', 10.413554592776133),\n",
       " ('CGG', 9.821568005574868),\n",
       " ('TAA', 9.189346675733022),\n",
       " ('TTA', 7.693010647241855),\n",
       " ('CCC', 5.0710538188981396),\n",
       " ('GGG', 4.707938375126156),\n",
       " ('GAC', 4.1540037576618465),\n",
       " ('AGA', 4.139422408301231),\n",
       " ('TTT', 3.8674542655199184),\n",
       " ('ATA', 3.810903484331265),\n",
       " ('TCT', 3.7896742268442547),\n",
       " ('GTC', 3.5838604698169245),\n",
       " ('AAA', 3.47846997768096),\n",
       " ('GTG', 2.612596192173468),\n",
       " ('CAC', 2.6048327190498743)]"
      ]
     },
     "execution_count": 110,
     "metadata": {},
     "output_type": "execute_result"
    }
   ],
   "source": [
    "# remove the variable with the tenth highest VIF where (VIF>10)\n",
    "# then recompute VIF\n",
    "%time train_X_tac_m = train_X_tac.drop(['GCG', 'GCC', 'TAT', 'GGC', 'CTG', 'GAG', 'ATT', 'ACA', 'TGT', 'CTC', 'AAT', 'CAG'], axis=1)\n",
    "%time sorted(compute_vif(train_X_tac_m).items(), key=lambda x: x[1], reverse=True)"
   ]
  },
  {
   "cell_type": "code",
   "execution_count": 114,
   "id": "8520eb86",
   "metadata": {},
   "outputs": [
    {
     "name": "stdout",
     "output_type": "stream",
     "text": [
      "CPU times: user 22.9 ms, sys: 885 µs, total: 23.8 ms\n",
      "Wall time: 23.4 ms\n",
      "CPU times: user 2min 38s, sys: 25 s, total: 3min 3s\n",
      "Wall time: 50.5 s\n"
     ]
    },
    {
     "data": {
      "text/plain": [
       "[('GAA', 226.11538485483763),\n",
       " ('AGG', 218.30391929165444),\n",
       " ('AAG', 201.42688276879454),\n",
       " ('CCA', 191.96256082200765),\n",
       " ('GGA', 185.3725737495825),\n",
       " ('CTT', 150.06233515526102),\n",
       " ('TTG', 149.80087520858862),\n",
       " ('CAA', 147.01180029599738),\n",
       " ('TTC', 145.52228365560748),\n",
       " ('AGC', 132.4405257764351),\n",
       " ('CAT', 127.48768986344143),\n",
       " ('TGA', 127.4092671271706),\n",
       " ('ATG', 117.75573090564635),\n",
       " ('AAC', 112.64773588555906),\n",
       " ('TCA', 107.61625883796641),\n",
       " ('GCA', 104.63983296539466),\n",
       " ('GTT', 104.09353684428004),\n",
       " ('ACC', 96.6478244360811),\n",
       " ('AGT', 93.35112107176484),\n",
       " ('GAT', 89.37961621184179),\n",
       " ('TAG', 87.71840678907314),\n",
       " ('ACT', 86.56703422804884),\n",
       " ('TAC', 72.71782358397648),\n",
       " ('GTA', 68.47077492606766),\n",
       " ('CTA', 62.167419560692196),\n",
       " ('ATC', 61.631434631052066),\n",
       " ('CGA', 36.19096765131223),\n",
       " ('ACG', 32.52627995812613),\n",
       " ('CCG', 19.13022973548306),\n",
       " ('CGC', 10.410698325083764),\n",
       " ('CGG', 9.821077023041664),\n",
       " ('TGG', 9.362282152121411),\n",
       " ('TAA', 9.189068349627442),\n",
       " ('TTA', 7.692989575734402),\n",
       " ('GGT', 6.653869825337151),\n",
       " ('GCT', 6.333467999828208),\n",
       " ('CCC', 5.064912657574512),\n",
       " ('TCG', 4.87143286573029),\n",
       " ('TGC', 4.775634189870212),\n",
       " ('GGG', 4.7078796197955475),\n",
       " ('TCC', 4.6696379412205955),\n",
       " ('CGT', 4.602923693598784),\n",
       " ('GAC', 4.153908878303284),\n",
       " ('AGA', 4.139380170833275),\n",
       " ('TTT', 3.8674242041064164),\n",
       " ('ATA', 3.8108950232414394),\n",
       " ('TCT', 3.7894103273289184),\n",
       " ('GTC', 3.5831730607217835),\n",
       " ('AAA', 3.478384980057152),\n",
       " ('GTG', 2.612577209868035),\n",
       " ('CAC', 2.604814482080695)]"
      ]
     },
     "execution_count": 114,
     "metadata": {},
     "output_type": "execute_result"
    }
   ],
   "source": [
    "# remove the variable with the eleventh highest VIF where (VIF>10)\n",
    "# then recompute VIF\n",
    "%time train_X_tac_m = train_X_tac.drop(['GCG', 'GCC', 'TAT', 'GGC', 'CTG', 'GAG', 'ATT', 'ACA', 'TGT', 'CTC', 'AAT', 'CAG', 'CCT'], axis=1)\n",
    "%time sorted(compute_vif(train_X_tac_m).items(), key=lambda x: x[1], reverse=True)"
   ]
  },
  {
   "cell_type": "code",
   "execution_count": 115,
   "id": "bc07911b",
   "metadata": {},
   "outputs": [
    {
     "name": "stdout",
     "output_type": "stream",
     "text": [
      "CPU times: user 24.8 ms, sys: 10.3 ms, total: 35.1 ms\n",
      "Wall time: 49.6 ms\n",
      "CPU times: user 2min 29s, sys: 23.7 s, total: 2min 52s\n",
      "Wall time: 47.3 s\n"
     ]
    },
    {
     "data": {
      "text/plain": [
       "[('AGG', 151.80399302072058),\n",
       " ('CCA', 135.00400533945844),\n",
       " ('GGA', 128.1576932323221),\n",
       " ('CTT', 112.40562328297634),\n",
       " ('TTG', 112.19525985631056),\n",
       " ('TTC', 108.95173211415728),\n",
       " ('AGC', 92.65858978374938),\n",
       " ('TGA', 87.602896786202),\n",
       " ('ATG', 87.44568553847088),\n",
       " ('GTT', 78.44025257341889),\n",
       " ('TCA', 75.92948418107798),\n",
       " ('GCA', 73.8496680834224),\n",
       " ('ACC', 68.66640856207941),\n",
       " ('AGT', 65.3737311300418),\n",
       " ('ACT', 61.48083452567925),\n",
       " ('GTA', 51.668016804363994),\n",
       " ('CTA', 46.741295897129326),\n",
       " ('ATC', 46.202201955575426),\n",
       " ('CGA', 26.04775489888045),\n",
       " ('ACG', 24.098766876286103),\n",
       " ('CCG', 19.12979327579545),\n",
       " ('CGC', 10.410606781559252),\n",
       " ('CGG', 9.819686715666482),\n",
       " ('TGG', 9.361509174219266),\n",
       " ('TAA', 9.170658433020739),\n",
       " ('CAT', 7.768304834944017),\n",
       " ('TTA', 7.691906311039488),\n",
       " ('CAA', 7.667880794181494),\n",
       " ('GGT', 6.653864553113234),\n",
       " ('TAC', 6.539633626794091),\n",
       " ('GCT', 6.333446779765719),\n",
       " ('AAC', 6.205004123316819),\n",
       " ('TAG', 5.806371183113452),\n",
       " ('AAG', 5.583119205971875),\n",
       " ('CCC', 5.064826725846217),\n",
       " ('TCG', 4.871405012660463),\n",
       " ('TGC', 4.775615214171088),\n",
       " ('GGG', 4.707723736502472),\n",
       " ('TCC', 4.669514724438831),\n",
       " ('CGT', 4.602905874637114),\n",
       " ('GAC', 4.137434989578461),\n",
       " ('AGA', 4.114483707685565),\n",
       " ('GAT', 3.8779529753774704),\n",
       " ('TTT', 3.8672919514683275),\n",
       " ('ATA', 3.8081859868540957),\n",
       " ('TCT', 3.789242530249369),\n",
       " ('GTC', 3.5830250472463354),\n",
       " ('AAA', 3.4713155290837037),\n",
       " ('GTG', 2.6122352814938985),\n",
       " ('CAC', 2.604532895816486)]"
      ]
     },
     "execution_count": 115,
     "metadata": {},
     "output_type": "execute_result"
    }
   ],
   "source": [
    "# remove the variable with the twelveth highest VIF where (VIF>10)\n",
    "# then recompute VIF\n",
    "%time train_X_tac_m = train_X_tac.drop(['GCG', 'GCC', 'TAT', 'GGC', 'CTG', 'GAG', 'ATT', 'ACA', 'TGT', 'CTC', 'AAT', 'CAG', 'CCT', 'GAA'], axis=1)\n",
    "%time sorted(compute_vif(train_X_tac_m).items(), key=lambda x: x[1], reverse=True)"
   ]
  },
  {
   "cell_type": "code",
   "execution_count": 116,
   "id": "a4b01871",
   "metadata": {},
   "outputs": [
    {
     "name": "stdout",
     "output_type": "stream",
     "text": [
      "CPU times: user 22.8 ms, sys: 10.5 ms, total: 33.3 ms\n",
      "Wall time: 33 ms\n",
      "CPU times: user 2min 22s, sys: 22.9 s, total: 2min 45s\n",
      "Wall time: 45 s\n"
     ]
    },
    {
     "data": {
      "text/plain": [
       "[('CCG', 19.118333216572562),\n",
       " ('TTG', 15.625193961079788),\n",
       " ('CTT', 15.601280408658148),\n",
       " ('TTC', 14.98674851916158),\n",
       " ('GTT', 12.96294016956126),\n",
       " ('ATG', 10.523439001901846),\n",
       " ('CGC', 10.40912967171389),\n",
       " ('CGG', 9.814377656183876),\n",
       " ('CCA', 9.571824231121502),\n",
       " ('TGG', 9.240157423550771),\n",
       " ('TAA', 9.163569593573312),\n",
       " ('GTA', 8.698885522196544),\n",
       " ('TGA', 8.503607423959057),\n",
       " ('ACC', 7.730536876689257),\n",
       " ('CAT', 7.7285977123034035),\n",
       " ('AGT', 7.721783619590024),\n",
       " ('TTA', 7.691591916126412),\n",
       " ('ACT', 7.6666922625807015),\n",
       " ('CAA', 7.644051686109565),\n",
       " ('TCA', 7.623682098475676),\n",
       " ('CTA', 7.102113408188731),\n",
       " ('ATC', 6.603738048104883),\n",
       " ('GGT', 6.542513990027732),\n",
       " ('TAC', 6.516621572669707),\n",
       " ('AGC', 6.511341848342161),\n",
       " ('GCT', 6.267717473792935),\n",
       " ('AAC', 6.199815606540495),\n",
       " ('TAG', 5.7735921103248256),\n",
       " ('AAG', 5.563638570729964),\n",
       " ('CCC', 5.057281989833824),\n",
       " ('ACG', 4.965410737651959),\n",
       " ('TCG', 4.860278908440786),\n",
       " ('TGC', 4.752181141517758),\n",
       " ('GGG', 4.694408826302625),\n",
       " ('GCA', 4.686899107968362),\n",
       " ('TCC', 4.668045943380286),\n",
       " ('CGT', 4.59327837333834),\n",
       " ('GGA', 4.480338368918958),\n",
       " ('CGA', 4.464567934445858),\n",
       " ('GAC', 4.1363469939423325),\n",
       " ('AGA', 4.111597561103977),\n",
       " ('TTT', 3.866415011976149),\n",
       " ('GAT', 3.8642065425819108),\n",
       " ('ATA', 3.807111151080976),\n",
       " ('TCT', 3.787456265690445),\n",
       " ('GTC', 3.5826780710703368),\n",
       " ('AAA', 3.47030019060913),\n",
       " ('GTG', 2.612190022649934),\n",
       " ('CAC', 2.604529704106287)]"
      ]
     },
     "execution_count": 116,
     "metadata": {},
     "output_type": "execute_result"
    }
   ],
   "source": [
    "# remove the variable with the thirteenth highest VIF where (VIF>10)\n",
    "# then recompute VIF\n",
    "%time train_X_tac_m = train_X_tac.drop(['GCG', 'GCC', 'TAT', 'GGC', 'CTG', 'GAG', 'ATT', 'ACA', 'TGT', 'CTC', 'AAT', 'CAG', 'CCT', 'GAA', 'AGG'], axis=1)\n",
    "%time sorted(compute_vif(train_X_tac_m).items(), key=lambda x: x[1], reverse=True)"
   ]
  },
  {
   "cell_type": "code",
   "execution_count": 117,
   "id": "dcfc75ea",
   "metadata": {},
   "outputs": [
    {
     "name": "stdout",
     "output_type": "stream",
     "text": [
      "CPU times: user 22.9 ms, sys: 10.7 ms, total: 33.6 ms\n",
      "Wall time: 33.5 ms\n",
      "CPU times: user 2min 20s, sys: 23.6 s, total: 2min 43s\n",
      "Wall time: 45.2 s\n"
     ]
    },
    {
     "data": {
      "text/plain": [
       "[('TTG', 15.488996665993627),\n",
       " ('CTT', 15.369228224472778),\n",
       " ('TTC', 14.860285803107738),\n",
       " ('GTT', 12.84758908324289),\n",
       " ('ATG', 10.414703218195305),\n",
       " ('CCA', 9.423063767736098),\n",
       " ('TAA', 9.163562111451693),\n",
       " ('TGG', 9.124653328331368),\n",
       " ('GTA', 8.635725901254165),\n",
       " ('TGA', 8.398930839539464),\n",
       " ('CAT', 7.7207111650041265),\n",
       " ('TTA', 7.689473470303042),\n",
       " ('AGT', 7.646625091237615),\n",
       " ('CAA', 7.638544220832263),\n",
       " ('ACT', 7.604513916403208),\n",
       " ('ACC', 7.583004456903291),\n",
       " ('TCA', 7.560089042049921),\n",
       " ('CGG', 7.321010973342218),\n",
       " ('CTA', 7.016960098971707),\n",
       " ('ATC', 6.552547436183871),\n",
       " ('TAC', 6.515914106751458),\n",
       " ('AGC', 6.507252972365),\n",
       " ('GGT', 6.474036458606878),\n",
       " ('AAC', 6.1995323064083445),\n",
       " ('GCT', 6.176879385077137),\n",
       " ('TAG', 5.773590326634802),\n",
       " ('AAG', 5.562074244671812),\n",
       " ('CGC', 5.331966412906247),\n",
       " ('CCC', 4.70384783908432),\n",
       " ('TGC', 4.693449697678762),\n",
       " ('GGG', 4.687954395665995),\n",
       " ('GCA', 4.686759233268057),\n",
       " ('TCC', 4.658623223172347),\n",
       " ('GGA', 4.4795127224388915),\n",
       " ('ACG', 4.343892901476712),\n",
       " ('GAC', 4.12840286729173),\n",
       " ('AGA', 4.109894456042803),\n",
       " ('TCG', 4.0680273938510245),\n",
       " ('GAT', 3.8640259075091845),\n",
       " ('TTT', 3.863621805537319),\n",
       " ('CGA', 3.8357252034767333),\n",
       " ('ATA', 3.8070042226073686),\n",
       " ('TCT', 3.787456260590395),\n",
       " ('CGT', 3.7132131152389913),\n",
       " ('GTC', 3.581504976909732),\n",
       " ('AAA', 3.469676827464965),\n",
       " ('GTG', 2.610263714567308),\n",
       " ('CAC', 2.604390002150453)]"
      ]
     },
     "execution_count": 117,
     "metadata": {},
     "output_type": "execute_result"
    }
   ],
   "source": [
    "# remove the variable with the forteenth highest VIF where (VIF>10)\n",
    "# then recompute VIF\n",
    "%time train_X_tac_m = train_X_tac.drop(['GCG', 'GCC', 'TAT', 'GGC', 'CTG', 'GAG', 'ATT', 'ACA', 'TGT', 'CTC', 'AAT', 'CAG', 'CCT', 'GAA', 'AGG', 'CCG'], axis=1)\n",
    "%time sorted(compute_vif(train_X_tac_m).items(), key=lambda x: x[1], reverse=True)"
   ]
  },
  {
   "cell_type": "code",
   "execution_count": 118,
   "id": "cd492fbf",
   "metadata": {},
   "outputs": [
    {
     "name": "stdout",
     "output_type": "stream",
     "text": [
      "CPU times: user 21.8 ms, sys: 9.56 ms, total: 31.4 ms\n",
      "Wall time: 31.1 ms\n",
      "CPU times: user 2min 9s, sys: 22.2 s, total: 2min 32s\n",
      "Wall time: 41.4 s\n"
     ]
    },
    {
     "data": {
      "text/plain": [
       "[('TAA', 9.02654128097352),\n",
       " ('CCA', 8.692638652181454),\n",
       " ('TTC', 8.039809561725113),\n",
       " ('TTA', 7.646706716409808),\n",
       " ('CGG', 7.162721625929488),\n",
       " ('TGG', 7.056915225254995),\n",
       " ('ACC', 6.8808029005619815),\n",
       " ('CAA', 6.795361042048165),\n",
       " ('TCA', 6.703491066355412),\n",
       " ('ACT', 6.598489213341687),\n",
       " ('CAT', 6.223119741112675),\n",
       " ('AAC', 5.896557259677578),\n",
       " ('AGC', 5.819343480598209),\n",
       " ('TAC', 5.742583189230229),\n",
       " ('CTT', 5.70311242466873),\n",
       " ('AGT', 5.620333093411824),\n",
       " ('GCT', 5.4084530776160396),\n",
       " ('CGC', 5.3190184837278185),\n",
       " ('AAG', 5.134280418238845),\n",
       " ('TAG', 5.064486251690181),\n",
       " ('GGT', 5.056266840706853),\n",
       " ('TCC', 4.655798538997024),\n",
       " ('CCC', 4.642645420908215),\n",
       " ('GGG', 4.571137362335256),\n",
       " ('GCA', 4.5453916080101875),\n",
       " ('ATG', 4.5415777751123825),\n",
       " ('TGA', 4.47911481019718),\n",
       " ('ATC', 4.401630189447438),\n",
       " ('ACG', 4.266995715436044),\n",
       " ('GTA', 4.2492286761143605),\n",
       " ('GGA', 4.178832780541983),\n",
       " ('CTA', 4.175557515695258),\n",
       " ('TGC', 4.1114081042292),\n",
       " ('TCG', 4.021408516824472),\n",
       " ('GAC', 4.017293755004895),\n",
       " ('AGA', 3.9600968532227028),\n",
       " ('TTT', 3.7721963092854267),\n",
       " ('ATA', 3.7629146033359486),\n",
       " ('TCT', 3.709488446179015),\n",
       " ('CGA', 3.618628507892562),\n",
       " ('CGT', 3.5355443877059494),\n",
       " ('GTT', 3.506997588602698),\n",
       " ('GTC', 3.462597724326923),\n",
       " ('AAA', 3.4236996442320904),\n",
       " ('GAT', 3.392181781034503),\n",
       " ('GTG', 2.604750004168159),\n",
       " ('CAC', 2.6032623391914895)]"
      ]
     },
     "execution_count": 118,
     "metadata": {},
     "output_type": "execute_result"
    }
   ],
   "source": [
    "# remove the variable with the fifteenth highest VIF where (VIF>10)\n",
    "# then recompute VIF\n",
    "%time train_X_tac_m = train_X_tac.drop(['GCG', 'GCC', 'TAT', 'GGC', 'CTG', 'GAG', 'ATT', 'ACA', 'TGT', 'CTC', 'AAT', 'CAG', 'CCT', 'GAA', 'AGG', 'CCG', 'TTG'], axis=1)\n",
    "%time sorted(compute_vif(train_X_tac_m).items(), key=lambda x: x[1], reverse=True)"
   ]
  },
  {
   "cell_type": "markdown",
   "id": "979c17a9",
   "metadata": {},
   "source": [
    "# Code below combined NAC & DAC after separate VIF computation"
   ]
  },
  {
   "cell_type": "code",
   "execution_count": 121,
   "id": "d441d75e",
   "metadata": {},
   "outputs": [],
   "source": [
    "# combined NAC_m and DAC_m\n",
    "df_nac_dac = pd.concat([train_X_nac, train_X_dac_m], axis=1)"
   ]
  },
  {
   "cell_type": "code",
   "execution_count": 122,
   "id": "d199ad22",
   "metadata": {},
   "outputs": [
    {
     "name": "stdout",
     "output_type": "stream",
     "text": [
      "CPU times: user 9.24 s, sys: 2.32 s, total: 11.6 s\n",
      "Wall time: 3 s\n"
     ]
    },
    {
     "data": {
      "text/plain": [
       "[('T', 28040.049990647258),\n",
       " ('A', 25594.20008310935),\n",
       " ('C', 15969.033439813196),\n",
       " ('G', 15301.638511032119),\n",
       " ('TT', 7203.105055799542),\n",
       " ('AA', 6188.954912106956),\n",
       " ('TA', 5731.347175902533),\n",
       " ('CC', 3284.915023594489),\n",
       " ('GG', 3005.970462101809),\n",
       " ('GA', 2081.101823100781),\n",
       " ('TG', 1941.3236346933522),\n",
       " ('TC', 1741.574595993164),\n",
       " ('CA', 1691.094931589181),\n",
       " ('GT', 652.0164877137165),\n",
       " ('AC', 604.1359609040671),\n",
       " ('CG', 12.54434863960849)]"
      ]
     },
     "execution_count": 122,
     "metadata": {},
     "output_type": "execute_result"
    }
   ],
   "source": [
    "#initial VIF computation for nac_dac combined dataset\n",
    "%time sorted(compute_vif(df_nac_dac).items(), key=lambda x: x[1], reverse=True)"
   ]
  },
  {
   "cell_type": "code",
   "execution_count": 125,
   "id": "659b2e6a",
   "metadata": {},
   "outputs": [
    {
     "name": "stdout",
     "output_type": "stream",
     "text": [
      "CPU times: user 11.8 ms, sys: 3.27 ms, total: 15.1 ms\n",
      "Wall time: 14.9 ms\n",
      "CPU times: user 8.08 s, sys: 2.02 s, total: 10.1 s\n",
      "Wall time: 2.61 s\n"
     ]
    },
    {
     "data": {
      "text/plain": [
       "[('A', 25531.16508485182),\n",
       " ('C', 15193.833498705855),\n",
       " ('G', 14559.702331008433),\n",
       " ('AA', 6173.79728027573),\n",
       " ('CC', 3126.1265299732845),\n",
       " ('TA', 3005.0621924453167),\n",
       " ('GG', 2860.963348159754),\n",
       " ('GA', 2055.500121430325),\n",
       " ('CA', 1686.8597931421693),\n",
       " ('TC', 810.4667633786676),\n",
       " ('GT', 620.0538155890149),\n",
       " ('AC', 575.1171150893331),\n",
       " ('CG', 12.544168270338643),\n",
       " ('TG', 9.816162623326388),\n",
       " ('TT', 4.00282909769564)]"
      ]
     },
     "execution_count": 125,
     "metadata": {},
     "output_type": "execute_result"
    }
   ],
   "source": [
    "# remove the variable with the highest VIF where (VIF>10)\n",
    "# then recompute VIF\n",
    "%time df_nac_dac_m = df_nac_dac.drop(['T'], axis=1)\n",
    "%time sorted(compute_vif(df_nac_dac_m).items(), key=lambda x: x[1], reverse=True)"
   ]
  },
  {
   "cell_type": "code",
   "execution_count": 126,
   "id": "5ec3746e",
   "metadata": {},
   "outputs": [
    {
     "name": "stdout",
     "output_type": "stream",
     "text": [
      "CPU times: user 9.13 ms, sys: 4.49 ms, total: 13.6 ms\n",
      "Wall time: 13 ms\n",
      "CPU times: user 6.92 s, sys: 1.77 s, total: 8.69 s\n",
      "Wall time: 2.26 s\n"
     ]
    },
    {
     "data": {
      "text/plain": [
       "[('C', 14413.238832819417),\n",
       " ('G', 13817.092147291845),\n",
       " ('CC', 2966.769145700692),\n",
       " ('GG', 2715.5711006646106),\n",
       " ('GA', 934.2235336017337),\n",
       " ('TC', 768.957171927495),\n",
       " ('GT', 588.5588976537981),\n",
       " ('AC', 545.4097030843295),\n",
       " ('CG', 12.544155276637017),\n",
       " ('TG', 9.815533540524042),\n",
       " ('CA', 8.948586993977983),\n",
       " ('TA', 5.11108489741614),\n",
       " ('TT', 4.002743645528266),\n",
       " ('AA', 3.7884227306757774)]"
      ]
     },
     "execution_count": 126,
     "metadata": {},
     "output_type": "execute_result"
    }
   ],
   "source": [
    "# remove the variable with the second highest VIF where (VIF>10)\n",
    "# then recompute VIF\n",
    "%time df_nac_dac_m = df_nac_dac.drop(['T', 'A'], axis=1)\n",
    "%time sorted(compute_vif(df_nac_dac_m).items(), key=lambda x: x[1], reverse=True)"
   ]
  },
  {
   "cell_type": "code",
   "execution_count": 127,
   "id": "8273c042",
   "metadata": {},
   "outputs": [
    {
     "name": "stdout",
     "output_type": "stream",
     "text": [
      "CPU times: user 7.89 ms, sys: 2.91 ms, total: 10.8 ms\n",
      "Wall time: 10.3 ms\n",
      "CPU times: user 5.63 s, sys: 1.54 s, total: 7.17 s\n",
      "Wall time: 1.88 s\n"
     ]
    },
    {
     "data": {
      "text/plain": [
       "[('G', 161.9820040742438),\n",
       " ('GG', 45.193175636870805),\n",
       " ('CG', 12.515820840448216),\n",
       " ('GA', 11.605702452993366),\n",
       " ('TG', 9.810765106680547),\n",
       " ('CA', 8.931943050528341),\n",
       " ('GT', 7.043143817626838),\n",
       " ('AC', 6.090365733563288),\n",
       " ('CC', 6.041068760041557),\n",
       " ('TA', 5.111046218400773),\n",
       " ('TT', 4.002742923225006),\n",
       " ('AA', 3.78802415481218),\n",
       " ('TC', 3.2820008878714697)]"
      ]
     },
     "execution_count": 127,
     "metadata": {},
     "output_type": "execute_result"
    }
   ],
   "source": [
    "# remove the variable with the third highest VIF where (VIF>10)\n",
    "# then recompute VIF\n",
    "%time df_nac_dac_m = df_nac_dac.drop(['T', 'A', 'C'], axis=1)\n",
    "%time sorted(compute_vif(df_nac_dac_m).items(), key=lambda x: x[1], reverse=True)"
   ]
  },
  {
   "cell_type": "code",
   "execution_count": 128,
   "id": "23d8d1a7",
   "metadata": {},
   "outputs": [
    {
     "name": "stdout",
     "output_type": "stream",
     "text": [
      "CPU times: user 7.68 ms, sys: 3.83 ms, total: 11.5 ms\n",
      "Wall time: 11.4 ms\n",
      "CPU times: user 4.61 s, sys: 1.24 s, total: 5.84 s\n",
      "Wall time: 1.52 s\n"
     ]
    },
    {
     "data": {
      "text/plain": [
       "[('TG', 6.061810260245846),\n",
       " ('CA', 5.462421189892294),\n",
       " ('CC', 5.4002226388085965),\n",
       " ('TA', 5.037926577912257),\n",
       " ('GG', 4.99497563014766),\n",
       " ('GT', 4.943237383822588),\n",
       " ('AC', 4.671806757452589),\n",
       " ('TT', 4.000600605949454),\n",
       " ('AA', 3.7796003238599876),\n",
       " ('CG', 3.559911386325036),\n",
       " ('GA', 3.1818651238742737),\n",
       " ('TC', 3.1135209324522903)]"
      ]
     },
     "execution_count": 128,
     "metadata": {},
     "output_type": "execute_result"
    }
   ],
   "source": [
    "# remove the variable with the forth highest VIF where (VIF>10)\n",
    "# then recompute VIF\n",
    "%time df_nac_dac_m = df_nac_dac.drop(['T', 'A', 'C', 'G'], axis=1)\n",
    "%time sorted(compute_vif(df_nac_dac_m).items(), key=lambda x: x[1], reverse=True)"
   ]
  },
  {
   "cell_type": "markdown",
   "id": "1dd90b89",
   "metadata": {},
   "source": [
    "# Code below combined NAC, DAC & TAC after separate VIF computation"
   ]
  },
  {
   "cell_type": "code",
   "execution_count": 129,
   "id": "385b1cbc",
   "metadata": {},
   "outputs": [],
   "source": [
    "# combined tac to df_nac_dac_m\n",
    "df_nac_dac_tac = pd.concat([df_nac_dac_m, train_X_tac_m], axis=1)"
   ]
  },
  {
   "cell_type": "code",
   "execution_count": 130,
   "id": "6a253612",
   "metadata": {},
   "outputs": [
    {
     "name": "stdout",
     "output_type": "stream",
     "text": [
      "CPU times: user 3min 52s, sys: 42.4 s, total: 4min 35s\n",
      "Wall time: 1min 29s\n"
     ]
    },
    {
     "data": {
      "text/plain": [
       "[('CG', 29391.63794602006),\n",
       " ('TA', 11542.094350073416),\n",
       " ('GA', 5882.170846123713),\n",
       " ('TT', 5755.244773624727),\n",
       " ('AA', 5566.031582358948),\n",
       " ('GT', 5455.142526961677),\n",
       " ('TC', 5453.278257389948),\n",
       " ('AC', 5368.9458542207785),\n",
       " ('CGG', 4719.458852063287),\n",
       " ('CGC', 4571.386220435866),\n",
       " ('GG', 3563.45717529158),\n",
       " ('CA', 3508.7341014166127),\n",
       " ('TG', 3507.3112214278003),\n",
       " ('ATA', 2014.8798020932181),\n",
       " ('TTA', 1727.4245466449308),\n",
       " ('TTT', 1607.9205898769844),\n",
       " ('AAA', 1474.1784719636269),\n",
       " ('AGA', 1330.8336976903954),\n",
       " ('TCT', 1254.747580379489),\n",
       " ('TCC', 1144.6802386884888),\n",
       " ('GTG', 1132.5429070472396),\n",
       " ('CAC', 1071.9259293289201),\n",
       " ('GGA', 1067.2006263520793),\n",
       " ('TGA', 1008.2537252845746),\n",
       " ('TCA', 983.9228680596871),\n",
       " ('CGA', 965.1026782408195),\n",
       " ('GTA', 893.2664018090705),\n",
       " ('GTT', 784.6913531301955),\n",
       " ('CGT', 756.0208846793145),\n",
       " ('AAC', 750.8995525632522),\n",
       " ('TGG', 641.9649810682621),\n",
       " ('CCA', 639.4297875932175),\n",
       " ('GGG', 611.0323554297398),\n",
       " ('GAC', 513.0430229953633),\n",
       " ('TAC', 481.23280193813105),\n",
       " ('CTA', 404.5119007816137),\n",
       " ('TAA', 391.49142702809684),\n",
       " ('GTC', 390.42481962150754),\n",
       " ('TGC', 348.4656786477032),\n",
       " ('GCA', 348.00391619294464),\n",
       " ('ACC', 321.4644280758979),\n",
       " ('AGT', 304.0526504305815),\n",
       " ('CC', 301.9359414628557),\n",
       " ('ACT', 284.8633351628545),\n",
       " ('AAG', 271.57992648104903),\n",
       " ('GGT', 263.88737185652656),\n",
       " ('CTT', 218.83632334632836),\n",
       " ('TCG', 210.41602813078538),\n",
       " ('CAT', 172.8238956976008),\n",
       " ('ATG', 171.98825904468075),\n",
       " ('AGC', 166.82547227805966),\n",
       " ('GAT', 120.00401243648045),\n",
       " ('TAG', 118.07271220053099),\n",
       " ('ACG', 98.25319518750611),\n",
       " ('ATC', 89.54991502540908),\n",
       " ('CCC', 65.6660418456),\n",
       " ('GCT', 16.008217606639345),\n",
       " ('TTC', 9.598521790998824),\n",
       " ('CAA', 7.780239811033175)]"
      ]
     },
     "execution_count": 130,
     "metadata": {},
     "output_type": "execute_result"
    }
   ],
   "source": [
    "# compute initial VIF\n",
    "%time sorted(compute_vif(df_nac_dac_tac).items(), key=lambda x: x[1], reverse=True)"
   ]
  },
  {
   "cell_type": "code",
   "execution_count": 131,
   "id": "370c88ce",
   "metadata": {},
   "outputs": [
    {
     "name": "stdout",
     "output_type": "stream",
     "text": [
      "CPU times: user 26.4 ms, sys: 1.54 ms, total: 28 ms\n",
      "Wall time: 27.7 ms\n",
      "CPU times: user 3min 40s, sys: 40.6 s, total: 4min 20s\n",
      "Wall time: 1min 24s\n"
     ]
    },
    {
     "data": {
      "text/plain": [
       "[('TA', 11538.476771960122),\n",
       " ('GA', 5880.61729477548),\n",
       " ('TT', 5714.957624597551),\n",
       " ('AA', 5566.0150161965),\n",
       " ('GT', 5454.479612766472),\n",
       " ('TC', 5437.648628223278),\n",
       " ('AC', 5368.449389356413),\n",
       " ('GG', 3535.9269180319156),\n",
       " ('CA', 3508.6745368523475),\n",
       " ('TG', 3495.2308023642063),\n",
       " ('ATA', 2014.248394685637),\n",
       " ('TTA', 1726.6410319702186),\n",
       " ('TTT', 1596.8002312551241),\n",
       " ('AAA', 1474.1739589991726),\n",
       " ('AGA', 1330.484018442093),\n",
       " ('TCT', 1251.141324245182),\n",
       " ('TCC', 1141.3309892207233),\n",
       " ('GTG', 1129.5046686469877),\n",
       " ('CAC', 1071.7253720408728),\n",
       " ('GGA', 1066.5502811359722),\n",
       " ('TGA', 1007.9804139017766),\n",
       " ('TCA', 983.6494851089857),\n",
       " ('GTA', 892.7741541068997),\n",
       " ('GTT', 784.5336685948656),\n",
       " ('AAC', 750.7439776553256),\n",
       " ('TGG', 641.9547604814624),\n",
       " ('CCA', 637.8731803752423),\n",
       " ('GGG', 606.4512317200986),\n",
       " ('GAC', 512.9473760995932),\n",
       " ('TAC', 481.13801541533655),\n",
       " ('CTA', 404.32454832799095),\n",
       " ('TAA', 391.4901493699932),\n",
       " ('GTC', 389.38715068978854),\n",
       " ('TGC', 347.2401999795343),\n",
       " ('GCA', 347.1375347606767),\n",
       " ('ACC', 320.6843148949182),\n",
       " ('AGT', 304.0487962729701),\n",
       " ('CC', 301.9336333861366),\n",
       " ('ACT', 284.1906628132779),\n",
       " ('AAG', 271.57908378110744),\n",
       " ('GGT', 262.9341234483864),\n",
       " ('CGG', 241.04416613724158),\n",
       " ('CTT', 217.2618662202647),\n",
       " ('TCG', 209.76289688911086),\n",
       " ('CGA', 193.21694124039982),\n",
       " ('CAT', 172.8234421677142),\n",
       " ('ATG', 170.76244301690755),\n",
       " ('AGC', 165.53929664509982),\n",
       " ('GAT', 120.0035081811206),\n",
       " ('TAG', 118.07237887800889),\n",
       " ('ACG', 97.99622389271879),\n",
       " ('CGT', 91.10248204614494),\n",
       " ('ATC', 88.92974614606189),\n",
       " ('CCC', 65.66543401501437),\n",
       " ('GCT', 16.0074822592406),\n",
       " ('CGC', 10.229691465110129),\n",
       " ('TTC', 9.59845792037187),\n",
       " ('CAA', 7.780238795945473)]"
      ]
     },
     "execution_count": 131,
     "metadata": {},
     "output_type": "execute_result"
    }
   ],
   "source": [
    "# remove the variable with the highest VIF where (VIF>10)\n",
    "# then recompute VIF\n",
    "%time df_nac_dac_tac_m = df_nac_dac_tac.drop(['CG'], axis=1)\n",
    "%time sorted(compute_vif(df_nac_dac_tac_m).items(), key=lambda x: x[1], reverse=True)"
   ]
  },
  {
   "cell_type": "code",
   "execution_count": null,
   "id": "01f5d37a",
   "metadata": {},
   "outputs": [
    {
     "name": "stdout",
     "output_type": "stream",
     "text": [
      "CPU times: user 26.1 ms, sys: 12.4 ms, total: 38.5 ms\n",
      "Wall time: 38.1 ms\n"
     ]
    }
   ],
   "source": [
    "# remove the variable with the 2nd highest VIF where (VIF>10)\n",
    "# then recompute VIF\n",
    "%time df_nac_dac_tac_m = df_nac_dac_tac.drop(['CG', 'TA'], axis=1)\n",
    "%time sorted(compute_vif(df_nac_dac_tac_m).items(), key=lambda x: x[1], reverse=True)"
   ]
  }
 ],
 "metadata": {
  "kernelspec": {
   "display_name": "Python 3 (ipykernel)",
   "language": "python",
   "name": "python3"
  },
  "language_info": {
   "codemirror_mode": {
    "name": "ipython",
    "version": 3
   },
   "file_extension": ".py",
   "mimetype": "text/x-python",
   "name": "python",
   "nbconvert_exporter": "python",
   "pygments_lexer": "ipython3",
   "version": "3.9.13"
  }
 },
 "nbformat": 4,
 "nbformat_minor": 5
}
