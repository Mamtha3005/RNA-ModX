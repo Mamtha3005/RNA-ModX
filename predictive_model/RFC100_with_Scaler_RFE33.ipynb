{
 "cells": [
  {
   "cell_type": "code",
   "execution_count": 1,
   "id": "c858a5cd",
   "metadata": {},
   "outputs": [],
   "source": [
    "# import packages\n",
    "import pandas as pd\n",
    "import numpy as np\n",
    "\n",
    "import swifter\n",
    "import great_expectations as ge"
   ]
  },
  {
   "cell_type": "code",
   "execution_count": 2,
   "id": "8a205119",
   "metadata": {},
   "outputs": [],
   "source": [
    "# import datasets\n",
    "train_X = pd.read_csv('/Users/eesoonhang/Desktop/capstone_data/train_in_encodedToNacSeq.csv', usecols=lambda x: x!= '*Unnamed*')\n",
    "train_y = pd.read_csv('/Users/eesoonhang/Desktop/capstone_data/train_out.csv', usecols=lambda x: x!= '*Unnamed*')\n",
    "test_X = pd.read_csv('/Users/eesoonhang/Desktop/capstone_data/test_in_encodedToNacSeq.csv', usecols=lambda x: x!= '*Unnamed*')\n",
    "test_y = pd.read_csv('/Users/eesoonhang/Desktop/capstone_data/test_out.csv', usecols=lambda x: x!= '*Unnamed*')\n",
    "\n",
    "# split to respective input datasets\n",
    "train_X_nac = train_X.iloc[:, 0:4]\n",
    "train_X_dac = train_X.iloc[:, 4:20]\n",
    "train_X_tac = train_X.iloc[:, 20:]\n",
    "test_X_nac = test_X.iloc[:, 0:4]\n",
    "test_X_dac = test_X.iloc[:, 4:20]\n",
    "test_X_tac = test_X.iloc[:, 20:]\n",
    "\n",
    "# compressed output y\n",
    "# transform target >=1 to 1\n",
    "def normalize_output(x):\n",
    "    return np.where(x.target>1, x.target/x.target, x.target)\n",
    "    \n",
    "# compressed y-variable\n",
    "compressed_train_y = train_y.sum(axis=1).to_frame(name='target')\n",
    "compressed_test_y = test_y.sum(axis=1).to_frame(name='target')\n",
    "compressed_train_y.target = compressed_train_y.swifter.apply(normalize_output, axis=1)\n",
    "compressed_test_y.target = compressed_test_y.swifter.apply(normalize_output, axis=1)"
   ]
  },
  {
   "cell_type": "code",
   "execution_count": 9,
   "id": "182e894d",
   "metadata": {},
   "outputs": [],
   "source": [
    "from sklearn.ensemble import RandomForestClassifier\n",
    "from sklearn.feature_selection import RFE\n",
    "from sklearn.metrics import mean_squared_error\n",
    "from sklearn.feature_selection import SequentialFeatureSelector\n",
    "from sklearn.preprocessing import StandardScaler\n",
    "from sklearn.model_selection import train_test_split\n",
    "import math\n",
    "\n",
    "def train_Model(n_rfe_features):\n",
    "    \n",
    "    print('Number of features to be selected: ' , n_rfe_features)\n",
    "    \n",
    "    print('scaling data')\n",
    "    # apply scaler\n",
    "    scaler = StandardScaler()\n",
    "    train_X_scaled = scaler.fit_transform(train_X, compressed_train_y)\n",
    "    train_X_scaled = pd.DataFrame(train_X_scaled, columns=train_X.columns)\n",
    "    X_train, X_valid, Y_train, Y_valid = train_test_split(train_X_scaled, compressed_train_y, test_size = 0.5, random_state = 1234, stratify=compressed_train_y)\n",
    "    X_train.shape\n",
    "    \n",
    "    print('selecting feature via RFE..')\n",
    "    # instantiate model\n",
    "    rfc = RandomForestClassifier(n_estimators=100)\n",
    "    rfe = RFE(estimator = rfc, n_features_to_select = n_rfe_features, step = 1)\n",
    "    # apply RFE\n",
    "    rfe.fit(X_train, Y_train.values.ravel())\n",
    "    \n",
    "    print('refactoring dataset...')\n",
    "    # refactor train_X and test_X with rfe\n",
    "    rfe_train_X = rfe.transform(X_train)\n",
    "    rfe_valid_X = rfe.transform(X_valid)\n",
    "    \n",
    "    print('fit model...')\n",
    "    # Perform RandomForestClassification\n",
    "    rfc.fit(rfe_train_X, Y_train.values.ravel())\n",
    "    y_predict = rfc.predict(rfe_valid_X)\n",
    "    \n",
    "    print('evaluate model...')\n",
    "    # print ranking based on rfe\n",
    "    columns = X_train.columns\n",
    "    ranking = rfe.ranking_\n",
    "    rfe_selected = pd.concat([pd.DataFrame(columns), \n",
    "                              pd.DataFrame(ranking)], axis=1)\n",
    "    rfe_selected.columns = ['Feature Name', 'Ranking']\n",
    "    print('rankings: ' + str(ranking) + '\\n' + 'RFE selected features: \\n' + '-'*20 + '\\n' + str(rfe_selected[(rfe_selected.Ranking == 1)]['Feature Name']))\n",
    "\n",
    "    rmse = math.sqrt(mean_squared_error(Y_valid, y_predict))\n",
    "    print('rmse: %4.2f' %rmse)\n",
    "    \n",
    "    score = rfc.score(rfe_valid_X, Y_valid)\n",
    "    print('score: %4.2f' %score)\n",
    "    \n",
    "    return n_rfe_features, rmse, score, rfc, rfe, scaler"
   ]
  },
  {
   "cell_type": "code",
   "execution_count": 10,
   "id": "5a9bfe0a",
   "metadata": {},
   "outputs": [
    {
     "name": "stdout",
     "output_type": "stream",
     "text": [
      "Number of features to be selected:  33\n",
      "scaling data\n",
      "selecting feature via RFE..\n",
      "refactoring dataset...\n",
      "fit model...\n",
      "evaluate model...\n",
      "rankings: [ 1  1  1  1  1  1  7  1  1  1  1  2  1  1  1  1  1  1  1  1  1 10  1 15\n",
      " 23 35 19 29 25 33  1 30  1 46 31  1 14 27 16 28 38  5  1 37  1 43  9 51\n",
      " 42  3 26 12  1  1  1 34 41 36 52 47 11  4  1 17 48 50 21 40  8 49  1  6\n",
      " 22 44 45 20 24 39 32 13  1  1 18  1]\n",
      "RFE selected features: \n",
      "--------------------\n",
      "0       A\n",
      "1       C\n",
      "2       G\n",
      "3       T\n",
      "4      AA\n",
      "5      AC\n",
      "7      AT\n",
      "8      CA\n",
      "9      CC\n",
      "10     CG\n",
      "12     GA\n",
      "13     GC\n",
      "14     GG\n",
      "15     GT\n",
      "16     TA\n",
      "17     TC\n",
      "18     TG\n",
      "19     TT\n",
      "20    AAA\n",
      "22    AAG\n",
      "30    AGG\n",
      "32    ATA\n",
      "35    ATT\n",
      "42    CCG\n",
      "44    CGA\n",
      "52    GAA\n",
      "53    GAC\n",
      "54    GAG\n",
      "62    GGG\n",
      "70    TAG\n",
      "80    TTA\n",
      "81    TTC\n",
      "83    TTT\n",
      "Name: Feature Name, dtype: object\n",
      "rmse: 0.45\n",
      "score: 0.80\n",
      "CPU times: user 45min 50s, sys: 16.9 s, total: 46min 7s\n",
      "Wall time: 46min 19s\n"
     ]
    }
   ],
   "source": [
    "# train model\n",
    "%time model = train_Model(33)"
   ]
  },
  {
   "cell_type": "code",
   "execution_count": 11,
   "id": "e82d6c2a",
   "metadata": {},
   "outputs": [],
   "source": [
    "# export the model\n",
    "import pickle \n",
    "pickle.dump(model[3], open('/Users/eesoonhang/Desktop/capstone_data/RFC_100trees_withRFE33.pkl', 'wb'))\n",
    "pickle.dump(model[4], open('/Users/eesoonhang/Desktop/capstone_data/RFE_33.pkl', 'wb'))"
   ]
  },
  {
   "cell_type": "code",
   "execution_count": 12,
   "id": "3de570ed",
   "metadata": {},
   "outputs": [
    {
     "data": {
      "text/plain": [
       "0.7566666666666667"
      ]
     },
     "execution_count": 12,
     "metadata": {},
     "output_type": "execute_result"
    }
   ],
   "source": [
    "# evaluate accuracy\n",
    "clf = model[3]\n",
    "rfe = model[4]\n",
    "scaler = model[5]\n",
    "test_X_scaled = scaler.transform(test_X)\n",
    "rfe_test_X = rfe.transform(test_X_scaled)\n",
    "clf.score(rfe_test_X, compressed_test_y)"
   ]
  },
  {
   "cell_type": "code",
   "execution_count": 13,
   "id": "acefb014",
   "metadata": {},
   "outputs": [
    {
     "data": {
      "text/plain": [
       "Text(0.5, 427.9555555555555, 'Predicted label')"
      ]
     },
     "execution_count": 13,
     "metadata": {},
     "output_type": "execute_result"
    },
    {
     "data": {
      "image/png": "[encoded data removed]",
      "text/plain": [
       "<Figure size 640x480 with 2 Axes>"
      ]
     },
     "metadata": {},
     "output_type": "display_data"
    }
   ],
   "source": [
    "from sklearn.metrics import confusion_matrix as cfm\n",
    "import matplotlib.pyplot as plt\n",
    "import seaborn as sns\n",
    "# visualize confusion matrix\n",
    "cnf_matrix = cfm(compressed_test_y, clf.predict(rfe_test_X)) \n",
    "class_names=[0,1] # name  of classes\n",
    "fig, ax = plt.subplots() \n",
    "tick_marks = np.arange(len(class_names)) \n",
    "plt.xticks(tick_marks, class_names) \n",
    "plt.yticks(tick_marks, class_names) \n",
    "\n",
    "# create heatmap \n",
    "sns.heatmap(pd.DataFrame(cnf_matrix), annot=True, cmap=\"YlGnBu\" ,fmt='g') \n",
    "ax.xaxis.set_label_position(\"top\") \n",
    "plt.tight_layout() \n",
    "plt.title('Confusion matrix for RFC with 100 trees & RFE with 33 selected features & scaler', y=1.1) \n",
    "plt.ylabel('Actual label') \n",
    "plt.xlabel('Predicted label')"
   ]
  }
 ],
 "metadata": {
  "kernelspec": {
   "display_name": "Python 3 (ipykernel)",
   "language": "python",
   "name": "python3"
  },
  "language_info": {
   "codemirror_mode": {
    "name": "ipython",
    "version": 3
   },
   "file_extension": ".py",
   "mimetype": "text/x-python",
   "name": "python",
   "nbconvert_exporter": "python",
   "pygments_lexer": "ipython3",
   "version": "3.9.13"
  }
 },
 "nbformat": 4,
 "nbformat_minor": 5
}
