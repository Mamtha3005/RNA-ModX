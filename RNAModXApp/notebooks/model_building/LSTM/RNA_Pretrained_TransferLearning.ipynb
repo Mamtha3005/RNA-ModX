{
 "cells": [
  {
   "attachments": {},
   "cell_type": "markdown",
   "metadata": {},
   "source": [
    "# RNA Pre-Trained Model"
   ]
  },
  {
   "cell_type": "code",
   "execution_count": 1,
   "metadata": {},
   "outputs": [
    {
     "name": "stderr",
     "output_type": "stream",
     "text": [
      "c:\\Users\\shashi.vish\\Python Environment\\RNA_ModX\\lib\\site-packages\\tqdm\\auto.py:21: TqdmWarning: IProgress not found. Please update jupyter and ipywidgets. See https://ipywidgets.readthedocs.io/en/stable/user_install.html\n",
      "  from .autonotebook import tqdm as notebook_tqdm\n"
     ]
    }
   ],
   "source": [
    " #Import All Libraries Here\n",
    "import pandas as pd\n",
    "from sklearn.metrics import accuracy_score ,  roc_curve, auc , classification_report\n",
    "\n",
    "import numpy as np\n",
    "from sklearn.metrics import classification_report, accuracy_score\n",
    "\n",
    "from sklearn.metrics import mean_squared_error\n",
    "import optuna\n",
    "from torch.utils.data import WeightedRandomSampler\n",
    "from sklearn.model_selection import train_test_split \n",
    "\n",
    "import time\n",
    "from collections import Counter\n",
    "# PyTorch Import\n",
    "\n",
    "import torch\n",
    "import torch.nn as nn\n",
    "import torch.optim as optim\n",
    "from torch.utils.data import Dataset, DataLoader\n",
    "import torch.nn.functional as F\n",
    "\n",
    "# Record Constants\n",
    "INPUT_TRAIN_IN = \"../../../data/train_in.csv\"\n",
    "INPUT_TRAIN_OUT = \"../../../data/train_out.csv\"  \n",
    "INPUT_TEST_IN = \"../../../data/test_in.csv\"\n",
    "INPUT_TEST_OUT = \"../../../data/test_out.csv\"\n",
    "INPUT_VALIDATION_IN = \"../../../data/valid_in_nucleo.csv\"\n",
    "INPUT_VALIDATION_OUT  = \"../../../data/valid_out.csv\"\n",
    "\n",
    "TARGET_MODEL_PATH = '../../webapp/model_files'\n",
    "\n",
    "\n",
    "WINDOW_SIZE = 50\n",
    "\n",
    "# 1 - One Hot Encoding with Pytorch in build Emnedding \n",
    "# 2 - K-mers with Word2Vec\n",
    "ENCODING_METHOD = 1\n",
    "\n",
    "\n",
    "# 1 - LSTM with Cross Entropy \n",
    "MODEL = 1\n",
    "\n",
    "\n",
    "FRAMEWORK = \"PYTORCH\"\n",
    "\n",
    "# Startegy to Crop Sequene\n",
    "# MID - Modification is present at Mid of cropped Sequence \n",
    "# END - Modification is present at End of cropepd Sequence \n",
    "CROP_STRATEGY = 'END'\n",
    "\n",
    "# Y Category Encoding Method\n",
    "# LABEL or ONE_HOT  \n",
    "TARGET_ENCODING = 'LABEL'\n",
    "\n"
   ]
  },
  {
   "cell_type": "code",
   "execution_count": 2,
   "metadata": {},
   "outputs": [],
   "source": [
    "#Read X Varaibles and Y Varaibles\n",
    "\n",
    "x_train_raw =  pd.read_csv(INPUT_TRAIN_IN, header=None , skiprows=1  )\n",
    "y_train_raw =  pd.read_csv(INPUT_TRAIN_OUT, header=None , skiprows=1 )\n",
    "\n",
    "x_test_raw =  pd.read_csv(INPUT_TEST_IN, header=None , skiprows=1 )\n",
    "y_test_raw =  pd.read_csv(INPUT_TEST_OUT, header=None , skiprows=1)\n",
    "\n",
    "x_valid_raw =  pd.read_csv(INPUT_VALIDATION_IN, header=None , skiprows=1 )\n",
    "y_valid_raw =  pd.read_csv(INPUT_VALIDATION_OUT, header=None , skiprows=1 )\n",
    "\n",
    "\n",
    "x_data = pd.concat([x_train_raw, x_test_raw, x_valid_raw], axis=0, ignore_index=True)\n",
    "y_data = pd.concat([y_train_raw, y_test_raw, y_valid_raw], axis=0, ignore_index=True)"
   ]
  },
  {
   "cell_type": "code",
   "execution_count": 3,
   "metadata": {},
   "outputs": [],
   "source": [
    "middle_index = (x_train_raw.shape[1] // 2) + 1 # This is location for Modified Sequence . Use this as Y Target\n",
    "\n",
    "if CROP_STRATEGY == 'MID':\n",
    "    STRAT_INEDX =middle_index - WINDOW_SIZE -1 \n",
    "    END_INDEX =middle_index + WINDOW_SIZE \n",
    "\n",
    "if CROP_STRATEGY == 'END':\n",
    "    STRAT_INEDX =middle_index - (WINDOW_SIZE*2) -1 \n",
    "    END_INDEX =middle_index-1 # Ignore Modified Position"
   ]
  },
  {
   "cell_type": "code",
   "execution_count": 4,
   "metadata": {},
   "outputs": [
    {
     "name": "stdout",
     "output_type": "stream",
     "text": [
      "Train Shape of X : (304661, 1001) and Tranin Shape of Y : (304661, 1001)\n",
      "Test Shape of X : (1200, 1001) and Test Shape of Y : (1200, 12)\n",
      "Validation Shape of X : (3599, 1001) and Validation Shape of Y : (3599, 12)\n"
     ]
    }
   ],
   "source": [
    "print(f\"Train Shape of X : {x_train_raw.shape} and Tranin Shape of Y : {x_train_raw.shape}\")\n",
    "print(f\"Test Shape of X : {x_test_raw.shape} and Test Shape of Y : {y_test_raw.shape}\")\n",
    "print(f\"Validation Shape of X : {x_valid_raw.shape} and Validation Shape of Y : {y_valid_raw.shape}\")"
   ]
  },
  {
   "attachments": {},
   "cell_type": "markdown",
   "metadata": {},
   "source": [
    "### Encode with One Hot Encoding"
   ]
  },
  {
   "cell_type": "code",
   "execution_count": 5,
   "metadata": {},
   "outputs": [],
   "source": [
    "number_of_unique_kmers = set()\n",
    "def encode_seq(kmer_token):\n",
    "\n",
    "    # A 1 0 0 0\n",
    "    # C 0 1 0 0\n",
    "    # T/U 0 0 0 1\n",
    "    # G 0 0 1 0\n",
    "    # N 0 0 0 0\n",
    "\n",
    "    encoding_dict = {\n",
    "        'A': [1, 0, 0, 0],\n",
    "        'C': [0, 1, 0, 0],\n",
    "        'G': [0, 0, 1, 0],\n",
    "        'T': [0, 0, 0, 1],\n",
    "        'U': [0, 0, 0, 1],\n",
    "        'N': [0, 0, 0, 0],\n",
    "    }\n",
    "\n",
    "    encoded_sequence = []\n",
    "    number_of_unique_kmers.add(kmer_token)\n",
    "    for  base in kmer_token:\n",
    "        encoded_sequence.append(encoding_dict[base])\n",
    "    return np.array(encoded_sequence).flatten()\n",
    "\n",
    "def applyOneHotEncoding(tokenized_sequences):\n",
    "    encoded_sequences = []\n",
    "    for seq in tokenized_sequences:\n",
    "        encoded_sequences.append(encode_seq(seq)) \n",
    " \n",
    "    return np.array(encoded_sequences).flatten()\n",
    "\n",
    "def encode_with_one_hot_encoding(x_train_raw):\n",
    "    truncated_df =  x_train_raw.iloc[:,STRAT_INEDX :END_INDEX] # Window Starts from V501 with 50 window size\n",
    "    concatenated_column= truncated_df.apply(lambda row: ''.join(map(str, row)), axis=1)\n",
    "    df_result = truncated_df.assign(Sequence=concatenated_column)\n",
    "    tokenized_sequences =  df_result['Sequence'].apply(applyOneHotEncoding).tolist()\n",
    "    \n",
    "    return tokenized_sequences\n"
   ]
  },
  {
   "cell_type": "code",
   "execution_count": 6,
   "metadata": {},
   "outputs": [
    {
     "name": "stderr",
     "output_type": "stream",
     "text": [
      "C:\\Users\\shashi.vish\\AppData\\Local\\Temp\\ipykernel_34600\\3010200440.py:1: UserWarning: Creating a tensor from a list of numpy.ndarrays is extremely slow. Please consider converting the list to a single numpy.ndarray with numpy.array() before converting to a tensor. (Triggered internally at ..\\torch\\csrc\\utils\\tensor_new.cpp:248.)\n",
      "  X_train = torch.tensor(encode_with_one_hot_encoding(x_train_raw) , dtype=torch.long)\n"
     ]
    }
   ],
   "source": [
    "# X_train = torch.tensor(encode_with_one_hot_encoding(x_train_raw) , dtype=torch.long)\n",
    "# X_test = torch.tensor(encode_with_one_hot_encoding(x_test_raw) , dtype=torch.long)\n",
    "# X_valid = torch.tensor(encode_with_one_hot_encoding(x_valid_raw) , dtype=torch.long)"
   ]
  },
  {
   "cell_type": "code",
   "execution_count": 6,
   "metadata": {},
   "outputs": [
    {
     "name": "stdout",
     "output_type": "stream",
     "text": [
      "Encode X and Y Features.\n"
     ]
    },
    {
     "name": "stderr",
     "output_type": "stream",
     "text": [
      "C:\\Users\\shashi.vish\\AppData\\Local\\Temp\\ipykernel_6164\\3480822576.py:17: UserWarning: Creating a tensor from a list of numpy.ndarrays is extremely slow. Please consider converting the list to a single numpy.ndarray with numpy.array() before converting to a tensor. (Triggered internally at ..\\torch\\csrc\\utils\\tensor_new.cpp:248.)\n",
      "  X_encoded = torch.tensor(encode_with_one_hot_encoding(x_data) , dtype=torch.long)\n"
     ]
    },
    {
     "name": "stdout",
     "output_type": "stream",
     "text": [
      "Generate Train and Split..\n"
     ]
    }
   ],
   "source": [
    "\n",
    "RMs = ['A','G','C','U','T','N']\n",
    "RMEncoding = [0,1,2,3,3,4]\n",
    "\n",
    "def encode_target(y_data):\n",
    "    # Write Customer Lable Encoder . This is required since we have train and test alreday splitted. Always creating a new instanc of label encoder will change encoding.\n",
    "    y_encoded = []\n",
    "    for y in y_data:\n",
    "        index = RMs.index(y)\n",
    "        encoding =  RMEncoding[index]\n",
    "        y_encoded.append(encoding)\n",
    "    return y_encoded\n",
    "\n",
    "y_originals =  x_data.iloc[:, middle_index-1] \n",
    "\n",
    "\n",
    "print(\"Encode X and Y Features.\")\n",
    "X_encoded = torch.tensor(encode_with_one_hot_encoding(x_data) , dtype=torch.long)\n",
    "y_encoded = encode_target(y_originals)\n",
    "\n",
    "\n",
    "print(\"Generate Train and Split..\")\n",
    "# Train set\n",
    "X_train, X_temp, y_train, y_temp = train_test_split(X_encoded, y_encoded, test_size=0.3, random_state=42)\n",
    "\n",
    "# Test and Validation set\n",
    "X_valid, X_test, y_valid, y_test = train_test_split(X_temp, y_temp, test_size=0.5, random_state=42)\n"
   ]
  },
  {
   "cell_type": "code",
   "execution_count": 8,
   "metadata": {},
   "outputs": [],
   "source": [
    "\n",
    "# print(\"Middle Index is :\" ,middle_index )\n",
    "# y_train_original =  x_train_raw.iloc[:, middle_index-1] \n",
    "# y_test_original = x_test_raw.iloc[:, middle_index-1] \n",
    "# y_valid_original =  x_valid_raw.iloc[:, middle_index -1] \n",
    "\n",
    "# print(\"Train Value Counts\")\n",
    "# print(y_train_original.value_counts())\n",
    "# print(\"Test Value Counts\")\n",
    "# print(y_test_original.value_counts())\n",
    "# print(\"Valid Value Counts\")\n",
    "# print(y_valid_original.value_counts())\n",
    "\n",
    "# y_train = encode_target(y_train_original)\n",
    "# y_test = encode_target(y_test_original)\n",
    "# y_valid = encode_target(y_valid_original)\n",
    "\n",
    "\n",
    "print(\"Train Y Count : \" ,Counter(y_train))\n",
    "print(\"Test Y Count : \" ,Counter(y_test))\n",
    "print(\"Test Y Count : \" ,Counter(y_valid))\n",
    "\n",
    "\n",
    "y_train = torch.tensor(y_train , dtype=torch.long)\n",
    "y_test = torch.tensor(y_test , dtype=torch.long)\n",
    "y_valid = torch.tensor(y_valid , dtype=torch.long)\n",
    "\n",
    "# # Calculate class weights\n",
    "class_weights = 1.0 / torch.bincount(y_train)\n",
    "weights = class_weights[y_train]\n",
    "sampler = WeightedRandomSampler(weights, len(weights))"
   ]
  },
  {
   "cell_type": "code",
   "execution_count": null,
   "metadata": {},
   "outputs": [],
   "source": []
  },
  {
   "cell_type": "code",
   "execution_count": 9,
   "metadata": {},
   "outputs": [],
   "source": [
    "hyperparameter = {}\n",
    "hyperparameter['INPUT_DIMENSION'] = 4 # For One Hot Encoding Input Dimension would be 4 as there only 4 unique nucleocide \n",
    "hyperparameter['HIDDEN_DIMENSION'] = 3\n",
    "hyperparameter['NO_OF_LAYERS'] = 1\n",
    "hyperparameter['BATCH_SIZE'] = 32\n",
    "hyperparameter['OUTPUT_DIMENSION'] = 4\n",
    "hyperparameter['EMBEDDING_DIMENSION'] = 7 # if you are using Word2Vec Encoding then this should be same as Word2Vec Embedding Dim \n",
    "hyperparameter['DROP_OUT'] = 0.1"
   ]
  },
  {
   "cell_type": "code",
   "execution_count": 10,
   "metadata": {},
   "outputs": [],
   "source": [
    "class RNADataset(Dataset):\n",
    "    def __init__(self, X, y):\n",
    "        self.X = X\n",
    "        self.y = y\n",
    "\n",
    "    def __len__(self):\n",
    "        return len(self.X)\n",
    "\n",
    "    def __getitem__(self, index):\n",
    "        return self.X[index], self.y[index]\n",
    "\n",
    "train_dataset = RNADataset(X_train, y_train)\n",
    "test_dataset = RNADataset(X_test, y_test)\n",
    "valid_dataset = RNADataset(X_valid, y_valid)\n",
    "\n",
    "train_dataloader = DataLoader(train_dataset, batch_size=hyperparameter['BATCH_SIZE'], sampler=sampler)\n",
    "test_dataloader = DataLoader(test_dataset, batch_size=hyperparameter['BATCH_SIZE'], shuffle=False)\n",
    "valid_dataloader = DataLoader(valid_dataset, batch_size=hyperparameter['BATCH_SIZE'], shuffle=False)"
   ]
  },
  {
   "cell_type": "code",
   "execution_count": 11,
   "metadata": {},
   "outputs": [],
   "source": [
    "class RNATransferLearning(nn.Module):\n",
    "    def __init__(self, input_dim,embedding_dim, hidden_dim,num_layers, output_dim , dropout=0.5):\n",
    "        super(RNATransferLearning, self).__init__()\n",
    "\n",
    "        #Pytroch Embedding \n",
    "        self.embedding = nn.Embedding(input_dim,embedding_dim)\n",
    "\n",
    "        #Bi-Directional LSTM Model\n",
    "        self.lstm = nn.LSTM(embedding_dim, hidden_dim,num_layers, dropout= dropout, batch_first=True )\n",
    "\n",
    "        #Fully Connected Layer   \n",
    "        self.fc = nn.Linear(hidden_dim, output_dim) \n",
    "\n",
    "        # Drop out layer for Overfitting \n",
    "        self.dropout = nn.Dropout(dropout)\n",
    "\n",
    "\n",
    "    def forward(self, x):\n",
    "\n",
    "        x  = x.long()\n",
    "\n",
    "        x_embeded =  self.embedding(x)\n",
    "        \n",
    "        lstm_out, (h,c) = self.lstm(x_embeded)\n",
    "\n",
    "        # Pass it to drop out layer \n",
    "        output = self.dropout(h[-1])\n",
    "        \n",
    "        # Finally pass it to fully connected layer.\n",
    "        out = self.fc(output)\n",
    "        \n",
    "        return out # Sequeez to Single dimension for loss calculation\n",
    "    \n",
    "\n",
    "def validate_model(model, test_dataloader , device ,loss_function):\n",
    "    model.eval()\n",
    "    running_loss = 0.0\n",
    "    class_correct = [0] * hyperparameter['OUTPUT_DIMENSION'] \n",
    "    class_total = [0] * hyperparameter['OUTPUT_DIMENSION'] \n",
    "    total = 0\n",
    "    correct = 0\n",
    "    true_labels = []\n",
    "    predicted_labels = []\n",
    "\n",
    "    with torch.no_grad():\n",
    "        for inputs, labels in test_dataloader:\n",
    "            inputs = inputs.to(device)\n",
    "            labels = labels.long().to(device)\n",
    "\n",
    "            outputs = model(inputs)\n",
    "            loss = loss_function(outputs, labels)\n",
    "            running_loss += loss.item()\n",
    "\n",
    "            _, predicted = torch.max(outputs, 1)            \n",
    "            total += labels.size(0)\n",
    "            correct += (predicted == labels).sum().item()\n",
    "\n",
    "            true_labels.extend(labels.cpu().numpy())  # Capture True Lables for Summary Report\n",
    "            predicted_labels.extend(predicted.cpu().numpy()) # Capture Predicted Labels Lables for Summary Report\n",
    "\n",
    "    validation_loss = running_loss / len(test_dataloader)\n",
    "    validation_accuracy = correct / total\n",
    "    \n",
    "    return validation_loss , validation_accuracy , true_labels , predicted_labels\n",
    "\n",
    "\n",
    "def train_model(model, train_dataloader, test_dataloader, device, epochs, optimizer, loss_function):\n",
    "    best_val_loss = float('inf')\n",
    "    no_improvement_count = 0\n",
    "\n",
    "    for epoch in range(epochs):\n",
    "        model.train()\n",
    "        running_loss = 0.0\n",
    "        start_time = time.time()\n",
    "        \n",
    "        for i, (inputs, labels) in enumerate(train_dataloader):\n",
    "            inputs = inputs.to(device)\n",
    "            labels = labels.long().to(device)\n",
    "\n",
    "            optimizer.zero_grad()\n",
    "            outputs = model(inputs) \n",
    "            loss = loss_function(outputs, labels)\n",
    "            loss.backward()\n",
    "            optimizer.step()\n",
    "\n",
    "            running_loss += loss.item()\n",
    "\n",
    "        epoch_loss = running_loss / len(train_dataloader)\n",
    "        val_loss,  validation_accuracy , true_labels , predicted_labels = validate_model(model, test_dataloader, device, loss_function) \n",
    "        end_time = time.time()\n",
    "        elapsed_time = end_time - start_time    \n",
    "        \n",
    "        print(f\"Epoch {epoch + 1}, Train Loss: {epoch_loss:.4f}, Val Loss: {val_loss:.4f}, Test Accuracy: {validation_accuracy:.4f} , Time Taken : {elapsed_time}\")\n",
    "\n",
    "        if val_loss < best_val_loss:\n",
    "            best_val_loss = val_loss\n",
    "            no_improvement_count = 0\n",
    "        else:\n",
    "            no_improvement_count += 1\n",
    "            if no_improvement_count == 3:\n",
    "                print(\"No improvement in validation loss for 3 epochs. Training stopped.\")\n",
    "                break\n",
    "\n"
   ]
  },
  {
   "cell_type": "code",
   "execution_count": 12,
   "metadata": {},
   "outputs": [
    {
     "name": "stderr",
     "output_type": "stream",
     "text": [
      "c:\\Users\\shashi.vish\\Python Environment\\RNA_ModX\\lib\\site-packages\\torch\\nn\\modules\\rnn.py:71: UserWarning: dropout option adds dropout after all but last recurrent layer, so non-zero dropout expects num_layers greater than 1, but got dropout=0.1 and num_layers=1\n",
      "  warnings.warn(\"dropout option adds dropout after all but last \"\n"
     ]
    },
    {
     "name": "stdout",
     "output_type": "stream",
     "text": [
      "Total Number of Parameters for Model Training : 188 \n",
      "Model Parameters  :  {'INPUT_DIMENSION': 4, 'HIDDEN_DIMENSION': 3, 'NO_OF_LAYERS': 1, 'BATCH_SIZE': 32, 'OUTPUT_DIMENSION': 4, 'EMBEDDING_DIMENSION': 7, 'DROP_OUT': 0.1}\n",
      "Epoch 1, Train Loss: 1.3604, Val Loss: 1.2868, Test Accuracy: 0.6796 , Time Taken : 112.36537885665894\n",
      "Epoch 2, Train Loss: 1.3565, Val Loss: 1.3123, Test Accuracy: 0.5329 , Time Taken : 98.34932374954224\n",
      "Epoch 3, Train Loss: 1.3542, Val Loss: 1.2683, Test Accuracy: 0.5302 , Time Taken : 83.228515625\n",
      "Epoch 4, Train Loss: 1.3537, Val Loss: 1.2916, Test Accuracy: 0.5185 , Time Taken : 70.33051705360413\n",
      "Epoch 5, Train Loss: 1.3538, Val Loss: 1.2991, Test Accuracy: 0.5158 , Time Taken : 65.71989297866821\n",
      "Epoch 6, Train Loss: 1.3544, Val Loss: 1.2947, Test Accuracy: 0.5158 , Time Taken : 65.53555703163147\n",
      "No improvement in validation loss for 3 epochs. Training stopped.\n"
     ]
    }
   ],
   "source": [
    "model = RNATransferLearning(input_dim=hyperparameter['INPUT_DIMENSION'],\n",
    "                            embedding_dim=hyperparameter['EMBEDDING_DIMENSION'], \n",
    "                            hidden_dim=hyperparameter['HIDDEN_DIMENSION'] , \n",
    "                            num_layers = hyperparameter['NO_OF_LAYERS'],\n",
    "                            output_dim=hyperparameter['OUTPUT_DIMENSION'],\n",
    "                            dropout=hyperparameter['DROP_OUT'] )\n",
    "\n",
    "\n",
    "loss_function = nn.CrossEntropyLoss()  ## MSELoss of Regression problem  # BCELoss for binary classification\n",
    "optimizer = optim.Adam(model.parameters() ,  lr=0.01)\n",
    "\n",
    "# Number of Parameters for Model\n",
    "total_parameters = []\n",
    "for p in model.parameters():\n",
    "    total_parameters.append(p.numel())\n",
    "\n",
    "print(f\"Total Number of Parameters for Model Training : { sum(total_parameters)} \" )\n",
    "\n",
    "# Train the model\n",
    "num_epochs = 50\n",
    "device = torch.device(\"cuda\" if torch.cuda.is_available() else \"cpu\")\n",
    "model = model.to(device)\n",
    "\n",
    "print(\"Model Parameters  : \" , hyperparameter)\n",
    "\n",
    "# Train Model with configured Parameter\n",
    "train_model(model, train_dataloader ,test_dataloader, device ,num_epochs,optimizer,loss_function)"
   ]
  },
  {
   "cell_type": "code",
   "execution_count": 12,
   "metadata": {},
   "outputs": [],
   "source": [
    "model_name = 'rna_pre_trained_model.pt'\n",
    "torch.save(model.state_dict(), model_name)"
   ]
  },
  {
   "cell_type": "code",
   "execution_count": 13,
   "metadata": {},
   "outputs": [],
   "source": [
    "# Evaluate the model on the test dataset\n",
    "_, final_accuracy, true_labels, predicted_labels = validate_model(model, valid_dataloader,device,loss_function)\n",
    "\n",
    "# Print the final accuracy\n",
    "print(f\"Final Accuracy: {final_accuracy:.4f}\")\n",
    "\n",
    "# Print the classification summary\n",
    "print(\"\\n Classification Summary:\")\n",
    "print(classification_report(true_labels, predicted_labels))"
   ]
  },
  {
   "cell_type": "code",
   "execution_count": 14,
   "metadata": {},
   "outputs": [
    {
     "name": "stderr",
     "output_type": "stream",
     "text": [
      "\u001b[32m[I 2023-06-03 16:35:30,646]\u001b[0m A new study created in memory with name: no-name-196f1d01-5050-49c9-bbf0-9d4a3efe7603\u001b[0m\n"
     ]
    },
    {
     "name": "stdout",
     "output_type": "stream",
     "text": [
      "Total Number of Parameters for Model Training: 3499936\n",
      "hyperparameter['INPUT_DIMENSION'] : 4,hyperparameter['OUTPUT_DIMENSION'] : 4,embedding_dim : 155,hidden_dim : 514,num_layers :2,dropout : 0.27461528083423375,learning_rate : 0.00012557635551129994,batch_size : 64\n"
     ]
    },
    {
     "name": "stderr",
     "output_type": "stream",
     "text": [
      "C:\\Users\\shashi.vish\\AppData\\Local\\Temp\\ipykernel_34600\\4047439607.py:14: FutureWarning: suggest_loguniform has been deprecated in v3.0.0. This feature will be removed in v6.0.0. See https://github.com/optuna/optuna/releases/tag/v3.0.0. Use :func:`~optuna.trial.Trial.suggest_float` instead.\n",
      "  learning_rate = trial.suggest_loguniform(\"learning_rate\", 1e-4, 1e-2)\n"
     ]
    }
   ],
   "source": [
    "import optuna\n",
    "\n",
    "hyperparameter = {}\n",
    "\n",
    "hyperparameter['INPUT_DIMENSION'] = 4 \n",
    "hyperparameter['OUTPUT_DIMENSION'] = 4\n",
    "\n",
    "def objective(trial):\n",
    "\n",
    "    embedding_dim = trial.suggest_int(\"embedding_dim\", 16, 300)\n",
    "    hidden_dim = trial.suggest_int(\"hidden_dim\", 32, 1024)\n",
    "    num_layers = trial.suggest_int(\"num_layers\", 1, 4)\n",
    "    dropout = trial.suggest_float(\"dropout\", 0.1, 0.5)\n",
    "    learning_rate = trial.suggest_loguniform(\"learning_rate\", 1e-4, 1e-2)\n",
    "    batch_size = trial.suggest_categorical(\"batch_size\", [32, 64, 256 , 512])\n",
    "\n",
    "    model = RNATransferLearning(\n",
    "        input_dim=hyperparameter['INPUT_DIMENSION'],\n",
    "        embedding_dim=embedding_dim,\n",
    "        hidden_dim=hidden_dim,\n",
    "        num_layers=num_layers,\n",
    "        output_dim=hyperparameter['OUTPUT_DIMENSION'],\n",
    "        dropout=dropout\n",
    "    )\n",
    "\n",
    "    train_dataloader = DataLoader(train_dataset, batch_size=batch_size, sampler=sampler)\n",
    "    test_dataloader = DataLoader(test_dataset, batch_size=batch_size, shuffle=False)\n",
    "    valid_dataloader = DataLoader(valid_dataset, batch_size=batch_size, shuffle=False)\n",
    "\n",
    "    loss_function = nn.CrossEntropyLoss()\n",
    "    optimizer = optim.Adam(model.parameters(), lr=learning_rate)\n",
    "\n",
    "    total_parameters = sum(p.numel() for p in model.parameters())\n",
    "    print(f\"Total Number of Parameters for Model Training: {total_parameters}\")\n",
    "\n",
    "    num_epochs = 100\n",
    "    device = torch.device(\"cuda\" if torch.cuda.is_available() else \"cpu\")\n",
    "    model = model.to(device)\n",
    "\n",
    "    print(f\"hyperparameter['INPUT_DIMENSION'] : {hyperparameter['INPUT_DIMENSION']},hyperparameter['OUTPUT_DIMENSION'] : {hyperparameter['OUTPUT_DIMENSION']},embedding_dim : {embedding_dim},hidden_dim : {hidden_dim},num_layers :{num_layers},dropout : {dropout},learning_rate : {learning_rate},batch_size : {batch_size}\")\n",
    "\n",
    "    train_model(model, train_dataloader ,test_dataloader, device ,num_epochs,optimizer,loss_function)\n",
    "    val_loss, _, _, _ = validate_model(model, test_dataloader, device, loss_function)\n",
    "\n",
    "    return val_loss\n",
    "\n",
    "\n",
    "study = optuna.create_study(direction='minimize')\n",
    "study.optimize(objective, n_trials=50)\n",
    "\n",
    "print(\"Best trial:\")\n",
    "trial = study.best_trial\n",
    "print(f\"  Value: {trial.value:.4f}\")\n",
    "print(\"  Params:\")\n",
    "for key, value in trial.params.items():\n",
    "    print(f\"    {key}: {value}\")\n"
   ]
  },
  {
   "cell_type": "code",
   "execution_count": null,
   "metadata": {},
   "outputs": [],
   "source": [
    "window_size = 1000\n",
    "target_size = 1\n",
    "model_name = \"model_feature_windoe_\"+str(window_size)+\"_target_\"+str(target_size)\n",
    "torch.save(model.state_dict, model_name)"
   ]
  }
 ],
 "metadata": {
  "kernelspec": {
   "display_name": "RNA_ModX",
   "language": "python",
   "name": "python3"
  },
  "language_info": {
   "codemirror_mode": {
    "name": "ipython",
    "version": 3
   },
   "file_extension": ".py",
   "mimetype": "text/x-python",
   "name": "python",
   "nbconvert_exporter": "python",
   "pygments_lexer": "ipython3",
   "version": "3.10.5"
  },
  "orig_nbformat": 4
 },
 "nbformat": 4,
 "nbformat_minor": 2
}
