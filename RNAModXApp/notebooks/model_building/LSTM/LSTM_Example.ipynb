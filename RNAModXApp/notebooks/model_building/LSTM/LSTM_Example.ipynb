{
 "cells": [
  {
   "cell_type": "code",
   "execution_count": 80,
   "metadata": {},
   "outputs": [],
   "source": [
    "import torch\n",
    "import torch.nn as nn\n",
    "import numpy as np\n",
    "from sklearn.preprocessing import LabelEncoder\n",
    "import torch.nn.functional as F\n",
    "from sklearn.metrics import confusion_matrix, ConfusionMatrixDisplay"
   ]
  },
  {
   "cell_type": "code",
   "execution_count": 81,
   "metadata": {},
   "outputs": [],
   "source": [
    "rna_sequnce = ['ACT','GTU' , 'AUN']"
   ]
  },
  {
   "cell_type": "code",
   "execution_count": 82,
   "metadata": {},
   "outputs": [
    {
     "data": {
      "text/plain": [
       "tensor([[1, 0, 0, 0, 0, 1, 0, 0, 0, 0, 0, 1],\n",
       "        [0, 0, 1, 0, 0, 0, 0, 1, 0, 0, 0, 1],\n",
       "        [1, 0, 0, 0, 0, 0, 0, 1, 0, 0, 0, 0]], dtype=torch.int32)"
      ]
     },
     "execution_count": 82,
     "metadata": {},
     "output_type": "execute_result"
    }
   ],
   "source": [
    "def encode_seq(kmer_token):\n",
    "\n",
    "    # A 1 0 0 0\n",
    "    # C 0 1 0 0\n",
    "    # T/U 0 0 0 1\n",
    "    # G 0 0 1 0\n",
    "    # N 0 0 0 0\n",
    "\n",
    "    encoding_dict = {\n",
    "        'A': [1, 0, 0, 0],\n",
    "        'C': [0, 1, 0, 0],\n",
    "        'G': [0, 0, 1, 0],\n",
    "        'T': [0, 0, 0, 1],\n",
    "        'U': [0, 0, 0, 1],\n",
    "        'N': [0, 0, 0, 0],\n",
    "    }\n",
    "\n",
    "    encoded_sequence = []\n",
    "    for  base in kmer_token:\n",
    "        encoded_sequence.append(encoding_dict[base])\n",
    "    return np.array(encoded_sequence).flatten()\n",
    "\n",
    "x = []\n",
    "for seq in rna_sequnce:\n",
    "    x.append(encode_seq(seq))\n",
    "x = torch.from_numpy( np.array(x))\n",
    "x"
   ]
  },
  {
   "cell_type": "code",
   "execution_count": 83,
   "metadata": {},
   "outputs": [
    {
     "data": {
      "text/plain": [
       "tensor([2, 0, 1])"
      ]
     },
     "execution_count": 83,
     "metadata": {},
     "output_type": "execute_result"
    }
   ],
   "source": [
    "labels = ['red','blue','green']\n",
    "le = LabelEncoder()\n",
    "y = le.fit_transform(labels)\n",
    "y = torch.from_numpy(np.array(y))\n",
    "y "
   ]
  },
  {
   "attachments": {},
   "cell_type": "markdown",
   "metadata": {},
   "source": [
    "# Single Directional LSTM"
   ]
  },
  {
   "cell_type": "code",
   "execution_count": 5,
   "metadata": {},
   "outputs": [],
   "source": [
    "hidden_dim = 3\n",
    "embedding_dim = 7\n",
    "input_dim = 12\n",
    "\n",
    "embedding = nn.Embedding(input_dim, embedding_dim, padding_idx=0)\n",
    "lstm = nn.LSTM(input_size=embedding_dim, hidden_size=hidden_dim, num_layers=1, batch_first=True )\n",
    "fc = nn.Linear(hidden_dim, 3) "
   ]
  },
  {
   "cell_type": "code",
   "execution_count": 6,
   "metadata": {},
   "outputs": [
    {
     "name": "stdout",
     "output_type": "stream",
     "text": [
      "torch.Size([3, 12, 7])\n"
     ]
    }
   ],
   "source": [
    "embedding_out =  embedding(x)\n",
    "print(embedding_out.shape)"
   ]
  },
  {
   "cell_type": "code",
   "execution_count": 7,
   "metadata": {},
   "outputs": [
    {
     "name": "stdout",
     "output_type": "stream",
     "text": [
      "torch.Size([1, 3, 3])\n"
     ]
    },
    {
     "data": {
      "text/plain": [
       "tensor([[-0.0884, -0.0207,  0.2398],\n",
       "        [-0.0889, -0.0208,  0.2397],\n",
       "        [-0.0785,  0.0167,  0.1937]], grad_fn=<SelectBackward0>)"
      ]
     },
     "execution_count": 7,
     "metadata": {},
     "output_type": "execute_result"
    }
   ],
   "source": [
    "lstm_out , (h,c) = lstm(embedding_out)\n",
    "\n",
    "print(h.shape)\n",
    "h[-1] # In case of Bi Directional use both output"
   ]
  },
  {
   "cell_type": "code",
   "execution_count": 8,
   "metadata": {},
   "outputs": [
    {
     "data": {
      "text/plain": [
       "tensor([[-0.1269,  0.3245, -0.6476],\n",
       "        [-0.1269,  0.3247, -0.6477],\n",
       "        [-0.1268,  0.3313, -0.6388]], grad_fn=<AddmmBackward0>)"
      ]
     },
     "execution_count": 8,
     "metadata": {},
     "output_type": "execute_result"
    }
   ],
   "source": [
    "outputs = fc(h[-1])\n",
    "outputs"
   ]
  },
  {
   "cell_type": "code",
   "execution_count": 9,
   "metadata": {},
   "outputs": [
    {
     "data": {
      "text/plain": [
       "tensor([1, 1, 1])"
      ]
     },
     "execution_count": 9,
     "metadata": {},
     "output_type": "execute_result"
    }
   ],
   "source": [
    "\n",
    "_, predicted = torch.max(outputs,1)\n",
    "predicted"
   ]
  },
  {
   "cell_type": "code",
   "execution_count": 10,
   "metadata": {},
   "outputs": [
    {
     "data": {
      "text/plain": [
       "1.1746009588241577"
      ]
     },
     "execution_count": 10,
     "metadata": {},
     "output_type": "execute_result"
    }
   ],
   "source": [
    "loss_function = nn.CrossEntropyLoss()\n",
    "loss = loss_function(outputs, y)\n",
    "loss.item()"
   ]
  },
  {
   "attachments": {},
   "cell_type": "markdown",
   "metadata": {},
   "source": [
    "# Bi-Directional LSTM with Attention"
   ]
  },
  {
   "cell_type": "code",
   "execution_count": 84,
   "metadata": {},
   "outputs": [],
   "source": [
    "hidden_dim = 3\n",
    "embedding_dim = 7\n",
    "input_dim = 4\n",
    "\n",
    "b_embedding = nn.Embedding(input_dim, embedding_dim, padding_idx=0)\n",
    "b_lstm = nn.LSTM(input_size=embedding_dim, hidden_size=hidden_dim, num_layers=1, batch_first=True , bidirectional=True )\n",
    "b_fc = nn.Linear(hidden_dim, 3) "
   ]
  },
  {
   "cell_type": "code",
   "execution_count": 85,
   "metadata": {},
   "outputs": [
    {
     "name": "stdout",
     "output_type": "stream",
     "text": [
      "torch.Size([3, 12, 7])\n"
     ]
    }
   ],
   "source": [
    "b_embedding_out =  b_embedding(x)\n",
    "print(b_embedding_out.shape)"
   ]
  },
  {
   "cell_type": "code",
   "execution_count": 87,
   "metadata": {},
   "outputs": [
    {
     "name": "stdout",
     "output_type": "stream",
     "text": [
      "Shape of h :  tensor([[[-0.0891,  0.1734,  0.2396],\n",
      "         [-0.0882,  0.1732,  0.2407],\n",
      "         [-0.0251,  0.1378,  0.1418]],\n",
      "\n",
      "        [[-0.0999, -0.2144, -0.2372],\n",
      "         [-0.0851,  0.0653, -0.3096],\n",
      "         [-0.1017, -0.2127, -0.2367]]], grad_fn=<StackBackward0>)\n"
     ]
    },
    {
     "data": {
      "text/plain": [
       "tensor([[-0.0891,  0.1734,  0.2396, -0.0999, -0.2144, -0.2372],\n",
       "        [-0.0882,  0.1732,  0.2407, -0.0851,  0.0653, -0.3096],\n",
       "        [-0.0251,  0.1378,  0.1418, -0.1017, -0.2127, -0.2367]],\n",
       "       grad_fn=<CatBackward0>)"
      ]
     },
     "execution_count": 87,
     "metadata": {},
     "output_type": "execute_result"
    }
   ],
   "source": [
    "b_lstm_out , (h,c) = b_lstm(b_embedding_out)\n",
    "\n",
    "#b_lstm_out , (h,c) = b_lstm(x)\n",
    "\n",
    "print('Shape of h : ' , h)\n",
    "\n",
    "#       [[[ 0.1242,  0.0155,  0.1971],\n",
    "#          [ 0.1305,  0.0160,  0.2074],\n",
    "#          [ 0.1432, -0.0180, -0.1529]],\n",
    "\n",
    "#         [[ 0.0721, -0.3585, -0.2495],\n",
    "#          [-0.0041, -0.4517, -0.1265],\n",
    "#          [ 0.0710, -0.3557, -0.2356]]]\n",
    "\n",
    "#b_h = torch.cat(h[-2:], dim=1)\n",
    "b_h = torch.cat((h[-2, :, :], h[-1, :, :]), dim=1)\n",
    "\n",
    "b_h"
   ]
  },
  {
   "cell_type": "code",
   "execution_count": 88,
   "metadata": {},
   "outputs": [],
   "source": [
    "class BahdanauAttention(nn.Module):\n",
    "    def __init__(self, hidden_dim):\n",
    "        super(BahdanauAttention, self).__init__()\n",
    "        self.W = nn.Linear(hidden_dim, hidden_dim)\n",
    "        self.v = nn.Linear(hidden_dim, 1)\n",
    "\n",
    "    def forward(self, hidden, encoder_outputs):\n",
    "        hidden = hidden.unsqueeze(1)\n",
    "        hidden = hidden.expand(-1, encoder_outputs.size(1), -1)\n",
    "        alignment_scores = self.v(torch.tanh(self.W(hidden + encoder_outputs)))\n",
    "        attention_weights = F.softmax(alignment_scores, dim=1)\n",
    "        context_vector = torch.sum(attention_weights * encoder_outputs, dim=1)\n",
    "        return context_vector, attention_weights\n",
    "\n",
    "\n",
    "\n"
   ]
  },
  {
   "cell_type": "code",
   "execution_count": 89,
   "metadata": {},
   "outputs": [
    {
     "data": {
      "text/plain": [
       "tensor([[-0.0428,  0.1476,  0.1629, -0.0847,  0.0052, -0.2676],\n",
       "        [-0.0422,  0.1445,  0.1648, -0.0801, -0.0019, -0.2723],\n",
       "        [-0.0377,  0.1448,  0.1550, -0.0869,  0.0398, -0.2595]],\n",
       "       grad_fn=<SumBackward1>)"
      ]
     },
     "execution_count": 89,
     "metadata": {},
     "output_type": "execute_result"
    }
   ],
   "source": [
    "attention = BahdanauAttention(2 * hidden_dim)\n",
    "context_vector , weights = attention(b_h , b_lstm_out)\n",
    "context_vector"
   ]
  },
  {
   "cell_type": "code",
   "execution_count": 90,
   "metadata": {},
   "outputs": [
    {
     "data": {
      "text/plain": [
       "tensor([[-0.3420, -0.4857, -0.4658],\n",
       "        [-0.1950, -0.6210, -0.4450],\n",
       "        [-0.3405, -0.4859, -0.4652]], grad_fn=<AddmmBackward0>)"
      ]
     },
     "execution_count": 90,
     "metadata": {},
     "output_type": "execute_result"
    }
   ],
   "source": [
    "outputs = b_fc(h[-1])\n",
    "outputs\n"
   ]
  },
  {
   "cell_type": "code",
   "execution_count": 17,
   "metadata": {},
   "outputs": [
    {
     "name": "stdout",
     "output_type": "stream",
     "text": [
      "1\n"
     ]
    },
    {
     "data": {
      "text/plain": [
       "array([2, 0, 1], dtype=int64)"
      ]
     },
     "execution_count": 17,
     "metadata": {},
     "output_type": "execute_result"
    }
   ],
   "source": [
    "correct = 0\n",
    "values ,index = torch.max(outputs , dim=1)\n",
    "correct += (index == y).sum().item()\n",
    "print(correct)\n",
    "\n",
    "y.cpu().numpy()"
   ]
  },
  {
   "cell_type": "code",
   "execution_count": 18,
   "metadata": {},
   "outputs": [
    {
     "name": "stdout",
     "output_type": "stream",
     "text": [
      "Outpt  tensor([[ 0.3922, -0.4052,  0.1402],\n",
      "        [ 0.3917, -0.3942,  0.1355],\n",
      "        [ 0.3964, -0.4184,  0.1430]], grad_fn=<AddmmBackward0>)\n",
      "labels tensor([2, 0, 1])\n"
     ]
    },
    {
     "data": {
      "text/plain": [
       "1.1555474996566772"
      ]
     },
     "execution_count": 18,
     "metadata": {},
     "output_type": "execute_result"
    }
   ],
   "source": [
    "loss_function = nn.CrossEntropyLoss()\n",
    "print(\"Outpt \" , outputs)\n",
    "print(\"labels\" , y)\n",
    "loss = loss_function(outputs, y)\n",
    "loss.item()"
   ]
  },
  {
   "attachments": {},
   "cell_type": "markdown",
   "metadata": {},
   "source": [
    "# Mult Task Learning"
   ]
  },
  {
   "cell_type": "code",
   "execution_count": 19,
   "metadata": {},
   "outputs": [
    {
     "data": {
      "text/plain": [
       "tensor([2, 0, 1])"
      ]
     },
     "execution_count": 19,
     "metadata": {},
     "output_type": "execute_result"
    }
   ],
   "source": [
    "y"
   ]
  },
  {
   "cell_type": "code",
   "execution_count": 20,
   "metadata": {},
   "outputs": [],
   "source": [
    "input_dim = 4\n",
    "embedding_dim = 7\n",
    "input_dim = 12\n",
    "hidden_dim = 4\n",
    "NUM_OF_TASK = 13\n",
    "\n",
    "embedding = nn.Embedding(input_dim, embedding_dim, padding_idx=0)\n",
    "lstm = nn.LSTM(input_size=embedding_dim, hidden_size=hidden_dim, num_layers=1, batch_first=True )\n",
    "single_fc = nn.Linear(hidden_dim, 1) \n",
    "fc = nn.ModuleList([nn.Linear(hidden_dim, 1) for _ in range(NUM_OF_TASK)])"
   ]
  },
  {
   "cell_type": "code",
   "execution_count": 21,
   "metadata": {},
   "outputs": [
    {
     "data": {
      "text/plain": [
       "torch.Size([3, 12, 7])"
      ]
     },
     "execution_count": 21,
     "metadata": {},
     "output_type": "execute_result"
    }
   ],
   "source": [
    "embedding_output = embedding(x)\n",
    "embedding_output.shape"
   ]
  },
  {
   "cell_type": "code",
   "execution_count": 22,
   "metadata": {},
   "outputs": [
    {
     "data": {
      "text/plain": [
       "tensor([[-0.0589, -0.3542, -0.3258,  0.2744],\n",
       "        [-0.0658, -0.3515, -0.3269,  0.2750],\n",
       "        [ 0.0642, -0.2921, -0.3702,  0.3300]], grad_fn=<SqueezeBackward1>)"
      ]
     },
     "execution_count": 22,
     "metadata": {},
     "output_type": "execute_result"
    }
   ],
   "source": [
    "_ , (h,c) = lstm(embedding_output)\n",
    "\n",
    "h[-1].squeeze(1)"
   ]
  },
  {
   "cell_type": "code",
   "execution_count": 23,
   "metadata": {},
   "outputs": [
    {
     "data": {
      "text/plain": [
       "tensor([0.3402, 0.3365, 0.3581], grad_fn=<SqueezeBackward1>)"
      ]
     },
     "execution_count": 23,
     "metadata": {},
     "output_type": "execute_result"
    }
   ],
   "source": [
    "single_out = single_fc(h[-1])\n",
    "single_out.squeeze(1)"
   ]
  },
  {
   "cell_type": "code",
   "execution_count": 24,
   "metadata": {},
   "outputs": [
    {
     "data": {
      "text/plain": [
       "[tensor([-0.4453, -0.4454, -0.4269], grad_fn=<SqueezeBackward1>),\n",
       " tensor([0.0493, 0.0497, 0.1263], grad_fn=<SqueezeBackward1>),\n",
       " tensor([0.2087, 0.2090, 0.2779], grad_fn=<SqueezeBackward1>),\n",
       " tensor([0.1656, 0.1700, 0.1541], grad_fn=<SqueezeBackward1>),\n",
       " tensor([-0.2392, -0.2382, -0.1995], grad_fn=<SqueezeBackward1>),\n",
       " tensor([-0.3273, -0.3264, -0.4461], grad_fn=<SqueezeBackward1>),\n",
       " tensor([-0.0330, -0.0315, -0.0316], grad_fn=<SqueezeBackward1>),\n",
       " tensor([-0.0724, -0.0731, -0.0576], grad_fn=<SqueezeBackward1>),\n",
       " tensor([-0.1617, -0.1585, -0.1867], grad_fn=<SqueezeBackward1>),\n",
       " tensor([-0.5283, -0.5299, -0.5693], grad_fn=<SqueezeBackward1>),\n",
       " tensor([0.0514, 0.0502, 0.1477], grad_fn=<SqueezeBackward1>),\n",
       " tensor([-0.1437, -0.1453, -0.0875], grad_fn=<SqueezeBackward1>),\n",
       " tensor([-0.5841, -0.5838, -0.5693], grad_fn=<SqueezeBackward1>)]"
      ]
     },
     "execution_count": 24,
     "metadata": {},
     "output_type": "execute_result"
    }
   ],
   "source": [
    "out = []\n",
    "for f in fc:\n",
    "    out.append(f(h[-1]).squeeze(1)) \n",
    "out"
   ]
  },
  {
   "cell_type": "code",
   "execution_count": 25,
   "metadata": {},
   "outputs": [
    {
     "name": "stdout",
     "output_type": "stream",
     "text": [
      "Output  tensor([-0.4453, -0.4454, -0.4269], grad_fn=<SqueezeBackward1>)\n",
      "Label  tensor([0., 0., 1.])\n",
      "Output  tensor([0.0493, 0.0497, 0.1263], grad_fn=<SqueezeBackward1>)\n",
      "Label  tensor([0., 0., 0.])\n",
      "Output  tensor([0.2087, 0.2090, 0.2779], grad_fn=<SqueezeBackward1>)\n",
      "Label  tensor([0., 0., 0.])\n",
      "Output  tensor([0.1656, 0.1700, 0.1541], grad_fn=<SqueezeBackward1>)\n",
      "Label  tensor([0., 0., 0.])\n",
      "Output  tensor([-0.2392, -0.2382, -0.1995], grad_fn=<SqueezeBackward1>)\n",
      "Label  tensor([0., 0., 0.])\n",
      "Output  tensor([-0.3273, -0.3264, -0.4461], grad_fn=<SqueezeBackward1>)\n",
      "Label  tensor([0., 0., 0.])\n",
      "Output  tensor([-0.0330, -0.0315, -0.0316], grad_fn=<SqueezeBackward1>)\n",
      "Label  tensor([0., 0., 0.])\n",
      "Output  tensor([-0.0724, -0.0731, -0.0576], grad_fn=<SqueezeBackward1>)\n",
      "Label  tensor([1., 1., 0.])\n",
      "Output  tensor([-0.1617, -0.1585, -0.1867], grad_fn=<SqueezeBackward1>)\n",
      "Label  tensor([0., 0., 0.])\n",
      "Output  tensor([-0.5283, -0.5299, -0.5693], grad_fn=<SqueezeBackward1>)\n",
      "Label  tensor([0., 0., 0.])\n",
      "Output  tensor([0.0514, 0.0502, 0.1477], grad_fn=<SqueezeBackward1>)\n",
      "Label  tensor([0., 0., 0.])\n",
      "Output  tensor([-0.1437, -0.1453, -0.0875], grad_fn=<SqueezeBackward1>)\n",
      "Label  tensor([0., 0., 0.])\n",
      "Output  tensor([-0.5841, -0.5838, -0.5693], grad_fn=<SqueezeBackward1>)\n",
      "Label  tensor([0., 0., 0.])\n"
     ]
    }
   ],
   "source": [
    "import torch\n",
    "\n",
    "data = [\n",
    "    [0., 0., 0., 0., 0., 0., 0., 1., 0., 0., 0., 0.,0.],\n",
    "    [0., 0., 0., 0., 0., 0., 0., 1., 0., 0., 0., 0.,0.],\n",
    "    [1., 0., 0., 0., 0., 0., 0., 0., 0., 0., 0., 0.,0.]\n",
    "  \n",
    "]\n",
    "\n",
    "labels = torch.tensor(data)\n",
    "\n",
    "NUM_OF_TASK = 13\n",
    "loss_functions = [nn.BCEWithLogitsLoss() for _ in range(NUM_OF_TASK)] \n",
    "\n",
    "loss =  0.0\n",
    "for i, (output, loss_func) in enumerate(zip(out, loss_functions)):\n",
    "    print(\"Output \" ,output)\n",
    "    print(\"Label \" ,labels[:, i])\n",
    "    loss += loss_func(output, labels[:, i])\n"
   ]
  },
  {
   "cell_type": "code",
   "execution_count": 26,
   "metadata": {},
   "outputs": [
    {
     "name": "stdout",
     "output_type": "stream",
     "text": [
      "tensor([[0., 0., 1., 0., 0., 0., 0., 0., 0., 0., 0., 0., 0.],\n",
      "        [0., 0., 1., 0., 0., 0., 0., 0., 0., 0., 0., 0., 0.],\n",
      "        [0., 0., 1., 0., 0., 0., 0., 0., 0., 0., 0., 0., 0.]])\n",
      "tensor([[0., 0., 0., 0., 0., 0., 0., 1., 0., 0., 0., 0., 0.],\n",
      "        [0., 0., 0., 0., 0., 0., 0., 1., 0., 0., 0., 0., 0.],\n",
      "        [1., 0., 0., 0., 0., 0., 0., 0., 0., 0., 0., 0., 0.]])\n"
     ]
    }
   ],
   "source": [
    "# Prediction\n",
    "import torch.nn.functional as F\n",
    "\n",
    "total = 0\n",
    "correct_predictions = [0] * NUM_OF_TASK\n",
    "\n",
    "predicted_with_highest_probabilities = []\n",
    "\n",
    "predicted = [torch.sigmoid(output) for output in out]\n",
    "\n",
    "final_predicted_lables = torch.stack(predicted).T\n",
    "\n",
    "max_indices = torch.argmax(final_predicted_lables, dim=1)\n",
    "\n",
    "# Convert indices to one-hot encoded tensor\n",
    "one_hot_tensor = F.one_hot(max_indices, num_classes=final_predicted_lables.shape[1])\n",
    "\n",
    "print(one_hot_tensor.to(torch.float))\n",
    "print(labels)\n",
    "\n"
   ]
  },
  {
   "cell_type": "code",
   "execution_count": 27,
   "metadata": {},
   "outputs": [
    {
     "name": "stderr",
     "output_type": "stream",
     "text": [
      "c:\\Users\\shashi.vish\\Python Environment\\RNA_ModX\\lib\\site-packages\\sklearn\\preprocessing\\_encoders.py:868: FutureWarning: `sparse` was renamed to `sparse_output` in version 1.2 and will be removed in 1.4. `sparse_output` is ignored unless you leave `sparse` to its default value.\n",
      "  warnings.warn(\n"
     ]
    },
    {
     "name": "stdout",
     "output_type": "stream",
     "text": [
      "['hAm' 'hAm' 'hAm']\n",
      "['hm1A' 'hm1A' 'Atol']\n",
      "{'hAm': 0.0, 'hCm': 0.0, 'hGm': 0.0, 'hTm': 0.0, 'hm1A': 0.0, 'hm5C': 0.0, 'hm5U': 0.0, 'hm6A': 0.0, 'hm6Am': 0.0, 'hm7G': 0.0, 'hPsi': 0.0, 'Atol': 0.0, 'NonMoD': 0.0}\n"
     ]
    },
    {
     "data": {
      "image/png": "[encoded data removed]",
      "text/plain": [
       "<Figure size 640x480 with 2 Axes>"
      ]
     },
     "metadata": {},
     "output_type": "display_data"
    }
   ],
   "source": [
    "RMs = ['hAm','hCm','hGm','hTm','hm1A','hm5C','hm5U','hm6A','hm6Am','hm7G','hPsi','Atol','NonMoD']\n",
    "from sklearn.preprocessing import OneHotEncoder\n",
    "\n",
    "ohe = OneHotEncoder(sparse=False)\n",
    "y = ohe.fit_transform(np.array(RMs).reshape(-1, 1)) # adding reshape here\n",
    "\n",
    "original_preds = []\n",
    "original_labels = []\n",
    "\n",
    "original_preds.extend(ohe.inverse_transform(one_hot_tensor.cpu().numpy()))  \n",
    "original_labels.extend(ohe.inverse_transform(labels.cpu().numpy()))\n",
    "\n",
    "cm = confusion_matrix(original_labels, original_preds, labels=RMs)\n",
    "disp = ConfusionMatrixDisplay(confusion_matrix=cm,\n",
    "                              display_labels=RMs)\n",
    "disp.plot()\n",
    "\n",
    "original_preds = np.array(original_preds).flatten()\n",
    "original_labels = np.array(original_labels).flatten()\n",
    "\n",
    "print(original_preds)\n",
    "print(original_labels)\n",
    "\n",
    "class_accuracies = []\n",
    "for i in RMs:\n",
    "    class_indices = np.where(np.array(original_labels) == i)\n",
    "    if len(class_indices[0]) > 0:\n",
    "        acc = (np.array(original_preds)[class_indices] == i).mean()\n",
    "    else:\n",
    "        acc = 0.0\n",
    "    class_accuracies.append(acc)\n",
    "\n",
    "validation_accuracy = {}\n",
    "for rm, acc in zip(RMs, class_accuracies):\n",
    "    validation_accuracy[rm] = acc\n",
    "\n",
    "print(validation_accuracy)\n",
    "\n"
   ]
  }
 ],
 "metadata": {
  "kernelspec": {
   "display_name": "RNA_ModX",
   "language": "python",
   "name": "python3"
  },
  "language_info": {
   "codemirror_mode": {
    "name": "ipython",
    "version": 3
   },
   "file_extension": ".py",
   "mimetype": "text/x-python",
   "name": "python",
   "nbconvert_exporter": "python",
   "pygments_lexer": "ipython3",
   "version": "3.10.5"
  },
  "orig_nbformat": 4
 },
 "nbformat": 4,
 "nbformat_minor": 2
}
