{
 "cells": [
  {
   "cell_type": "code",
   "execution_count": 57,
   "metadata": {},
   "outputs": [],
   "source": [
    "import torch\n",
    "import torch.nn as nn\n",
    "import numpy as np\n",
    "from sklearn.preprocessing import LabelEncoder\n",
    "import torch.nn.functional as F\n",
    "from sklearn.metrics import confusion_matrix, ConfusionMatrixDisplay"
   ]
  },
  {
   "cell_type": "code",
   "execution_count": 3,
   "metadata": {},
   "outputs": [],
   "source": [
    "rna_sequnce = ['ACT','GTU' , 'AUN']"
   ]
  },
  {
   "cell_type": "code",
   "execution_count": 4,
   "metadata": {},
   "outputs": [
    {
     "data": {
      "text/plain": [
       "tensor([[1, 0, 0, 0, 0, 1, 0, 0, 0, 0, 0, 1],\n",
       "        [0, 0, 1, 0, 0, 0, 0, 1, 0, 0, 0, 1],\n",
       "        [1, 0, 0, 0, 0, 0, 0, 1, 0, 0, 0, 0]], dtype=torch.int32)"
      ]
     },
     "execution_count": 4,
     "metadata": {},
     "output_type": "execute_result"
    }
   ],
   "source": [
    "def encode_seq(kmer_token):\n",
    "\n",
    "    # A 1 0 0 0\n",
    "    # C 0 1 0 0\n",
    "    # T/U 0 0 0 1\n",
    "    # G 0 0 1 0\n",
    "    # N 0 0 0 0\n",
    "\n",
    "    encoding_dict = {\n",
    "        'A': [1, 0, 0, 0],\n",
    "        'C': [0, 1, 0, 0],\n",
    "        'G': [0, 0, 1, 0],\n",
    "        'T': [0, 0, 0, 1],\n",
    "        'U': [0, 0, 0, 1],\n",
    "        'N': [0, 0, 0, 0],\n",
    "    }\n",
    "\n",
    "    encoded_sequence = []\n",
    "    for  base in kmer_token:\n",
    "        encoded_sequence.append(encoding_dict[base])\n",
    "    return np.array(encoded_sequence).flatten()\n",
    "\n",
    "x = []\n",
    "for seq in rna_sequnce:\n",
    "    x.append(encode_seq(seq))\n",
    "x = torch.from_numpy( np.array(x))\n",
    "x"
   ]
  },
  {
   "cell_type": "code",
   "execution_count": 5,
   "metadata": {},
   "outputs": [
    {
     "data": {
      "text/plain": [
       "tensor([2, 0, 1])"
      ]
     },
     "execution_count": 5,
     "metadata": {},
     "output_type": "execute_result"
    }
   ],
   "source": [
    "labels = ['red','blue','green']\n",
    "le = LabelEncoder()\n",
    "y = le.fit_transform(labels)\n",
    "y = torch.from_numpy(np.array(y))\n",
    "y "
   ]
  },
  {
   "attachments": {},
   "cell_type": "markdown",
   "metadata": {},
   "source": [
    "# Single Directional LSTM"
   ]
  },
  {
   "cell_type": "code",
   "execution_count": 28,
   "metadata": {},
   "outputs": [],
   "source": [
    "hidden_dim = 3\n",
    "embedding_dim = 7\n",
    "input_dim = 12\n",
    "\n",
    "embedding = nn.Embedding(input_dim, embedding_dim, padding_idx=0)\n",
    "lstm = nn.LSTM(input_size=embedding_dim, hidden_size=hidden_dim, num_layers=1, batch_first=True )\n",
    "fc = nn.Linear(hidden_dim, 3) "
   ]
  },
  {
   "cell_type": "code",
   "execution_count": 29,
   "metadata": {},
   "outputs": [
    {
     "name": "stdout",
     "output_type": "stream",
     "text": [
      "torch.Size([3, 12, 7])\n"
     ]
    }
   ],
   "source": [
    "embedding_out =  embedding(x)\n",
    "print(embedding_out.shape)"
   ]
  },
  {
   "cell_type": "code",
   "execution_count": 30,
   "metadata": {},
   "outputs": [
    {
     "name": "stdout",
     "output_type": "stream",
     "text": [
      "torch.Size([1, 3, 3])\n"
     ]
    },
    {
     "data": {
      "text/plain": [
       "tensor([[ 0.2008,  0.0720, -0.1406],\n",
       "        [ 0.2047,  0.0723, -0.1446],\n",
       "        [ 0.0957, -0.0391, -0.1759]], grad_fn=<SelectBackward0>)"
      ]
     },
     "execution_count": 30,
     "metadata": {},
     "output_type": "execute_result"
    }
   ],
   "source": [
    "lstm_out , (h,c) = lstm(embedding_out)\n",
    "\n",
    "print(h.shape)\n",
    "h[-1] # In case of Bi Directional use both output"
   ]
  },
  {
   "cell_type": "code",
   "execution_count": 9,
   "metadata": {},
   "outputs": [
    {
     "data": {
      "text/plain": [
       "tensor([[0.3529, 0.3054, 0.3562],\n",
       "        [0.3561, 0.3049, 0.3573],\n",
       "        [0.2824, 0.2879, 0.4239]], grad_fn=<AddmmBackward0>)"
      ]
     },
     "execution_count": 9,
     "metadata": {},
     "output_type": "execute_result"
    }
   ],
   "source": [
    "outputs = fc(h[-1])\n",
    "outputs"
   ]
  },
  {
   "cell_type": "code",
   "execution_count": 24,
   "metadata": {},
   "outputs": [
    {
     "data": {
      "text/plain": [
       "tensor([2, 2, 2])"
      ]
     },
     "execution_count": 24,
     "metadata": {},
     "output_type": "execute_result"
    }
   ],
   "source": [
    "\n",
    "_, predicted = torch.max(outputs,1)\n",
    "predicted"
   ]
  },
  {
   "cell_type": "code",
   "execution_count": 11,
   "metadata": {},
   "outputs": [
    {
     "data": {
      "text/plain": [
       "1.1024527549743652"
      ]
     },
     "execution_count": 11,
     "metadata": {},
     "output_type": "execute_result"
    }
   ],
   "source": [
    "loss_function = nn.CrossEntropyLoss()\n",
    "loss = loss_function(outputs, y)\n",
    "loss.item()"
   ]
  },
  {
   "attachments": {},
   "cell_type": "markdown",
   "metadata": {},
   "source": [
    "# Bi-Directional LSTM with Attention"
   ]
  },
  {
   "cell_type": "code",
   "execution_count": 12,
   "metadata": {},
   "outputs": [],
   "source": [
    "hidden_dim = 3\n",
    "embedding_dim = 7\n",
    "input_dim = 12\n",
    "\n",
    "b_embedding = nn.Embedding(input_dim, embedding_dim, padding_idx=0)\n",
    "b_lstm = nn.LSTM(input_size=embedding_dim, hidden_size=hidden_dim, num_layers=1, batch_first=True , bidirectional=True )\n",
    "b_fc = nn.Linear(2*hidden_dim, 3) "
   ]
  },
  {
   "cell_type": "code",
   "execution_count": 13,
   "metadata": {},
   "outputs": [
    {
     "name": "stdout",
     "output_type": "stream",
     "text": [
      "torch.Size([3, 12, 7])\n"
     ]
    }
   ],
   "source": [
    "b_embedding_out =  embedding(x)\n",
    "print(b_embedding_out.shape)"
   ]
  },
  {
   "cell_type": "code",
   "execution_count": 14,
   "metadata": {},
   "outputs": [
    {
     "ename": "IndexError",
     "evalue": "index -2 is out of bounds for dimension 0 with size 1",
     "output_type": "error",
     "traceback": [
      "\u001b[1;31m---------------------------------------------------------------------------\u001b[0m",
      "\u001b[1;31mIndexError\u001b[0m                                Traceback (most recent call last)",
      "Cell \u001b[1;32mIn[14], line 11\u001b[0m\n\u001b[0;32m      1\u001b[0m b_lstm_out , (h,c) \u001b[39m=\u001b[39m lstm(embedding_out)\n\u001b[0;32m      3\u001b[0m \u001b[39m#       [[[ 0.1242,  0.0155,  0.1971],\u001b[39;00m\n\u001b[0;32m      4\u001b[0m \u001b[39m#          [ 0.1305,  0.0160,  0.2074],\u001b[39;00m\n\u001b[0;32m      5\u001b[0m \u001b[39m#          [ 0.1432, -0.0180, -0.1529]],\u001b[39;00m\n\u001b[1;32m   (...)\u001b[0m\n\u001b[0;32m      8\u001b[0m \u001b[39m#          [-0.0041, -0.4517, -0.1265],\u001b[39;00m\n\u001b[0;32m      9\u001b[0m \u001b[39m#          [ 0.0710, -0.3557, -0.2356]]]\u001b[39;00m\n\u001b[1;32m---> 11\u001b[0m b_h \u001b[39m=\u001b[39m torch\u001b[39m.\u001b[39mcat((h[\u001b[39m-\u001b[39;49m\u001b[39m2\u001b[39;49m, :, :], h[\u001b[39m-\u001b[39m\u001b[39m1\u001b[39m, :, :]), dim\u001b[39m=\u001b[39m\u001b[39m1\u001b[39m)\n\u001b[0;32m     12\u001b[0m b_h\n",
      "\u001b[1;31mIndexError\u001b[0m: index -2 is out of bounds for dimension 0 with size 1"
     ]
    }
   ],
   "source": [
    "b_lstm_out , (h,c) = lstm(embedding_out)\n",
    "\n",
    "#       [[[ 0.1242,  0.0155,  0.1971],\n",
    "#          [ 0.1305,  0.0160,  0.2074],\n",
    "#          [ 0.1432, -0.0180, -0.1529]],\n",
    "\n",
    "#         [[ 0.0721, -0.3585, -0.2495],\n",
    "#          [-0.0041, -0.4517, -0.1265],\n",
    "#          [ 0.0710, -0.3557, -0.2356]]]\n",
    "\n",
    "b_h = torch.cat((h[-2, :, :], h[-1, :, :]), dim=1)\n",
    "b_h"
   ]
  },
  {
   "cell_type": "code",
   "execution_count": null,
   "metadata": {},
   "outputs": [],
   "source": [
    "class BahdanauAttention(nn.Module):\n",
    "    def __init__(self, hidden_dim):\n",
    "        super(BahdanauAttention, self).__init__()\n",
    "        self.W = nn.Linear(hidden_dim, hidden_dim)\n",
    "        self.v = nn.Linear(hidden_dim, 1)\n",
    "\n",
    "    def forward(self, hidden, encoder_outputs):\n",
    "        hidden = hidden.unsqueeze(1)\n",
    "        hidden = hidden.expand(-1, encoder_outputs.size(1), -1)\n",
    "        # Aboe two steps makes hidden dim similar to encoder_outputs\n",
    "        \n",
    "        alignment_scores = self.v(torch.tanh(self.W(hidden + encoder_outputs)))\n",
    "        attention_weights = F.softmax(alignment_scores, dim=1)\n",
    "        context_vector = torch.sum(attention_weights * encoder_outputs, dim=1)\n",
    "        return context_vector, attention_weights"
   ]
  },
  {
   "cell_type": "code",
   "execution_count": null,
   "metadata": {},
   "outputs": [
    {
     "data": {
      "text/plain": [
       "tensor([[-0.3244,  0.2820, -0.0638,  0.2010, -0.1485,  0.0028],\n",
       "        [-0.3227,  0.2817, -0.0600,  0.2047, -0.1535, -0.0042],\n",
       "        [-0.3397,  0.2763, -0.0792,  0.1829, -0.1382,  0.0202]],\n",
       "       grad_fn=<SumBackward1>)"
      ]
     },
     "execution_count": 118,
     "metadata": {},
     "output_type": "execute_result"
    }
   ],
   "source": [
    "attention = BahdanauAttention(2*hidden_dim)\n",
    "context_vector , weights = attention(b_h , b_lstm_out)\n",
    "context_vector"
   ]
  },
  {
   "cell_type": "code",
   "execution_count": null,
   "metadata": {},
   "outputs": [
    {
     "data": {
      "text/plain": [
       "tensor([[ 0.3206, -0.0334,  0.1136],\n",
       "        [ 0.3347, -0.0262,  0.1085],\n",
       "        [ 0.3144, -0.0332,  0.1178]], grad_fn=<AddmmBackward0>)"
      ]
     },
     "execution_count": 78,
     "metadata": {},
     "output_type": "execute_result"
    }
   ],
   "source": [
    "outputs = fc(context_vector)\n",
    "outputs"
   ]
  },
  {
   "cell_type": "code",
   "execution_count": null,
   "metadata": {},
   "outputs": [
    {
     "data": {
      "text/plain": [
       "tensor([0, 0, 0])"
      ]
     },
     "execution_count": 79,
     "metadata": {},
     "output_type": "execute_result"
    }
   ],
   "source": [
    "_, predicted = torch.max(outputs,1)\n",
    "predicted"
   ]
  },
  {
   "cell_type": "code",
   "execution_count": null,
   "metadata": {},
   "outputs": [
    {
     "data": {
      "text/plain": [
       "1.106108546257019"
      ]
     },
     "execution_count": 80,
     "metadata": {},
     "output_type": "execute_result"
    }
   ],
   "source": [
    "loss_function = nn.CrossEntropyLoss()\n",
    "loss = loss_function(outputs, y)\n",
    "loss.item()"
   ]
  },
  {
   "attachments": {},
   "cell_type": "markdown",
   "metadata": {},
   "source": [
    "# Mult Task Learning"
   ]
  },
  {
   "cell_type": "code",
   "execution_count": 21,
   "metadata": {},
   "outputs": [
    {
     "data": {
      "text/plain": [
       "tensor([2, 0, 1])"
      ]
     },
     "execution_count": 21,
     "metadata": {},
     "output_type": "execute_result"
    }
   ],
   "source": [
    "y"
   ]
  },
  {
   "cell_type": "code",
   "execution_count": 16,
   "metadata": {},
   "outputs": [],
   "source": [
    "input_dim = 4\n",
    "embedding_dim = 7\n",
    "input_dim = 12\n",
    "hidden_dim = 4\n",
    "NUM_OF_TASK = 13\n",
    "\n",
    "embedding = nn.Embedding(input_dim, embedding_dim, padding_idx=0)\n",
    "lstm = nn.LSTM(input_size=embedding_dim, hidden_size=hidden_dim, num_layers=1, batch_first=True )\n",
    "single_fc = nn.Linear(hidden_dim, 1) \n",
    "fc = nn.ModuleList([nn.Linear(hidden_dim, 1) for _ in range(NUM_OF_TASK)])"
   ]
  },
  {
   "cell_type": "code",
   "execution_count": 17,
   "metadata": {},
   "outputs": [
    {
     "data": {
      "text/plain": [
       "torch.Size([3, 12, 7])"
      ]
     },
     "execution_count": 17,
     "metadata": {},
     "output_type": "execute_result"
    }
   ],
   "source": [
    "embedding_output = embedding(x)\n",
    "embedding_output.shape"
   ]
  },
  {
   "cell_type": "code",
   "execution_count": 18,
   "metadata": {},
   "outputs": [
    {
     "data": {
      "text/plain": [
       "tensor([[-0.1643, -0.1124, -0.3511,  0.0965],\n",
       "        [-0.1668, -0.1027, -0.3458,  0.1072],\n",
       "        [-0.0681, -0.0747, -0.1766, -0.0564]], grad_fn=<SqueezeBackward1>)"
      ]
     },
     "execution_count": 18,
     "metadata": {},
     "output_type": "execute_result"
    }
   ],
   "source": [
    "_ , (h,c) = lstm(embedding_output)\n",
    "\n",
    "h[-1].squeeze(1)"
   ]
  },
  {
   "cell_type": "code",
   "execution_count": 19,
   "metadata": {},
   "outputs": [
    {
     "data": {
      "text/plain": [
       "tensor([ 0.0042,  0.0044, -0.1065], grad_fn=<SqueezeBackward1>)"
      ]
     },
     "execution_count": 19,
     "metadata": {},
     "output_type": "execute_result"
    }
   ],
   "source": [
    "single_out = single_fc(h[-1])\n",
    "single_out.squeeze(1)"
   ]
  },
  {
   "cell_type": "code",
   "execution_count": 20,
   "metadata": {},
   "outputs": [
    {
     "data": {
      "text/plain": [
       "[tensor([-0.3979, -0.3976, -0.3621], grad_fn=<SqueezeBackward1>),\n",
       " tensor([-0.3789, -0.3762, -0.3885], grad_fn=<SqueezeBackward1>),\n",
       " tensor([-0.3479, -0.3481, -0.3315], grad_fn=<SqueezeBackward1>),\n",
       " tensor([-0.0605, -0.0617,  0.0079], grad_fn=<SqueezeBackward1>),\n",
       " tensor([0.3570, 0.3542, 0.4484], grad_fn=<SqueezeBackward1>),\n",
       " tensor([0.0742, 0.0665, 0.0307], grad_fn=<SqueezeBackward1>),\n",
       " tensor([0.0525, 0.0505, 0.0390], grad_fn=<SqueezeBackward1>),\n",
       " tensor([-0.3235, -0.3171, -0.4136], grad_fn=<SqueezeBackward1>),\n",
       " tensor([0.3545, 0.3545, 0.3280], grad_fn=<SqueezeBackward1>),\n",
       " tensor([-0.2060, -0.2086, -0.0886], grad_fn=<SqueezeBackward1>),\n",
       " tensor([0.2204, 0.2177, 0.2997], grad_fn=<SqueezeBackward1>),\n",
       " tensor([0.3070, 0.3031, 0.3697], grad_fn=<SqueezeBackward1>),\n",
       " tensor([-0.3657, -0.3579, -0.3856], grad_fn=<SqueezeBackward1>)]"
      ]
     },
     "execution_count": 20,
     "metadata": {},
     "output_type": "execute_result"
    }
   ],
   "source": [
    "out = []\n",
    "for f in fc:\n",
    "    out.append(f(h[-1]).squeeze(1)) \n",
    "out"
   ]
  },
  {
   "cell_type": "code",
   "execution_count": 31,
   "metadata": {},
   "outputs": [
    {
     "name": "stdout",
     "output_type": "stream",
     "text": [
      "Output  tensor([-0.3979, -0.3976, -0.3621], grad_fn=<SqueezeBackward1>)\n",
      "Label  tensor([0., 0., 1.])\n",
      "Output  tensor([-0.3789, -0.3762, -0.3885], grad_fn=<SqueezeBackward1>)\n",
      "Label  tensor([0., 0., 0.])\n",
      "Output  tensor([-0.3479, -0.3481, -0.3315], grad_fn=<SqueezeBackward1>)\n",
      "Label  tensor([0., 0., 0.])\n",
      "Output  tensor([-0.0605, -0.0617,  0.0079], grad_fn=<SqueezeBackward1>)\n",
      "Label  tensor([0., 0., 0.])\n",
      "Output  tensor([0.3570, 0.3542, 0.4484], grad_fn=<SqueezeBackward1>)\n",
      "Label  tensor([0., 0., 0.])\n",
      "Output  tensor([0.0742, 0.0665, 0.0307], grad_fn=<SqueezeBackward1>)\n",
      "Label  tensor([0., 0., 0.])\n",
      "Output  tensor([0.0525, 0.0505, 0.0390], grad_fn=<SqueezeBackward1>)\n",
      "Label  tensor([0., 0., 0.])\n",
      "Output  tensor([-0.3235, -0.3171, -0.4136], grad_fn=<SqueezeBackward1>)\n",
      "Label  tensor([1., 1., 0.])\n",
      "Output  tensor([0.3545, 0.3545, 0.3280], grad_fn=<SqueezeBackward1>)\n",
      "Label  tensor([0., 0., 0.])\n",
      "Output  tensor([-0.2060, -0.2086, -0.0886], grad_fn=<SqueezeBackward1>)\n",
      "Label  tensor([0., 0., 0.])\n",
      "Output  tensor([0.2204, 0.2177, 0.2997], grad_fn=<SqueezeBackward1>)\n",
      "Label  tensor([0., 0., 0.])\n",
      "Output  tensor([0.3070, 0.3031, 0.3697], grad_fn=<SqueezeBackward1>)\n",
      "Label  tensor([0., 0., 0.])\n",
      "Output  tensor([-0.3657, -0.3579, -0.3856], grad_fn=<SqueezeBackward1>)\n",
      "Label  tensor([0., 0., 0.])\n"
     ]
    }
   ],
   "source": [
    "import torch\n",
    "\n",
    "data = [\n",
    "    [0., 0., 0., 0., 0., 0., 0., 1., 0., 0., 0., 0.,0.],\n",
    "    [0., 0., 0., 0., 0., 0., 0., 1., 0., 0., 0., 0.,0.],\n",
    "    [1., 0., 0., 0., 0., 0., 0., 0., 0., 0., 0., 0.,0.]\n",
    "  \n",
    "]\n",
    "\n",
    "labels = torch.tensor(data)\n",
    "\n",
    "loss_functions = [nn.BCEWithLogitsLoss() for _ in range(NUM_OF_TASK)] \n",
    "\n",
    "loss =  0.0\n",
    "for i, (output, loss_func) in enumerate(zip(out, loss_functions)):\n",
    "    print(\"Output \" ,output)\n",
    "    print(\"Label \" ,labels[:, i])\n",
    "    loss += loss_func(output, labels[:, i])\n"
   ]
  },
  {
   "cell_type": "code",
   "execution_count": 65,
   "metadata": {},
   "outputs": [
    {
     "name": "stdout",
     "output_type": "stream",
     "text": [
      "tensor([[0., 0., 0., 0., 1., 0., 0., 0., 0., 0., 0., 0., 0.],\n",
      "        [0., 0., 0., 0., 0., 0., 0., 0., 1., 0., 0., 0., 0.],\n",
      "        [0., 0., 0., 0., 1., 0., 0., 0., 0., 0., 0., 0., 0.]])\n",
      "tensor([[0., 0., 0., 0., 0., 0., 0., 1., 0., 0., 0., 0., 0.],\n",
      "        [0., 0., 0., 0., 0., 0., 0., 1., 0., 0., 0., 0., 0.],\n",
      "        [1., 0., 0., 0., 0., 0., 0., 0., 0., 0., 0., 0., 0.]])\n",
      "tensor([2., 3., 3., 3., 1., 3., 3., 1., 2., 3., 3., 3., 3.])\n",
      "tensor(2.)\n",
      "tensor(3.)\n",
      "tensor(3.)\n",
      "tensor(3.)\n",
      "tensor(1.)\n",
      "tensor(3.)\n",
      "tensor(3.)\n",
      "tensor(1.)\n",
      "tensor(2.)\n",
      "tensor(3.)\n",
      "tensor(3.)\n",
      "tensor(3.)\n",
      "tensor(3.)\n"
     ]
    },
    {
     "data": {
      "text/plain": [
       "[tensor(0.6667),\n",
       " tensor(1.),\n",
       " tensor(1.),\n",
       " tensor(1.),\n",
       " tensor(0.3333),\n",
       " tensor(1.),\n",
       " tensor(1.),\n",
       " tensor(0.3333),\n",
       " tensor(0.6667),\n",
       " tensor(1.),\n",
       " tensor(1.),\n",
       " tensor(1.),\n",
       " tensor(1.)]"
      ]
     },
     "execution_count": 65,
     "metadata": {},
     "output_type": "execute_result"
    }
   ],
   "source": [
    "# Prediction\n",
    "import torch.nn.functional as F\n",
    "\n",
    "total = 0\n",
    "correct_predictions = [0] * NUM_OF_TASK\n",
    "\n",
    "predicted_with_highest_probabilities = []\n",
    "\n",
    "predicted = [torch.sigmoid(output) for output in out]\n",
    "\n",
    "final_predicted_lables = torch.stack(predicted).T\n",
    "\n",
    "max_indices = torch.argmax(final_predicted_lables, dim=1)\n",
    "\n",
    "# Convert indices to one-hot encoded tensor\n",
    "one_hot_tensor = F.one_hot(max_indices, num_classes=final_predicted_lables.shape[1])\n",
    "\n",
    "print(one_hot_tensor.to(torch.float))\n",
    "print(labels)\n",
    "\n",
    "correct_predictions = torch.sum((one_hot_tensor == labels).float(), dim=0)\n",
    "\n",
    "print(correct_predictions)\n",
    "\n",
    "total  = labels.size(0)\n",
    "validation_accuracies = []\n",
    "for correct in correct_predictions:\n",
    "    print(correct)\n",
    "    validation_accuracies.append(correct/total)\n",
    "\n",
    "validation_accuracies"
   ]
  },
  {
   "cell_type": "code",
   "execution_count": 67,
   "metadata": {},
   "outputs": [
    {
     "name": "stderr",
     "output_type": "stream",
     "text": [
      "c:\\Users\\shashi.vish\\Python Environment\\RNA_ModX\\lib\\site-packages\\sklearn\\preprocessing\\_encoders.py:868: FutureWarning: `sparse` was renamed to `sparse_output` in version 1.2 and will be removed in 1.4. `sparse_output` is ignored unless you leave `sparse` to its default value.\n",
      "  warnings.warn(\n",
      "C:\\Users\\shashi.vish\\AppData\\Local\\Temp\\ipykernel_1964\\1883817169.py:26: RuntimeWarning: Mean of empty slice.\n",
      "  class_accuracies = [(np.array(original_preds)[np.array(original_labels) == i] == i).mean() for i in RMs]\n",
      "c:\\Users\\shashi.vish\\Python Environment\\RNA_ModX\\lib\\site-packages\\numpy\\core\\_methods.py:192: RuntimeWarning: invalid value encountered in scalar divide\n",
      "  ret = ret.dtype.type(ret / rcount)\n"
     ]
    },
    {
     "name": "stdout",
     "output_type": "stream",
     "text": [
      "['hGm' 'hm5C' 'hGm']\n",
      "['hm1A' 'hm1A' 'Atol']\n",
      "Accuracy for class hAm: nan\n",
      "Accuracy for class hCm: nan\n",
      "Accuracy for class hGm: nan\n",
      "Accuracy for class hTm: nan\n",
      "Accuracy for class hm1A: 0.0\n",
      "Accuracy for class hm5C: nan\n",
      "Accuracy for class hm5U: nan\n",
      "Accuracy for class hm6A: nan\n",
      "Accuracy for class hm6Am: nan\n",
      "Accuracy for class hm7G: nan\n",
      "Accuracy for class hPsi: nan\n",
      "Accuracy for class Atol: 0.0\n",
      "Accuracy for class NonMoD: nan\n"
     ]
    },
    {
     "data": {
      "image/png": "[encoded data removed]",
      "text/plain": [
       "<Figure size 640x480 with 2 Axes>"
      ]
     },
     "metadata": {},
     "output_type": "display_data"
    }
   ],
   "source": [
    "RMs = ['hAm','hCm','hGm','hTm','hm1A','hm5C','hm5U','hm6A','hm6Am','hm7G','hPsi','Atol','NonMoD']\n",
    "from sklearn.preprocessing import OneHotEncoder\n",
    "\n",
    "ohe = OneHotEncoder(sparse=False)\n",
    "y = ohe.fit_transform(np.array(RMs).reshape(-1, 1)) # adding reshape here\n",
    "\n",
    "original_preds = []\n",
    "original_labels = []\n",
    "\n",
    "original_preds.extend(ohe.inverse_transform(one_hot_tensor.cpu().numpy()))  \n",
    "original_labels.extend(ohe.inverse_transform(labels.cpu().numpy()))\n",
    "\n",
    "\n",
    "\n",
    "cm = confusion_matrix(original_labels, original_preds, labels=RMs)\n",
    "disp = ConfusionMatrixDisplay(confusion_matrix=cm,\n",
    "                              display_labels=RMs)\n",
    "disp.plot()\n",
    "\n",
    "original_preds = np.array(original_preds).flatten()\n",
    "original_labels = np.array(original_labels).flatten()\n",
    "\n",
    "print(original_preds)\n",
    "print(original_labels)\n",
    "\n",
    "class_accuracies = [(np.array(original_preds)[np.array(original_labels) == i] == i).mean() for i in RMs]\n",
    "for rm, acc in zip(RMs, class_accuracies):\n",
    "    print(f\"Accuracy for class {rm}: {acc}\")\n",
    "\n"
   ]
  },
  {
   "cell_type": "code",
   "execution_count": null,
   "metadata": {},
   "outputs": [],
   "source": []
  }
 ],
 "metadata": {
  "kernelspec": {
   "display_name": "RNA_ModX",
   "language": "python",
   "name": "python3"
  },
  "language_info": {
   "codemirror_mode": {
    "name": "ipython",
    "version": 3
   },
   "file_extension": ".py",
   "mimetype": "text/x-python",
   "name": "python",
   "nbconvert_exporter": "python",
   "pygments_lexer": "ipython3",
   "version": "3.10.5"
  },
  "orig_nbformat": 4
 },
 "nbformat": 4,
 "nbformat_minor": 2
}
