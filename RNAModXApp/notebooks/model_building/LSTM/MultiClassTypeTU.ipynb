{
 "cells": [
  {
   "cell_type": "code",
   "execution_count": 1,
   "metadata": {
    "colab": {
     "base_uri": "https://localhost:8080/"
    },
    "id": "UkDJ1UJK69ON",
    "outputId": "c1eec5ea-65de-40a5-9c79-41a472c445ed"
   },
   "outputs": [
    {
     "name": "stdout",
     "output_type": "stream",
     "text": [
      "Collecting optuna\n",
      "  Downloading optuna-3.2.0-py3-none-any.whl (390 kB)\n",
      "\u001b[?25l     \u001b[90m━━━━━━━━━━━━━━━━━━━━━━━━━━━━━━━━━━━━━━━━\u001b[0m \u001b[32m0.0/390.6 kB\u001b[0m \u001b[31m?\u001b[0m eta \u001b[36m-:--:--\u001b[0m\r",
      "\u001b[2K     \u001b[90m━━━━━━━━━━━━━━━━━━━━━━━━━━━━━━━━━━━━━━\u001b[0m \u001b[32m390.6/390.6 kB\u001b[0m \u001b[31m24.6 MB/s\u001b[0m eta \u001b[36m0:00:00\u001b[0m\n",
      "\u001b[?25hRequirement already satisfied: scikit-learn in /usr/local/lib/python3.10/dist-packages (1.2.2)\n",
      "Requirement already satisfied: gensim in /usr/local/lib/python3.10/dist-packages (4.3.1)\n",
      "Requirement already satisfied: imbalanced-learn in /usr/local/lib/python3.10/dist-packages (0.10.1)\n",
      "Requirement already satisfied: xgboost in /usr/local/lib/python3.10/dist-packages (1.7.6)\n",
      "Collecting alembic>=1.5.0 (from optuna)\n",
      "  Downloading alembic-1.11.1-py3-none-any.whl (224 kB)\n",
      "\u001b[2K     \u001b[90m━━━━━━━━━━━━━━━━━━━━━━━━━━━━━━━━━━━━━━\u001b[0m \u001b[32m224.5/224.5 kB\u001b[0m \u001b[31m27.1 MB/s\u001b[0m eta \u001b[36m0:00:00\u001b[0m\n",
      "\u001b[?25hCollecting cmaes>=0.9.1 (from optuna)\n",
      "  Downloading cmaes-0.9.1-py3-none-any.whl (21 kB)\n",
      "Collecting colorlog (from optuna)\n",
      "  Downloading colorlog-6.7.0-py2.py3-none-any.whl (11 kB)\n",
      "Requirement already satisfied: numpy in /usr/local/lib/python3.10/dist-packages (from optuna) (1.22.4)\n",
      "Requirement already satisfied: packaging>=20.0 in /usr/local/lib/python3.10/dist-packages (from optuna) (23.1)\n",
      "Requirement already satisfied: sqlalchemy>=1.3.0 in /usr/local/lib/python3.10/dist-packages (from optuna) (2.0.16)\n",
      "Requirement already satisfied: tqdm in /usr/local/lib/python3.10/dist-packages (from optuna) (4.65.0)\n",
      "Requirement already satisfied: PyYAML in /usr/local/lib/python3.10/dist-packages (from optuna) (6.0)\n",
      "Requirement already satisfied: scipy>=1.3.2 in /usr/local/lib/python3.10/dist-packages (from scikit-learn) (1.10.1)\n",
      "Requirement already satisfied: joblib>=1.1.1 in /usr/local/lib/python3.10/dist-packages (from scikit-learn) (1.2.0)\n",
      "Requirement already satisfied: threadpoolctl>=2.0.0 in /usr/local/lib/python3.10/dist-packages (from scikit-learn) (3.1.0)\n",
      "Requirement already satisfied: smart-open>=1.8.1 in /usr/local/lib/python3.10/dist-packages (from gensim) (6.3.0)\n",
      "Collecting Mako (from alembic>=1.5.0->optuna)\n",
      "  Downloading Mako-1.2.4-py3-none-any.whl (78 kB)\n",
      "\u001b[2K     \u001b[90m━━━━━━━━━━━━━━━━━━━━━━━━━━━━━━━━━━━━━━━━\u001b[0m \u001b[32m78.7/78.7 kB\u001b[0m \u001b[31m13.5 MB/s\u001b[0m eta \u001b[36m0:00:00\u001b[0m\n",
      "\u001b[?25hRequirement already satisfied: typing-extensions>=4 in /usr/local/lib/python3.10/dist-packages (from alembic>=1.5.0->optuna) (4.6.3)\n",
      "Requirement already satisfied: greenlet!=0.4.17 in /usr/local/lib/python3.10/dist-packages (from sqlalchemy>=1.3.0->optuna) (2.0.2)\n",
      "Requirement already satisfied: MarkupSafe>=0.9.2 in /usr/local/lib/python3.10/dist-packages (from Mako->alembic>=1.5.0->optuna) (2.1.3)\n",
      "Installing collected packages: Mako, colorlog, cmaes, alembic, optuna\n",
      "Successfully installed Mako-1.2.4 alembic-1.11.1 cmaes-0.9.1 colorlog-6.7.0 optuna-3.2.0\n"
     ]
    }
   ],
   "source": [
    "! pip install optuna  scikit-learn gensim imbalanced-learn xgboost torch pandas matplotlib"
   ]
  },
  {
   "cell_type": "code",
   "execution_count": 1,
   "metadata": {
    "id": "ohWCGHSq5BVM"
   },
   "outputs": [],
   "source": [
    " #Import All Libraries Here\n",
    "import pandas as pd\n",
    "from sklearn.metrics import accuracy_score ,  roc_curve, auc , classification_report\n",
    "\n",
    "import numpy as np\n",
    "from sklearn.metrics import classification_report, accuracy_score\n",
    "\n",
    "from sklearn.metrics import mean_squared_error\n",
    "import optuna\n",
    "from torch.utils.data import WeightedRandomSampler\n",
    "from sklearn.model_selection import train_test_split\n",
    "from imblearn.over_sampling import RandomOverSampler\n",
    "import time\n",
    "from collections import Counter\n",
    "# PyTorch Import\n",
    "\n",
    "import torch\n",
    "import torch.nn as nn\n",
    "import torch.optim as optim\n",
    "from torch.utils.data import Dataset, DataLoader\n",
    "import torch.nn.functional as F\n",
    "from torch.nn import DataParallel\n",
    "\n",
    "WINDOW_SIZE = 50\n",
    "\n",
    "# 1 - One Hot Encoding with Pytorch in build Emnedding\n",
    "# 2 - 3-mer coding with number encoding\n",
    "ENCODING_METHOD = 2\n",
    "\n",
    "# 1- Random Over Sampling\n",
    "# 2 - Weighted Over Sampler\n",
    "SAMPLING_METHOD =1\n",
    "\n",
    "# 1 - LSTM with Cross Entropy\n",
    "MODEL = 1\n",
    "\n",
    "\n",
    "FRAMEWORK = \"PYTORCH\"\n",
    "\n",
    "# Startegy to Crop Sequene\n",
    "# MID - Modification is present at Mid of cropped Sequence\n",
    "# END - Modification is present at End of cropepd Sequence\n",
    "CROP_STRATEGY = 'MID'\n",
    "\n",
    "# Y Category Encoding Method\n",
    "# LABEL or ONE_HOT\n",
    "TARGET_ENCODING = 'LABEL'\n",
    "\n",
    "ENCODING_FILE = '3-mer-dictionary.pkl'"
   ]
  },
  {
   "cell_type": "code",
   "execution_count": 2,
   "metadata": {
    "colab": {
     "base_uri": "https://localhost:8080/"
    },
    "id": "EQvMm5lH5BVO",
    "outputId": "442f7e0b-129a-4add-f95e-c353acecda48"
   },
   "outputs": [],
   "source": [
    "\n",
    "# from google.colab import drive\n",
    "# drive.mount('/content/drive')\n",
    "# INPUT_TRAIN_IN = \"/content/drive/My Drive/Colab Notebooks/Capstone Project/data/train_in.csv\"\n",
    "# INPUT_TRAIN_OUT = \"/content/drive/My Drive/Colab Notebooks/Capstone Project/data/train_out.csv\"\n",
    "# INPUT_TEST_IN = \"/content/drive/My Drive/Colab Notebooks/Capstone Project/data/test_in.csv\"\n",
    "# INPUT_TEST_OUT = \"/content/drive/My Drive/Colab Notebooks/Capstone Project/data/test_out.csv\"\n",
    "# INPUT_VALIDATION_IN = \"/content/drive/My Drive/Colab Notebooks/Capstone Project/data/valid_in_nucleo.csv\"\n",
    "# INPUT_VALIDATION_OUT  = \"/content/drive/My Drive/Colab Notebooks/Capstone Project/data/valid_out.csv\"\n",
    "\n",
    "# Record Constants\n",
    "# Record Constants\n",
    "INPUT_TRAIN_IN = \"train_in.csv\"\n",
    "INPUT_TRAIN_OUT = \"train_out.csv\"\n",
    "INPUT_TEST_IN = \"test_in.csv\"\n",
    "INPUT_TEST_OUT = \"test_out.csv\"\n",
    "INPUT_VALIDATION_IN = \"valid_in_nucleo.csv\"\n",
    "INPUT_VALIDATION_OUT  = \"valid_out.csv\"\n",
    "\n",
    "# TARGET_MODEL_PATH = '../../webapp/model_files'\n",
    "\n",
    "\n"
   ]
  },
  {
   "cell_type": "code",
   "execution_count": 3,
   "metadata": {
    "colab": {
     "base_uri": "https://localhost:8080/"
    },
    "id": "lcUOufcj5BVO",
    "outputId": "10cc65ec-1618-4a0f-dcc7-0727a3a71f0a"
   },
   "outputs": [
    {
     "name": "stdout",
     "output_type": "stream",
     "text": [
      "Train Shape of X : (304661, 1001) and Tranin Shape of Y : (304661, 1001)\n",
      "Test Shape of X : (1200, 1001) and Test Shape of Y : (1200, 12)\n",
      "Validation Shape of X : (3599, 1001) and Validation Shape of Y : (3599, 12)\n"
     ]
    }
   ],
   "source": [
    "#Read X Varaibles and Y Varaibles\n",
    "\n",
    "x_train_raw =  pd.read_csv(INPUT_TRAIN_IN, header=None , skiprows=1 )\n",
    "y_train_raw =  pd.read_csv(INPUT_TRAIN_OUT, header=None , skiprows=1 )\n",
    "\n",
    "x_test_raw =  pd.read_csv(INPUT_TEST_IN, header=None , skiprows=1 )\n",
    "y_test_raw =  pd.read_csv(INPUT_TEST_OUT, header=None , skiprows=1)\n",
    "\n",
    "x_valid_raw =  pd.read_csv(INPUT_VALIDATION_IN, header=None , skiprows=1 )\n",
    "y_valid_raw =  pd.read_csv(INPUT_VALIDATION_OUT, header=None , skiprows=1 )\n",
    "\n",
    "x_data = pd.concat([x_train_raw, x_test_raw, x_valid_raw], axis=0, ignore_index=True)\n",
    "y_data = pd.concat([y_train_raw, y_test_raw, y_valid_raw], axis=0, ignore_index=True)\n",
    "\n",
    "print(f\"Train Shape of X : {x_train_raw.shape} and Tranin Shape of Y : {x_train_raw.shape}\")\n",
    "print(f\"Test Shape of X : {x_test_raw.shape} and Test Shape of Y : {y_test_raw.shape}\")\n",
    "print(f\"Validation Shape of X : {x_valid_raw.shape} and Validation Shape of Y : {y_valid_raw.shape}\")\n"
   ]
  },
  {
   "cell_type": "markdown",
   "metadata": {
    "id": "iwZ2AFCo5BVO"
   },
   "source": [
    "### Calculate Sequence Positions to extracted from Original Sequence"
   ]
  },
  {
   "cell_type": "code",
   "execution_count": 4,
   "metadata": {
    "id": "uWqxeK7J5BVP"
   },
   "outputs": [],
   "source": [
    "middle_index = (x_train_raw.shape[1] // 2) + 1 # This is location for Modified Sequence . Use this as Y Target\n",
    "\n",
    "if CROP_STRATEGY == 'MID':\n",
    "    STRAT_INEDX =middle_index - WINDOW_SIZE -1\n",
    "    END_INDEX =middle_index + WINDOW_SIZE\n",
    "\n",
    "if CROP_STRATEGY == 'END':\n",
    "    STRAT_INEDX =middle_index - (WINDOW_SIZE*2) -1\n",
    "    END_INDEX =middle_index\n",
    "\n",
    "x_data_cropped =  x_data.iloc[:,STRAT_INEDX :END_INDEX]\n",
    "concatenated_column= x_data_cropped.apply(lambda row: ''.join(map(str, row)), axis=1)\n",
    "x_data_cropped = x_data_cropped.assign(Sequence=concatenated_column)"
   ]
  },
  {
   "cell_type": "code",
   "execution_count": 6,
   "metadata": {
    "colab": {
     "base_uri": "https://localhost:8080/",
     "height": 487
    },
    "id": "jRDnwbiM5BVP",
    "outputId": "0d007b12-6da3-4cca-814a-57e8a3c5e5ba"
   },
   "outputs": [
    {
     "data": {
      "text/html": [
       "<div>\n",
       "<style scoped>\n",
       "    .dataframe tbody tr th:only-of-type {\n",
       "        vertical-align: middle;\n",
       "    }\n",
       "\n",
       "    .dataframe tbody tr th {\n",
       "        vertical-align: top;\n",
       "    }\n",
       "\n",
       "    .dataframe thead th {\n",
       "        text-align: right;\n",
       "    }\n",
       "</style>\n",
       "<table border=\"1\" class=\"dataframe\">\n",
       "  <thead>\n",
       "    <tr style=\"text-align: right;\">\n",
       "      <th></th>\n",
       "      <th>450</th>\n",
       "      <th>451</th>\n",
       "      <th>452</th>\n",
       "      <th>453</th>\n",
       "      <th>454</th>\n",
       "      <th>455</th>\n",
       "      <th>456</th>\n",
       "      <th>457</th>\n",
       "      <th>458</th>\n",
       "      <th>459</th>\n",
       "      <th>...</th>\n",
       "      <th>542</th>\n",
       "      <th>543</th>\n",
       "      <th>544</th>\n",
       "      <th>545</th>\n",
       "      <th>546</th>\n",
       "      <th>547</th>\n",
       "      <th>548</th>\n",
       "      <th>549</th>\n",
       "      <th>550</th>\n",
       "      <th>Sequence</th>\n",
       "    </tr>\n",
       "  </thead>\n",
       "  <tbody>\n",
       "    <tr>\n",
       "      <th>0</th>\n",
       "      <td>T</td>\n",
       "      <td>T</td>\n",
       "      <td>G</td>\n",
       "      <td>C</td>\n",
       "      <td>C</td>\n",
       "      <td>A</td>\n",
       "      <td>C</td>\n",
       "      <td>A</td>\n",
       "      <td>C</td>\n",
       "      <td>T</td>\n",
       "      <td>...</td>\n",
       "      <td>C</td>\n",
       "      <td>A</td>\n",
       "      <td>G</td>\n",
       "      <td>T</td>\n",
       "      <td>A</td>\n",
       "      <td>T</td>\n",
       "      <td>C</td>\n",
       "      <td>T</td>\n",
       "      <td>C</td>\n",
       "      <td>TTGCCACACTGCTGGACGCCTGCAAGGCCAAGGGTACGGAGGTCAT...</td>\n",
       "    </tr>\n",
       "    <tr>\n",
       "      <th>1</th>\n",
       "      <td>T</td>\n",
       "      <td>T</td>\n",
       "      <td>T</td>\n",
       "      <td>G</td>\n",
       "      <td>A</td>\n",
       "      <td>A</td>\n",
       "      <td>A</td>\n",
       "      <td>A</td>\n",
       "      <td>A</td>\n",
       "      <td>A</td>\n",
       "      <td>...</td>\n",
       "      <td>T</td>\n",
       "      <td>C</td>\n",
       "      <td>A</td>\n",
       "      <td>T</td>\n",
       "      <td>C</td>\n",
       "      <td>G</td>\n",
       "      <td>T</td>\n",
       "      <td>G</td>\n",
       "      <td>C</td>\n",
       "      <td>TTTGAAAAAATATTAGCAATGTGAGGACACTTAAGCAGTTTTGTCA...</td>\n",
       "    </tr>\n",
       "    <tr>\n",
       "      <th>2</th>\n",
       "      <td>A</td>\n",
       "      <td>G</td>\n",
       "      <td>A</td>\n",
       "      <td>A</td>\n",
       "      <td>A</td>\n",
       "      <td>C</td>\n",
       "      <td>A</td>\n",
       "      <td>T</td>\n",
       "      <td>T</td>\n",
       "      <td>C</td>\n",
       "      <td>...</td>\n",
       "      <td>T</td>\n",
       "      <td>T</td>\n",
       "      <td>C</td>\n",
       "      <td>T</td>\n",
       "      <td>G</td>\n",
       "      <td>T</td>\n",
       "      <td>T</td>\n",
       "      <td>C</td>\n",
       "      <td>A</td>\n",
       "      <td>AGAAACATTCAACCTCCCTTCTTTTTATTCCAGTTGTCCTTTTCTC...</td>\n",
       "    </tr>\n",
       "    <tr>\n",
       "      <th>3</th>\n",
       "      <td>T</td>\n",
       "      <td>T</td>\n",
       "      <td>A</td>\n",
       "      <td>G</td>\n",
       "      <td>T</td>\n",
       "      <td>T</td>\n",
       "      <td>T</td>\n",
       "      <td>T</td>\n",
       "      <td>A</td>\n",
       "      <td>C</td>\n",
       "      <td>...</td>\n",
       "      <td>A</td>\n",
       "      <td>A</td>\n",
       "      <td>A</td>\n",
       "      <td>A</td>\n",
       "      <td>A</td>\n",
       "      <td>T</td>\n",
       "      <td>T</td>\n",
       "      <td>T</td>\n",
       "      <td>C</td>\n",
       "      <td>TTAGTTTTACTATGGAATCATAATAACCCACATAGAAGACTGATAT...</td>\n",
       "    </tr>\n",
       "    <tr>\n",
       "      <th>4</th>\n",
       "      <td>C</td>\n",
       "      <td>A</td>\n",
       "      <td>A</td>\n",
       "      <td>C</td>\n",
       "      <td>A</td>\n",
       "      <td>G</td>\n",
       "      <td>A</td>\n",
       "      <td>A</td>\n",
       "      <td>G</td>\n",
       "      <td>T</td>\n",
       "      <td>...</td>\n",
       "      <td>A</td>\n",
       "      <td>A</td>\n",
       "      <td>A</td>\n",
       "      <td>A</td>\n",
       "      <td>T</td>\n",
       "      <td>G</td>\n",
       "      <td>T</td>\n",
       "      <td>A</td>\n",
       "      <td>C</td>\n",
       "      <td>CAACAGAAGTTTCTCATCTATAATCAGTAGCACTAAACTCTTGGTT...</td>\n",
       "    </tr>\n",
       "    <tr>\n",
       "      <th>...</th>\n",
       "      <td>...</td>\n",
       "      <td>...</td>\n",
       "      <td>...</td>\n",
       "      <td>...</td>\n",
       "      <td>...</td>\n",
       "      <td>...</td>\n",
       "      <td>...</td>\n",
       "      <td>...</td>\n",
       "      <td>...</td>\n",
       "      <td>...</td>\n",
       "      <td>...</td>\n",
       "      <td>...</td>\n",
       "      <td>...</td>\n",
       "      <td>...</td>\n",
       "      <td>...</td>\n",
       "      <td>...</td>\n",
       "      <td>...</td>\n",
       "      <td>...</td>\n",
       "      <td>...</td>\n",
       "      <td>...</td>\n",
       "      <td>...</td>\n",
       "    </tr>\n",
       "    <tr>\n",
       "      <th>309455</th>\n",
       "      <td>C</td>\n",
       "      <td>C</td>\n",
       "      <td>A</td>\n",
       "      <td>A</td>\n",
       "      <td>A</td>\n",
       "      <td>C</td>\n",
       "      <td>T</td>\n",
       "      <td>C</td>\n",
       "      <td>T</td>\n",
       "      <td>T</td>\n",
       "      <td>...</td>\n",
       "      <td>G</td>\n",
       "      <td>G</td>\n",
       "      <td>G</td>\n",
       "      <td>C</td>\n",
       "      <td>A</td>\n",
       "      <td>G</td>\n",
       "      <td>A</td>\n",
       "      <td>G</td>\n",
       "      <td>A</td>\n",
       "      <td>CCAAACTCTTTATCTCTTGAGTTCTCAGCCAATAGGGCCATTGTAG...</td>\n",
       "    </tr>\n",
       "    <tr>\n",
       "      <th>309456</th>\n",
       "      <td>G</td>\n",
       "      <td>A</td>\n",
       "      <td>T</td>\n",
       "      <td>C</td>\n",
       "      <td>C</td>\n",
       "      <td>A</td>\n",
       "      <td>G</td>\n",
       "      <td>T</td>\n",
       "      <td>T</td>\n",
       "      <td>G</td>\n",
       "      <td>...</td>\n",
       "      <td>A</td>\n",
       "      <td>C</td>\n",
       "      <td>A</td>\n",
       "      <td>G</td>\n",
       "      <td>G</td>\n",
       "      <td>T</td>\n",
       "      <td>A</td>\n",
       "      <td>A</td>\n",
       "      <td>T</td>\n",
       "      <td>GATCCAGTTGAAAACGTATCCCTCTACTTTCTTCAGTTGTAGAAAA...</td>\n",
       "    </tr>\n",
       "    <tr>\n",
       "      <th>309457</th>\n",
       "      <td>G</td>\n",
       "      <td>C</td>\n",
       "      <td>C</td>\n",
       "      <td>A</td>\n",
       "      <td>G</td>\n",
       "      <td>G</td>\n",
       "      <td>G</td>\n",
       "      <td>C</td>\n",
       "      <td>A</td>\n",
       "      <td>A</td>\n",
       "      <td>...</td>\n",
       "      <td>C</td>\n",
       "      <td>A</td>\n",
       "      <td>A</td>\n",
       "      <td>G</td>\n",
       "      <td>C</td>\n",
       "      <td>T</td>\n",
       "      <td>G</td>\n",
       "      <td>A</td>\n",
       "      <td>T</td>\n",
       "      <td>GCCAGGGCAAAGCTGGCTGATTTTACGTGTTTAAGGATGAAATATC...</td>\n",
       "    </tr>\n",
       "    <tr>\n",
       "      <th>309458</th>\n",
       "      <td>C</td>\n",
       "      <td>T</td>\n",
       "      <td>G</td>\n",
       "      <td>G</td>\n",
       "      <td>G</td>\n",
       "      <td>T</td>\n",
       "      <td>G</td>\n",
       "      <td>C</td>\n",
       "      <td>G</td>\n",
       "      <td>A</td>\n",
       "      <td>...</td>\n",
       "      <td>G</td>\n",
       "      <td>C</td>\n",
       "      <td>A</td>\n",
       "      <td>G</td>\n",
       "      <td>A</td>\n",
       "      <td>G</td>\n",
       "      <td>T</td>\n",
       "      <td>C</td>\n",
       "      <td>A</td>\n",
       "      <td>CTGGGTGCGACAGGCCACTGGACAAGGGCTTGAGTGGATGGGATGG...</td>\n",
       "    </tr>\n",
       "    <tr>\n",
       "      <th>309459</th>\n",
       "      <td>G</td>\n",
       "      <td>G</td>\n",
       "      <td>C</td>\n",
       "      <td>T</td>\n",
       "      <td>G</td>\n",
       "      <td>C</td>\n",
       "      <td>T</td>\n",
       "      <td>A</td>\n",
       "      <td>A</td>\n",
       "      <td>G</td>\n",
       "      <td>...</td>\n",
       "      <td>C</td>\n",
       "      <td>T</td>\n",
       "      <td>C</td>\n",
       "      <td>A</td>\n",
       "      <td>A</td>\n",
       "      <td>A</td>\n",
       "      <td>C</td>\n",
       "      <td>G</td>\n",
       "      <td>A</td>\n",
       "      <td>GGCTGCTAAGGCAATGTGCTCTCCTAATTTCCCTTTTTCCTTTGTG...</td>\n",
       "    </tr>\n",
       "  </tbody>\n",
       "</table>\n",
       "<p>309460 rows × 102 columns</p>\n",
       "</div>"
      ],
      "text/plain": [
       "       450 451 452 453 454 455 456 457 458 459  ... 542 543 544 545 546 547  \\\n",
       "0        T   T   G   C   C   A   C   A   C   T  ...   C   A   G   T   A   T   \n",
       "1        T   T   T   G   A   A   A   A   A   A  ...   T   C   A   T   C   G   \n",
       "2        A   G   A   A   A   C   A   T   T   C  ...   T   T   C   T   G   T   \n",
       "3        T   T   A   G   T   T   T   T   A   C  ...   A   A   A   A   A   T   \n",
       "4        C   A   A   C   A   G   A   A   G   T  ...   A   A   A   A   T   G   \n",
       "...     ..  ..  ..  ..  ..  ..  ..  ..  ..  ..  ...  ..  ..  ..  ..  ..  ..   \n",
       "309455   C   C   A   A   A   C   T   C   T   T  ...   G   G   G   C   A   G   \n",
       "309456   G   A   T   C   C   A   G   T   T   G  ...   A   C   A   G   G   T   \n",
       "309457   G   C   C   A   G   G   G   C   A   A  ...   C   A   A   G   C   T   \n",
       "309458   C   T   G   G   G   T   G   C   G   A  ...   G   C   A   G   A   G   \n",
       "309459   G   G   C   T   G   C   T   A   A   G  ...   C   T   C   A   A   A   \n",
       "\n",
       "       548 549 550                                           Sequence  \n",
       "0        C   T   C  TTGCCACACTGCTGGACGCCTGCAAGGCCAAGGGTACGGAGGTCAT...  \n",
       "1        T   G   C  TTTGAAAAAATATTAGCAATGTGAGGACACTTAAGCAGTTTTGTCA...  \n",
       "2        T   C   A  AGAAACATTCAACCTCCCTTCTTTTTATTCCAGTTGTCCTTTTCTC...  \n",
       "3        T   T   C  TTAGTTTTACTATGGAATCATAATAACCCACATAGAAGACTGATAT...  \n",
       "4        T   A   C  CAACAGAAGTTTCTCATCTATAATCAGTAGCACTAAACTCTTGGTT...  \n",
       "...     ..  ..  ..                                                ...  \n",
       "309455   A   G   A  CCAAACTCTTTATCTCTTGAGTTCTCAGCCAATAGGGCCATTGTAG...  \n",
       "309456   A   A   T  GATCCAGTTGAAAACGTATCCCTCTACTTTCTTCAGTTGTAGAAAA...  \n",
       "309457   G   A   T  GCCAGGGCAAAGCTGGCTGATTTTACGTGTTTAAGGATGAAATATC...  \n",
       "309458   T   C   A  CTGGGTGCGACAGGCCACTGGACAAGGGCTTGAGTGGATGGGATGG...  \n",
       "309459   C   G   A  GGCTGCTAAGGCAATGTGCTCTCCTAATTTCCCTTTTTCCTTTGTG...  \n",
       "\n",
       "[309460 rows x 102 columns]"
      ]
     },
     "execution_count": 6,
     "metadata": {},
     "output_type": "execute_result"
    }
   ],
   "source": [
    "x_data_cropped"
   ]
  },
  {
   "cell_type": "code",
   "execution_count": 5,
   "metadata": {
    "id": "KLuiCU2X5BVP"
   },
   "outputs": [],
   "source": [
    "x_train_raw = None\n",
    "y_train_raw = None\n",
    "x_test_raw = None\n",
    "y_test_raw = None\n",
    "x_valid_raw = None\n",
    "y_valid_raw = None"
   ]
  },
  {
   "cell_type": "markdown",
   "metadata": {
    "id": "MIM49qM75BVP"
   },
   "source": [
    "### Apply One Hot Encoding"
   ]
  },
  {
   "cell_type": "code",
   "execution_count": 6,
   "metadata": {
    "id": "tf17dHN95BVP"
   },
   "outputs": [],
   "source": [
    "number_of_unique_kmers = set()\n",
    "def encode_seq(kmer_token):\n",
    "\n",
    "    # A 1 0 0 0\n",
    "    # C 0 1 0 0\n",
    "    # T/U 0 0 0 1\n",
    "    # G 0 0 1 0\n",
    "    # N 0 0 0 0\n",
    "\n",
    "    encoding_dict = {\n",
    "        'A': [1, 0, 0, 0],\n",
    "        'C': [0, 1, 0, 0],\n",
    "        'G': [0, 0, 1, 0],\n",
    "        'T': [0, 0, 0, 1],\n",
    "        'U': [0, 0, 0, 1],\n",
    "        'N': [0, 0, 0, 0],\n",
    "    }\n",
    "\n",
    "    encoded_sequence = []\n",
    "    number_of_unique_kmers.add(kmer_token)\n",
    "    for  base in kmer_token:\n",
    "        encoded_sequence.append(encoding_dict[base])\n",
    "    return np.array(encoded_sequence).flatten()\n",
    "\n",
    "def applyOneHotEncoding(tokenized_sequences):\n",
    "    encoded_sequences = []\n",
    "    for seq in tokenized_sequences:\n",
    "        encoded_sequences.append(encode_seq(seq))\n",
    "\n",
    "    return np.array(encoded_sequences).flatten()\n",
    "\n",
    "def encode_with_one_hot_encoding(x_train_raw):\n",
    "    truncated_df =  x_train_raw.iloc[:,STRAT_INEDX :END_INDEX] # Window Starts from V501 with 50 window size\n",
    "    concatenated_column= truncated_df.apply(lambda row: ''.join(map(str, row)), axis=1)\n",
    "    df_result = truncated_df.assign(Sequence=concatenated_column)\n",
    "    tokenized_sequences =  df_result['Sequence'].apply(applyOneHotEncoding).tolist()\n",
    "\n",
    "    return tokenized_sequences\n"
   ]
  },
  {
   "cell_type": "markdown",
   "metadata": {
    "id": "Zk_WaSe35BVP"
   },
   "source": [
    "### 3 mer coding"
   ]
  },
  {
   "cell_type": "code",
   "execution_count": 7,
   "metadata": {
    "id": "JwIzW5gY5BVQ"
   },
   "outputs": [],
   "source": [
    "import pickle\n",
    "\n",
    "kmer_dict = {}\n",
    "k = 3\n",
    "with open(ENCODING_FILE, 'rb') as f:\n",
    "    kmer_dict = pickle.load(f)\n",
    "\n",
    "\n",
    "def encode_with_k_mer_codon(sequence):\n",
    "    #print(sequence)\n",
    "    encoded_sequence = []\n",
    "    for i in range(len(sequence) - k + 1):\n",
    "        if sequence[i:i+k] not in kmer_dict:\n",
    "            print(\"Key Not Found\" , kmer_dict)\n",
    "        encoded_sequence.append(kmer_dict[sequence[i:i+k]] )\n",
    "    return np.array(encoded_sequence)"
   ]
  },
  {
   "cell_type": "code",
   "execution_count": 8,
   "metadata": {
    "id": "Ds7NWJtl5BVQ"
   },
   "outputs": [],
   "source": [
    "## Filter Dataset to Keep only Target Binary Class\n",
    "\n",
    "RMs = ['hAm','hCm','hGm','hTm','hm1A','hm5C','hm5U','hm6A','hm6Am','hm7G','hPsi','Atol','NonMoD']\n",
    "RMEncoding = [12,1,2,3,4,5,6,7,8,9,10,11,0]\n",
    "\n",
    "eligible_class_list = ['hTm', 'hm5U', 'hPsi']\n",
    "ARMEncoding = [0,1,2]\n",
    "\n",
    "def convert_y_to_original_labels(row):\n",
    "    label = \"\"  \n",
    "    for index , n in enumerate(row.tolist()) :\n",
    "        if n == 1 :\n",
    "            label = RMs[index]\n",
    "    if label == '':\n",
    "        return 'NonMoD'\n",
    "    return label\n",
    "\n",
    "def get_original_y_lables( y_data ):\n",
    "    # Convert One Hot Encoded Y to to Original Labels\n",
    "    y_original_labels = y_data.apply(convert_y_to_original_labels,axis=1)\n",
    "    return y_original_labels\n",
    "\n",
    "\n",
    "\n",
    "def encode_target(y_data):\n",
    "    # Write Customer Lable Encoder . This is required since we have train and test alreday splitted. Always creating a new instanc of label encoder will change encoding.\n",
    "\n",
    "    y_encoded = []\n",
    "    for y in y_data:\n",
    "        index = eligible_class_list.index(y)\n",
    "        encoding =  ARMEncoding[index]\n",
    "        y_encoded.append(encoding)\n",
    "    return y_encoded\n",
    "\n",
    "def prepare_data_for_binary_classification(x_data , y_data , prediction_class):\n",
    "    # Convert One Hot Encoded Y to to Original Labels\n",
    "    y_original_labels = y_data.apply(convert_y_to_original_labels,axis=1)\n",
    "    x_data['Label'] = y_original_labels\n",
    "\n",
    "    selected_rna_data = x_data[x_data['Label'].isin(prediction_class)]\n",
    "\n",
    "    y_filtered = selected_rna_data['Label']\n",
    "    x_filtered = selected_rna_data.drop('Label', axis=1)\n",
    "\n",
    "    return x_filtered , y_filtered"
   ]
  },
  {
   "cell_type": "markdown",
   "metadata": {},
   "source": [
    "### Filter Data For target Class"
   ]
  },
  {
   "cell_type": "code",
   "execution_count": 9,
   "metadata": {
    "id": "zJEu1A4c5BVQ"
   },
   "outputs": [],
   "source": [
    "\n",
    "x_data_filtered , y_data_filtered = prepare_data_for_binary_classification(x_data_cropped , y_data , eligible_class_list)\n"
   ]
  },
  {
   "cell_type": "code",
   "execution_count": 10,
   "metadata": {
    "colab": {
     "base_uri": "https://localhost:8080/"
    },
    "id": "akLbxB6z5BVQ",
    "outputId": "faaf160a-ff4f-4f06-f16d-29667a37b997"
   },
   "outputs": [
    {
     "data": {
      "text/html": [
       "<div>\n",
       "<style scoped>\n",
       "    .dataframe tbody tr th:only-of-type {\n",
       "        vertical-align: middle;\n",
       "    }\n",
       "\n",
       "    .dataframe tbody tr th {\n",
       "        vertical-align: top;\n",
       "    }\n",
       "\n",
       "    .dataframe thead th {\n",
       "        text-align: right;\n",
       "    }\n",
       "</style>\n",
       "<table border=\"1\" class=\"dataframe\">\n",
       "  <thead>\n",
       "    <tr style=\"text-align: right;\">\n",
       "      <th></th>\n",
       "      <th>450</th>\n",
       "      <th>451</th>\n",
       "      <th>452</th>\n",
       "      <th>453</th>\n",
       "      <th>454</th>\n",
       "      <th>455</th>\n",
       "      <th>456</th>\n",
       "      <th>457</th>\n",
       "      <th>458</th>\n",
       "      <th>459</th>\n",
       "      <th>...</th>\n",
       "      <th>542</th>\n",
       "      <th>543</th>\n",
       "      <th>544</th>\n",
       "      <th>545</th>\n",
       "      <th>546</th>\n",
       "      <th>547</th>\n",
       "      <th>548</th>\n",
       "      <th>549</th>\n",
       "      <th>550</th>\n",
       "      <th>Sequence</th>\n",
       "    </tr>\n",
       "  </thead>\n",
       "  <tbody>\n",
       "    <tr>\n",
       "      <th>8680</th>\n",
       "      <td>C</td>\n",
       "      <td>T</td>\n",
       "      <td>T</td>\n",
       "      <td>A</td>\n",
       "      <td>A</td>\n",
       "      <td>A</td>\n",
       "      <td>A</td>\n",
       "      <td>G</td>\n",
       "      <td>A</td>\n",
       "      <td>A</td>\n",
       "      <td>...</td>\n",
       "      <td>A</td>\n",
       "      <td>T</td>\n",
       "      <td>G</td>\n",
       "      <td>T</td>\n",
       "      <td>G</td>\n",
       "      <td>G</td>\n",
       "      <td>C</td>\n",
       "      <td>C</td>\n",
       "      <td>C</td>\n",
       "      <td>CTTAAAAGAAGTGCTAAGATGGTGCTGAAGTTCATAATCCAAACGT...</td>\n",
       "    </tr>\n",
       "    <tr>\n",
       "      <th>8681</th>\n",
       "      <td>T</td>\n",
       "      <td>C</td>\n",
       "      <td>A</td>\n",
       "      <td>T</td>\n",
       "      <td>C</td>\n",
       "      <td>T</td>\n",
       "      <td>G</td>\n",
       "      <td>T</td>\n",
       "      <td>A</td>\n",
       "      <td>T</td>\n",
       "      <td>...</td>\n",
       "      <td>T</td>\n",
       "      <td>T</td>\n",
       "      <td>T</td>\n",
       "      <td>T</td>\n",
       "      <td>T</td>\n",
       "      <td>T</td>\n",
       "      <td>T</td>\n",
       "      <td>T</td>\n",
       "      <td>T</td>\n",
       "      <td>TCATCTGTATTGTAGCATGTGTCAGGCCTTCATTTGTTTTTATGGC...</td>\n",
       "    </tr>\n",
       "    <tr>\n",
       "      <th>8682</th>\n",
       "      <td>T</td>\n",
       "      <td>T</td>\n",
       "      <td>G</td>\n",
       "      <td>T</td>\n",
       "      <td>T</td>\n",
       "      <td>T</td>\n",
       "      <td>C</td>\n",
       "      <td>C</td>\n",
       "      <td>T</td>\n",
       "      <td>G</td>\n",
       "      <td>...</td>\n",
       "      <td>G</td>\n",
       "      <td>G</td>\n",
       "      <td>A</td>\n",
       "      <td>G</td>\n",
       "      <td>G</td>\n",
       "      <td>G</td>\n",
       "      <td>T</td>\n",
       "      <td>T</td>\n",
       "      <td>T</td>\n",
       "      <td>TTGTTTCCTGATGATACGGCTTCTCCAGAGTTTGGGGGGCCTGGAA...</td>\n",
       "    </tr>\n",
       "    <tr>\n",
       "      <th>8683</th>\n",
       "      <td>A</td>\n",
       "      <td>G</td>\n",
       "      <td>A</td>\n",
       "      <td>G</td>\n",
       "      <td>T</td>\n",
       "      <td>A</td>\n",
       "      <td>T</td>\n",
       "      <td>A</td>\n",
       "      <td>A</td>\n",
       "      <td>T</td>\n",
       "      <td>...</td>\n",
       "      <td>C</td>\n",
       "      <td>A</td>\n",
       "      <td>G</td>\n",
       "      <td>T</td>\n",
       "      <td>G</td>\n",
       "      <td>A</td>\n",
       "      <td>A</td>\n",
       "      <td>C</td>\n",
       "      <td>T</td>\n",
       "      <td>AGAGTATAATTAGAAGACTCTTCTGAACAGAGAATTTTAAGTGGGA...</td>\n",
       "    </tr>\n",
       "    <tr>\n",
       "      <th>8684</th>\n",
       "      <td>G</td>\n",
       "      <td>C</td>\n",
       "      <td>C</td>\n",
       "      <td>C</td>\n",
       "      <td>T</td>\n",
       "      <td>G</td>\n",
       "      <td>T</td>\n",
       "      <td>G</td>\n",
       "      <td>C</td>\n",
       "      <td>C</td>\n",
       "      <td>...</td>\n",
       "      <td>G</td>\n",
       "      <td>C</td>\n",
       "      <td>A</td>\n",
       "      <td>T</td>\n",
       "      <td>T</td>\n",
       "      <td>T</td>\n",
       "      <td>C</td>\n",
       "      <td>T</td>\n",
       "      <td>T</td>\n",
       "      <td>GCCCTGTGCCTGGTAACGATCGTTCTCACAGTCATGGCCGTAGGGA...</td>\n",
       "    </tr>\n",
       "    <tr>\n",
       "      <th>...</th>\n",
       "      <td>...</td>\n",
       "      <td>...</td>\n",
       "      <td>...</td>\n",
       "      <td>...</td>\n",
       "      <td>...</td>\n",
       "      <td>...</td>\n",
       "      <td>...</td>\n",
       "      <td>...</td>\n",
       "      <td>...</td>\n",
       "      <td>...</td>\n",
       "      <td>...</td>\n",
       "      <td>...</td>\n",
       "      <td>...</td>\n",
       "      <td>...</td>\n",
       "      <td>...</td>\n",
       "      <td>...</td>\n",
       "      <td>...</td>\n",
       "      <td>...</td>\n",
       "      <td>...</td>\n",
       "      <td>...</td>\n",
       "      <td>...</td>\n",
       "    </tr>\n",
       "    <tr>\n",
       "      <th>309006</th>\n",
       "      <td>A</td>\n",
       "      <td>A</td>\n",
       "      <td>T</td>\n",
       "      <td>T</td>\n",
       "      <td>A</td>\n",
       "      <td>A</td>\n",
       "      <td>A</td>\n",
       "      <td>A</td>\n",
       "      <td>C</td>\n",
       "      <td>A</td>\n",
       "      <td>...</td>\n",
       "      <td>C</td>\n",
       "      <td>A</td>\n",
       "      <td>G</td>\n",
       "      <td>C</td>\n",
       "      <td>T</td>\n",
       "      <td>T</td>\n",
       "      <td>C</td>\n",
       "      <td>A</td>\n",
       "      <td>A</td>\n",
       "      <td>AATTAAAACAAGTGTTTTAAGATTTCACAGATATCTAAATACAGCA...</td>\n",
       "    </tr>\n",
       "    <tr>\n",
       "      <th>309007</th>\n",
       "      <td>G</td>\n",
       "      <td>A</td>\n",
       "      <td>G</td>\n",
       "      <td>A</td>\n",
       "      <td>T</td>\n",
       "      <td>C</td>\n",
       "      <td>T</td>\n",
       "      <td>G</td>\n",
       "      <td>C</td>\n",
       "      <td>C</td>\n",
       "      <td>...</td>\n",
       "      <td>G</td>\n",
       "      <td>T</td>\n",
       "      <td>A</td>\n",
       "      <td>T</td>\n",
       "      <td>C</td>\n",
       "      <td>T</td>\n",
       "      <td>T</td>\n",
       "      <td>A</td>\n",
       "      <td>A</td>\n",
       "      <td>GAGATCTGCCCGCCTCAGCCTCCCAAAGTGCTCGGATTATAGGCGT...</td>\n",
       "    </tr>\n",
       "    <tr>\n",
       "      <th>309008</th>\n",
       "      <td>T</td>\n",
       "      <td>A</td>\n",
       "      <td>T</td>\n",
       "      <td>A</td>\n",
       "      <td>C</td>\n",
       "      <td>T</td>\n",
       "      <td>A</td>\n",
       "      <td>A</td>\n",
       "      <td>C</td>\n",
       "      <td>A</td>\n",
       "      <td>...</td>\n",
       "      <td>G</td>\n",
       "      <td>C</td>\n",
       "      <td>C</td>\n",
       "      <td>A</td>\n",
       "      <td>T</td>\n",
       "      <td>T</td>\n",
       "      <td>T</td>\n",
       "      <td>G</td>\n",
       "      <td>T</td>\n",
       "      <td>TATACTAACAAGTGTGAGATGCTAACTCATGGTTTTATTTTGCATT...</td>\n",
       "    </tr>\n",
       "    <tr>\n",
       "      <th>309009</th>\n",
       "      <td>A</td>\n",
       "      <td>T</td>\n",
       "      <td>A</td>\n",
       "      <td>C</td>\n",
       "      <td>A</td>\n",
       "      <td>G</td>\n",
       "      <td>T</td>\n",
       "      <td>T</td>\n",
       "      <td>A</td>\n",
       "      <td>T</td>\n",
       "      <td>...</td>\n",
       "      <td>T</td>\n",
       "      <td>C</td>\n",
       "      <td>A</td>\n",
       "      <td>C</td>\n",
       "      <td>C</td>\n",
       "      <td>C</td>\n",
       "      <td>A</td>\n",
       "      <td>G</td>\n",
       "      <td>A</td>\n",
       "      <td>ATACAGTTATGTCAGTAGTGTAAGGTTACGTACATTACAGTAGTGT...</td>\n",
       "    </tr>\n",
       "    <tr>\n",
       "      <th>309010</th>\n",
       "      <td>G</td>\n",
       "      <td>T</td>\n",
       "      <td>G</td>\n",
       "      <td>A</td>\n",
       "      <td>A</td>\n",
       "      <td>C</td>\n",
       "      <td>T</td>\n",
       "      <td>G</td>\n",
       "      <td>C</td>\n",
       "      <td>T</td>\n",
       "      <td>...</td>\n",
       "      <td>C</td>\n",
       "      <td>T</td>\n",
       "      <td>C</td>\n",
       "      <td>A</td>\n",
       "      <td>G</td>\n",
       "      <td>G</td>\n",
       "      <td>G</td>\n",
       "      <td>A</td>\n",
       "      <td>C</td>\n",
       "      <td>GTGAACTGCTTTAGGACAGATTCAGTTCTGTGATCAAGATGAAAAA...</td>\n",
       "    </tr>\n",
       "  </tbody>\n",
       "</table>\n",
       "<p>9086 rows × 102 columns</p>\n",
       "</div>"
      ],
      "text/plain": [
       "       450 451 452 453 454 455 456 457 458 459  ... 542 543 544 545 546 547  \\\n",
       "8680     C   T   T   A   A   A   A   G   A   A  ...   A   T   G   T   G   G   \n",
       "8681     T   C   A   T   C   T   G   T   A   T  ...   T   T   T   T   T   T   \n",
       "8682     T   T   G   T   T   T   C   C   T   G  ...   G   G   A   G   G   G   \n",
       "8683     A   G   A   G   T   A   T   A   A   T  ...   C   A   G   T   G   A   \n",
       "8684     G   C   C   C   T   G   T   G   C   C  ...   G   C   A   T   T   T   \n",
       "...     ..  ..  ..  ..  ..  ..  ..  ..  ..  ..  ...  ..  ..  ..  ..  ..  ..   \n",
       "309006   A   A   T   T   A   A   A   A   C   A  ...   C   A   G   C   T   T   \n",
       "309007   G   A   G   A   T   C   T   G   C   C  ...   G   T   A   T   C   T   \n",
       "309008   T   A   T   A   C   T   A   A   C   A  ...   G   C   C   A   T   T   \n",
       "309009   A   T   A   C   A   G   T   T   A   T  ...   T   C   A   C   C   C   \n",
       "309010   G   T   G   A   A   C   T   G   C   T  ...   C   T   C   A   G   G   \n",
       "\n",
       "       548 549 550                                           Sequence  \n",
       "8680     C   C   C  CTTAAAAGAAGTGCTAAGATGGTGCTGAAGTTCATAATCCAAACGT...  \n",
       "8681     T   T   T  TCATCTGTATTGTAGCATGTGTCAGGCCTTCATTTGTTTTTATGGC...  \n",
       "8682     T   T   T  TTGTTTCCTGATGATACGGCTTCTCCAGAGTTTGGGGGGCCTGGAA...  \n",
       "8683     A   C   T  AGAGTATAATTAGAAGACTCTTCTGAACAGAGAATTTTAAGTGGGA...  \n",
       "8684     C   T   T  GCCCTGTGCCTGGTAACGATCGTTCTCACAGTCATGGCCGTAGGGA...  \n",
       "...     ..  ..  ..                                                ...  \n",
       "309006   C   A   A  AATTAAAACAAGTGTTTTAAGATTTCACAGATATCTAAATACAGCA...  \n",
       "309007   T   A   A  GAGATCTGCCCGCCTCAGCCTCCCAAAGTGCTCGGATTATAGGCGT...  \n",
       "309008   T   G   T  TATACTAACAAGTGTGAGATGCTAACTCATGGTTTTATTTTGCATT...  \n",
       "309009   A   G   A  ATACAGTTATGTCAGTAGTGTAAGGTTACGTACATTACAGTAGTGT...  \n",
       "309010   G   A   C  GTGAACTGCTTTAGGACAGATTCAGTTCTGTGATCAAGATGAAAAA...  \n",
       "\n",
       "[9086 rows x 102 columns]"
      ]
     },
     "execution_count": 10,
     "metadata": {},
     "output_type": "execute_result"
    }
   ],
   "source": [
    "x_data_filtered"
   ]
  },
  {
   "cell_type": "code",
   "execution_count": 11,
   "metadata": {},
   "outputs": [
    {
     "data": {
      "text/plain": [
       "Label\n",
       "hm5U    3696\n",
       "hPsi    3137\n",
       "hTm     2253\n",
       "Name: count, dtype: int64"
      ]
     },
     "execution_count": 11,
     "metadata": {},
     "output_type": "execute_result"
    }
   ],
   "source": [
    "y_data_filtered.value_counts()"
   ]
  },
  {
   "cell_type": "code",
   "execution_count": 12,
   "metadata": {
    "colab": {
     "base_uri": "https://localhost:8080/",
     "height": 564
    },
    "id": "EJjCTy9m5BVQ",
    "outputId": "a5b4a34b-0f23-4ff6-cb26-b9aa16851f7e"
   },
   "outputs": [
    {
     "data": {
      "image/png": "[encoded data removed]",
      "text/plain": [
       "<Figure size 1000x600 with 1 Axes>"
      ]
     },
     "metadata": {},
     "output_type": "display_data"
    }
   ],
   "source": [
    "import matplotlib.pyplot as plt\n",
    "import matplotlib.cm as cm\n",
    "\n",
    "y_counts = y_data_filtered.value_counts()\n",
    "colors = cm.tab20(range(len(y_counts)))\n",
    "plt.figure(figsize=(10, 6))\n",
    "plt.bar(y_counts.index, y_counts.values , color = colors)\n",
    "plt.xlabel('Class')\n",
    "plt.ylabel('Count')\n",
    "plt.title('Value counts of each class')\n",
    "plt.show()"
   ]
  },
  {
   "cell_type": "code",
   "execution_count": 15,
   "metadata": {
    "colab": {
     "base_uri": "https://localhost:8080/"
    },
    "id": "WTPaFg0d5BVQ",
    "outputId": "794c6077-0e7c-4358-89ff-7d6c7039f921"
   },
   "outputs": [
    {
     "data": {
      "text/plain": [
       "8680      CTTAAAAGAAGTGCTAAGATGGTGCTGAAGTTCATAATCCAAACGT...\n",
       "8681      TCATCTGTATTGTAGCATGTGTCAGGCCTTCATTTGTTTTTATGGC...\n",
       "8682      TTGTTTCCTGATGATACGGCTTCTCCAGAGTTTGGGGGGCCTGGAA...\n",
       "8683      AGAGTATAATTAGAAGACTCTTCTGAACAGAGAATTTTAAGTGGGA...\n",
       "8684      GCCCTGTGCCTGGTAACGATCGTTCTCACAGTCATGGCCGTAGGGA...\n",
       "                                ...                        \n",
       "309006    AATTAAAACAAGTGTTTTAAGATTTCACAGATATCTAAATACAGCA...\n",
       "309007    GAGATCTGCCCGCCTCAGCCTCCCAAAGTGCTCGGATTATAGGCGT...\n",
       "309008    TATACTAACAAGTGTGAGATGCTAACTCATGGTTTTATTTTGCATT...\n",
       "309009    ATACAGTTATGTCAGTAGTGTAAGGTTACGTACATTACAGTAGTGT...\n",
       "309010    GTGAACTGCTTTAGGACAGATTCAGTTCTGTGATCAAGATGAAAAA...\n",
       "Name: Sequence, Length: 9086, dtype: object"
      ]
     },
     "execution_count": 15,
     "metadata": {},
     "output_type": "execute_result"
    }
   ],
   "source": [
    "x_data_filtered['Sequence']"
   ]
  },
  {
   "cell_type": "code",
   "execution_count": 13,
   "metadata": {
    "colab": {
     "base_uri": "https://localhost:8080/"
    },
    "id": "ULG0B0e95BVQ",
    "outputId": "69c76a6c-6b7e-4121-9a88-96d17bf2a5b6"
   },
   "outputs": [],
   "source": [
    "encoded_sequences = [encode_with_k_mer_codon(sequence) for sequence in x_data_filtered['Sequence']]\n",
    "X_encoded = np.array(encoded_sequences)\n",
    "X_encoded_tensor = torch.tensor(X_encoded, dtype=torch.float32)\n",
    "y_encoded = encode_target(y_data_filtered)"
   ]
  },
  {
   "cell_type": "code",
   "execution_count": 14,
   "metadata": {
    "colab": {
     "base_uri": "https://localhost:8080/"
    },
    "id": "Ne-hmuDd5BVR",
    "outputId": "dbebeca1-6b70-4cfd-b2d2-3c011fdfac48"
   },
   "outputs": [
    {
     "data": {
      "text/plain": [
       "tensor([[42., 62., 47.,  ..., 17., 29.,  0.],\n",
       "        [11.,  2., 12.,  ..., 50., 50., 50.],\n",
       "        [35., 26., 34.,  ..., 21., 34., 50.],\n",
       "        ...,\n",
       "        [32.,  3.,  4.,  ..., 50., 35., 26.],\n",
       "        [ 3.,  4., 37.,  ...,  1., 19., 56.],\n",
       "        [27., 52., 53.,  ..., 40., 51., 57.]])"
      ]
     },
     "execution_count": 14,
     "metadata": {},
     "output_type": "execute_result"
    }
   ],
   "source": [
    "X_encoded_tensor"
   ]
  },
  {
   "cell_type": "code",
   "execution_count": 15,
   "metadata": {
    "colab": {
     "base_uri": "https://localhost:8080/"
    },
    "id": "etAEiUuL5BVR",
    "outputId": "3ce21d47-4199-4911-83b0-a095d1ceda83"
   },
   "outputs": [
    {
     "name": "stdout",
     "output_type": "stream",
     "text": [
      "Generate Train and Split..\n"
     ]
    }
   ],
   "source": [
    "print(\"Generate Train and Split..\")\n",
    "# Train set\n",
    "X_train, X_temp, y_train, y_temp = train_test_split(X_encoded, y_encoded, test_size=0.3, random_state=42)\n",
    "\n",
    "# Test and Validation set\n",
    "X_valid, X_test, y_valid, y_test = train_test_split(X_temp, y_temp, test_size=0.5, random_state=42)\n"
   ]
  },
  {
   "cell_type": "code",
   "execution_count": 16,
   "metadata": {
    "colab": {
     "base_uri": "https://localhost:8080/"
    },
    "id": "WxuA3OdC5BVR",
    "outputId": "0df4344b-8c3a-4fbc-c67b-4973076f8446"
   },
   "outputs": [
    {
     "name": "stdout",
     "output_type": "stream",
     "text": [
      "Train Y Count :  Counter({1: 2594, 2: 2196, 0: 1570})\n",
      "Test Y Count :  Counter({1: 532, 2: 500, 0: 331})\n"
     ]
    }
   ],
   "source": [
    "X_encoded = None\n",
    "y_encoded = None\n",
    "x_data_filtered , y_data_filtered = None,None\n",
    "x_data , y_data = None , None\n",
    "\n",
    "print(\"Train Y Count : \" ,Counter(y_train))\n",
    "print(\"Test Y Count : \" ,Counter(y_test))\n"
   ]
  },
  {
   "cell_type": "markdown",
   "metadata": {
    "id": "6Zb-kIy35BVR"
   },
   "source": [
    "### Balance Datset"
   ]
  },
  {
   "cell_type": "code",
   "execution_count": 17,
   "metadata": {
    "id": "3tEqKJG25BVR"
   },
   "outputs": [],
   "source": [
    "y_train = torch.tensor(y_train , dtype=torch.long)\n",
    "y_test = torch.tensor(y_test , dtype=torch.long)\n",
    "y_valid = torch.tensor(y_valid , dtype=torch.long)\n",
    "\n",
    "sm = RandomOverSampler(random_state=42)\n",
    "X_resampled, y_resampled = sm.fit_resample(X_train, y_train)\n",
    "y_resampled = torch.tensor(y_resampled , dtype=torch.float32) # Keeping float32\n",
    "X_resampled = torch.tensor(X_resampled , dtype=torch.float32)"
   ]
  },
  {
   "cell_type": "code",
   "execution_count": 18,
   "metadata": {
    "colab": {
     "base_uri": "https://localhost:8080/"
    },
    "id": "gpftneeP5BVR",
    "outputId": "45c7f234-7cba-475a-85a2-a23c25c9aa29"
   },
   "outputs": [
    {
     "name": "stdout",
     "output_type": "stream",
     "text": [
      "(6360, 99)\n",
      "torch.Size([6360])\n"
     ]
    }
   ],
   "source": [
    "print(X_train.shape)\n",
    "print(y_train.shape)"
   ]
  },
  {
   "cell_type": "code",
   "execution_count": 19,
   "metadata": {
    "colab": {
     "base_uri": "https://localhost:8080/"
    },
    "id": "lM0C9uYE5BVS",
    "outputId": "3cb2f8f6-abd9-44f5-81d6-5d71e9a1162b"
   },
   "outputs": [
    {
     "data": {
      "text/plain": [
       "tensor([26., 46., 32.,  3.,  4., 37.,  2.,  3., 32., 12., 13.,  0.,  0.,  0.,\n",
       "        23., 38., 53., 48., 56., 53., 54., 12., 13.,  1., 19., 56., 39.,  9.,\n",
       "        46., 32.,  3., 32., 12., 15., 38., 53., 63., 54., 12., 11., 19.,  9.,\n",
       "        27., 45., 21., 34., 50., 43., 22., 42., 62., 32.,  3., 47., 63., 63.,\n",
       "        54., 61., 62., 47., 63., 59., 37.,  2.,  3., 32., 61., 43., 22., 42.,\n",
       "        62.,  4.,  5.,  1.,  2., 33., 28., 18., 19.,  9., 34., 43., 11., 19.,\n",
       "        31., 18., 60., 54., 12., 11., 36., 37.,  2., 12., 13.,  6., 42., 35.,\n",
       "        45.])"
      ]
     },
     "execution_count": 19,
     "metadata": {},
     "output_type": "execute_result"
    }
   ],
   "source": [
    "X_resampled[1]"
   ]
  },
  {
   "cell_type": "code",
   "execution_count": 62,
   "metadata": {
    "id": "pIOzPJWY5BVS"
   },
   "outputs": [],
   "source": [
    "hyperparameter = {}\n",
    "hyperparameter['INPUT_DIMENSION'] = len(kmer_dict) # For One Hot Encoding Input Dimension would be 4 as there only 4 unique nucleocide\n",
    "hyperparameter['HIDDEN_DIMENSION'] = 32\n",
    "hyperparameter['NO_OF_LAYERS'] = 2\n",
    "hyperparameter['BATCH_SIZE'] = 512\n",
    "hyperparameter['OUTPUT_DIMENSION'] = len(eligible_class_list)\n",
    "hyperparameter['EMBEDDING_DIMENSION'] = 8 # if you are using Word2Vec Encoding then this should be same as Word2Vec Embedding Dim\n",
    "hyperparameter['DROP_OUT'] = 0.30705959993626625\n",
    "hyperparameter['LEARNING_RATE'] = 0.0005256027052154265\n",
    "\n",
    "train_losses = []\n",
    "val_losses = []\n",
    "val_accuracies = []\n",
    "    \n",
    "class RNADataset(Dataset):\n",
    "    def __init__(self, X, y):\n",
    "        self.X = X\n",
    "        self.y = y\n",
    "\n",
    "    def __len__(self):\n",
    "        return len(self.X)\n",
    "\n",
    "    def __getitem__(self, index):\n",
    "        return self.X[index], self.y[index]\n",
    "\n",
    "train_dataset = RNADataset(X_resampled, y_resampled)\n",
    "test_dataset = RNADataset(X_test, y_test)\n",
    "valid_dataset = RNADataset(X_valid, y_valid)\n",
    "\n",
    "\n",
    "train_dataloader = DataLoader(train_dataset, batch_size=hyperparameter['BATCH_SIZE'], shuffle = True)\n",
    "test_dataloader = DataLoader(test_dataset, batch_size=hyperparameter['BATCH_SIZE'], shuffle=False)\n",
    "valid_dataloader = DataLoader(valid_dataset, batch_size=hyperparameter['BATCH_SIZE'], shuffle=False)"
   ]
  },
  {
   "cell_type": "markdown",
   "metadata": {
    "jp-MarkdownHeadingCollapsed": true
   },
   "source": [
    "### Model Architecure"
   ]
  },
  {
   "cell_type": "code",
   "execution_count": 26,
   "metadata": {
    "id": "sXVdBroi5BVS"
   },
   "outputs": [],
   "source": [
    "import torch.nn as nn\n",
    "\n",
    "class RNATransformerModel(nn.Module):\n",
    "    def __init__(self, input_dim, embedding_dim, hidden_dim, num_layers, output_dim, dropout):\n",
    "        super(RNATransformerModel, self).__init__()\n",
    "\n",
    "        self.embedding = nn.Embedding(input_dim, embedding_dim)\n",
    "\n",
    "        # If batch size first is true then it should be batch size , sequence lenght , embedding dimension\n",
    "        self.encoder_layer = nn.TransformerEncoderLayer(d_model=embedding_dim, nhead=2, dim_feedforward=hidden_dim , batch_first=True)\n",
    "        self.transformer_encoder = nn.TransformerEncoder(self.encoder_layer, num_layers=num_layers)\n",
    "\n",
    "        self.fc = nn.Linear(embedding_dim, output_dim)\n",
    "        self.dropout = nn.Dropout(dropout)\n",
    "\n",
    "    def forward(self, x):\n",
    "        x = x.long()\n",
    "        #print(\"Shape of Original X  \", x.shape)\n",
    "        x_embedded = self.embedding(x)\n",
    "        #print(\"Shape of X embedded\" , x_embedded.shape)\n",
    "        x_transformed = self.transformer_encoder(x_embedded)\n",
    "        #print(\"Shape of Transformed X\" , x_transformed.shape)\n",
    "        x_transformed = x_transformed[:, -1, :]  # taking the last token's output\n",
    "\n",
    "        output = self.dropout(x_transformed)\n",
    "        out = self.fc(output)\n",
    "        return out"
   ]
  },
  {
   "cell_type": "code",
   "execution_count": 22,
   "metadata": {
    "colab": {
     "base_uri": "https://localhost:8080/"
    },
    "id": "5sP484k65BVS",
    "outputId": "1bf3a3f4-e539-4b89-8f0c-3918db6732ca"
   },
   "outputs": [
    {
     "name": "stdout",
     "output_type": "stream",
     "text": [
      "torch.Size([64, 99])\n"
     ]
    }
   ],
   "source": [
    "# Check data is in correct shape - batch size , sequece len , embedding dimension size\n",
    "for inputs, labels in train_dataloader:\n",
    "    print(inputs.shape)\n",
    "    break"
   ]
  },
  {
   "cell_type": "markdown",
   "metadata": {},
   "source": [
    "### Train and Validate"
   ]
  },
  {
   "cell_type": "code",
   "execution_count": 43,
   "metadata": {
    "id": "-t8RdUvy5BVS"
   },
   "outputs": [],
   "source": [
    "import torch.optim.lr_scheduler as lr_scheduler\n",
    "\n",
    "\n",
    "def validate_model(model, test_dataloader , device ,loss_function):\n",
    "    model.eval()\n",
    "    running_loss = 0.0\n",
    "    class_correct = [0] * hyperparameter['OUTPUT_DIMENSION']\n",
    "    class_total = [0] * hyperparameter['OUTPUT_DIMENSION']\n",
    "    total = 0\n",
    "    correct = 0\n",
    "    true_labels = []\n",
    "    predicted_labels = []\n",
    "\n",
    "    with torch.inference_mode():\n",
    "        for inputs, labels in test_dataloader:\n",
    "            inputs = inputs.to(device)\n",
    "            labels = labels.long().to(device)\n",
    "\n",
    "            outputs = model(inputs)\n",
    "            loss = loss_function(outputs, labels)\n",
    "            running_loss += loss.item()\n",
    "\n",
    "            _, predicted = torch.max(outputs, 1)\n",
    "            total += labels.size(0)\n",
    "            correct += (predicted == labels).sum().item()\n",
    "\n",
    "            true_labels.extend(labels.cpu().numpy())  # Capture True Lables for Summary Report\n",
    "            predicted_labels.extend(predicted.cpu().numpy()) # Capture Predicted Labels Lables for Summary Report\n",
    "\n",
    "    validation_loss = running_loss / len(test_dataloader)\n",
    "    validation_accuracy = correct / total\n",
    "\n",
    "    return validation_loss , validation_accuracy , true_labels , predicted_labels\n",
    "\n",
    "\n",
    "def train_model(model, train_dataloader, test_dataloader, device, epochs, optimizer, loss_function):\n",
    "    best_val_loss = float('inf')\n",
    "    no_improvement_count = 0\n",
    "    scheduler = lr_scheduler.StepLR(optimizer, step_size=5, gamma=0.5) \n",
    "    \n",
    "    for epoch in range(epochs):\n",
    "        model.train()\n",
    "        running_loss = 0.0\n",
    "        start_time = time.time()\n",
    "\n",
    "        for i, (inputs, labels) in enumerate(train_dataloader):\n",
    "            inputs = inputs.to(device)\n",
    "            labels = labels.long().to(device)\n",
    "\n",
    "            optimizer.zero_grad()\n",
    "            outputs = model(inputs)\n",
    "            loss = loss_function(outputs, labels)\n",
    "            loss.backward()\n",
    "            optimizer.step()\n",
    "\n",
    "            running_loss += loss.item()\n",
    "\n",
    "        epoch_loss = running_loss / len(train_dataloader)\n",
    "        val_loss,  validation_accuracy , true_labels , predicted_labels = validate_model(model, test_dataloader, device, loss_function)\n",
    "        end_time = time.time()\n",
    "        elapsed_time = end_time - start_time\n",
    "\n",
    "        if epoch % 5 == 0:\n",
    "            print(f\"Epoch {epoch + 1}, Train Loss: {epoch_loss:.4f}, Val Loss: {val_loss:.4f}, Test Accuracy: {validation_accuracy:.4f} ,Learning Rate: {optimizer.param_groups[0]['lr']} , Time Taken : {elapsed_time}\")\n",
    "        \n",
    "        train_losses.append(epoch_loss)\n",
    "        val_losses.append(val_loss)\n",
    "        val_accuracies.append(validation_accuracy)\n",
    "        \n",
    "        #scheduler.step()\n",
    "\n",
    "#         if val_loss < best_val_loss:\n",
    "#             best_val_loss = val_loss\n",
    "#             no_improvement_count = 0\n",
    "#         else:\n",
    "#             no_improvement_count += 1\n",
    "#             if no_improvement_count == 20:\n",
    "#                 print(\"No improvement in validation loss for 5 epochs. Training stopped.\")\n",
    "#                 break\n",
    "\n"
   ]
  },
  {
   "cell_type": "markdown",
   "metadata": {},
   "source": [
    "### Run"
   ]
  },
  {
   "cell_type": "code",
   "execution_count": 63,
   "metadata": {
    "colab": {
     "base_uri": "https://localhost:8080/"
    },
    "id": "N7wtvOzF5BVS",
    "outputId": "ea97784b-22dc-4b48-f2c6-30f3f397fce4"
   },
   "outputs": [
    {
     "name": "stdout",
     "output_type": "stream",
     "text": [
      "Total Number of Parameters for Model Training : 3395 \n",
      "Model Parameters  :  {'INPUT_DIMENSION': 94, 'HIDDEN_DIMENSION': 32, 'NO_OF_LAYERS': 2, 'BATCH_SIZE': 512, 'OUTPUT_DIMENSION': 3, 'EMBEDDING_DIMENSION': 8, 'DROP_OUT': 0.30705959993626625, 'LEARNING_RATE': 0.0005256027052154265}\n",
      "Epoch 1, Train Loss: 1.2601, Val Loss: 1.1857, Test Accuracy: 0.3368 ,Learning Rate: 0.0005256027052154265 , Time Taken : 0.7544329166412354\n",
      "Epoch 6, Train Loss: 1.1376, Val Loss: 1.1122, Test Accuracy: 0.3287 ,Learning Rate: 0.0005256027052154265 , Time Taken : 0.7619426250457764\n",
      "Epoch 11, Train Loss: 1.1151, Val Loss: 1.1005, Test Accuracy: 0.3448 ,Learning Rate: 0.0005256027052154265 , Time Taken : 0.735332727432251\n",
      "Epoch 16, Train Loss: 1.1079, Val Loss: 1.0988, Test Accuracy: 0.3448 ,Learning Rate: 0.0005256027052154265 , Time Taken : 0.7512128353118896\n",
      "Epoch 21, Train Loss: 1.1063, Val Loss: 1.0990, Test Accuracy: 0.3492 ,Learning Rate: 0.0005256027052154265 , Time Taken : 0.6649124622344971\n",
      "Epoch 26, Train Loss: 1.1035, Val Loss: 1.0982, Test Accuracy: 0.3419 ,Learning Rate: 0.0005256027052154265 , Time Taken : 0.6929633617401123\n",
      "Epoch 31, Train Loss: 1.0999, Val Loss: 1.0982, Test Accuracy: 0.3316 ,Learning Rate: 0.0005256027052154265 , Time Taken : 0.7131688594818115\n",
      "Epoch 36, Train Loss: 1.0989, Val Loss: 1.0993, Test Accuracy: 0.3272 ,Learning Rate: 0.0005256027052154265 , Time Taken : 0.7222573757171631\n",
      "Epoch 41, Train Loss: 1.1002, Val Loss: 1.0986, Test Accuracy: 0.3250 ,Learning Rate: 0.0005256027052154265 , Time Taken : 0.7652077674865723\n",
      "Epoch 46, Train Loss: 1.0987, Val Loss: 1.0986, Test Accuracy: 0.3265 ,Learning Rate: 0.0005256027052154265 , Time Taken : 0.8050599098205566\n",
      "Epoch 51, Train Loss: 1.0990, Val Loss: 1.0985, Test Accuracy: 0.3162 ,Learning Rate: 0.0005256027052154265 , Time Taken : 0.6627373695373535\n",
      "Epoch 56, Train Loss: 1.0978, Val Loss: 1.0996, Test Accuracy: 0.3184 ,Learning Rate: 0.0005256027052154265 , Time Taken : 0.7511336803436279\n",
      "Epoch 61, Train Loss: 1.0981, Val Loss: 1.0988, Test Accuracy: 0.3162 ,Learning Rate: 0.0005256027052154265 , Time Taken : 0.8074793815612793\n",
      "Epoch 66, Train Loss: 1.0975, Val Loss: 1.0998, Test Accuracy: 0.3096 ,Learning Rate: 0.0005256027052154265 , Time Taken : 0.7214193344116211\n",
      "Epoch 71, Train Loss: 1.0974, Val Loss: 1.0994, Test Accuracy: 0.3206 ,Learning Rate: 0.0005256027052154265 , Time Taken : 0.7312216758728027\n",
      "Epoch 76, Train Loss: 1.0977, Val Loss: 1.1001, Test Accuracy: 0.3191 ,Learning Rate: 0.0005256027052154265 , Time Taken : 0.7751076221466064\n",
      "Epoch 81, Train Loss: 1.0964, Val Loss: 1.1001, Test Accuracy: 0.3111 ,Learning Rate: 0.0005256027052154265 , Time Taken : 0.7984950542449951\n",
      "Epoch 86, Train Loss: 1.0971, Val Loss: 1.1016, Test Accuracy: 0.2993 ,Learning Rate: 0.0005256027052154265 , Time Taken : 0.6928017139434814\n",
      "Epoch 91, Train Loss: 1.0955, Val Loss: 1.0996, Test Accuracy: 0.3140 ,Learning Rate: 0.0005256027052154265 , Time Taken : 0.6628899574279785\n",
      "Epoch 96, Train Loss: 1.0942, Val Loss: 1.1001, Test Accuracy: 0.3184 ,Learning Rate: 0.0005256027052154265 , Time Taken : 0.6783697605133057\n"
     ]
    }
   ],
   "source": [
    "model = RNATransformerModel(input_dim=hyperparameter['INPUT_DIMENSION'],\n",
    "                            embedding_dim=hyperparameter['EMBEDDING_DIMENSION'],\n",
    "                            hidden_dim=hyperparameter['HIDDEN_DIMENSION'] ,\n",
    "                            num_layers = hyperparameter['NO_OF_LAYERS'],\n",
    "                            output_dim=hyperparameter['OUTPUT_DIMENSION'],\n",
    "                            dropout=hyperparameter['DROP_OUT'] )\n",
    "\n",
    "\n",
    "loss_function = nn.CrossEntropyLoss()  ## MSELoss of Regression problem  # BCELoss for binary classification\n",
    "optimizer = optim.Adam(model.parameters() ,  lr=hyperparameter['LEARNING_RATE'])\n",
    "\n",
    "train_losses = []\n",
    "val_losses = []\n",
    "val_accuracies = []\n",
    "\n",
    "# Number of Parameters for Model\n",
    "total_parameters = []\n",
    "for p in model.parameters():\n",
    "    total_parameters.append(p.numel())\n",
    "\n",
    "print(f\"Total Number of Parameters for Model Training : { sum(total_parameters)} \" )\n",
    "\n",
    "# Train the model\n",
    "num_epochs = 100\n",
    "device = torch.device(\"cuda\" if torch.cuda.is_available() else \"cpu\")\n",
    "model = DataParallel(model)\n",
    "model = model.to(device)\n",
    "\n",
    "print(\"Model Parameters  : \" , hyperparameter)\n",
    "\n",
    "# Train Model with configured Parameter\n",
    "train_model(model, train_dataloader ,test_dataloader, device ,num_epochs,optimizer,loss_function)"
   ]
  },
  {
   "cell_type": "code",
   "execution_count": 65,
   "metadata": {},
   "outputs": [
    {
     "data": {
      "image/png": "[encoded data removed]",
      "text/plain": [
       "<Figure size 1000x500 with 1 Axes>"
      ]
     },
     "metadata": {},
     "output_type": "display_data"
    },
    {
     "data": {
      "image/png": "[encoded data removed]",
      "text/plain": [
       "<Figure size 1000x500 with 1 Axes>"
      ]
     },
     "metadata": {},
     "output_type": "display_data"
    }
   ],
   "source": [
    "import matplotlib.pyplot as plt\n",
    "\n",
    "\n",
    "# Plot Loss\n",
    "plt.figure(figsize=(10, 5))\n",
    "plt.plot(range(1, num_epochs + 1), train_losses, label='Train Loss')\n",
    "plt.plot(range(1, num_epochs + 1), val_losses, label='Validation Loss')\n",
    "plt.xlabel('Epoch')\n",
    "plt.ylabel('Loss')\n",
    "plt.title('Loss vs Epoch')\n",
    "plt.legend()\n",
    "plt.grid(True)\n",
    "plt.show()\n",
    "\n",
    "# Plot Accuracy\n",
    "plt.figure(figsize=(10, 5))\n",
    "plt.plot(range(1, num_epochs + 1), val_accuracies, label='Validation Accuracy')\n",
    "plt.xlabel('Epoch')\n",
    "plt.ylabel('Accuracy')\n",
    "plt.title('Accuracy vs Epoch')\n",
    "plt.legend()\n",
    "plt.grid(True)\n",
    "plt.show()\n"
   ]
  },
  {
   "cell_type": "markdown",
   "metadata": {},
   "source": [
    "### Optuna Hyperparameter Optimization"
   ]
  },
  {
   "cell_type": "code",
   "execution_count": 46,
   "metadata": {},
   "outputs": [
    {
     "name": "stderr",
     "output_type": "stream",
     "text": [
      "[I 2023-08-15 03:44:55,407] A new study created in memory with name: no-name-a1ec359b-22d2-4a79-8699-96d2d0675d04\n",
      "/tmp/ipykernel_393/228537490.py:12: FutureWarning: suggest_loguniform has been deprecated in v3.0.0. This feature will be removed in v6.0.0. See https://github.com/optuna/optuna/releases/tag/v3.0.0. Use suggest_float(..., log=True) instead.\n",
      "  hyperparameter['LEARNING_RATE'] = trial.suggest_loguniform('LEARNING_RATE', 1e-5, 1e-3)\n"
     ]
    },
    {
     "name": "stdout",
     "output_type": "stream",
     "text": [
      "Model Parameters  :  {'INPUT_DIMENSION': 94, 'HIDDEN_DIMENSION': 64, 'NO_OF_LAYERS': 2, 'BATCH_SIZE': 64, 'OUTPUT_DIMENSION': 3, 'EMBEDDING_DIMENSION': 256, 'DROP_OUT': 0.41970874486528953, 'LEARNING_RATE': 0.0005543296159807417}\n",
      "Epoch 1, Train Loss: 1.1926, Val Loss: 1.1324, Test Accuracy: 0.3434 ,Learning Rate: 0.0005543296159807417 , Time Taken : 4.756785869598389\n",
      "Epoch 6, Train Loss: 1.0513, Val Loss: 1.1085, Test Accuracy: 0.3514 ,Learning Rate: 0.0005543296159807417 , Time Taken : 4.943722724914551\n",
      "Epoch 11, Train Loss: 1.0134, Val Loss: 1.1353, Test Accuracy: 0.3712 ,Learning Rate: 0.0005543296159807417 , Time Taken : 4.992568492889404\n",
      "Epoch 16, Train Loss: 0.9693, Val Loss: 1.1878, Test Accuracy: 0.3478 ,Learning Rate: 0.0005543296159807417 , Time Taken : 4.718478441238403\n",
      "Epoch 21, Train Loss: 0.9377, Val Loss: 1.2262, Test Accuracy: 0.3221 ,Learning Rate: 0.0005543296159807417 , Time Taken : 5.304853200912476\n",
      "Epoch 26, Train Loss: 0.9081, Val Loss: 1.2947, Test Accuracy: 0.3434 ,Learning Rate: 0.0005543296159807417 , Time Taken : 5.334395408630371\n"
     ]
    },
    {
     "name": "stderr",
     "output_type": "stream",
     "text": [
      "[I 2023-08-15 03:47:29,201] Trial 0 finished with value: 0.3690388848129127 and parameters: {'HIDDEN_DIMENSION': 64, 'NO_OF_LAYERS': 2, 'BATCH_SIZE': 64, 'EMBEDDING_DIMENSION': 256, 'DROP_OUT': 0.41970874486528953, 'LEARNING_RATE': 0.0005543296159807417}. Best is trial 0 with value: 0.3690388848129127.\n"
     ]
    },
    {
     "name": "stdout",
     "output_type": "stream",
     "text": [
      "Model Parameters  :  {'INPUT_DIMENSION': 94, 'HIDDEN_DIMENSION': 512, 'NO_OF_LAYERS': 3, 'BATCH_SIZE': 512, 'OUTPUT_DIMENSION': 3, 'EMBEDDING_DIMENSION': 32, 'DROP_OUT': 0.22450044734217572, 'LEARNING_RATE': 0.00020026796366357752}\n",
      "Epoch 1, Train Loss: 1.1928, Val Loss: 1.1289, Test Accuracy: 0.3125 ,Learning Rate: 0.00020026796366357752 , Time Taken : 0.9531691074371338\n",
      "Epoch 6, Train Loss: 1.1078, Val Loss: 1.1015, Test Accuracy: 0.3265 ,Learning Rate: 0.00020026796366357752 , Time Taken : 0.9546129703521729\n",
      "Epoch 11, Train Loss: 1.1021, Val Loss: 1.0956, Test Accuracy: 0.3463 ,Learning Rate: 0.00020026796366357752 , Time Taken : 0.9582045078277588\n",
      "Epoch 16, Train Loss: 1.0982, Val Loss: 1.1027, Test Accuracy: 0.3265 ,Learning Rate: 0.00020026796366357752 , Time Taken : 0.9506359100341797\n",
      "Epoch 21, Train Loss: 1.0955, Val Loss: 1.1058, Test Accuracy: 0.3236 ,Learning Rate: 0.00020026796366357752 , Time Taken : 0.955488920211792\n",
      "Epoch 26, Train Loss: 1.0910, Val Loss: 1.1036, Test Accuracy: 0.3265 ,Learning Rate: 0.00020026796366357752 , Time Taken : 0.9505000114440918\n"
     ]
    },
    {
     "name": "stderr",
     "output_type": "stream",
     "text": [
      "[I 2023-08-15 03:47:57,908] Trial 1 finished with value: 0.3675715333822451 and parameters: {'HIDDEN_DIMENSION': 512, 'NO_OF_LAYERS': 3, 'BATCH_SIZE': 512, 'EMBEDDING_DIMENSION': 32, 'DROP_OUT': 0.22450044734217572, 'LEARNING_RATE': 0.00020026796366357752}. Best is trial 0 with value: 0.3690388848129127.\n"
     ]
    },
    {
     "name": "stdout",
     "output_type": "stream",
     "text": [
      "Model Parameters  :  {'INPUT_DIMENSION': 94, 'HIDDEN_DIMENSION': 1024, 'NO_OF_LAYERS': 3, 'BATCH_SIZE': 512, 'OUTPUT_DIMENSION': 3, 'EMBEDDING_DIMENSION': 1024, 'DROP_OUT': 0.23351823174123143, 'LEARNING_RATE': 2.0122999552307556e-05}\n",
      "Epoch 1, Train Loss: 1.1839, Val Loss: 1.1267, Test Accuracy: 0.3331 ,Learning Rate: 2.0122999552307556e-05 , Time Taken : 7.468768358230591\n",
      "Epoch 6, Train Loss: 1.1018, Val Loss: 1.1267, Test Accuracy: 0.3272 ,Learning Rate: 2.0122999552307556e-05 , Time Taken : 7.621894598007202\n",
      "Epoch 11, Train Loss: 1.0620, Val Loss: 1.1268, Test Accuracy: 0.3507 ,Learning Rate: 2.0122999552307556e-05 , Time Taken : 7.758696556091309\n",
      "Epoch 16, Train Loss: 1.0240, Val Loss: 1.1403, Test Accuracy: 0.3852 ,Learning Rate: 2.0122999552307556e-05 , Time Taken : 7.7701520919799805\n",
      "Epoch 21, Train Loss: 0.9701, Val Loss: 1.1840, Test Accuracy: 0.3822 ,Learning Rate: 2.0122999552307556e-05 , Time Taken : 7.9254374504089355\n",
      "Epoch 26, Train Loss: 0.9211, Val Loss: 1.2378, Test Accuracy: 0.3734 ,Learning Rate: 2.0122999552307556e-05 , Time Taken : 8.046730041503906\n"
     ]
    },
    {
     "name": "stderr",
     "output_type": "stream",
     "text": [
      "[I 2023-08-15 03:51:52,825] Trial 2 finished with value: 0.3573000733675715 and parameters: {'HIDDEN_DIMENSION': 1024, 'NO_OF_LAYERS': 3, 'BATCH_SIZE': 512, 'EMBEDDING_DIMENSION': 1024, 'DROP_OUT': 0.23351823174123143, 'LEARNING_RATE': 2.0122999552307556e-05}. Best is trial 0 with value: 0.3690388848129127.\n"
     ]
    },
    {
     "name": "stdout",
     "output_type": "stream",
     "text": [
      "Model Parameters  :  {'INPUT_DIMENSION': 94, 'HIDDEN_DIMENSION': 64, 'NO_OF_LAYERS': 4, 'BATCH_SIZE': 1024, 'OUTPUT_DIMENSION': 3, 'EMBEDDING_DIMENSION': 1024, 'DROP_OUT': 0.2171706318754613, 'LEARNING_RATE': 1.5219093995114673e-05}\n",
      "Epoch 1, Train Loss: 1.1766, Val Loss: 1.1155, Test Accuracy: 0.3639 ,Learning Rate: 1.5219093995114673e-05 , Time Taken : 7.726532459259033\n",
      "Epoch 6, Train Loss: 1.1128, Val Loss: 1.1038, Test Accuracy: 0.3558 ,Learning Rate: 1.5219093995114673e-05 , Time Taken : 7.855345726013184\n",
      "Epoch 11, Train Loss: 1.0932, Val Loss: 1.1046, Test Accuracy: 0.3456 ,Learning Rate: 1.5219093995114673e-05 , Time Taken : 7.893215894699097\n",
      "Epoch 16, Train Loss: 1.0676, Val Loss: 1.1148, Test Accuracy: 0.3426 ,Learning Rate: 1.5219093995114673e-05 , Time Taken : 7.9615397453308105\n",
      "Epoch 21, Train Loss: 1.0454, Val Loss: 1.1366, Test Accuracy: 0.3382 ,Learning Rate: 1.5219093995114673e-05 , Time Taken : 8.214241027832031\n",
      "Epoch 26, Train Loss: 1.0070, Val Loss: 1.1512, Test Accuracy: 0.3500 ,Learning Rate: 1.5219093995114673e-05 , Time Taken : 8.300716161727905\n"
     ]
    },
    {
     "name": "stderr",
     "output_type": "stream",
     "text": [
      "[I 2023-08-15 03:55:54,156] Trial 3 finished with value: 0.3492296404988995 and parameters: {'HIDDEN_DIMENSION': 64, 'NO_OF_LAYERS': 4, 'BATCH_SIZE': 1024, 'EMBEDDING_DIMENSION': 1024, 'DROP_OUT': 0.2171706318754613, 'LEARNING_RATE': 1.5219093995114673e-05}. Best is trial 0 with value: 0.3690388848129127.\n"
     ]
    },
    {
     "name": "stdout",
     "output_type": "stream",
     "text": [
      "Model Parameters  :  {'INPUT_DIMENSION': 94, 'HIDDEN_DIMENSION': 512, 'NO_OF_LAYERS': 3, 'BATCH_SIZE': 512, 'OUTPUT_DIMENSION': 3, 'EMBEDDING_DIMENSION': 256, 'DROP_OUT': 0.1981984034470591, 'LEARNING_RATE': 0.00014957013691946786}\n",
      "Epoch 1, Train Loss: 1.1617, Val Loss: 1.1058, Test Accuracy: 0.3522 ,Learning Rate: 0.00014957013691946786 , Time Taken : 1.3993415832519531\n",
      "Epoch 6, Train Loss: 1.0905, Val Loss: 1.1250, Test Accuracy: 0.3302 ,Learning Rate: 0.00014957013691946786 , Time Taken : 1.3937859535217285\n",
      "Epoch 11, Train Loss: 1.0504, Val Loss: 1.1232, Test Accuracy: 0.3646 ,Learning Rate: 0.00014957013691946786 , Time Taken : 1.3890156745910645\n",
      "Epoch 16, Train Loss: 1.0041, Val Loss: 1.1352, Test Accuracy: 0.3844 ,Learning Rate: 0.00014957013691946786 , Time Taken : 1.3791859149932861\n",
      "Epoch 21, Train Loss: 0.9445, Val Loss: 1.2145, Test Accuracy: 0.3771 ,Learning Rate: 0.00014957013691946786 , Time Taken : 1.3791828155517578\n",
      "Epoch 26, Train Loss: 0.8819, Val Loss: 1.2870, Test Accuracy: 0.3698 ,Learning Rate: 0.00014957013691946786 , Time Taken : 1.367842674255371\n"
     ]
    },
    {
     "name": "stderr",
     "output_type": "stream",
     "text": [
      "[I 2023-08-15 03:56:35,677] Trial 4 finished with value: 0.338958180484226 and parameters: {'HIDDEN_DIMENSION': 512, 'NO_OF_LAYERS': 3, 'BATCH_SIZE': 512, 'EMBEDDING_DIMENSION': 256, 'DROP_OUT': 0.1981984034470591, 'LEARNING_RATE': 0.00014957013691946786}. Best is trial 0 with value: 0.3690388848129127.\n"
     ]
    },
    {
     "name": "stdout",
     "output_type": "stream",
     "text": [
      "Model Parameters  :  {'INPUT_DIMENSION': 94, 'HIDDEN_DIMENSION': 64, 'NO_OF_LAYERS': 1, 'BATCH_SIZE': 512, 'OUTPUT_DIMENSION': 3, 'EMBEDDING_DIMENSION': 32, 'DROP_OUT': 0.1607671408079262, 'LEARNING_RATE': 5.0442535368643924e-05}\n",
      "Epoch 1, Train Loss: 1.2516, Val Loss: 1.2490, Test Accuracy: 0.3118 ,Learning Rate: 5.0442535368643924e-05 , Time Taken : 0.511181116104126\n",
      "Epoch 6, Train Loss: 1.2096, Val Loss: 1.2067, Test Accuracy: 0.3206 ,Learning Rate: 5.0442535368643924e-05 , Time Taken : 0.6070563793182373\n",
      "Epoch 11, Train Loss: 1.1872, Val Loss: 1.1792, Test Accuracy: 0.3184 ,Learning Rate: 5.0442535368643924e-05 , Time Taken : 0.5715579986572266\n",
      "Epoch 16, Train Loss: 1.1616, Val Loss: 1.1601, Test Accuracy: 0.3206 ,Learning Rate: 5.0442535368643924e-05 , Time Taken : 0.5729527473449707\n",
      "Epoch 21, Train Loss: 1.1497, Val Loss: 1.1470, Test Accuracy: 0.3228 ,Learning Rate: 5.0442535368643924e-05 , Time Taken : 0.5843830108642578\n",
      "Epoch 26, Train Loss: 1.1415, Val Loss: 1.1375, Test Accuracy: 0.3250 ,Learning Rate: 5.0442535368643924e-05 , Time Taken : 0.572763204574585\n"
     ]
    },
    {
     "name": "stderr",
     "output_type": "stream",
     "text": [
      "[I 2023-08-15 03:56:53,201] Trial 5 finished with value: 0.31988261188554656 and parameters: {'HIDDEN_DIMENSION': 64, 'NO_OF_LAYERS': 1, 'BATCH_SIZE': 512, 'EMBEDDING_DIMENSION': 32, 'DROP_OUT': 0.1607671408079262, 'LEARNING_RATE': 5.0442535368643924e-05}. Best is trial 0 with value: 0.3690388848129127.\n"
     ]
    },
    {
     "name": "stdout",
     "output_type": "stream",
     "text": [
      "Model Parameters  :  {'INPUT_DIMENSION': 94, 'HIDDEN_DIMENSION': 64, 'NO_OF_LAYERS': 4, 'BATCH_SIZE': 1024, 'OUTPUT_DIMENSION': 3, 'EMBEDDING_DIMENSION': 32, 'DROP_OUT': 0.3029447490300309, 'LEARNING_RATE': 5.64612578888314e-05}\n",
      "Epoch 1, Train Loss: 1.2409, Val Loss: 1.1472, Test Accuracy: 0.3896 ,Learning Rate: 5.64612578888314e-05 , Time Taken : 0.5904090404510498\n",
      "Epoch 6, Train Loss: 1.1803, Val Loss: 1.1392, Test Accuracy: 0.3346 ,Learning Rate: 5.64612578888314e-05 , Time Taken : 0.6132407188415527\n",
      "Epoch 11, Train Loss: 1.1622, Val Loss: 1.1256, Test Accuracy: 0.3250 ,Learning Rate: 5.64612578888314e-05 , Time Taken : 0.6251342296600342\n",
      "Epoch 16, Train Loss: 1.1443, Val Loss: 1.1159, Test Accuracy: 0.3243 ,Learning Rate: 5.64612578888314e-05 , Time Taken : 0.7676103115081787\n",
      "Epoch 21, Train Loss: 1.1420, Val Loss: 1.1104, Test Accuracy: 0.3287 ,Learning Rate: 5.64612578888314e-05 , Time Taken : 0.6260755062103271\n",
      "Epoch 26, Train Loss: 1.1331, Val Loss: 1.1073, Test Accuracy: 0.3243 ,Learning Rate: 5.64612578888314e-05 , Time Taken : 0.6192793846130371\n"
     ]
    },
    {
     "name": "stderr",
     "output_type": "stream",
     "text": [
      "[I 2023-08-15 03:57:12,469] Trial 6 finished with value: 0.32134996331621424 and parameters: {'HIDDEN_DIMENSION': 64, 'NO_OF_LAYERS': 4, 'BATCH_SIZE': 1024, 'EMBEDDING_DIMENSION': 32, 'DROP_OUT': 0.3029447490300309, 'LEARNING_RATE': 5.64612578888314e-05}. Best is trial 0 with value: 0.3690388848129127.\n"
     ]
    },
    {
     "name": "stdout",
     "output_type": "stream",
     "text": [
      "Model Parameters  :  {'INPUT_DIMENSION': 94, 'HIDDEN_DIMENSION': 64, 'NO_OF_LAYERS': 4, 'BATCH_SIZE': 1024, 'OUTPUT_DIMENSION': 3, 'EMBEDDING_DIMENSION': 1024, 'DROP_OUT': 0.17738696694528483, 'LEARNING_RATE': 0.00012427914792975501}\n",
      "Epoch 1, Train Loss: 1.2594, Val Loss: 1.1386, Test Accuracy: 0.3683 ,Learning Rate: 0.00012427914792975501 , Time Taken : 7.726549863815308\n",
      "Epoch 6, Train Loss: 1.0454, Val Loss: 1.1275, Test Accuracy: 0.3514 ,Learning Rate: 0.00012427914792975501 , Time Taken : 7.814918518066406\n",
      "Epoch 11, Train Loss: 0.9004, Val Loss: 1.2433, Test Accuracy: 0.3690 ,Learning Rate: 0.00012427914792975501 , Time Taken : 8.005754470825195\n",
      "Epoch 16, Train Loss: 0.7412, Val Loss: 1.4294, Test Accuracy: 0.3786 ,Learning Rate: 0.00012427914792975501 , Time Taken : 7.959141969680786\n",
      "Epoch 21, Train Loss: 0.5478, Val Loss: 1.8228, Test Accuracy: 0.3588 ,Learning Rate: 0.00012427914792975501 , Time Taken : 8.214470386505127\n",
      "Epoch 26, Train Loss: 0.3917, Val Loss: 2.2800, Test Accuracy: 0.3822 ,Learning Rate: 0.00012427914792975501 , Time Taken : 8.35953664779663\n"
     ]
    },
    {
     "name": "stderr",
     "output_type": "stream",
     "text": [
      "[I 2023-08-15 04:01:14,573] Trial 7 finished with value: 0.3360234776228907 and parameters: {'HIDDEN_DIMENSION': 64, 'NO_OF_LAYERS': 4, 'BATCH_SIZE': 1024, 'EMBEDDING_DIMENSION': 1024, 'DROP_OUT': 0.17738696694528483, 'LEARNING_RATE': 0.00012427914792975501}. Best is trial 0 with value: 0.3690388848129127.\n"
     ]
    },
    {
     "name": "stdout",
     "output_type": "stream",
     "text": [
      "Model Parameters  :  {'INPUT_DIMENSION': 94, 'HIDDEN_DIMENSION': 1024, 'NO_OF_LAYERS': 1, 'BATCH_SIZE': 1024, 'OUTPUT_DIMENSION': 3, 'EMBEDDING_DIMENSION': 32, 'DROP_OUT': 0.24193012572888067, 'LEARNING_RATE': 0.00010347343140990092}\n",
      "Epoch 1, Train Loss: 1.2329, Val Loss: 1.1741, Test Accuracy: 0.3463 ,Learning Rate: 0.00010347343140990092 , Time Taken : 0.3487725257873535\n",
      "Epoch 6, Train Loss: 1.1419, Val Loss: 1.1205, Test Accuracy: 0.3463 ,Learning Rate: 0.00010347343140990092 , Time Taken : 0.3740105628967285\n",
      "Epoch 11, Train Loss: 1.1227, Val Loss: 1.1079, Test Accuracy: 0.3375 ,Learning Rate: 0.00010347343140990092 , Time Taken : 0.374281644821167\n",
      "Epoch 16, Train Loss: 1.1083, Val Loss: 1.1055, Test Accuracy: 0.3397 ,Learning Rate: 0.00010347343140990092 , Time Taken : 0.37598633766174316\n",
      "Epoch 21, Train Loss: 1.1059, Val Loss: 1.1034, Test Accuracy: 0.3382 ,Learning Rate: 0.00010347343140990092 , Time Taken : 0.37718987464904785\n",
      "Epoch 26, Train Loss: 1.1022, Val Loss: 1.1023, Test Accuracy: 0.3404 ,Learning Rate: 0.00010347343140990092 , Time Taken : 0.37473106384277344\n"
     ]
    },
    {
     "name": "stderr",
     "output_type": "stream",
     "text": [
      "[I 2023-08-15 04:01:26,110] Trial 8 finished with value: 0.34849596478356565 and parameters: {'HIDDEN_DIMENSION': 1024, 'NO_OF_LAYERS': 1, 'BATCH_SIZE': 1024, 'EMBEDDING_DIMENSION': 32, 'DROP_OUT': 0.24193012572888067, 'LEARNING_RATE': 0.00010347343140990092}. Best is trial 0 with value: 0.3690388848129127.\n"
     ]
    },
    {
     "name": "stdout",
     "output_type": "stream",
     "text": [
      "Model Parameters  :  {'INPUT_DIMENSION': 94, 'HIDDEN_DIMENSION': 512, 'NO_OF_LAYERS': 4, 'BATCH_SIZE': 64, 'OUTPUT_DIMENSION': 3, 'EMBEDDING_DIMENSION': 1024, 'DROP_OUT': 0.49956164253822, 'LEARNING_RATE': 2.0314687238175214e-05}\n",
      "Epoch 1, Train Loss: 1.2208, Val Loss: 1.1222, Test Accuracy: 0.3456 ,Learning Rate: 2.0314687238175214e-05 , Time Taken : 14.157058477401733\n",
      "Epoch 6, Train Loss: 1.0985, Val Loss: 1.1077, Test Accuracy: 0.3639 ,Learning Rate: 2.0314687238175214e-05 , Time Taken : 14.178347826004028\n",
      "Epoch 11, Train Loss: 0.9975, Val Loss: 1.1783, Test Accuracy: 0.3412 ,Learning Rate: 2.0314687238175214e-05 , Time Taken : 14.045075178146362\n",
      "Epoch 16, Train Loss: 0.8786, Val Loss: 1.3066, Test Accuracy: 0.3654 ,Learning Rate: 2.0314687238175214e-05 , Time Taken : 14.177493572235107\n",
      "Epoch 21, Train Loss: 0.7395, Val Loss: 1.4806, Test Accuracy: 0.3764 ,Learning Rate: 2.0314687238175214e-05 , Time Taken : 14.193609476089478\n",
      "Epoch 26, Train Loss: 0.5897, Val Loss: 1.8588, Test Accuracy: 0.3632 ,Learning Rate: 2.0314687238175214e-05 , Time Taken : 14.054489374160767\n"
     ]
    },
    {
     "name": "stderr",
     "output_type": "stream",
     "text": [
      "[I 2023-08-15 04:08:29,588] Trial 9 finished with value: 0.34849596478356565 and parameters: {'HIDDEN_DIMENSION': 512, 'NO_OF_LAYERS': 4, 'BATCH_SIZE': 64, 'EMBEDDING_DIMENSION': 1024, 'DROP_OUT': 0.49956164253822, 'LEARNING_RATE': 2.0314687238175214e-05}. Best is trial 0 with value: 0.3690388848129127.\n"
     ]
    },
    {
     "name": "stdout",
     "output_type": "stream",
     "text": [
      "Model Parameters  :  {'INPUT_DIMENSION': 94, 'HIDDEN_DIMENSION': 64, 'NO_OF_LAYERS': 2, 'BATCH_SIZE': 64, 'OUTPUT_DIMENSION': 3, 'EMBEDDING_DIMENSION': 256, 'DROP_OUT': 0.41138177101083284, 'LEARNING_RATE': 0.0008687318794511172}\n",
      "Epoch 1, Train Loss: 1.1602, Val Loss: 1.1062, Test Accuracy: 0.3661 ,Learning Rate: 0.0008687318794511172 , Time Taken : 5.1150994300842285\n",
      "Epoch 6, Train Loss: 1.0919, Val Loss: 1.0931, Test Accuracy: 0.3602 ,Learning Rate: 0.0008687318794511172 , Time Taken : 5.2472100257873535\n",
      "Epoch 11, Train Loss: 1.0852, Val Loss: 1.1047, Test Accuracy: 0.3595 ,Learning Rate: 0.0008687318794511172 , Time Taken : 5.309288024902344\n",
      "Epoch 16, Train Loss: 1.0926, Val Loss: 1.1127, Test Accuracy: 0.3199 ,Learning Rate: 0.0008687318794511172 , Time Taken : 5.283399343490601\n",
      "Epoch 21, Train Loss: 1.0911, Val Loss: 1.1122, Test Accuracy: 0.3646 ,Learning Rate: 0.0008687318794511172 , Time Taken : 5.29113507270813\n",
      "Epoch 26, Train Loss: 1.0946, Val Loss: 1.0892, Test Accuracy: 0.3734 ,Learning Rate: 0.0008687318794511172 , Time Taken : 5.280599355697632\n"
     ]
    },
    {
     "name": "stderr",
     "output_type": "stream",
     "text": [
      "[I 2023-08-15 04:11:07,018] Trial 10 finished with value: 0.31254585473220836 and parameters: {'HIDDEN_DIMENSION': 64, 'NO_OF_LAYERS': 2, 'BATCH_SIZE': 64, 'EMBEDDING_DIMENSION': 256, 'DROP_OUT': 0.41138177101083284, 'LEARNING_RATE': 0.0008687318794511172}. Best is trial 0 with value: 0.3690388848129127.\n"
     ]
    },
    {
     "name": "stdout",
     "output_type": "stream",
     "text": [
      "Model Parameters  :  {'INPUT_DIMENSION': 94, 'HIDDEN_DIMENSION': 512, 'NO_OF_LAYERS': 2, 'BATCH_SIZE': 64, 'OUTPUT_DIMENSION': 3, 'EMBEDDING_DIMENSION': 256, 'DROP_OUT': 0.3324349139354693, 'LEARNING_RATE': 0.0004199674869820215}\n",
      "Epoch 1, Train Loss: 1.1682, Val Loss: 1.1096, Test Accuracy: 0.3133 ,Learning Rate: 0.0004199674869820215 , Time Taken : 5.031499624252319\n",
      "Epoch 6, Train Loss: 1.0648, Val Loss: 1.1172, Test Accuracy: 0.3624 ,Learning Rate: 0.0004199674869820215 , Time Taken : 5.200265169143677\n",
      "Epoch 11, Train Loss: 1.0263, Val Loss: 1.1143, Test Accuracy: 0.3676 ,Learning Rate: 0.0004199674869820215 , Time Taken : 5.0433549880981445\n",
      "Epoch 16, Train Loss: 0.9952, Val Loss: 1.1637, Test Accuracy: 0.3492 ,Learning Rate: 0.0004199674869820215 , Time Taken : 5.204493761062622\n",
      "Epoch 21, Train Loss: 0.9676, Val Loss: 1.1697, Test Accuracy: 0.3764 ,Learning Rate: 0.0004199674869820215 , Time Taken : 4.9632837772369385\n",
      "Epoch 26, Train Loss: 0.9257, Val Loss: 1.1932, Test Accuracy: 0.3441 ,Learning Rate: 0.0004199674869820215 , Time Taken : 5.2117040157318115\n"
     ]
    },
    {
     "name": "stderr",
     "output_type": "stream",
     "text": [
      "[I 2023-08-15 04:13:40,290] Trial 11 finished with value: 0.3499633162142333 and parameters: {'HIDDEN_DIMENSION': 512, 'NO_OF_LAYERS': 2, 'BATCH_SIZE': 64, 'EMBEDDING_DIMENSION': 256, 'DROP_OUT': 0.3324349139354693, 'LEARNING_RATE': 0.0004199674869820215}. Best is trial 0 with value: 0.3690388848129127.\n"
     ]
    },
    {
     "name": "stdout",
     "output_type": "stream",
     "text": [
      "Model Parameters  :  {'INPUT_DIMENSION': 94, 'HIDDEN_DIMENSION': 512, 'NO_OF_LAYERS': 2, 'BATCH_SIZE': 512, 'OUTPUT_DIMENSION': 3, 'EMBEDDING_DIMENSION': 32, 'DROP_OUT': 0.12209320529269593, 'LEARNING_RATE': 0.0003122308200899167}\n",
      "Epoch 1, Train Loss: 1.1746, Val Loss: 1.1307, Test Accuracy: 0.3103 ,Learning Rate: 0.0003122308200899167 , Time Taken : 0.6994891166687012\n",
      "Epoch 6, Train Loss: 1.1024, Val Loss: 1.1109, Test Accuracy: 0.2905 ,Learning Rate: 0.0003122308200899167 , Time Taken : 0.6975746154785156\n",
      "Epoch 11, Train Loss: 1.0996, Val Loss: 1.1083, Test Accuracy: 0.3221 ,Learning Rate: 0.0003122308200899167 , Time Taken : 0.693333625793457\n",
      "Epoch 16, Train Loss: 1.0915, Val Loss: 1.1058, Test Accuracy: 0.3309 ,Learning Rate: 0.0003122308200899167 , Time Taken : 0.8636243343353271\n",
      "Epoch 21, Train Loss: 1.0867, Val Loss: 1.1028, Test Accuracy: 0.3360 ,Learning Rate: 0.0003122308200899167 , Time Taken : 0.7865650653839111\n",
      "Epoch 26, Train Loss: 1.0807, Val Loss: 1.0998, Test Accuracy: 0.3346 ,Learning Rate: 0.0003122308200899167 , Time Taken : 0.7899389266967773\n"
     ]
    },
    {
     "name": "stderr",
     "output_type": "stream",
     "text": [
      "[I 2023-08-15 04:14:02,782] Trial 12 finished with value: 0.3330887747615554 and parameters: {'HIDDEN_DIMENSION': 512, 'NO_OF_LAYERS': 2, 'BATCH_SIZE': 512, 'EMBEDDING_DIMENSION': 32, 'DROP_OUT': 0.12209320529269593, 'LEARNING_RATE': 0.0003122308200899167}. Best is trial 0 with value: 0.3690388848129127.\n"
     ]
    },
    {
     "name": "stdout",
     "output_type": "stream",
     "text": [
      "Model Parameters  :  {'INPUT_DIMENSION': 94, 'HIDDEN_DIMENSION': 512, 'NO_OF_LAYERS': 3, 'BATCH_SIZE': 64, 'OUTPUT_DIMENSION': 3, 'EMBEDDING_DIMENSION': 256, 'DROP_OUT': 0.34547730983633584, 'LEARNING_RATE': 0.0008312551386096382}\n",
      "Epoch 1, Train Loss: 1.1529, Val Loss: 1.0982, Test Accuracy: 0.3441 ,Learning Rate: 0.0008312551386096382 , Time Taken : 6.288177728652954\n",
      "Epoch 6, Train Loss: 1.0909, Val Loss: 1.1218, Test Accuracy: 0.3243 ,Learning Rate: 0.0008312551386096382 , Time Taken : 5.994645595550537\n",
      "Epoch 11, Train Loss: 1.1024, Val Loss: 1.1058, Test Accuracy: 0.3008 ,Learning Rate: 0.0008312551386096382 , Time Taken : 6.494215488433838\n",
      "Epoch 16, Train Loss: 1.1013, Val Loss: 1.0918, Test Accuracy: 0.3903 ,Learning Rate: 0.0008312551386096382 , Time Taken : 6.184739112854004\n",
      "Epoch 21, Train Loss: 1.1001, Val Loss: 1.1078, Test Accuracy: 0.2861 ,Learning Rate: 0.0008312551386096382 , Time Taken : 6.321737051010132\n",
      "Epoch 26, Train Loss: 1.1005, Val Loss: 1.0878, Test Accuracy: 0.3668 ,Learning Rate: 0.0008312551386096382 , Time Taken : 6.321076154708862\n"
     ]
    },
    {
     "name": "stderr",
     "output_type": "stream",
     "text": [
      "[I 2023-08-15 04:17:12,900] Trial 13 finished with value: 0.3235509904622157 and parameters: {'HIDDEN_DIMENSION': 512, 'NO_OF_LAYERS': 3, 'BATCH_SIZE': 64, 'EMBEDDING_DIMENSION': 256, 'DROP_OUT': 0.34547730983633584, 'LEARNING_RATE': 0.0008312551386096382}. Best is trial 0 with value: 0.3690388848129127.\n"
     ]
    },
    {
     "name": "stdout",
     "output_type": "stream",
     "text": [
      "Model Parameters  :  {'INPUT_DIMENSION': 94, 'HIDDEN_DIMENSION': 1024, 'NO_OF_LAYERS': 2, 'BATCH_SIZE': 512, 'OUTPUT_DIMENSION': 3, 'EMBEDDING_DIMENSION': 32, 'DROP_OUT': 0.3983113621750464, 'LEARNING_RATE': 0.00028281083567983743}\n",
      "Epoch 1, Train Loss: 1.1739, Val Loss: 1.1116, Test Accuracy: 0.3287 ,Learning Rate: 0.00028281083567983743 , Time Taken : 0.8208441734313965\n",
      "Epoch 6, Train Loss: 1.0995, Val Loss: 1.1043, Test Accuracy: 0.3338 ,Learning Rate: 0.00028281083567983743 , Time Taken : 0.8103764057159424\n",
      "Epoch 11, Train Loss: 1.0975, Val Loss: 1.1006, Test Accuracy: 0.3397 ,Learning Rate: 0.00028281083567983743 , Time Taken : 0.8189725875854492\n",
      "Epoch 16, Train Loss: 1.0919, Val Loss: 1.1083, Test Accuracy: 0.3103 ,Learning Rate: 0.00028281083567983743 , Time Taken : 0.8154313564300537\n",
      "Epoch 21, Train Loss: 1.0900, Val Loss: 1.1105, Test Accuracy: 0.3199 ,Learning Rate: 0.00028281083567983743 , Time Taken : 0.815802812576294\n",
      "Epoch 26, Train Loss: 1.0878, Val Loss: 1.1123, Test Accuracy: 0.3236 ,Learning Rate: 0.00028281083567983743 , Time Taken : 0.8222675323486328\n"
     ]
    },
    {
     "name": "stderr",
     "output_type": "stream",
     "text": [
      "[I 2023-08-15 04:17:37,586] Trial 14 finished with value: 0.3374908290535583 and parameters: {'HIDDEN_DIMENSION': 1024, 'NO_OF_LAYERS': 2, 'BATCH_SIZE': 512, 'EMBEDDING_DIMENSION': 32, 'DROP_OUT': 0.3983113621750464, 'LEARNING_RATE': 0.00028281083567983743}. Best is trial 0 with value: 0.3690388848129127.\n"
     ]
    },
    {
     "name": "stdout",
     "output_type": "stream",
     "text": [
      "Model Parameters  :  {'INPUT_DIMENSION': 94, 'HIDDEN_DIMENSION': 64, 'NO_OF_LAYERS': 3, 'BATCH_SIZE': 64, 'OUTPUT_DIMENSION': 3, 'EMBEDDING_DIMENSION': 256, 'DROP_OUT': 0.2661271924007254, 'LEARNING_RATE': 0.0004530725160045504}\n",
      "Epoch 1, Train Loss: 1.1458, Val Loss: 1.0793, Test Accuracy: 0.3793 ,Learning Rate: 0.0004530725160045504 , Time Taken : 5.519159555435181\n",
      "Epoch 6, Train Loss: 1.0484, Val Loss: 1.1578, Test Accuracy: 0.3463 ,Learning Rate: 0.0004530725160045504 , Time Taken : 6.396773338317871\n",
      "Epoch 11, Train Loss: 0.9996, Val Loss: 1.1707, Test Accuracy: 0.3162 ,Learning Rate: 0.0004530725160045504 , Time Taken : 6.381722927093506\n",
      "Epoch 16, Train Loss: 0.9351, Val Loss: 1.2143, Test Accuracy: 0.3632 ,Learning Rate: 0.0004530725160045504 , Time Taken : 6.384241580963135\n",
      "Epoch 21, Train Loss: 0.8835, Val Loss: 1.3023, Test Accuracy: 0.3815 ,Learning Rate: 0.0004530725160045504 , Time Taken : 6.434907913208008\n",
      "Epoch 26, Train Loss: 0.8240, Val Loss: 1.2804, Test Accuracy: 0.3668 ,Learning Rate: 0.0004530725160045504 , Time Taken : 6.408399820327759\n"
     ]
    },
    {
     "name": "stderr",
     "output_type": "stream",
     "text": [
      "[I 2023-08-15 04:20:45,819] Trial 15 finished with value: 0.3690388848129127 and parameters: {'HIDDEN_DIMENSION': 64, 'NO_OF_LAYERS': 3, 'BATCH_SIZE': 64, 'EMBEDDING_DIMENSION': 256, 'DROP_OUT': 0.2661271924007254, 'LEARNING_RATE': 0.0004530725160045504}. Best is trial 0 with value: 0.3690388848129127.\n"
     ]
    },
    {
     "name": "stdout",
     "output_type": "stream",
     "text": [
      "Model Parameters  :  {'INPUT_DIMENSION': 94, 'HIDDEN_DIMENSION': 64, 'NO_OF_LAYERS': 1, 'BATCH_SIZE': 64, 'OUTPUT_DIMENSION': 3, 'EMBEDDING_DIMENSION': 256, 'DROP_OUT': 0.2724642639819643, 'LEARNING_RATE': 0.00045673128429187616}\n",
      "Epoch 1, Train Loss: 1.1580, Val Loss: 1.1104, Test Accuracy: 0.3434 ,Learning Rate: 0.00045673128429187616 , Time Taken : 3.4448111057281494\n",
      "Epoch 6, Train Loss: 1.0487, Val Loss: 1.1597, Test Accuracy: 0.3294 ,Learning Rate: 0.00045673128429187616 , Time Taken : 3.4897093772888184\n",
      "Epoch 11, Train Loss: 0.9981, Val Loss: 1.1643, Test Accuracy: 0.3331 ,Learning Rate: 0.00045673128429187616 , Time Taken : 3.664062261581421\n",
      "Epoch 16, Train Loss: 0.9729, Val Loss: 1.1661, Test Accuracy: 0.3566 ,Learning Rate: 0.00045673128429187616 , Time Taken : 3.6498684883117676\n",
      "Epoch 21, Train Loss: 0.9466, Val Loss: 1.2100, Test Accuracy: 0.3426 ,Learning Rate: 0.00045673128429187616 , Time Taken : 3.8220388889312744\n",
      "Epoch 26, Train Loss: 0.9219, Val Loss: 1.2501, Test Accuracy: 0.3566 ,Learning Rate: 0.00045673128429187616 , Time Taken : 3.446621894836426\n"
     ]
    },
    {
     "name": "stderr",
     "output_type": "stream",
     "text": [
      "[I 2023-08-15 04:22:33,437] Trial 16 finished with value: 0.3374908290535583 and parameters: {'HIDDEN_DIMENSION': 64, 'NO_OF_LAYERS': 1, 'BATCH_SIZE': 64, 'EMBEDDING_DIMENSION': 256, 'DROP_OUT': 0.2724642639819643, 'LEARNING_RATE': 0.00045673128429187616}. Best is trial 0 with value: 0.3690388848129127.\n"
     ]
    },
    {
     "name": "stdout",
     "output_type": "stream",
     "text": [
      "Model Parameters  :  {'INPUT_DIMENSION': 94, 'HIDDEN_DIMENSION': 64, 'NO_OF_LAYERS': 2, 'BATCH_SIZE': 64, 'OUTPUT_DIMENSION': 3, 'EMBEDDING_DIMENSION': 256, 'DROP_OUT': 0.2933355175769046, 'LEARNING_RATE': 0.0005575314362398862}\n",
      "Epoch 1, Train Loss: 1.1632, Val Loss: 1.1241, Test Accuracy: 0.3287 ,Learning Rate: 0.0005575314362398862 , Time Taken : 5.197420120239258\n",
      "Epoch 6, Train Loss: 1.0482, Val Loss: 1.1133, Test Accuracy: 0.3668 ,Learning Rate: 0.0005575314362398862 , Time Taken : 5.344378232955933\n",
      "Epoch 11, Train Loss: 1.0003, Val Loss: 1.1470, Test Accuracy: 0.3764 ,Learning Rate: 0.0005575314362398862 , Time Taken : 5.453591346740723\n",
      "Epoch 16, Train Loss: 0.9642, Val Loss: 1.1718, Test Accuracy: 0.3507 ,Learning Rate: 0.0005575314362398862 , Time Taken : 5.267174005508423\n",
      "Epoch 21, Train Loss: 0.9313, Val Loss: 1.2348, Test Accuracy: 0.3434 ,Learning Rate: 0.0005575314362398862 , Time Taken : 5.277703523635864\n",
      "Epoch 26, Train Loss: 0.8785, Val Loss: 1.2668, Test Accuracy: 0.3566 ,Learning Rate: 0.0005575314362398862 , Time Taken : 5.277838945388794\n"
     ]
    },
    {
     "name": "stderr",
     "output_type": "stream",
     "text": [
      "[I 2023-08-15 04:25:09,052] Trial 17 finished with value: 0.3661041819515774 and parameters: {'HIDDEN_DIMENSION': 64, 'NO_OF_LAYERS': 2, 'BATCH_SIZE': 64, 'EMBEDDING_DIMENSION': 256, 'DROP_OUT': 0.2933355175769046, 'LEARNING_RATE': 0.0005575314362398862}. Best is trial 0 with value: 0.3690388848129127.\n"
     ]
    },
    {
     "name": "stdout",
     "output_type": "stream",
     "text": [
      "Model Parameters  :  {'INPUT_DIMENSION': 94, 'HIDDEN_DIMENSION': 64, 'NO_OF_LAYERS': 3, 'BATCH_SIZE': 64, 'OUTPUT_DIMENSION': 3, 'EMBEDDING_DIMENSION': 256, 'DROP_OUT': 0.40160250535364805, 'LEARNING_RATE': 0.0006571443090465291}\n",
      "Epoch 1, Train Loss: 1.1611, Val Loss: 1.0898, Test Accuracy: 0.3837 ,Learning Rate: 0.0006571443090465291 , Time Taken : 6.290011882781982\n",
      "Epoch 6, Train Loss: 1.0829, Val Loss: 1.1288, Test Accuracy: 0.3448 ,Learning Rate: 0.0006571443090465291 , Time Taken : 6.376063585281372\n",
      "Epoch 11, Train Loss: 1.0811, Val Loss: 1.0987, Test Accuracy: 0.3470 ,Learning Rate: 0.0006571443090465291 , Time Taken : 6.429545640945435\n",
      "Epoch 16, Train Loss: 1.0969, Val Loss: 1.1017, Test Accuracy: 0.3595 ,Learning Rate: 0.0006571443090465291 , Time Taken : 5.76538610458374\n",
      "Epoch 21, Train Loss: 1.0987, Val Loss: 1.1031, Test Accuracy: 0.3184 ,Learning Rate: 0.0006571443090465291 , Time Taken : 6.419498443603516\n",
      "Epoch 26, Train Loss: 1.0991, Val Loss: 1.0886, Test Accuracy: 0.3624 ,Learning Rate: 0.0006571443090465291 , Time Taken : 6.421131610870361\n"
     ]
    },
    {
     "name": "stderr",
     "output_type": "stream",
     "text": [
      "[I 2023-08-15 04:28:14,772] Trial 18 finished with value: 0.260454878943507 and parameters: {'HIDDEN_DIMENSION': 64, 'NO_OF_LAYERS': 3, 'BATCH_SIZE': 64, 'EMBEDDING_DIMENSION': 256, 'DROP_OUT': 0.40160250535364805, 'LEARNING_RATE': 0.0006571443090465291}. Best is trial 0 with value: 0.3690388848129127.\n"
     ]
    },
    {
     "name": "stdout",
     "output_type": "stream",
     "text": [
      "Model Parameters  :  {'INPUT_DIMENSION': 94, 'HIDDEN_DIMENSION': 64, 'NO_OF_LAYERS': 2, 'BATCH_SIZE': 64, 'OUTPUT_DIMENSION': 3, 'EMBEDDING_DIMENSION': 256, 'DROP_OUT': 0.4925893236059491, 'LEARNING_RATE': 0.0009718361717636657}\n",
      "Epoch 1, Train Loss: 1.1772, Val Loss: 1.0983, Test Accuracy: 0.3507 ,Learning Rate: 0.0009718361717636657 , Time Taken : 5.215850114822388\n",
      "Epoch 6, Train Loss: 1.0853, Val Loss: 1.1045, Test Accuracy: 0.3720 ,Learning Rate: 0.0009718361717636657 , Time Taken : 5.28130578994751\n",
      "Epoch 11, Train Loss: 1.0890, Val Loss: 1.1098, Test Accuracy: 0.3544 ,Learning Rate: 0.0009718361717636657 , Time Taken : 4.908169269561768\n",
      "Epoch 16, Train Loss: 1.0895, Val Loss: 1.1028, Test Accuracy: 0.3661 ,Learning Rate: 0.0009718361717636657 , Time Taken : 5.246263265609741\n",
      "Epoch 21, Train Loss: 1.0958, Val Loss: 1.0951, Test Accuracy: 0.3558 ,Learning Rate: 0.0009718361717636657 , Time Taken : 5.039264917373657\n",
      "Epoch 26, Train Loss: 1.0939, Val Loss: 1.0901, Test Accuracy: 0.3749 ,Learning Rate: 0.0009718361717636657 , Time Taken : 5.089176893234253\n"
     ]
    },
    {
     "name": "stderr",
     "output_type": "stream",
     "text": [
      "[I 2023-08-15 04:30:50,021] Trial 19 finished with value: 0.34556126192223036 and parameters: {'HIDDEN_DIMENSION': 64, 'NO_OF_LAYERS': 2, 'BATCH_SIZE': 64, 'EMBEDDING_DIMENSION': 256, 'DROP_OUT': 0.4925893236059491, 'LEARNING_RATE': 0.0009718361717636657}. Best is trial 0 with value: 0.3690388848129127.\n"
     ]
    },
    {
     "name": "stdout",
     "output_type": "stream",
     "text": [
      "Model Parameters  :  {'INPUT_DIMENSION': 94, 'HIDDEN_DIMENSION': 64, 'NO_OF_LAYERS': 3, 'BATCH_SIZE': 64, 'OUTPUT_DIMENSION': 3, 'EMBEDDING_DIMENSION': 256, 'DROP_OUT': 0.2625137540159267, 'LEARNING_RATE': 0.0002742147842306929}\n",
      "Epoch 1, Train Loss: 1.1532, Val Loss: 1.0939, Test Accuracy: 0.3800 ,Learning Rate: 0.0002742147842306929 , Time Taken : 6.028625965118408\n",
      "Epoch 6, Train Loss: 1.0428, Val Loss: 1.1201, Test Accuracy: 0.3566 ,Learning Rate: 0.0002742147842306929 , Time Taken : 6.562991619110107\n",
      "Epoch 11, Train Loss: 0.9285, Val Loss: 1.2033, Test Accuracy: 0.3698 ,Learning Rate: 0.0002742147842306929 , Time Taken : 6.323838949203491\n",
      "Epoch 16, Train Loss: 0.7837, Val Loss: 1.3672, Test Accuracy: 0.3632 ,Learning Rate: 0.0002742147842306929 , Time Taken : 6.411180257797241\n",
      "Epoch 21, Train Loss: 0.6622, Val Loss: 1.5114, Test Accuracy: 0.3705 ,Learning Rate: 0.0002742147842306929 , Time Taken : 5.9960596561431885\n",
      "Epoch 26, Train Loss: 0.5631, Val Loss: 1.6695, Test Accuracy: 0.3705 ,Learning Rate: 0.0002742147842306929 , Time Taken : 5.813311815261841\n"
     ]
    },
    {
     "name": "stderr",
     "output_type": "stream",
     "text": [
      "[I 2023-08-15 04:34:01,144] Trial 20 finished with value: 0.3374908290535583 and parameters: {'HIDDEN_DIMENSION': 64, 'NO_OF_LAYERS': 3, 'BATCH_SIZE': 64, 'EMBEDDING_DIMENSION': 256, 'DROP_OUT': 0.2625137540159267, 'LEARNING_RATE': 0.0002742147842306929}. Best is trial 0 with value: 0.3690388848129127.\n"
     ]
    },
    {
     "name": "stdout",
     "output_type": "stream",
     "text": [
      "Model Parameters  :  {'INPUT_DIMENSION': 94, 'HIDDEN_DIMENSION': 512, 'NO_OF_LAYERS': 3, 'BATCH_SIZE': 512, 'OUTPUT_DIMENSION': 3, 'EMBEDDING_DIMENSION': 32, 'DROP_OUT': 0.20377525485664, 'LEARNING_RATE': 0.00020180458000602648}\n",
      "Epoch 1, Train Loss: 1.1803, Val Loss: 1.1078, Test Accuracy: 0.3507 ,Learning Rate: 0.00020180458000602648 , Time Taken : 0.9818177223205566\n",
      "Epoch 6, Train Loss: 1.1068, Val Loss: 1.0941, Test Accuracy: 0.3749 ,Learning Rate: 0.00020180458000602648 , Time Taken : 0.9815177917480469\n",
      "Epoch 11, Train Loss: 1.0995, Val Loss: 1.1004, Test Accuracy: 0.3404 ,Learning Rate: 0.00020180458000602648 , Time Taken : 0.9364943504333496\n",
      "Epoch 16, Train Loss: 1.0948, Val Loss: 1.1037, Test Accuracy: 0.3250 ,Learning Rate: 0.00020180458000602648 , Time Taken : 0.9786841869354248\n",
      "Epoch 21, Train Loss: 1.0930, Val Loss: 1.1021, Test Accuracy: 0.3338 ,Learning Rate: 0.00020180458000602648 , Time Taken : 0.9783635139465332\n",
      "Epoch 26, Train Loss: 1.0930, Val Loss: 1.1066, Test Accuracy: 0.3280 ,Learning Rate: 0.00020180458000602648 , Time Taken : 0.9824862480163574\n"
     ]
    },
    {
     "name": "stderr",
     "output_type": "stream",
     "text": [
      "[I 2023-08-15 04:34:30,867] Trial 21 finished with value: 0.338958180484226 and parameters: {'HIDDEN_DIMENSION': 512, 'NO_OF_LAYERS': 3, 'BATCH_SIZE': 512, 'EMBEDDING_DIMENSION': 32, 'DROP_OUT': 0.20377525485664, 'LEARNING_RATE': 0.00020180458000602648}. Best is trial 0 with value: 0.3690388848129127.\n"
     ]
    },
    {
     "name": "stdout",
     "output_type": "stream",
     "text": [
      "Model Parameters  :  {'INPUT_DIMENSION': 94, 'HIDDEN_DIMENSION': 512, 'NO_OF_LAYERS': 3, 'BATCH_SIZE': 64, 'OUTPUT_DIMENSION': 3, 'EMBEDDING_DIMENSION': 256, 'DROP_OUT': 0.24664277296179135, 'LEARNING_RATE': 0.00048588975153127936}\n",
      "Epoch 1, Train Loss: 1.1493, Val Loss: 1.1516, Test Accuracy: 0.2436 ,Learning Rate: 0.00048588975153127936 , Time Taken : 6.1669020652771\n",
      "Epoch 6, Train Loss: 1.0693, Val Loss: 1.1197, Test Accuracy: 0.3059 ,Learning Rate: 0.00048588975153127936 , Time Taken : 6.103157997131348\n",
      "Epoch 11, Train Loss: 1.0516, Val Loss: 1.0972, Test Accuracy: 0.3500 ,Learning Rate: 0.00048588975153127936 , Time Taken : 6.012093544006348\n",
      "Epoch 16, Train Loss: 1.0453, Val Loss: 1.1705, Test Accuracy: 0.3199 ,Learning Rate: 0.00048588975153127936 , Time Taken : 6.331404447555542\n",
      "Epoch 21, Train Loss: 1.0425, Val Loss: 1.1606, Test Accuracy: 0.3272 ,Learning Rate: 0.00048588975153127936 , Time Taken : 6.553695917129517\n",
      "Epoch 26, Train Loss: 1.0374, Val Loss: 1.1650, Test Accuracy: 0.3236 ,Learning Rate: 0.00048588975153127936 , Time Taken : 5.673550367355347\n"
     ]
    },
    {
     "name": "stderr",
     "output_type": "stream",
     "text": [
      "[I 2023-08-15 04:37:33,255] Trial 22 finished with value: 0.3418928833455613 and parameters: {'HIDDEN_DIMENSION': 512, 'NO_OF_LAYERS': 3, 'BATCH_SIZE': 64, 'EMBEDDING_DIMENSION': 256, 'DROP_OUT': 0.24664277296179135, 'LEARNING_RATE': 0.00048588975153127936}. Best is trial 0 with value: 0.3690388848129127.\n"
     ]
    },
    {
     "name": "stdout",
     "output_type": "stream",
     "text": [
      "Model Parameters  :  {'INPUT_DIMENSION': 94, 'HIDDEN_DIMENSION': 1024, 'NO_OF_LAYERS': 3, 'BATCH_SIZE': 512, 'OUTPUT_DIMENSION': 3, 'EMBEDDING_DIMENSION': 32, 'DROP_OUT': 0.10507011323813883, 'LEARNING_RATE': 0.00019928799212043914}\n",
      "Epoch 1, Train Loss: 1.1429, Val Loss: 1.0910, Test Accuracy: 0.3683 ,Learning Rate: 0.00019928799212043914 , Time Taken : 0.976402759552002\n",
      "Epoch 6, Train Loss: 1.1008, Val Loss: 1.1028, Test Accuracy: 0.3177 ,Learning Rate: 0.00019928799212043914 , Time Taken : 0.97318434715271\n",
      "Epoch 11, Train Loss: 1.0916, Val Loss: 1.0979, Test Accuracy: 0.3507 ,Learning Rate: 0.00019928799212043914 , Time Taken : 0.8993964195251465\n",
      "Epoch 16, Train Loss: 1.0898, Val Loss: 1.0947, Test Accuracy: 0.3573 ,Learning Rate: 0.00019928799212043914 , Time Taken : 0.9015560150146484\n",
      "Epoch 21, Train Loss: 1.0831, Val Loss: 1.1018, Test Accuracy: 0.3536 ,Learning Rate: 0.00019928799212043914 , Time Taken : 0.9693858623504639\n",
      "Epoch 26, Train Loss: 1.0793, Val Loss: 1.1077, Test Accuracy: 0.3331 ,Learning Rate: 0.00019928799212043914 , Time Taken : 0.9714705944061279\n"
     ]
    },
    {
     "name": "stderr",
     "output_type": "stream",
     "text": [
      "[I 2023-08-15 04:38:02,416] Trial 23 finished with value: 0.32868672046955244 and parameters: {'HIDDEN_DIMENSION': 1024, 'NO_OF_LAYERS': 3, 'BATCH_SIZE': 512, 'EMBEDDING_DIMENSION': 32, 'DROP_OUT': 0.10507011323813883, 'LEARNING_RATE': 0.00019928799212043914}. Best is trial 0 with value: 0.3690388848129127.\n"
     ]
    },
    {
     "name": "stdout",
     "output_type": "stream",
     "text": [
      "Model Parameters  :  {'INPUT_DIMENSION': 94, 'HIDDEN_DIMENSION': 64, 'NO_OF_LAYERS': 2, 'BATCH_SIZE': 64, 'OUTPUT_DIMENSION': 3, 'EMBEDDING_DIMENSION': 256, 'DROP_OUT': 0.2922529015652981, 'LEARNING_RATE': 0.0003956330699463656}\n",
      "Epoch 1, Train Loss: 1.1642, Val Loss: 1.1183, Test Accuracy: 0.3485 ,Learning Rate: 0.0003956330699463656 , Time Taken : 4.638720512390137\n",
      "Epoch 6, Train Loss: 1.0465, Val Loss: 1.1373, Test Accuracy: 0.3558 ,Learning Rate: 0.0003956330699463656 , Time Taken : 5.282916784286499\n",
      "Epoch 11, Train Loss: 0.9633, Val Loss: 1.1849, Test Accuracy: 0.3536 ,Learning Rate: 0.0003956330699463656 , Time Taken : 4.853830575942993\n",
      "Epoch 16, Train Loss: 0.8957, Val Loss: 1.2418, Test Accuracy: 0.3551 ,Learning Rate: 0.0003956330699463656 , Time Taken : 4.7116618156433105\n",
      "Epoch 21, Train Loss: 0.8142, Val Loss: 1.3306, Test Accuracy: 0.3727 ,Learning Rate: 0.0003956330699463656 , Time Taken : 4.961007118225098\n",
      "Epoch 26, Train Loss: 0.7509, Val Loss: 1.4227, Test Accuracy: 0.3727 ,Learning Rate: 0.0003956330699463656 , Time Taken : 5.25896692276001\n"
     ]
    },
    {
     "name": "stderr",
     "output_type": "stream",
     "text": [
      "[I 2023-08-15 04:40:35,067] Trial 24 finished with value: 0.3294203961848863 and parameters: {'HIDDEN_DIMENSION': 64, 'NO_OF_LAYERS': 2, 'BATCH_SIZE': 64, 'EMBEDDING_DIMENSION': 256, 'DROP_OUT': 0.2922529015652981, 'LEARNING_RATE': 0.0003956330699463656}. Best is trial 0 with value: 0.3690388848129127.\n"
     ]
    },
    {
     "name": "stdout",
     "output_type": "stream",
     "text": [
      "Model Parameters  :  {'INPUT_DIMENSION': 94, 'HIDDEN_DIMENSION': 512, 'NO_OF_LAYERS': 3, 'BATCH_SIZE': 512, 'OUTPUT_DIMENSION': 3, 'EMBEDDING_DIMENSION': 32, 'DROP_OUT': 0.15799399130747785, 'LEARNING_RATE': 0.0003498041643010087}\n",
      "Epoch 1, Train Loss: 1.1582, Val Loss: 1.1153, Test Accuracy: 0.3294 ,Learning Rate: 0.0003498041643010087 , Time Taken : 0.9455621242523193\n",
      "Epoch 6, Train Loss: 1.1022, Val Loss: 1.0942, Test Accuracy: 0.3668 ,Learning Rate: 0.0003498041643010087 , Time Taken : 0.8702507019042969\n",
      "Epoch 11, Train Loss: 1.0914, Val Loss: 1.1041, Test Accuracy: 0.3419 ,Learning Rate: 0.0003498041643010087 , Time Taken : 0.9632806777954102\n",
      "Epoch 16, Train Loss: 1.0907, Val Loss: 1.1122, Test Accuracy: 0.3236 ,Learning Rate: 0.0003498041643010087 , Time Taken : 0.8637795448303223\n",
      "Epoch 21, Train Loss: 1.0843, Val Loss: 1.0944, Test Accuracy: 0.3764 ,Learning Rate: 0.0003498041643010087 , Time Taken : 0.8720362186431885\n",
      "Epoch 26, Train Loss: 1.0805, Val Loss: 1.1049, Test Accuracy: 0.3507 ,Learning Rate: 0.0003498041643010087 , Time Taken : 0.9380450248718262\n"
     ]
    },
    {
     "name": "stderr",
     "output_type": "stream",
     "text": [
      "[I 2023-08-15 04:41:02,658] Trial 25 finished with value: 0.3206162876008804 and parameters: {'HIDDEN_DIMENSION': 512, 'NO_OF_LAYERS': 3, 'BATCH_SIZE': 512, 'EMBEDDING_DIMENSION': 32, 'DROP_OUT': 0.15799399130747785, 'LEARNING_RATE': 0.0003498041643010087}. Best is trial 0 with value: 0.3690388848129127.\n"
     ]
    },
    {
     "name": "stdout",
     "output_type": "stream",
     "text": [
      "Model Parameters  :  {'INPUT_DIMENSION': 94, 'HIDDEN_DIMENSION': 64, 'NO_OF_LAYERS': 4, 'BATCH_SIZE': 64, 'OUTPUT_DIMENSION': 3, 'EMBEDDING_DIMENSION': 256, 'DROP_OUT': 0.33706317643386036, 'LEARNING_RATE': 0.000698787265797787}\n",
      "Epoch 1, Train Loss: 1.1496, Val Loss: 1.1152, Test Accuracy: 0.2810 ,Learning Rate: 0.000698787265797787 , Time Taken : 7.455140829086304\n",
      "Epoch 6, Train Loss: 1.0941, Val Loss: 1.0900, Test Accuracy: 0.3558 ,Learning Rate: 0.000698787265797787 , Time Taken : 7.484065294265747\n",
      "Epoch 11, Train Loss: 1.0984, Val Loss: 1.0906, Test Accuracy: 0.3727 ,Learning Rate: 0.000698787265797787 , Time Taken : 7.711540937423706\n",
      "Epoch 16, Train Loss: 1.1021, Val Loss: 1.1155, Test Accuracy: 0.2428 ,Learning Rate: 0.000698787265797787 , Time Taken : 6.9150168895721436\n",
      "Epoch 21, Train Loss: 1.1012, Val Loss: 1.1018, Test Accuracy: 0.3654 ,Learning Rate: 0.000698787265797787 , Time Taken : 7.4978392124176025\n",
      "Epoch 26, Train Loss: 1.0998, Val Loss: 1.0976, Test Accuracy: 0.3844 ,Learning Rate: 0.000698787265797787 , Time Taken : 7.689095497131348\n"
     ]
    },
    {
     "name": "stderr",
     "output_type": "stream",
     "text": [
      "[I 2023-08-15 04:44:46,323] Trial 26 finished with value: 0.3235509904622157 and parameters: {'HIDDEN_DIMENSION': 64, 'NO_OF_LAYERS': 4, 'BATCH_SIZE': 64, 'EMBEDDING_DIMENSION': 256, 'DROP_OUT': 0.33706317643386036, 'LEARNING_RATE': 0.000698787265797787}. Best is trial 0 with value: 0.3690388848129127.\n"
     ]
    },
    {
     "name": "stdout",
     "output_type": "stream",
     "text": [
      "Model Parameters  :  {'INPUT_DIMENSION': 94, 'HIDDEN_DIMENSION': 64, 'NO_OF_LAYERS': 2, 'BATCH_SIZE': 64, 'OUTPUT_DIMENSION': 3, 'EMBEDDING_DIMENSION': 256, 'DROP_OUT': 0.2240863352417747, 'LEARNING_RATE': 0.0005429239001798853}\n",
      "Epoch 1, Train Loss: 1.1468, Val Loss: 1.1156, Test Accuracy: 0.3375 ,Learning Rate: 0.0005429239001798853 , Time Taken : 5.3025853633880615\n",
      "Epoch 6, Train Loss: 1.0485, Val Loss: 1.1249, Test Accuracy: 0.3610 ,Learning Rate: 0.0005429239001798853 , Time Taken : 5.25653076171875\n",
      "Epoch 11, Train Loss: 0.9940, Val Loss: 1.1412, Test Accuracy: 0.3610 ,Learning Rate: 0.0005429239001798853 , Time Taken : 5.363754987716675\n",
      "Epoch 16, Train Loss: 0.9337, Val Loss: 1.2304, Test Accuracy: 0.3404 ,Learning Rate: 0.0005429239001798853 , Time Taken : 4.94785737991333\n",
      "Epoch 21, Train Loss: 0.8831, Val Loss: 1.2318, Test Accuracy: 0.3500 ,Learning Rate: 0.0005429239001798853 , Time Taken : 5.308223485946655\n",
      "Epoch 26, Train Loss: 0.8144, Val Loss: 1.4477, Test Accuracy: 0.3397 ,Learning Rate: 0.0005429239001798853 , Time Taken : 5.27634596824646\n"
     ]
    },
    {
     "name": "stderr",
     "output_type": "stream",
     "text": [
      "[I 2023-08-15 04:47:26,022] Trial 27 finished with value: 0.32868672046955244 and parameters: {'HIDDEN_DIMENSION': 64, 'NO_OF_LAYERS': 2, 'BATCH_SIZE': 64, 'EMBEDDING_DIMENSION': 256, 'DROP_OUT': 0.2240863352417747, 'LEARNING_RATE': 0.0005429239001798853}. Best is trial 0 with value: 0.3690388848129127.\n"
     ]
    },
    {
     "name": "stdout",
     "output_type": "stream",
     "text": [
      "Model Parameters  :  {'INPUT_DIMENSION': 94, 'HIDDEN_DIMENSION': 1024, 'NO_OF_LAYERS': 1, 'BATCH_SIZE': 1024, 'OUTPUT_DIMENSION': 3, 'EMBEDDING_DIMENSION': 1024, 'DROP_OUT': 0.26720079315128975, 'LEARNING_RATE': 0.0002129527649217362}\n",
      "Epoch 1, Train Loss: 1.1932, Val Loss: 1.2221, Test Accuracy: 0.2722 ,Learning Rate: 0.0002129527649217362 , Time Taken : 2.4653232097625732\n",
      "Epoch 6, Train Loss: 1.0656, Val Loss: 1.1510, Test Accuracy: 0.3492 ,Learning Rate: 0.0002129527649217362 , Time Taken : 2.5399136543273926\n",
      "Epoch 11, Train Loss: 1.0029, Val Loss: 1.2073, Test Accuracy: 0.3551 ,Learning Rate: 0.0002129527649217362 , Time Taken : 2.5542960166931152\n",
      "Epoch 16, Train Loss: 0.9574, Val Loss: 1.2219, Test Accuracy: 0.3536 ,Learning Rate: 0.0002129527649217362 , Time Taken : 2.5979814529418945\n",
      "Epoch 21, Train Loss: 0.9280, Val Loss: 1.2582, Test Accuracy: 0.3382 ,Learning Rate: 0.0002129527649217362 , Time Taken : 2.5905914306640625\n",
      "Epoch 26, Train Loss: 0.9021, Val Loss: 1.2751, Test Accuracy: 0.3331 ,Learning Rate: 0.0002129527649217362 , Time Taken : 2.594177722930908\n"
     ]
    },
    {
     "name": "stderr",
     "output_type": "stream",
     "text": [
      "[I 2023-08-15 04:48:43,492] Trial 28 finished with value: 0.33088774761555395 and parameters: {'HIDDEN_DIMENSION': 1024, 'NO_OF_LAYERS': 1, 'BATCH_SIZE': 1024, 'EMBEDDING_DIMENSION': 1024, 'DROP_OUT': 0.26720079315128975, 'LEARNING_RATE': 0.0002129527649217362}. Best is trial 0 with value: 0.3690388848129127.\n"
     ]
    },
    {
     "name": "stdout",
     "output_type": "stream",
     "text": [
      "Model Parameters  :  {'INPUT_DIMENSION': 94, 'HIDDEN_DIMENSION': 512, 'NO_OF_LAYERS': 3, 'BATCH_SIZE': 512, 'OUTPUT_DIMENSION': 3, 'EMBEDDING_DIMENSION': 32, 'DROP_OUT': 0.23260453497022687, 'LEARNING_RATE': 0.0006605987189778755}\n",
      "Epoch 1, Train Loss: 1.1574, Val Loss: 1.0999, Test Accuracy: 0.3529 ,Learning Rate: 0.0006605987189778755 , Time Taken : 0.8736834526062012\n",
      "Epoch 6, Train Loss: 1.0988, Val Loss: 1.0939, Test Accuracy: 0.3676 ,Learning Rate: 0.0006605987189778755 , Time Taken : 0.964226245880127\n",
      "Epoch 11, Train Loss: 1.0909, Val Loss: 1.0964, Test Accuracy: 0.3404 ,Learning Rate: 0.0006605987189778755 , Time Taken : 0.8986220359802246\n",
      "Epoch 16, Train Loss: 1.0844, Val Loss: 1.0937, Test Accuracy: 0.3390 ,Learning Rate: 0.0006605987189778755 , Time Taken : 0.9555339813232422\n",
      "Epoch 21, Train Loss: 1.0762, Val Loss: 1.1177, Test Accuracy: 0.3258 ,Learning Rate: 0.0006605987189778755 , Time Taken : 0.8448672294616699\n",
      "Epoch 26, Train Loss: 1.0652, Val Loss: 1.1244, Test Accuracy: 0.3338 ,Learning Rate: 0.0006605987189778755 , Time Taken : 0.844367265701294\n"
     ]
    },
    {
     "name": "stderr",
     "output_type": "stream",
     "text": [
      "[I 2023-08-15 04:49:11,216] Trial 29 finished with value: 0.3418928833455613 and parameters: {'HIDDEN_DIMENSION': 512, 'NO_OF_LAYERS': 3, 'BATCH_SIZE': 512, 'EMBEDDING_DIMENSION': 32, 'DROP_OUT': 0.23260453497022687, 'LEARNING_RATE': 0.0006605987189778755}. Best is trial 0 with value: 0.3690388848129127.\n"
     ]
    },
    {
     "name": "stdout",
     "output_type": "stream",
     "text": [
      "Model Parameters  :  {'INPUT_DIMENSION': 94, 'HIDDEN_DIMENSION': 1024, 'NO_OF_LAYERS': 2, 'BATCH_SIZE': 512, 'OUTPUT_DIMENSION': 3, 'EMBEDDING_DIMENSION': 1024, 'DROP_OUT': 0.3685190509024031, 'LEARNING_RATE': 0.00034184376097513445}\n",
      "Epoch 1, Train Loss: 1.3074, Val Loss: 1.2270, Test Accuracy: 0.3272 ,Learning Rate: 0.00034184376097513445 , Time Taken : 5.144819498062134\n",
      "Epoch 6, Train Loss: 1.0604, Val Loss: 1.1245, Test Accuracy: 0.3610 ,Learning Rate: 0.00034184376097513445 , Time Taken : 5.157071352005005\n",
      "Epoch 11, Train Loss: 0.9808, Val Loss: 1.1705, Test Accuracy: 0.3492 ,Learning Rate: 0.00034184376097513445 , Time Taken : 5.216859340667725\n",
      "Epoch 16, Train Loss: 0.9471, Val Loss: 1.2091, Test Accuracy: 0.3514 ,Learning Rate: 0.00034184376097513445 , Time Taken : 5.264620304107666\n",
      "Epoch 21, Train Loss: 0.9384, Val Loss: 1.1994, Test Accuracy: 0.3404 ,Learning Rate: 0.00034184376097513445 , Time Taken : 5.281088829040527\n",
      "Epoch 26, Train Loss: 0.9217, Val Loss: 1.2521, Test Accuracy: 0.3331 ,Learning Rate: 0.00034184376097513445 , Time Taken : 5.3258585929870605\n"
     ]
    },
    {
     "name": "stderr",
     "output_type": "stream",
     "text": [
      "[I 2023-08-15 04:51:49,426] Trial 30 finished with value: 0.34115920763022745 and parameters: {'HIDDEN_DIMENSION': 1024, 'NO_OF_LAYERS': 2, 'BATCH_SIZE': 512, 'EMBEDDING_DIMENSION': 1024, 'DROP_OUT': 0.3685190509024031, 'LEARNING_RATE': 0.00034184376097513445}. Best is trial 0 with value: 0.3690388848129127.\n"
     ]
    },
    {
     "name": "stdout",
     "output_type": "stream",
     "text": [
      "Model Parameters  :  {'INPUT_DIMENSION': 94, 'HIDDEN_DIMENSION': 64, 'NO_OF_LAYERS': 2, 'BATCH_SIZE': 64, 'OUTPUT_DIMENSION': 3, 'EMBEDDING_DIMENSION': 256, 'DROP_OUT': 0.30705959993626625, 'LEARNING_RATE': 0.0005256027052154265}\n",
      "Epoch 1, Train Loss: 1.1605, Val Loss: 1.1090, Test Accuracy: 0.3470 ,Learning Rate: 0.0005256027052154265 , Time Taken : 4.715500116348267\n",
      "Epoch 6, Train Loss: 1.0473, Val Loss: 1.1021, Test Accuracy: 0.3727 ,Learning Rate: 0.0005256027052154265 , Time Taken : 5.381813287734985\n",
      "Epoch 11, Train Loss: 0.9933, Val Loss: 1.2039, Test Accuracy: 0.2971 ,Learning Rate: 0.0005256027052154265 , Time Taken : 5.348315715789795\n",
      "Epoch 16, Train Loss: 0.9525, Val Loss: 1.1948, Test Accuracy: 0.3514 ,Learning Rate: 0.0005256027052154265 , Time Taken : 5.285343408584595\n",
      "Epoch 21, Train Loss: 0.9092, Val Loss: 1.2934, Test Accuracy: 0.3639 ,Learning Rate: 0.0005256027052154265 , Time Taken : 5.270127296447754\n",
      "Epoch 26, Train Loss: 0.8528, Val Loss: 1.2656, Test Accuracy: 0.3624 ,Learning Rate: 0.0005256027052154265 , Time Taken : 4.697366714477539\n"
     ]
    },
    {
     "name": "stderr",
     "output_type": "stream",
     "text": [
      "[I 2023-08-15 04:54:23,980] Trial 31 finished with value: 0.3763756419662509 and parameters: {'HIDDEN_DIMENSION': 64, 'NO_OF_LAYERS': 2, 'BATCH_SIZE': 64, 'EMBEDDING_DIMENSION': 256, 'DROP_OUT': 0.30705959993626625, 'LEARNING_RATE': 0.0005256027052154265}. Best is trial 31 with value: 0.3763756419662509.\n"
     ]
    },
    {
     "name": "stdout",
     "output_type": "stream",
     "text": [
      "Model Parameters  :  {'INPUT_DIMENSION': 94, 'HIDDEN_DIMENSION': 64, 'NO_OF_LAYERS': 2, 'BATCH_SIZE': 64, 'OUTPUT_DIMENSION': 3, 'EMBEDDING_DIMENSION': 256, 'DROP_OUT': 0.3022820142952556, 'LEARNING_RATE': 0.00048430910268301475}\n",
      "Epoch 1, Train Loss: 1.1575, Val Loss: 1.1531, Test Accuracy: 0.3206 ,Learning Rate: 0.00048430910268301475 , Time Taken : 4.634148359298706\n",
      "Epoch 6, Train Loss: 1.0485, Val Loss: 1.1579, Test Accuracy: 0.3228 ,Learning Rate: 0.00048430910268301475 , Time Taken : 5.216716051101685\n",
      "Epoch 11, Train Loss: 0.9896, Val Loss: 1.1602, Test Accuracy: 0.3470 ,Learning Rate: 0.00048430910268301475 , Time Taken : 4.7016801834106445\n",
      "Epoch 16, Train Loss: 0.9433, Val Loss: 1.1808, Test Accuracy: 0.3668 ,Learning Rate: 0.00048430910268301475 , Time Taken : 5.312341690063477\n",
      "Epoch 21, Train Loss: 0.8898, Val Loss: 1.2712, Test Accuracy: 0.3419 ,Learning Rate: 0.00048430910268301475 , Time Taken : 5.287446975708008\n",
      "Epoch 26, Train Loss: 0.8462, Val Loss: 1.2826, Test Accuracy: 0.3588 ,Learning Rate: 0.00048430910268301475 , Time Taken : 4.799885034561157\n"
     ]
    },
    {
     "name": "stderr",
     "output_type": "stream",
     "text": [
      "[I 2023-08-15 04:56:55,803] Trial 32 finished with value: 0.3521643433602348 and parameters: {'HIDDEN_DIMENSION': 64, 'NO_OF_LAYERS': 2, 'BATCH_SIZE': 64, 'EMBEDDING_DIMENSION': 256, 'DROP_OUT': 0.3022820142952556, 'LEARNING_RATE': 0.00048430910268301475}. Best is trial 31 with value: 0.3763756419662509.\n"
     ]
    },
    {
     "name": "stdout",
     "output_type": "stream",
     "text": [
      "Model Parameters  :  {'INPUT_DIMENSION': 94, 'HIDDEN_DIMENSION': 64, 'NO_OF_LAYERS': 3, 'BATCH_SIZE': 64, 'OUTPUT_DIMENSION': 3, 'EMBEDDING_DIMENSION': 256, 'DROP_OUT': 0.2167508195923358, 'LEARNING_RATE': 0.0002391069157083508}\n",
      "Epoch 1, Train Loss: 1.1446, Val Loss: 1.1094, Test Accuracy: 0.3551 ,Learning Rate: 0.0002391069157083508 , Time Taken : 6.427737236022949\n",
      "Epoch 6, Train Loss: 1.0462, Val Loss: 1.1234, Test Accuracy: 0.3470 ,Learning Rate: 0.0002391069157083508 , Time Taken : 6.450408220291138\n",
      "Epoch 11, Train Loss: 0.9031, Val Loss: 1.2595, Test Accuracy: 0.3639 ,Learning Rate: 0.0002391069157083508 , Time Taken : 6.429243564605713\n",
      "Epoch 16, Train Loss: 0.7501, Val Loss: 1.4308, Test Accuracy: 0.3507 ,Learning Rate: 0.0002391069157083508 , Time Taken : 6.41042423248291\n",
      "Epoch 21, Train Loss: 0.5836, Val Loss: 1.7375, Test Accuracy: 0.3573 ,Learning Rate: 0.0002391069157083508 , Time Taken : 5.722215414047241\n",
      "Epoch 26, Train Loss: 0.4838, Val Loss: 1.9283, Test Accuracy: 0.3522 ,Learning Rate: 0.0002391069157083508 , Time Taken : 6.395825624465942\n"
     ]
    },
    {
     "name": "stderr",
     "output_type": "stream",
     "text": [
      "[I 2023-08-15 05:00:05,715] Trial 33 finished with value: 0.34849596478356565 and parameters: {'HIDDEN_DIMENSION': 64, 'NO_OF_LAYERS': 3, 'BATCH_SIZE': 64, 'EMBEDDING_DIMENSION': 256, 'DROP_OUT': 0.2167508195923358, 'LEARNING_RATE': 0.0002391069157083508}. Best is trial 31 with value: 0.3763756419662509.\n"
     ]
    },
    {
     "name": "stdout",
     "output_type": "stream",
     "text": [
      "Model Parameters  :  {'INPUT_DIMENSION': 94, 'HIDDEN_DIMENSION': 64, 'NO_OF_LAYERS': 3, 'BATCH_SIZE': 64, 'OUTPUT_DIMENSION': 3, 'EMBEDDING_DIMENSION': 256, 'DROP_OUT': 0.2502977708282694, 'LEARNING_RATE': 0.0003637218791695798}\n",
      "Epoch 1, Train Loss: 1.1582, Val Loss: 1.1333, Test Accuracy: 0.3859 ,Learning Rate: 0.0003637218791695798 , Time Taken : 5.771970510482788\n",
      "Epoch 6, Train Loss: 1.0409, Val Loss: 1.1191, Test Accuracy: 0.3426 ,Learning Rate: 0.0003637218791695798 , Time Taken : 6.541659355163574\n",
      "Epoch 11, Train Loss: 0.9433, Val Loss: 1.1998, Test Accuracy: 0.3419 ,Learning Rate: 0.0003637218791695798 , Time Taken : 6.60776424407959\n",
      "Epoch 16, Train Loss: 0.8346, Val Loss: 1.3970, Test Accuracy: 0.3668 ,Learning Rate: 0.0003637218791695798 , Time Taken : 6.168184280395508\n",
      "Epoch 21, Train Loss: 0.7294, Val Loss: 1.3908, Test Accuracy: 0.3668 ,Learning Rate: 0.0003637218791695798 , Time Taken : 6.3657755851745605\n",
      "Epoch 26, Train Loss: 0.6326, Val Loss: 1.6369, Test Accuracy: 0.3720 ,Learning Rate: 0.0003637218791695798 , Time Taken : 6.435657262802124\n"
     ]
    },
    {
     "name": "stderr",
     "output_type": "stream",
     "text": [
      "[I 2023-08-15 05:03:14,290] Trial 34 finished with value: 0.35803374908290536 and parameters: {'HIDDEN_DIMENSION': 64, 'NO_OF_LAYERS': 3, 'BATCH_SIZE': 64, 'EMBEDDING_DIMENSION': 256, 'DROP_OUT': 0.2502977708282694, 'LEARNING_RATE': 0.0003637218791695798}. Best is trial 31 with value: 0.3763756419662509.\n"
     ]
    },
    {
     "name": "stdout",
     "output_type": "stream",
     "text": [
      "Model Parameters  :  {'INPUT_DIMENSION': 94, 'HIDDEN_DIMENSION': 64, 'NO_OF_LAYERS': 1, 'BATCH_SIZE': 1024, 'OUTPUT_DIMENSION': 3, 'EMBEDDING_DIMENSION': 256, 'DROP_OUT': 0.2796631418607436, 'LEARNING_RATE': 0.00016240704426708196}\n",
      "Epoch 1, Train Loss: 1.2178, Val Loss: 1.1548, Test Accuracy: 0.3434 ,Learning Rate: 0.00016240704426708196 , Time Taken : 0.39956164360046387\n",
      "Epoch 6, Train Loss: 1.1221, Val Loss: 1.1156, Test Accuracy: 0.3258 ,Learning Rate: 0.00016240704426708196 , Time Taken : 0.5648727416992188\n",
      "Epoch 11, Train Loss: 1.0953, Val Loss: 1.1127, Test Accuracy: 0.3338 ,Learning Rate: 0.00016240704426708196 , Time Taken : 0.42617082595825195\n",
      "Epoch 16, Train Loss: 1.0724, Val Loss: 1.1223, Test Accuracy: 0.3463 ,Learning Rate: 0.00016240704426708196 , Time Taken : 0.4277462959289551\n",
      "Epoch 21, Train Loss: 1.0552, Val Loss: 1.1408, Test Accuracy: 0.3434 ,Learning Rate: 0.00016240704426708196 , Time Taken : 0.42656779289245605\n",
      "Epoch 26, Train Loss: 1.0366, Val Loss: 1.1426, Test Accuracy: 0.3588 ,Learning Rate: 0.00016240704426708196 , Time Taken : 0.4212629795074463\n"
     ]
    },
    {
     "name": "stderr",
     "output_type": "stream",
     "text": [
      "[I 2023-08-15 05:03:27,175] Trial 35 finished with value: 0.3492296404988995 and parameters: {'HIDDEN_DIMENSION': 64, 'NO_OF_LAYERS': 1, 'BATCH_SIZE': 1024, 'EMBEDDING_DIMENSION': 256, 'DROP_OUT': 0.2796631418607436, 'LEARNING_RATE': 0.00016240704426708196}. Best is trial 31 with value: 0.3763756419662509.\n"
     ]
    },
    {
     "name": "stdout",
     "output_type": "stream",
     "text": [
      "Model Parameters  :  {'INPUT_DIMENSION': 94, 'HIDDEN_DIMENSION': 64, 'NO_OF_LAYERS': 2, 'BATCH_SIZE': 512, 'OUTPUT_DIMENSION': 3, 'EMBEDDING_DIMENSION': 1024, 'DROP_OUT': 0.18676272140151542, 'LEARNING_RATE': 0.0006538013880335455}\n",
      "Epoch 1, Train Loss: 1.2740, Val Loss: 1.1853, Test Accuracy: 0.3199 ,Learning Rate: 0.0006538013880335455 , Time Taken : 3.9259731769561768\n",
      "Epoch 6, Train Loss: 1.0773, Val Loss: 1.1449, Test Accuracy: 0.3368 ,Learning Rate: 0.0006538013880335455 , Time Taken : 3.8572998046875\n",
      "Epoch 11, Train Loss: 1.0616, Val Loss: 1.1431, Test Accuracy: 0.3206 ,Learning Rate: 0.0006538013880335455 , Time Taken : 3.875576972961426\n",
      "Epoch 16, Train Loss: 1.0833, Val Loss: 1.1083, Test Accuracy: 0.3764 ,Learning Rate: 0.0006538013880335455 , Time Taken : 3.8608388900756836\n",
      "Epoch 21, Train Loss: 1.0751, Val Loss: 1.1173, Test Accuracy: 0.3558 ,Learning Rate: 0.0006538013880335455 , Time Taken : 3.978942632675171\n",
      "Epoch 26, Train Loss: 1.0783, Val Loss: 1.0957, Test Accuracy: 0.3793 ,Learning Rate: 0.0006538013880335455 , Time Taken : 3.8789732456207275\n"
     ]
    },
    {
     "name": "stderr",
     "output_type": "stream",
     "text": [
      "[I 2023-08-15 05:05:23,815] Trial 36 finished with value: 0.27292736610418195 and parameters: {'HIDDEN_DIMENSION': 64, 'NO_OF_LAYERS': 2, 'BATCH_SIZE': 512, 'EMBEDDING_DIMENSION': 1024, 'DROP_OUT': 0.18676272140151542, 'LEARNING_RATE': 0.0006538013880335455}. Best is trial 31 with value: 0.3763756419662509.\n"
     ]
    },
    {
     "name": "stdout",
     "output_type": "stream",
     "text": [
      "Model Parameters  :  {'INPUT_DIMENSION': 94, 'HIDDEN_DIMENSION': 64, 'NO_OF_LAYERS': 4, 'BATCH_SIZE': 64, 'OUTPUT_DIMENSION': 3, 'EMBEDDING_DIMENSION': 32, 'DROP_OUT': 0.3162624735188776, 'LEARNING_RATE': 0.0002617401263343699}\n",
      "Epoch 1, Train Loss: 1.1926, Val Loss: 1.1138, Test Accuracy: 0.3067 ,Learning Rate: 0.0002617401263343699 , Time Taken : 7.721464395523071\n",
      "Epoch 6, Train Loss: 1.1012, Val Loss: 1.1000, Test Accuracy: 0.3331 ,Learning Rate: 0.0002617401263343699 , Time Taken : 7.673545837402344\n",
      "Epoch 11, Train Loss: 1.0949, Val Loss: 1.1022, Test Accuracy: 0.3529 ,Learning Rate: 0.0002617401263343699 , Time Taken : 7.466625928878784\n",
      "Epoch 16, Train Loss: 1.0864, Val Loss: 1.1138, Test Accuracy: 0.3258 ,Learning Rate: 0.0002617401263343699 , Time Taken : 7.625628709793091\n",
      "Epoch 21, Train Loss: 1.0758, Val Loss: 1.1209, Test Accuracy: 0.3441 ,Learning Rate: 0.0002617401263343699 , Time Taken : 7.771056175231934\n",
      "Epoch 26, Train Loss: 1.0630, Val Loss: 1.1055, Test Accuracy: 0.3639 ,Learning Rate: 0.0002617401263343699 , Time Taken : 7.77548623085022\n"
     ]
    },
    {
     "name": "stderr",
     "output_type": "stream",
     "text": [
      "[I 2023-08-15 05:09:15,469] Trial 37 finished with value: 0.31401320616287604 and parameters: {'HIDDEN_DIMENSION': 64, 'NO_OF_LAYERS': 4, 'BATCH_SIZE': 64, 'EMBEDDING_DIMENSION': 32, 'DROP_OUT': 0.3162624735188776, 'LEARNING_RATE': 0.0002617401263343699}. Best is trial 31 with value: 0.3763756419662509.\n"
     ]
    },
    {
     "name": "stdout",
     "output_type": "stream",
     "text": [
      "Model Parameters  :  {'INPUT_DIMENSION': 94, 'HIDDEN_DIMENSION': 512, 'NO_OF_LAYERS': 3, 'BATCH_SIZE': 1024, 'OUTPUT_DIMENSION': 3, 'EMBEDDING_DIMENSION': 256, 'DROP_OUT': 0.21140157877236604, 'LEARNING_RATE': 0.00015930258091961566}\n",
      "Epoch 1, Train Loss: 1.1662, Val Loss: 1.1140, Test Accuracy: 0.3375 ,Learning Rate: 0.00015930258091961566 , Time Taken : 1.097193956375122\n",
      "Epoch 6, Train Loss: 1.0987, Val Loss: 1.1109, Test Accuracy: 0.3434 ,Learning Rate: 0.00015930258091961566 , Time Taken : 1.0767531394958496\n",
      "Epoch 11, Train Loss: 1.0834, Val Loss: 1.1092, Test Accuracy: 0.3646 ,Learning Rate: 0.00015930258091961566 , Time Taken : 1.0791003704071045\n",
      "Epoch 16, Train Loss: 1.0432, Val Loss: 1.1179, Test Accuracy: 0.3588 ,Learning Rate: 0.00015930258091961566 , Time Taken : 1.0874335765838623\n",
      "Epoch 21, Train Loss: 1.0086, Val Loss: 1.1731, Test Accuracy: 0.3536 ,Learning Rate: 0.00015930258091961566 , Time Taken : 1.0526213645935059\n",
      "Epoch 26, Train Loss: 0.9502, Val Loss: 1.1880, Test Accuracy: 0.3588 ,Learning Rate: 0.00015930258091961566 , Time Taken : 1.09423828125\n"
     ]
    },
    {
     "name": "stderr",
     "output_type": "stream",
     "text": [
      "[I 2023-08-15 05:09:48,431] Trial 38 finished with value: 0.35509904622157007 and parameters: {'HIDDEN_DIMENSION': 512, 'NO_OF_LAYERS': 3, 'BATCH_SIZE': 1024, 'EMBEDDING_DIMENSION': 256, 'DROP_OUT': 0.21140157877236604, 'LEARNING_RATE': 0.00015930258091961566}. Best is trial 31 with value: 0.3763756419662509.\n"
     ]
    },
    {
     "name": "stdout",
     "output_type": "stream",
     "text": [
      "Model Parameters  :  {'INPUT_DIMENSION': 94, 'HIDDEN_DIMENSION': 64, 'NO_OF_LAYERS': 4, 'BATCH_SIZE': 64, 'OUTPUT_DIMENSION': 3, 'EMBEDDING_DIMENSION': 32, 'DROP_OUT': 0.23568213610311847, 'LEARNING_RATE': 0.0004034406252384665}\n",
      "Epoch 1, Train Loss: 1.1315, Val Loss: 1.1097, Test Accuracy: 0.3177 ,Learning Rate: 0.0004034406252384665 , Time Taken : 7.897775173187256\n",
      "Epoch 6, Train Loss: 1.0928, Val Loss: 1.0965, Test Accuracy: 0.3588 ,Learning Rate: 0.0004034406252384665 , Time Taken : 7.879472255706787\n",
      "Epoch 11, Train Loss: 1.0824, Val Loss: 1.0957, Test Accuracy: 0.3485 ,Learning Rate: 0.0004034406252384665 , Time Taken : 7.5994720458984375\n",
      "Epoch 16, Train Loss: 1.0724, Val Loss: 1.1104, Test Accuracy: 0.3346 ,Learning Rate: 0.0004034406252384665 , Time Taken : 7.87509822845459\n",
      "Epoch 21, Train Loss: 1.0450, Val Loss: 1.1368, Test Accuracy: 0.3213 ,Learning Rate: 0.0004034406252384665 , Time Taken : 7.820392370223999\n",
      "Epoch 26, Train Loss: 1.0153, Val Loss: 1.1338, Test Accuracy: 0.3610 ,Learning Rate: 0.0004034406252384665 , Time Taken : 7.50776481628418\n"
     ]
    },
    {
     "name": "stderr",
     "output_type": "stream",
     "text": [
      "[I 2023-08-15 05:13:39,526] Trial 39 finished with value: 0.334556126192223 and parameters: {'HIDDEN_DIMENSION': 64, 'NO_OF_LAYERS': 4, 'BATCH_SIZE': 64, 'EMBEDDING_DIMENSION': 32, 'DROP_OUT': 0.23568213610311847, 'LEARNING_RATE': 0.0004034406252384665}. Best is trial 31 with value: 0.3763756419662509.\n"
     ]
    },
    {
     "name": "stdout",
     "output_type": "stream",
     "text": [
      "Model Parameters  :  {'INPUT_DIMENSION': 94, 'HIDDEN_DIMENSION': 64, 'NO_OF_LAYERS': 1, 'BATCH_SIZE': 512, 'OUTPUT_DIMENSION': 3, 'EMBEDDING_DIMENSION': 1024, 'DROP_OUT': 0.2814597187103165, 'LEARNING_RATE': 0.0007941273093778218}\n",
      "Epoch 1, Train Loss: 1.2176, Val Loss: 1.1799, Test Accuracy: 0.3404 ,Learning Rate: 0.0007941273093778218 , Time Taken : 1.9866299629211426\n",
      "Epoch 6, Train Loss: 1.0980, Val Loss: 1.1201, Test Accuracy: 0.3764 ,Learning Rate: 0.0007941273093778218 , Time Taken : 1.980285406112671\n",
      "Epoch 11, Train Loss: 1.0792, Val Loss: 1.1266, Test Accuracy: 0.3492 ,Learning Rate: 0.0007941273093778218 , Time Taken : 1.990525245666504\n",
      "Epoch 16, Train Loss: 1.0705, Val Loss: 1.1154, Test Accuracy: 0.3676 ,Learning Rate: 0.0007941273093778218 , Time Taken : 2.0572385787963867\n",
      "Epoch 21, Train Loss: 1.0714, Val Loss: 1.1279, Test Accuracy: 0.3903 ,Learning Rate: 0.0007941273093778218 , Time Taken : 2.0807862281799316\n",
      "Epoch 26, Train Loss: 1.0725, Val Loss: 1.1207, Test Accuracy: 0.3419 ,Learning Rate: 0.0007941273093778218 , Time Taken : 2.103044271469116\n"
     ]
    },
    {
     "name": "stderr",
     "output_type": "stream",
     "text": [
      "[I 2023-08-15 05:14:40,961] Trial 40 finished with value: 0.31548055759354365 and parameters: {'HIDDEN_DIMENSION': 64, 'NO_OF_LAYERS': 1, 'BATCH_SIZE': 512, 'EMBEDDING_DIMENSION': 1024, 'DROP_OUT': 0.2814597187103165, 'LEARNING_RATE': 0.0007941273093778218}. Best is trial 31 with value: 0.3763756419662509.\n"
     ]
    },
    {
     "name": "stdout",
     "output_type": "stream",
     "text": [
      "Model Parameters  :  {'INPUT_DIMENSION': 94, 'HIDDEN_DIMENSION': 64, 'NO_OF_LAYERS': 2, 'BATCH_SIZE': 64, 'OUTPUT_DIMENSION': 3, 'EMBEDDING_DIMENSION': 256, 'DROP_OUT': 0.3097782565507163, 'LEARNING_RATE': 0.0004858367146340099}\n",
      "Epoch 1, Train Loss: 1.1579, Val Loss: 1.1076, Test Accuracy: 0.3610 ,Learning Rate: 0.0004858367146340099 , Time Taken : 5.013916969299316\n",
      "Epoch 6, Train Loss: 1.0529, Val Loss: 1.1448, Test Accuracy: 0.3522 ,Learning Rate: 0.0004858367146340099 , Time Taken : 5.05585503578186\n",
      "Epoch 11, Train Loss: 0.9927, Val Loss: 1.1723, Test Accuracy: 0.3404 ,Learning Rate: 0.0004858367146340099 , Time Taken : 5.359158754348755\n",
      "Epoch 16, Train Loss: 0.9343, Val Loss: 1.2801, Test Accuracy: 0.3514 ,Learning Rate: 0.0004858367146340099 , Time Taken : 5.210580110549927\n",
      "Epoch 21, Train Loss: 0.8956, Val Loss: 1.2270, Test Accuracy: 0.3705 ,Learning Rate: 0.0004858367146340099 , Time Taken : 4.652991533279419\n",
      "Epoch 26, Train Loss: 0.8291, Val Loss: 1.3241, Test Accuracy: 0.3610 ,Learning Rate: 0.0004858367146340099 , Time Taken : 5.248194217681885\n"
     ]
    },
    {
     "name": "stderr",
     "output_type": "stream",
     "text": [
      "[I 2023-08-15 05:17:12,708] Trial 41 finished with value: 0.34115920763022745 and parameters: {'HIDDEN_DIMENSION': 64, 'NO_OF_LAYERS': 2, 'BATCH_SIZE': 64, 'EMBEDDING_DIMENSION': 256, 'DROP_OUT': 0.3097782565507163, 'LEARNING_RATE': 0.0004858367146340099}. Best is trial 31 with value: 0.3763756419662509.\n"
     ]
    },
    {
     "name": "stdout",
     "output_type": "stream",
     "text": [
      "Model Parameters  :  {'INPUT_DIMENSION': 94, 'HIDDEN_DIMENSION': 64, 'NO_OF_LAYERS': 2, 'BATCH_SIZE': 64, 'OUTPUT_DIMENSION': 3, 'EMBEDDING_DIMENSION': 256, 'DROP_OUT': 0.257079691592024, 'LEARNING_RATE': 0.0005270019675816971}\n",
      "Epoch 1, Train Loss: 1.1533, Val Loss: 1.1337, Test Accuracy: 0.3624 ,Learning Rate: 0.0005270019675816971 , Time Taken : 5.2770607471466064\n",
      "Epoch 6, Train Loss: 1.0493, Val Loss: 1.1392, Test Accuracy: 0.3375 ,Learning Rate: 0.0005270019675816971 , Time Taken : 5.306779384613037\n",
      "Epoch 11, Train Loss: 0.9902, Val Loss: 1.1718, Test Accuracy: 0.3368 ,Learning Rate: 0.0005270019675816971 , Time Taken : 5.387757778167725\n",
      "Epoch 16, Train Loss: 0.9412, Val Loss: 1.2032, Test Accuracy: 0.3602 ,Learning Rate: 0.0005270019675816971 , Time Taken : 5.27357816696167\n",
      "Epoch 21, Train Loss: 0.9026, Val Loss: 1.2418, Test Accuracy: 0.3573 ,Learning Rate: 0.0005270019675816971 , Time Taken : 5.566235303878784\n",
      "Epoch 26, Train Loss: 0.8442, Val Loss: 1.2986, Test Accuracy: 0.3478 ,Learning Rate: 0.0005270019675816971 , Time Taken : 5.239234685897827\n"
     ]
    },
    {
     "name": "stderr",
     "output_type": "stream",
     "text": [
      "[I 2023-08-15 05:19:50,666] Trial 42 finished with value: 0.32134996331621424 and parameters: {'HIDDEN_DIMENSION': 64, 'NO_OF_LAYERS': 2, 'BATCH_SIZE': 64, 'EMBEDDING_DIMENSION': 256, 'DROP_OUT': 0.257079691592024, 'LEARNING_RATE': 0.0005270019675816971}. Best is trial 31 with value: 0.3763756419662509.\n"
     ]
    },
    {
     "name": "stdout",
     "output_type": "stream",
     "text": [
      "Model Parameters  :  {'INPUT_DIMENSION': 94, 'HIDDEN_DIMENSION': 64, 'NO_OF_LAYERS': 2, 'BATCH_SIZE': 64, 'OUTPUT_DIMENSION': 3, 'EMBEDDING_DIMENSION': 256, 'DROP_OUT': 0.29220815158562374, 'LEARNING_RATE': 0.0006070273075153683}\n",
      "Epoch 1, Train Loss: 1.1502, Val Loss: 1.1410, Test Accuracy: 0.2744 ,Learning Rate: 0.0006070273075153683 , Time Taken : 4.531850576400757\n",
      "Epoch 6, Train Loss: 1.0683, Val Loss: 1.1112, Test Accuracy: 0.3778 ,Learning Rate: 0.0006070273075153683 , Time Taken : 4.674726486206055\n",
      "Epoch 11, Train Loss: 1.0479, Val Loss: 1.1415, Test Accuracy: 0.3463 ,Learning Rate: 0.0006070273075153683 , Time Taken : 5.518727779388428\n",
      "Epoch 16, Train Loss: 1.0500, Val Loss: 1.1357, Test Accuracy: 0.3573 ,Learning Rate: 0.0006070273075153683 , Time Taken : 4.7105536460876465\n",
      "Epoch 21, Train Loss: 1.0406, Val Loss: 1.1447, Test Accuracy: 0.3316 ,Learning Rate: 0.0006070273075153683 , Time Taken : 5.315825462341309\n",
      "Epoch 26, Train Loss: 1.0373, Val Loss: 1.1786, Test Accuracy: 0.3074 ,Learning Rate: 0.0006070273075153683 , Time Taken : 4.698538064956665\n"
     ]
    },
    {
     "name": "stderr",
     "output_type": "stream",
     "text": [
      "[I 2023-08-15 05:22:20,640] Trial 43 finished with value: 0.3360234776228907 and parameters: {'HIDDEN_DIMENSION': 64, 'NO_OF_LAYERS': 2, 'BATCH_SIZE': 64, 'EMBEDDING_DIMENSION': 256, 'DROP_OUT': 0.29220815158562374, 'LEARNING_RATE': 0.0006070273075153683}. Best is trial 31 with value: 0.3763756419662509.\n"
     ]
    },
    {
     "name": "stdout",
     "output_type": "stream",
     "text": [
      "Model Parameters  :  {'INPUT_DIMENSION': 94, 'HIDDEN_DIMENSION': 64, 'NO_OF_LAYERS': 2, 'BATCH_SIZE': 64, 'OUTPUT_DIMENSION': 3, 'EMBEDDING_DIMENSION': 256, 'DROP_OUT': 0.3241532171884425, 'LEARNING_RATE': 0.000986343296131072}\n",
      "Epoch 1, Train Loss: 1.1647, Val Loss: 1.0965, Test Accuracy: 0.3844 ,Learning Rate: 0.000986343296131072 , Time Taken : 4.615560054779053\n",
      "Epoch 6, Train Loss: 1.0876, Val Loss: 1.0893, Test Accuracy: 0.3874 ,Learning Rate: 0.000986343296131072 , Time Taken : 5.389395236968994\n",
      "Epoch 11, Train Loss: 1.0839, Val Loss: 1.0949, Test Accuracy: 0.3536 ,Learning Rate: 0.000986343296131072 , Time Taken : 4.688198089599609\n",
      "Epoch 16, Train Loss: 1.0889, Val Loss: 1.1317, Test Accuracy: 0.2957 ,Learning Rate: 0.000986343296131072 , Time Taken : 5.462998151779175\n",
      "Epoch 21, Train Loss: 1.0927, Val Loss: 1.0984, Test Accuracy: 0.3412 ,Learning Rate: 0.000986343296131072 , Time Taken : 5.325848579406738\n",
      "Epoch 26, Train Loss: 1.0940, Val Loss: 1.0969, Test Accuracy: 0.3448 ,Learning Rate: 0.000986343296131072 , Time Taken : 4.687699794769287\n"
     ]
    },
    {
     "name": "stderr",
     "output_type": "stream",
     "text": [
      "[I 2023-08-15 05:24:52,217] Trial 44 finished with value: 0.31401320616287604 and parameters: {'HIDDEN_DIMENSION': 64, 'NO_OF_LAYERS': 2, 'BATCH_SIZE': 64, 'EMBEDDING_DIMENSION': 256, 'DROP_OUT': 0.3241532171884425, 'LEARNING_RATE': 0.000986343296131072}. Best is trial 31 with value: 0.3763756419662509.\n"
     ]
    },
    {
     "name": "stdout",
     "output_type": "stream",
     "text": [
      "Model Parameters  :  {'INPUT_DIMENSION': 94, 'HIDDEN_DIMENSION': 512, 'NO_OF_LAYERS': 2, 'BATCH_SIZE': 64, 'OUTPUT_DIMENSION': 3, 'EMBEDDING_DIMENSION': 256, 'DROP_OUT': 0.35190995131878106, 'LEARNING_RATE': 0.0003186331140181967}\n",
      "Epoch 1, Train Loss: 1.1697, Val Loss: 1.1631, Test Accuracy: 0.2817 ,Learning Rate: 0.0003186331140181967 , Time Taken : 4.891114950180054\n",
      "Epoch 6, Train Loss: 1.0595, Val Loss: 1.1155, Test Accuracy: 0.3536 ,Learning Rate: 0.0003186331140181967 , Time Taken : 4.586877822875977\n",
      "Epoch 11, Train Loss: 0.9917, Val Loss: 1.1438, Test Accuracy: 0.3558 ,Learning Rate: 0.0003186331140181967 , Time Taken : 4.989608287811279\n",
      "Epoch 16, Train Loss: 0.9239, Val Loss: 1.2352, Test Accuracy: 0.3646 ,Learning Rate: 0.0003186331140181967 , Time Taken : 5.068913459777832\n",
      "Epoch 21, Train Loss: 0.8566, Val Loss: 1.3121, Test Accuracy: 0.3793 ,Learning Rate: 0.0003186331140181967 , Time Taken : 5.146916627883911\n",
      "Epoch 26, Train Loss: 0.7849, Val Loss: 1.4458, Test Accuracy: 0.3492 ,Learning Rate: 0.0003186331140181967 , Time Taken : 4.631587028503418\n"
     ]
    },
    {
     "name": "stderr",
     "output_type": "stream",
     "text": [
      "[I 2023-08-15 05:27:21,176] Trial 45 finished with value: 0.31988261188554656 and parameters: {'HIDDEN_DIMENSION': 512, 'NO_OF_LAYERS': 2, 'BATCH_SIZE': 64, 'EMBEDDING_DIMENSION': 256, 'DROP_OUT': 0.35190995131878106, 'LEARNING_RATE': 0.0003186331140181967}. Best is trial 31 with value: 0.3763756419662509.\n"
     ]
    },
    {
     "name": "stdout",
     "output_type": "stream",
     "text": [
      "Model Parameters  :  {'INPUT_DIMENSION': 94, 'HIDDEN_DIMENSION': 64, 'NO_OF_LAYERS': 3, 'BATCH_SIZE': 1024, 'OUTPUT_DIMENSION': 3, 'EMBEDDING_DIMENSION': 256, 'DROP_OUT': 0.3007190823703152, 'LEARNING_RATE': 0.0007645367294447356}\n",
      "Epoch 1, Train Loss: 1.2004, Val Loss: 1.0854, Test Accuracy: 0.3734 ,Learning Rate: 0.0007645367294447356 , Time Taken : 0.8938648700714111\n",
      "Epoch 6, Train Loss: 1.0575, Val Loss: 1.1312, Test Accuracy: 0.3338 ,Learning Rate: 0.0007645367294447356 , Time Taken : 0.8735299110412598\n",
      "Epoch 11, Train Loss: 0.9479, Val Loss: 1.2297, Test Accuracy: 0.3551 ,Learning Rate: 0.0007645367294447356 , Time Taken : 0.8793938159942627\n",
      "Epoch 16, Train Loss: 0.8036, Val Loss: 1.4163, Test Accuracy: 0.3580 ,Learning Rate: 0.0007645367294447356 , Time Taken : 0.8772473335266113\n",
      "Epoch 21, Train Loss: 0.6621, Val Loss: 1.5832, Test Accuracy: 0.3683 ,Learning Rate: 0.0007645367294447356 , Time Taken : 0.8757658004760742\n",
      "Epoch 26, Train Loss: 0.5278, Val Loss: 1.8295, Test Accuracy: 0.3624 ,Learning Rate: 0.0007645367294447356 , Time Taken : 0.8809683322906494\n"
     ]
    },
    {
     "name": "stderr",
     "output_type": "stream",
     "text": [
      "[I 2023-08-15 05:27:48,044] Trial 46 finished with value: 0.3448275862068966 and parameters: {'HIDDEN_DIMENSION': 64, 'NO_OF_LAYERS': 3, 'BATCH_SIZE': 1024, 'EMBEDDING_DIMENSION': 256, 'DROP_OUT': 0.3007190823703152, 'LEARNING_RATE': 0.0007645367294447356}. Best is trial 31 with value: 0.3763756419662509.\n"
     ]
    },
    {
     "name": "stdout",
     "output_type": "stream",
     "text": [
      "Model Parameters  :  {'INPUT_DIMENSION': 94, 'HIDDEN_DIMENSION': 1024, 'NO_OF_LAYERS': 2, 'BATCH_SIZE': 64, 'OUTPUT_DIMENSION': 3, 'EMBEDDING_DIMENSION': 32, 'DROP_OUT': 0.2504691717874472, 'LEARNING_RATE': 0.000411203241670174}\n",
      "Epoch 1, Train Loss: 1.1234, Val Loss: 1.1035, Test Accuracy: 0.3103 ,Learning Rate: 0.000411203241670174 , Time Taken : 5.595170259475708\n",
      "Epoch 6, Train Loss: 1.0908, Val Loss: 1.1051, Test Accuracy: 0.3199 ,Learning Rate: 0.000411203241670174 , Time Taken : 5.493973255157471\n",
      "Epoch 11, Train Loss: 1.0753, Val Loss: 1.1205, Test Accuracy: 0.3177 ,Learning Rate: 0.000411203241670174 , Time Taken : 5.524602890014648\n",
      "Epoch 16, Train Loss: 1.0607, Val Loss: 1.1225, Test Accuracy: 0.3294 ,Learning Rate: 0.000411203241670174 , Time Taken : 5.546515226364136\n",
      "Epoch 21, Train Loss: 1.0412, Val Loss: 1.1120, Test Accuracy: 0.3683 ,Learning Rate: 0.000411203241670174 , Time Taken : 4.832170248031616\n",
      "Epoch 26, Train Loss: 1.0196, Val Loss: 1.1404, Test Accuracy: 0.3544 ,Learning Rate: 0.000411203241670174 , Time Taken : 5.1374781131744385\n"
     ]
    },
    {
     "name": "stderr",
     "output_type": "stream",
     "text": [
      "[I 2023-08-15 05:30:28,733] Trial 47 finished with value: 0.33969185619955977 and parameters: {'HIDDEN_DIMENSION': 1024, 'NO_OF_LAYERS': 2, 'BATCH_SIZE': 64, 'EMBEDDING_DIMENSION': 32, 'DROP_OUT': 0.2504691717874472, 'LEARNING_RATE': 0.000411203241670174}. Best is trial 31 with value: 0.3763756419662509.\n"
     ]
    },
    {
     "name": "stdout",
     "output_type": "stream",
     "text": [
      "Model Parameters  :  {'INPUT_DIMENSION': 94, 'HIDDEN_DIMENSION': 512, 'NO_OF_LAYERS': 1, 'BATCH_SIZE': 64, 'OUTPUT_DIMENSION': 3, 'EMBEDDING_DIMENSION': 256, 'DROP_OUT': 0.271780448937251, 'LEARNING_RATE': 0.0005473689402371873}\n",
      "Epoch 1, Train Loss: 1.1575, Val Loss: 1.1135, Test Accuracy: 0.3434 ,Learning Rate: 0.0005473689402371873 , Time Taken : 3.69529128074646\n",
      "Epoch 6, Train Loss: 1.0584, Val Loss: 1.1251, Test Accuracy: 0.3346 ,Learning Rate: 0.0005473689402371873 , Time Taken : 3.6045637130737305\n",
      "Epoch 11, Train Loss: 1.0268, Val Loss: 1.1309, Test Accuracy: 0.3595 ,Learning Rate: 0.0005473689402371873 , Time Taken : 3.7841379642486572\n",
      "Epoch 16, Train Loss: 1.0053, Val Loss: 1.1997, Test Accuracy: 0.3382 ,Learning Rate: 0.0005473689402371873 , Time Taken : 3.4630699157714844\n",
      "Epoch 21, Train Loss: 0.9895, Val Loss: 1.1663, Test Accuracy: 0.3595 ,Learning Rate: 0.0005473689402371873 , Time Taken : 3.5241286754608154\n",
      "Epoch 26, Train Loss: 0.9735, Val Loss: 1.2051, Test Accuracy: 0.3272 ,Learning Rate: 0.0005473689402371873 , Time Taken : 3.5446548461914062\n"
     ]
    },
    {
     "name": "stderr",
     "output_type": "stream",
     "text": [
      "[I 2023-08-15 05:32:15,878] Trial 48 finished with value: 0.3367571533382245 and parameters: {'HIDDEN_DIMENSION': 512, 'NO_OF_LAYERS': 1, 'BATCH_SIZE': 64, 'EMBEDDING_DIMENSION': 256, 'DROP_OUT': 0.271780448937251, 'LEARNING_RATE': 0.0005473689402371873}. Best is trial 31 with value: 0.3763756419662509.\n"
     ]
    },
    {
     "name": "stdout",
     "output_type": "stream",
     "text": [
      "Model Parameters  :  {'INPUT_DIMENSION': 94, 'HIDDEN_DIMENSION': 64, 'NO_OF_LAYERS': 3, 'BATCH_SIZE': 512, 'OUTPUT_DIMENSION': 3, 'EMBEDDING_DIMENSION': 256, 'DROP_OUT': 0.3191070958017781, 'LEARNING_RATE': 0.00030346068487164255}\n",
      "Epoch 1, Train Loss: 1.1695, Val Loss: 1.1240, Test Accuracy: 0.3280 ,Learning Rate: 0.00030346068487164255 , Time Taken : 1.0706567764282227\n",
      "Epoch 6, Train Loss: 1.0807, Val Loss: 1.1080, Test Accuracy: 0.3470 ,Learning Rate: 0.00030346068487164255 , Time Taken : 1.0571751594543457\n",
      "Epoch 11, Train Loss: 1.0258, Val Loss: 1.1568, Test Accuracy: 0.3507 ,Learning Rate: 0.00030346068487164255 , Time Taken : 1.040602445602417\n",
      "Epoch 16, Train Loss: 0.9359, Val Loss: 1.2432, Test Accuracy: 0.3485 ,Learning Rate: 0.00030346068487164255 , Time Taken : 1.0523827075958252\n",
      "Epoch 21, Train Loss: 0.8336, Val Loss: 1.3819, Test Accuracy: 0.3529 ,Learning Rate: 0.00030346068487164255 , Time Taken : 1.1360626220703125\n",
      "Epoch 26, Train Loss: 0.7344, Val Loss: 1.4717, Test Accuracy: 0.3698 ,Learning Rate: 0.00030346068487164255 , Time Taken : 1.0249626636505127\n"
     ]
    },
    {
     "name": "stderr",
     "output_type": "stream",
     "text": [
      "[I 2023-08-15 05:32:48,548] Trial 49 finished with value: 0.35069699192956716 and parameters: {'HIDDEN_DIMENSION': 64, 'NO_OF_LAYERS': 3, 'BATCH_SIZE': 512, 'EMBEDDING_DIMENSION': 256, 'DROP_OUT': 0.3191070958017781, 'LEARNING_RATE': 0.00030346068487164255}. Best is trial 31 with value: 0.3763756419662509.\n"
     ]
    },
    {
     "name": "stdout",
     "output_type": "stream",
     "text": [
      "Accuracy: 0.3763756419662509\n",
      "Best hyperparameters: {'HIDDEN_DIMENSION': 64, 'NO_OF_LAYERS': 2, 'BATCH_SIZE': 64, 'EMBEDDING_DIMENSION': 256, 'DROP_OUT': 0.30705959993626625, 'LEARNING_RATE': 0.0005256027052154265}\n"
     ]
    }
   ],
   "source": [
    "import optuna\n",
    "\n",
    "def objective(trial):\n",
    "    hyperparameter = {}\n",
    "    hyperparameter['INPUT_DIMENSION'] = len(kmer_dict)\n",
    "    hyperparameter['HIDDEN_DIMENSION'] = trial.suggest_categorical('HIDDEN_DIMENSION', [64, 512, 1024])\n",
    "    hyperparameter['NO_OF_LAYERS'] = trial.suggest_int('NO_OF_LAYERS', 1, 4)\n",
    "    hyperparameter['BATCH_SIZE'] =  trial.suggest_categorical('BATCH_SIZE', [64, 512, 1024])\n",
    "    hyperparameter['OUTPUT_DIMENSION'] = len(eligible_class_list)\n",
    "    hyperparameter['EMBEDDING_DIMENSION'] = trial.suggest_categorical('EMBEDDING_DIMENSION', [1024, 256, 32])  # Adjust as needed\n",
    "    hyperparameter['DROP_OUT'] = trial.suggest_float('DROP_OUT', 0.1, 0.5)\n",
    "    hyperparameter['LEARNING_RATE'] = trial.suggest_loguniform('LEARNING_RATE', 1e-5, 1e-3)\n",
    "\n",
    "    model = RNATransformerModel(input_dim=hyperparameter['INPUT_DIMENSION'],\n",
    "                                embedding_dim=hyperparameter['EMBEDDING_DIMENSION'],\n",
    "                                hidden_dim=hyperparameter['HIDDEN_DIMENSION'],\n",
    "                                num_layers=hyperparameter['NO_OF_LAYERS'],\n",
    "                                output_dim=hyperparameter['OUTPUT_DIMENSION'],\n",
    "                                dropout=hyperparameter['DROP_OUT'])\n",
    "\n",
    "    model = DataParallel(model)\n",
    "    model = model.to(device)\n",
    "\n",
    "    num_epochs = 30\n",
    "    loss_function = nn.CrossEntropyLoss()\n",
    "    optimizer = optim.Adam(model.parameters(), lr=hyperparameter['LEARNING_RATE'])\n",
    "\n",
    "    train_dataloader = DataLoader(train_dataset, batch_size=hyperparameter['BATCH_SIZE'], shuffle=True)\n",
    "    test_dataloader = DataLoader(test_dataset, batch_size=hyperparameter['BATCH_SIZE'], shuffle=False)\n",
    "    valid_dataloader = DataLoader(valid_dataset, batch_size=hyperparameter['BATCH_SIZE'], shuffle=False)\n",
    "\n",
    "    print(\"Model Parameters  : \" , hyperparameter)\n",
    "    \n",
    "    train_model(model, train_dataloader ,test_dataloader, device ,num_epochs,optimizer,loss_function)\n",
    "\n",
    "    _, final_accuracy, true_labels, predicted_labels = validate_model(model, valid_dataloader,device,loss_function)\n",
    "\n",
    "    return final_accuracy\n",
    "\n",
    "\n",
    "study = optuna.create_study(direction=\"maximize\")\n",
    "study.optimize(objective, n_trials=50)\n",
    "\n",
    "    # Print the result\n",
    "trial = study.best_trial\n",
    "print('Accuracy: {}'.format(trial.value))\n",
    "print(\"Best hyperparameters: {}\".format(trial.params))"
   ]
  },
  {
   "cell_type": "code",
   "execution_count": 66,
   "metadata": {
    "colab": {
     "base_uri": "https://localhost:8080/"
    },
    "id": "c8rs97X-5BVS",
    "outputId": "26c46104-dafe-484d-85e8-8d51bb5c00ca"
   },
   "outputs": [
    {
     "name": "stdout",
     "output_type": "stream",
     "text": [
      "Final Accuracy: 0.3434\n",
      "\n",
      " Classification Summary:\n",
      "              precision    recall  f1-score   support\n",
      "\n",
      "           0       0.27      0.27      0.27       352\n",
      "           1       0.46      0.29      0.35       570\n",
      "           2       0.32      0.47      0.38       441\n",
      "\n",
      "    accuracy                           0.34      1363\n",
      "   macro avg       0.35      0.34      0.34      1363\n",
      "weighted avg       0.37      0.34      0.34      1363\n",
      "\n"
     ]
    }
   ],
   "source": [
    "# Evaluate the model on the test dataset\n",
    "_, final_accuracy, true_labels, predicted_labels = validate_model(model, valid_dataloader,device,loss_function)\n",
    "\n",
    "# Print the final accuracy\n",
    "print(f\"Final Accuracy: {final_accuracy:.4f}\")\n",
    "\n",
    "# Print the classification summary\n",
    "print(\"\\n Classification Summary:\")\n",
    "print(classification_report(true_labels, predicted_labels))"
   ]
  },
  {
   "cell_type": "code",
   "execution_count": 67,
   "metadata": {},
   "outputs": [],
   "source": [
    "torch.save(model, \"multi-class-type-UT.pt\")"
   ]
  }
 ],
 "metadata": {
  "accelerator": "GPU",
  "colab": {
   "gpuType": "T4",
   "provenance": []
  },
  "kernelspec": {
   "display_name": "Python 3 (ipykernel)",
   "language": "python",
   "name": "python3"
  },
  "language_info": {
   "codemirror_mode": {
    "name": "ipython",
    "version": 3
   },
   "file_extension": ".py",
   "mimetype": "text/x-python",
   "name": "python",
   "nbconvert_exporter": "python",
   "pygments_lexer": "ipython3",
   "version": "3.10.11"
  },
  "vscode": {
   "interpreter": {
    "hash": "c230947687a8f3ffad2ce5baec6aac89e01c839661a42aacfb7c80a5442a49ec"
   }
  }
 },
 "nbformat": 4,
 "nbformat_minor": 4
}
