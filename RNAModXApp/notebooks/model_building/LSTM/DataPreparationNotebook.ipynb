{
 "cells": [
  {
   "cell_type": "markdown",
   "metadata": {},
   "source": [
    "# Prepare Data For Binary Classification"
   ]
  },
  {
   "cell_type": "code",
   "execution_count": 1,
   "metadata": {},
   "outputs": [],
   "source": [
    "#Import All Libraries Here\n",
    "import pandas as pd\n",
    "from imblearn.over_sampling import RandomOverSampler"
   ]
  },
  {
   "cell_type": "code",
   "execution_count": 2,
   "metadata": {},
   "outputs": [],
   "source": [
    "# Record Constants\n",
    "INPUT_TRAIN_IN = \"../../../data/train_in.csv\"\n",
    "INPUT_TRAIN_OUT = \"../../../data/train_out.csv\"\n",
    "INPUT_TEST_IN = \"../../../data/test_in.csv\"\n",
    "INPUT_TEST_OUT = \"../../../data/test_out.csv\"\n",
    "INPUT_VALIDATION_IN = \"../../../data/valid_in_nucleo.csv\"\n",
    "INPUT_VALIDATION_OUT  = \"../../../data/valid_out.csv\""
   ]
  },
  {
   "cell_type": "code",
   "execution_count": 3,
   "metadata": {},
   "outputs": [
    {
     "name": "stdout",
     "output_type": "stream",
     "text": [
      "Train Shape of X : (304661, 1001) and Tranin Shape of Y : (304661, 1001)\n",
      "Test Shape of X : (1200, 1001) and Test Shape of Y : (1200, 12)\n",
      "Validation Shape of X : (3599, 1001) and Validation Shape of Y : (3599, 12)\n"
     ]
    }
   ],
   "source": [
    "#Read X Varaibles and Y Varaibles\n",
    "\n",
    "x_train_raw =  pd.read_csv(INPUT_TRAIN_IN, header=None , skiprows=1 )\n",
    "y_train_raw =  pd.read_csv(INPUT_TRAIN_OUT, header=None , skiprows=1 )\n",
    "\n",
    "x_test_raw =  pd.read_csv(INPUT_TEST_IN, header=None , skiprows=1 )\n",
    "y_test_raw =  pd.read_csv(INPUT_TEST_OUT, header=None , skiprows=1)\n",
    "\n",
    "x_valid_raw =  pd.read_csv(INPUT_VALIDATION_IN, header=None , skiprows=1 )\n",
    "y_valid_raw =  pd.read_csv(INPUT_VALIDATION_OUT, header=None , skiprows=1 )\n",
    "\n",
    "x_data = pd.concat([x_train_raw, x_test_raw, x_valid_raw], axis=0, ignore_index=True)\n",
    "y_data = pd.concat([y_train_raw, y_test_raw, y_valid_raw], axis=0, ignore_index=True)\n",
    "\n",
    "print(f\"Train Shape of X : {x_train_raw.shape} and Tranin Shape of Y : {x_train_raw.shape}\")\n",
    "print(f\"Test Shape of X : {x_test_raw.shape} and Test Shape of Y : {y_test_raw.shape}\")\n",
    "print(f\"Validation Shape of X : {x_valid_raw.shape} and Validation Shape of Y : {y_valid_raw.shape}\")"
   ]
  },
  {
   "cell_type": "code",
   "execution_count": 30,
   "metadata": {},
   "outputs": [],
   "source": [
    "WINDOW_SIZE = 50 # Final Sequence Length would be 101 . Middle Index for Modification data.\n",
    "\n",
    "middle_index = (x_train_raw.shape[1] // 2) + 1 # This is location for Modified Sequence . Use this as Y Target\n",
    "STRAT_INEDX =middle_index - WINDOW_SIZE -1\n",
    "END_INDEX =middle_index + WINDOW_SIZE\n",
    "x_data_cropped =  x_data.iloc[:,STRAT_INEDX :END_INDEX]\n"
   ]
  },
  {
   "cell_type": "code",
   "execution_count": 31,
   "metadata": {},
   "outputs": [
    {
     "data": {
      "text/plain": [
       "(309460, 101)"
      ]
     },
     "execution_count": 31,
     "metadata": {},
     "output_type": "execute_result"
    }
   ],
   "source": [
    "x_data_cropped.shape # Shape should be 101"
   ]
  },
  {
   "cell_type": "markdown",
   "metadata": {},
   "source": [
    "### Filter Data for Each Class"
   ]
  },
  {
   "cell_type": "code",
   "execution_count": 32,
   "metadata": {},
   "outputs": [],
   "source": [
    "## Filter Dataset to Keep only Target Binary Class\n",
    "\n",
    "RMs = ['hAm','hCm','hGm','hTm','hm1A','hm5C','hm5U','hm6A','hm6Am','hm7G','hPsi','Atol','NonMoD']\n",
    "\n",
    "def convert_y_to_original_labels(row):\n",
    "    label = \"\"\n",
    "    for index , n in enumerate(row.tolist()) :\n",
    "        if n == 1 :\n",
    "            label = RMs[index]\n",
    "    if label == '':\n",
    "        return 'NonMoD'\n",
    "    return label\n",
    "\n",
    "def prepare_data_for_binary_classification(x_data , y_data , prediction_class):\n",
    "    # Convert One Hot Encoded Y to to Original Labels \n",
    "    y_original_labels = y_data.apply(convert_y_to_original_labels, axis=1)\n",
    "    \n",
    "    # Create a copy of x_data\n",
    "    x_data_copy = x_data.copy()\n",
    "    x_data_copy['Label'] = y_original_labels\n",
    "    \n",
    "    target_class = [prediction_class, 'NonMoD']      \n",
    "    selected_rna_data = x_data_copy[x_data_copy['Label'].isin(target_class)] \n",
    "\n",
    "    y_filtered = selected_rna_data['Label']\n",
    "    x_filtered = selected_rna_data.drop('Label', axis=1)\n",
    "\n",
    "    return x_filtered , y_filtered \n"
   ]
  },
  {
   "cell_type": "code",
   "execution_count": 37,
   "metadata": {},
   "outputs": [],
   "source": [
    "class_list = ['hAm','hCm','hGm','hTm','hm1A','hm5C','hm5U','hm6A','hm6Am','hm7G','hPsi','Atol']\n",
    "ros = RandomOverSampler(random_state=42)\n",
    "\n",
    "for target in class_list:\n",
    "    x_data_filtered , y_data_filtered = prepare_data_for_binary_classification(x_data_cropped , y_data , target)\n",
    "    x_resampled, y_resampled = ros.fit_resample(x_data_filtered, y_data_filtered)\n",
    "    df_resampled = pd.concat([x_resampled, pd.Series(y_resampled, name='TARGET')], axis=1)\n",
    "    file_name = \"data/\" + target+ \"_with_ROS.csv\"\n",
    "    df_resampled.to_csv(file_name, index=False)\n",
    "    \n",
    "    "
   ]
  },
  {
   "cell_type": "markdown",
   "metadata": {},
   "source": [
    "### Create 3 mer numerical encoding for all dataset and persist"
   ]
  },
  {
   "cell_type": "code",
   "execution_count": 4,
   "metadata": {},
   "outputs": [],
   "source": [
    "concatenated_column= x_data.apply(lambda row: ''.join(map(str, row)), axis=1)\n",
    "x_data_with_complete_sequence = x_data.assign(Sequence=concatenated_column)"
   ]
  },
  {
   "cell_type": "code",
   "execution_count": 8,
   "metadata": {},
   "outputs": [],
   "source": [
    "kmer_dict = {}\n",
    "encoding = 0\n",
    "k = 2\n",
    "\n",
    "for sequence in x_data_with_complete_sequence['Sequence']:\n",
    "    for i in range(len(sequence) - k + 1):\n",
    "        kmer = sequence[i:i+k]\n",
    "        if kmer not in kmer_dict:\n",
    "            kmer_dict[kmer] = encoding\n",
    "            encoding +=1"
   ]
  },
  {
   "cell_type": "code",
   "execution_count": 10,
   "metadata": {},
   "outputs": [],
   "source": [
    "import pickle \n",
    "\n",
    "file_name = str(k) + \"-mer-dictionary.pkl\"\n",
    "with open(file_name, 'wb') as f:\n",
    "    pickle.dump(kmer_dict, f)\n",
    "        \n",
    "with open(file_name, 'rb') as f:\n",
    "    loaded_dict = pickle.load(f)"
   ]
  },
  {
   "cell_type": "code",
   "execution_count": 11,
   "metadata": {},
   "outputs": [
    {
     "name": "stdout",
     "output_type": "stream",
     "text": [
      "Total Number of 2 mer Keys  :  24\n",
      "Key : CC and Value : 0\n",
      "Key : CA and Value : 1\n",
      "Key : AT and Value : 2\n",
      "Key : TA and Value : 3\n",
      "Key : AC and Value : 4\n",
      "Key : CT and Value : 5\n",
      "Key : AG and Value : 6\n",
      "Key : GT and Value : 7\n",
      "Key : TC and Value : 8\n",
      "Key : CG and Value : 9\n",
      "Key : GG and Value : 10\n",
      "Key : GC and Value : 11\n",
      "Key : TG and Value : 12\n",
      "Key : TT and Value : 13\n",
      "Key : GA and Value : 14\n",
      "Key : AA and Value : 15\n",
      "Key : GN and Value : 16\n",
      "Key : NC and Value : 17\n",
      "Key : NN and Value : 18\n",
      "Key : NG and Value : 19\n",
      "Key : CN and Value : 20\n",
      "Key : NA and Value : 21\n",
      "Key : TN and Value : 22\n",
      "Key : AN and Value : 23\n"
     ]
    }
   ],
   "source": [
    "print(f\"Total Number of {k} mer Keys  : \" , len(loaded_dict))\n",
    "for key in loaded_dict:\n",
    "    print(f\"Key : {key} and Value : {loaded_dict[key]}\")"
   ]
  }
 ],
 "metadata": {
  "kernelspec": {
   "display_name": "RNA_ModX",
   "language": "python",
   "name": "python3"
  },
  "language_info": {
   "codemirror_mode": {
    "name": "ipython",
    "version": 3
   },
   "file_extension": ".py",
   "mimetype": "text/x-python",
   "name": "python",
   "nbconvert_exporter": "python",
   "pygments_lexer": "ipython3",
   "version": "3.10.5"
  },
  "orig_nbformat": 4
 },
 "nbformat": 4,
 "nbformat_minor": 2
}
