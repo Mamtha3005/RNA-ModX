{
 "cells": [
  {
   "cell_type": "code",
   "execution_count": 1,
   "metadata": {},
   "outputs": [],
   "source": [
    " #Import All Libraries Here\n",
    "import pandas as pd\n",
    "from sklearn.metrics import accuracy_score ,  roc_curve, auc , classification_report\n",
    "from sklearn.metrics import confusion_matrix, ConfusionMatrixDisplay\n",
    "import matplotlib.pyplot as plt\n",
    "from matplotlib.pyplot import figure\n",
    "import numpy as np\n",
    "\n",
    "from sklearn.preprocessing import MultiLabelBinarizer\n",
    "from sklearn.multiclass import OneVsRestClassifier\n",
    "import xgboost as xgb \n",
    "import statistics\n",
    "from scipy.fftpack import fft, ifft\n",
    "\n",
    "\n",
    "from imblearn.over_sampling import SMOTE "
   ]
  },
  {
   "cell_type": "code",
   "execution_count": 2,
   "metadata": {},
   "outputs": [],
   "source": [
    "# Record Constants\n",
    "INPUT_TRAIN_IN = \"../../data/train_in.csv\"\n",
    "INPUT_TRAIN_OUT = \"../../data/train_out.csv\"  \n",
    "INPUT_TEST_IN = \"../../data/test_in.csv\"\n",
    "INPUT_TEST_OUT = \"../../data/test_out.csv\"\n",
    "\n",
    "TARGET_MODEL_PATH = '../../webapp/model_files'\n",
    "\n",
    "WINDOW_SIZE =  25 # Final RNA Sequence will be 101 Length \n",
    "MAX_LENGTH = (WINDOW_SIZE * 2)+1\n",
    "ENCODING_METHOD = 1 # 1 - Non Furiour Transformation , 2  -  Fourier Transformation "
   ]
  },
  {
   "cell_type": "code",
   "execution_count": 17,
   "metadata": {},
   "outputs": [],
   "source": [
    "#Read X Varaibles and Y Varaibles\n",
    "\n",
    "x_train_raw =  pd.read_csv(INPUT_TRAIN_IN, header=None , skiprows=1 )\n",
    "y_train_raw =  pd.read_csv(INPUT_TRAIN_OUT, header=None , skiprows=1 )\n",
    "\n",
    "x_test_raw =  pd.read_csv(INPUT_TEST_IN, header=None , skiprows=1)\n",
    "y_test_raw =  pd.read_csv(INPUT_TEST_OUT, header=None , skiprows=1)"
   ]
  },
  {
   "cell_type": "code",
   "execution_count": 18,
   "metadata": {},
   "outputs": [],
   "source": [
    "# Apply ANF Encoding on Input Features\n",
    "def apply_accumulated_nucle_frequency(seq):\n",
    "    mapping = []\n",
    "    A = 0\n",
    "    C = 0\n",
    "    T = 0\n",
    "    G = 0\n",
    "    for i, v in seq.items():\n",
    "        if v == 'A':\n",
    "            A += 1\n",
    "            mapping.append(A / (i + 1))\n",
    "        elif v == 'C':\n",
    "            C += 1\n",
    "            mapping.append(C / (i + 1))\n",
    "        elif v == 'T' or v == 'U':\n",
    "            T += 1\n",
    "            mapping.append(T / (i + 1))\n",
    "        else:\n",
    "            G += 1\n",
    "            mapping.append(G / (i + 1))\n",
    "    padding = (MAX_LENGTH - len(mapping))\n",
    "    mapping = np.pad(mapping, (0, padding), 'constant')\n",
    "    return mapping"
   ]
  },
  {
   "cell_type": "code",
   "execution_count": 19,
   "metadata": {},
   "outputs": [],
   "source": [
    "# Encode X Features Based on Middle Index\n",
    "def encode_x(x_train_raw):\n",
    "    middle_index = (x_train_raw.shape[1] // 2) + 1\n",
    "    truncated_df = x_train_raw.iloc[:, middle_index - WINDOW_SIZE - 1: middle_index + WINDOW_SIZE]\n",
    "    result = truncated_df.apply(apply_accumulated_nucle_frequency, axis=1)\n",
    "    return result \n",
    "\n",
    "x_train_encoded = encode_x(x_train_raw)"
   ]
  },
  {
   "attachments": {},
   "cell_type": "markdown",
   "metadata": {},
   "source": [
    "### Encode Each Y category to 0 to 12 classes."
   ]
  },
  {
   "cell_type": "code",
   "execution_count": 20,
   "metadata": {},
   "outputs": [
    {
     "data": {
      "text/plain": [
       "12    152208\n",
       "7      64978\n",
       "11     52418\n",
       "4      16141\n",
       "6       3496\n",
       "5       3007\n",
       "10      2937\n",
       "8       2247\n",
       "3       2053\n",
       "1       1678\n",
       "0       1391\n",
       "2       1271\n",
       "9        836\n",
       "dtype: int64"
      ]
     },
     "execution_count": 20,
     "metadata": {},
     "output_type": "execute_result"
    }
   ],
   "source": [
    "#Decode Y to its Original Form . Additional Class - NonMoD added for Non Modified RNA Sequence \n",
    "RMs = ['hAm','hCm','hGm','hTm','hm1A','hm5C','hm5U','hm6A','hm6Am','hm7G','hPsi','Atol','NonMoD']\n",
    "RMEncoding = [0,1,2,3,4,5,6,7,8,9,10,11,12]\n",
    "\n",
    "def decode_y(row):   \n",
    "    decoded = ''\n",
    "    for index , n in enumerate(row.tolist()) :\n",
    "        if n == 1 :\n",
    "            decoded = RMEncoding[index]\n",
    "    \n",
    "    if decoded == '':\n",
    "        return 12\n",
    "    \n",
    "    return decoded \n",
    "\n",
    "y_train_original =  y_train_raw.apply(decode_y , axis=1)\n",
    "y_train_original.value_counts()"
   ]
  },
  {
   "attachments": {},
   "cell_type": "markdown",
   "metadata": {},
   "source": [
    "### Re-Sample Data Using Smote"
   ]
  },
  {
   "cell_type": "code",
   "execution_count": 21,
   "metadata": {},
   "outputs": [
    {
     "name": "stdout",
     "output_type": "stream",
     "text": [
      "0     152208\n",
      "12    152208\n",
      "8     152208\n",
      "1     152208\n",
      "2     152208\n",
      "3     152208\n",
      "4     152208\n",
      "7     152208\n",
      "5     152208\n",
      "6     152208\n",
      "9     152208\n",
      "10    152208\n",
      "11    152208\n",
      "dtype: int64\n"
     ]
    }
   ],
   "source": [
    "#Code Reference : https://github.com/dmlc/xgboost/blob/master/demo/multiclass_classification/train.py\n",
    "x_train= x_train_encoded.tolist()\n",
    "y_train = y_train_original \n",
    "\n",
    "from imblearn.over_sampling import SMOTE\n",
    "sm = SMOTE(random_state=42)\n",
    "x_res, y_res = sm.fit_resample(x_train, y_train)\n",
    "\n",
    "\n",
    "print(y_res.value_counts())"
   ]
  },
  {
   "attachments": {},
   "cell_type": "markdown",
   "metadata": {},
   "source": [
    "### Train using XGBoost "
   ]
  },
  {
   "cell_type": "code",
   "execution_count": 22,
   "metadata": {},
   "outputs": [],
   "source": [
    "\n",
    "xg_train = xgb.DMatrix(x_res, label=y_res)\n",
    "\n",
    "# setup parameters for xgboost\n",
    "param = {}\n",
    "# use softmax multi-class classification\n",
    "param['objective'] = 'multi:softmax'\n",
    "# scale weight of positive examples\n",
    "param['eta'] = 0.1\n",
    "param['max_depth'] = 6\n",
    "param['nthread'] = 4\n",
    "param['num_class'] = 13\n",
    "\n",
    "\n",
    "num_round = 5\n",
    "bst = xgb.train(param, xg_train, num_round)\n"
   ]
  },
  {
   "attachments": {},
   "cell_type": "markdown",
   "metadata": {},
   "source": [
    "### Calculate Accuracy"
   ]
  },
  {
   "cell_type": "code",
   "execution_count": 23,
   "metadata": {},
   "outputs": [
    {
     "name": "stdout",
     "output_type": "stream",
     "text": [
      "[12. 12. 12. ...  7. 12.  7.]\n",
      "Accuracy of XGBoost  model: 0.45\n"
     ]
    }
   ],
   "source": [
    "y_test=  y_test_raw.apply(decode_y , axis=1)\n",
    "\n",
    "x_test = encode_x(x_test_raw).tolist()\n",
    "xg_test = xgb.DMatrix(x_test, label=y_test)\n",
    "\n",
    "#y_test = encode_y(y_test_raw).tolist()\n",
    "\n",
    "y_pred = bst.predict(xg_test)\n",
    "\n",
    "print(y_pred)\n",
    "\n",
    "# Calculate the accuracy score of the xgboost regression model\n",
    "accuracy = accuracy_score(y_test, y_pred)\n",
    "\n",
    "print(\"Accuracy of XGBoost  model: {:.2f}\".format(accuracy))"
   ]
  },
  {
   "cell_type": "code",
   "execution_count": 24,
   "metadata": {},
   "outputs": [
    {
     "name": "stdout",
     "output_type": "stream",
     "text": [
      "Accuracy of XGBoost  model: 0.45\n"
     ]
    },
    {
     "data": {
      "image/png": "[encoded data removed]",
      "text/plain": [
       "<Figure size 1000x1000 with 2 Axes>"
      ]
     },
     "metadata": {},
     "output_type": "display_data"
    }
   ],
   "source": [
    "# Plot confusion matrix \n",
    "cm = confusion_matrix(y_test, y_pred, labels=np.array(RMEncoding))\n",
    "disp = ConfusionMatrixDisplay(confusion_matrix=cm,\n",
    "                              display_labels=np.array(RMEncoding))\n",
    "\n",
    "fig, ax = plt.subplots(figsize=(10,10))\n",
    "disp.plot(ax=ax)\n",
    "\n",
    "print(\"Accuracy of XGBoost  model: {:.2f}\".format(accuracy))"
   ]
  },
  {
   "attachments": {},
   "cell_type": "markdown",
   "metadata": {},
   "source": [
    "## Save Model "
   ]
  },
  {
   "cell_type": "code",
   "execution_count": null,
   "metadata": {},
   "outputs": [],
   "source": [
    "import pickle\n",
    "\n",
    "TARGET_MODEL_PATH += '/model.bin'\n",
    "\n",
    "##dump the model into a file\n",
    "with open(TARGET_MODEL_PATH, 'wb') as f_out:\n",
    "    pickle.dump(bst, f_out) # write final_model in .bin file\n",
    "    f_out.close()  # close the file \n",
    "    print(\"Exported Model Successfully\")  "
   ]
  },
  {
   "attachments": {},
   "cell_type": "markdown",
   "metadata": {},
   "source": [
    "#  ---------------------- Further Feature Extraction with ANF Fourier Transform -----------------------------------"
   ]
  },
  {
   "cell_type": "code",
   "execution_count": 25,
   "metadata": {},
   "outputs": [],
   "source": [
    "def feature_extraction(features, spectrum, spectrumTwo):\n",
    "    average = sum(spectrum) / len(spectrum)\n",
    "    features.append(average)\n",
    "    ###################################\n",
    "    median = np.median(spectrum)\n",
    "    features.append(median)\n",
    "    ###################################\n",
    "    maximum = np.max(spectrum)\n",
    "    features.append(maximum)\n",
    "    ###################################\n",
    "    minimum = np.min(spectrum)\n",
    "    features.append(minimum)\n",
    "    ###################################\n",
    "    peak = (len(spectrum) / 3) / (average)\n",
    "    features.append(peak)\n",
    "    ###################################\n",
    "    peak_two = (len(spectrumTwo) / 3) / (np.mean(spectrumTwo))\n",
    "    features.append(peak_two)\n",
    "    ###################################\n",
    "    standard_deviation = np.std(spectrum)  # standard deviation\n",
    "    features.append(standard_deviation)\n",
    "    ###################################\n",
    "    standard_deviation_pop = statistics.stdev(spectrum)  # population sample standard deviation\n",
    "    features.append(standard_deviation_pop)\n",
    "    ###################################\n",
    "    percentile15 = np.percentile(spectrum, 15)\n",
    "    features.append(percentile15)\n",
    "    ###################################\n",
    "    percentile25 = np.percentile(spectrum, 25)\n",
    "    features.append(percentile25)\n",
    "    ###################################\n",
    "    percentile50 = np.percentile(spectrum, 50)\n",
    "    features.append(percentile50)\n",
    "    ###################################\n",
    "    percentile75 = np.percentile(spectrum, 75)\n",
    "    features.append(percentile75)\n",
    "    ###################################\n",
    "    amplitude = maximum - minimum\n",
    "    features.append(amplitude)\n",
    "    ###################################\n",
    "    # mode = statistics.mode(spectrum)\n",
    "    ###################################\n",
    "    variance = statistics.variance(spectrum)\n",
    "    features.append(variance)\n",
    "    ###################################\n",
    "    interquartile_range = np.percentile(spectrum, 75) - np.percentile(spectrum, 25)\n",
    "    features.append(interquartile_range)\n",
    "    ###################################\n",
    "    semi_interquartile_range = (np.percentile(spectrum, 75) - np.percentile(spectrum, 25)) / 2\n",
    "    features.append(semi_interquartile_range)\n",
    "    ###################################\n",
    "    coefficient_of_variation = standard_deviation / average\n",
    "    features.append(coefficient_of_variation)\n",
    "    ###################################\n",
    "    skewness = (3 * (average - median)) / standard_deviation\n",
    "    features.append(skewness)\n",
    "    ###################################\n",
    "    kurtosis = (np.percentile(spectrum, 75) - np.percentile(spectrum, 25)) / (\n",
    "            2 * (np.percentile(spectrum, 90) - np.percentile(spectrum, 10)))\n",
    "    features.append(kurtosis)\n",
    "    ###################################\n",
    "    return\n",
    "\n",
    "def accumulated_nucle_frequency_fourier(seq):\n",
    "    mapping = []\n",
    "    spectrumTwo = []\n",
    "    spectrum = []\n",
    "    features = []\n",
    "    A = 0\n",
    "    C = 0\n",
    "    T = 0\n",
    "    G = 0\n",
    "    \n",
    "    for i , v in seq.items():\n",
    "        if v == 'A':\n",
    "            A += 1\n",
    "            mapping.append(A / (i + 1))\n",
    "        elif v == 'C':\n",
    "            C += 1\n",
    "            mapping.append(C / (i + 1))\n",
    "        elif v == 'T' or seq[i] == 'U':\n",
    "            T += 1\n",
    "            mapping.append(T / (i + 1))\n",
    "        else:\n",
    "            G += 1\n",
    "            mapping.append(G / (i + 1))\n",
    "            \n",
    "    Fmap = fft(mapping)\n",
    "    for i in range(len(mapping)):\n",
    "        specTotal = (abs(Fmap[i]) ** 2)\n",
    "        specTwo = (abs(Fmap[i]))\n",
    "        spectrum.append(specTotal)\n",
    "        spectrumTwo.append(specTwo)\n",
    "    feature_extraction(features, spectrum, spectrumTwo)\n",
    "    return features\n"
   ]
  },
  {
   "cell_type": "code",
   "execution_count": 26,
   "metadata": {},
   "outputs": [],
   "source": [
    "# # Encode with Fourier Transform \n",
    "# def encode_x_with_fourier(x_train_raw):\n",
    "#     middle_index = (x_train_raw.shape[1] // 2) + 1\n",
    "#     truncated_df = x_train_raw.iloc[:, middle_index - WINDOW_SIZE - 1: middle_index + WINDOW_SIZE]\n",
    "#     result = truncated_df.apply(accumulated_nucle_frequency_fourier, axis=1)\n",
    "#     return result \n",
    "\n",
    "# x_train_encoded_fourier = encode_x_with_fourier(x_train_raw)\n",
    "\n",
    "# print(x_train_encoded_fourier.shape)"
   ]
  },
  {
   "cell_type": "code",
   "execution_count": 27,
   "metadata": {},
   "outputs": [],
   "source": [
    "# # Train Model Again \n",
    "\n",
    "# x_train_f= x_train_encoded_fourier.tolist()\n",
    "# y_train_f = y_train_original \n",
    "\n",
    "# from imblearn.over_sampling import SMOTE\n",
    "# sm = SMOTE(random_state=42)\n",
    "# x_res_f, y_res_f = sm.fit_resample(x_train_f, y_train_f)\n",
    "\n",
    "# #print(\"Shape of X Train : \" , x_train.shape , \" Shape of Y Train : \" , y_train.shape)\n",
    "\n",
    "# xg_train_f = xgb.DMatrix(x_res_f, label=y_res_f)\n",
    "\n",
    "# # setup parameters for xgboost\n",
    "# param = {}\n",
    "# # use softmax multi-class classification\n",
    "# param['objective'] = 'multi:softmax'\n",
    "# # scale weight of positive examples\n",
    "# param['eta'] = 0.1\n",
    "# param['max_depth'] = 6\n",
    "# param['nthread'] = 4\n",
    "# param['num_class'] = 13\n",
    "\n",
    "\n",
    "# num_round = 5\n",
    "# xgb_f = xgb.train(param, xg_train_f, num_round)\n"
   ]
  },
  {
   "cell_type": "code",
   "execution_count": 28,
   "metadata": {},
   "outputs": [],
   "source": [
    "# # Predict Accuracy\n",
    "# y_test=  y_test_raw.apply(decode_y , axis=1)\n",
    "\n",
    "# x_test = encode_x_with_fourier(x_test_raw).tolist()\n",
    "# xg_test = xgb.DMatrix(x_test, label=y_test)\n",
    "\n",
    "# y_pred = xgb_f.predict(xg_test)\n",
    "\n",
    "# print(y_pred)\n",
    "\n",
    "# # Calculate the accuracy score of the xgboost regression model\n",
    "# accuracy = accuracy_score(y_test, y_pred)\n",
    "\n",
    "# print(\"Accuracy of XGBoost  model: {:.2f}\".format(accuracy))\n",
    "\n"
   ]
  }
 ],
 "metadata": {
  "kernelspec": {
   "display_name": "RNA_ModX",
   "language": "python",
   "name": "python3"
  },
  "language_info": {
   "codemirror_mode": {
    "name": "ipython",
    "version": 3
   },
   "file_extension": ".py",
   "mimetype": "text/x-python",
   "name": "python",
   "nbconvert_exporter": "python",
   "pygments_lexer": "ipython3",
   "version": "3.10.5"
  },
  "orig_nbformat": 4
 },
 "nbformat": 4,
 "nbformat_minor": 2
}
